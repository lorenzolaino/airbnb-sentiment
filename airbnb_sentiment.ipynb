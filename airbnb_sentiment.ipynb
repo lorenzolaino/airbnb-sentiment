{
 "cells": [
  {
   "cell_type": "markdown",
   "metadata": {},
   "source": [
    "# AirBnB Sentiment Analysis"
   ]
  },
  {
   "cell_type": "code",
   "execution_count": 2,
   "metadata": {},
   "outputs": [],
   "source": [
    "%reload_ext autoreload\n",
    "%autoreload 2\n",
    "%matplotlib inline"
   ]
  },
  {
   "cell_type": "markdown",
   "metadata": {},
   "source": [
    "## Project Scope\n",
    "Use of sentiment analysis, of the reviews of each ad, to view the evaluation of the ad itself.\n",
    "\n",
    "Search for relationships between the price of a room and the day of the week, holidays, and time of year, and relationships between the price and the characteristics of a room to make a forecast.\n",
    "\n",
    "Dataset: https://www.kaggle.com/brittabettendorf/berlin-airbnb-data"
   ]
  },
  {
   "cell_type": "code",
   "execution_count": 6,
   "metadata": {},
   "outputs": [],
   "source": [
    "import zipfile36 as zipfile\n",
    "import pandas as pd"
   ]
  },
  {
   "cell_type": "code",
   "execution_count": 4,
   "metadata": {},
   "outputs": [
    {
     "name": "stdout",
     "output_type": "stream",
     "text": [
      "Downloading berlin-airbnb-data.zip to D:\\Utenti\\Marco\\Desktop\\Insubria\\Laurea Magistrale\n",
      "\n"
     ]
    },
    {
     "name": "stderr",
     "output_type": "stream",
     "text": [
      "\n",
      "  0%|          | 0.00/87.7M [00:00<?, ?B/s]\n",
      "  1%|1         | 1.00M/87.7M [00:02<04:14, 357kB/s]\n",
      "  2%|2         | 2.00M/87.7M [00:06<05:02, 297kB/s]\n",
      "  3%|3         | 3.00M/87.7M [00:10<04:44, 312kB/s]\n",
      "  5%|4         | 4.00M/87.7M [00:13<04:27, 327kB/s]\n",
      "  6%|5         | 5.00M/87.7M [00:16<04:45, 303kB/s]\n",
      "  7%|6         | 6.00M/87.7M [00:19<04:25, 322kB/s]\n",
      "  8%|7         | 7.00M/87.7M [00:23<04:41, 301kB/s]\n",
      "  9%|9         | 8.00M/87.7M [00:26<04:25, 314kB/s]\n",
      " 10%|#         | 9.00M/87.7M [00:30<04:37, 298kB/s]\n",
      " 11%|#1        | 10.0M/87.7M [00:33<04:21, 312kB/s]\n",
      " 13%|#2        | 11.0M/87.7M [00:36<04:12, 319kB/s]\n",
      " 14%|#3        | 12.0M/87.7M [00:39<03:59, 331kB/s]\n",
      " 15%|#4        | 13.0M/87.7M [00:42<03:50, 340kB/s]\n",
      " 16%|#5        | 14.0M/87.7M [00:45<03:40, 350kB/s]\n",
      " 17%|#7        | 15.0M/87.7M [00:48<03:31, 360kB/s]\n",
      " 18%|#8        | 16.0M/87.7M [00:50<03:21, 373kB/s]\n",
      " 19%|#9        | 17.0M/87.7M [00:53<03:16, 378kB/s]\n",
      " 21%|##        | 18.0M/87.7M [00:55<03:05, 393kB/s]\n",
      " 22%|##1       | 19.0M/87.7M [00:58<03:00, 398kB/s]\n",
      " 23%|##2       | 20.0M/87.7M [01:00<02:54, 408kB/s]\n",
      " 24%|##3       | 21.0M/87.7M [01:03<02:48, 415kB/s]\n",
      " 25%|##5       | 22.0M/87.7M [01:05<02:47, 412kB/s]\n",
      " 26%|##6       | 23.0M/87.7M [01:08<02:42, 417kB/s]\n",
      " 27%|##7       | 24.0M/87.7M [01:10<02:40, 415kB/s]\n",
      " 29%|##8       | 25.0M/87.7M [01:13<02:36, 420kB/s]\n",
      " 30%|##9       | 26.0M/87.7M [01:15<02:34, 418kB/s]\n",
      " 31%|###       | 27.0M/87.7M [01:18<02:30, 422kB/s]\n",
      " 32%|###1      | 28.0M/87.7M [01:20<02:29, 420kB/s]\n",
      " 33%|###3      | 29.0M/87.7M [01:23<02:25, 423kB/s]\n",
      " 34%|###4      | 30.0M/87.7M [01:25<02:23, 420kB/s]\n",
      " 35%|###5      | 31.0M/87.7M [01:28<02:20, 424kB/s]\n",
      " 36%|###6      | 32.0M/87.7M [01:30<02:19, 418kB/s]\n",
      " 38%|###7      | 33.0M/87.7M [01:33<02:17, 418kB/s]\n",
      " 39%|###8      | 34.0M/87.7M [01:35<02:15, 414kB/s]\n",
      " 40%|###9      | 35.0M/87.7M [01:38<02:16, 404kB/s]\n",
      " 41%|####1     | 36.0M/87.7M [01:41<02:12, 408kB/s]\n",
      " 42%|####2     | 37.0M/87.7M [01:43<02:09, 410kB/s]\n",
      " 43%|####3     | 38.0M/87.7M [01:46<02:07, 410kB/s]\n",
      " 44%|####4     | 39.0M/87.7M [01:48<02:03, 413kB/s]\n",
      " 46%|####5     | 40.0M/87.7M [01:51<02:01, 411kB/s]\n",
      " 47%|####6     | 41.0M/87.7M [01:53<01:58, 414kB/s]\n",
      " 48%|####7     | 42.0M/87.7M [01:56<01:55, 415kB/s]\n",
      " 49%|####9     | 43.0M/87.7M [02:01<02:26, 319kB/s]\n",
      " 50%|#####     | 44.0M/87.7M [02:03<02:13, 343kB/s]\n",
      " 51%|#####1    | 45.0M/87.7M [02:06<02:05, 358kB/s]\n",
      " 52%|#####2    | 46.0M/87.7M [02:08<01:56, 374kB/s]\n",
      " 54%|#####3    | 47.0M/87.7M [02:11<01:51, 383kB/s]\n",
      " 55%|#####4    | 48.0M/87.7M [02:13<01:45, 394kB/s]\n",
      " 56%|#####5    | 49.0M/87.7M [02:16<01:42, 394kB/s]\n",
      " 57%|#####7    | 50.0M/87.7M [02:19<01:38, 402kB/s]\n",
      " 58%|#####8    | 51.0M/87.7M [02:24<02:09, 298kB/s]\n",
      " 59%|#####9    | 52.0M/87.7M [02:28<02:10, 286kB/s]\n",
      " 60%|######    | 53.0M/87.7M [02:31<01:55, 314kB/s]\n",
      " 62%|######1   | 54.0M/87.7M [02:34<01:47, 329kB/s]\n",
      " 63%|######2   | 55.0M/87.7M [02:36<01:36, 354kB/s]\n",
      " 64%|######3   | 56.0M/87.7M [02:39<01:30, 368kB/s]\n",
      " 65%|######5   | 57.0M/87.7M [02:41<01:23, 385kB/s]\n",
      " 66%|######6   | 58.0M/87.7M [02:44<01:20, 387kB/s]\n",
      " 67%|######7   | 59.0M/87.7M [02:47<01:18, 384kB/s]\n",
      " 68%|######8   | 60.0M/87.7M [02:49<01:14, 388kB/s]\n",
      " 70%|######9   | 61.0M/87.7M [02:52<01:10, 400kB/s]\n",
      " 71%|#######   | 62.0M/87.7M [02:54<01:07, 402kB/s]\n",
      " 72%|#######1  | 63.0M/87.7M [02:57<01:03, 410kB/s]\n",
      " 73%|#######2  | 64.0M/87.7M [02:59<01:00, 409kB/s]\n",
      " 74%|#######4  | 65.0M/87.7M [03:02<00:57, 416kB/s]\n",
      " 75%|#######5  | 66.0M/87.7M [03:04<00:54, 420kB/s]\n",
      " 76%|#######6  | 67.0M/87.7M [03:07<00:51, 418kB/s]\n",
      " 78%|#######7  | 68.0M/87.7M [03:09<00:48, 422kB/s]\n",
      " 79%|#######8  | 69.0M/87.7M [03:12<00:46, 419kB/s]\n",
      " 80%|#######9  | 70.0M/87.7M [03:14<00:43, 423kB/s]\n",
      " 81%|########  | 71.0M/87.7M [03:17<00:41, 421kB/s]\n",
      " 82%|########2 | 72.0M/87.7M [03:19<00:38, 424kB/s]\n",
      " 83%|########3 | 73.0M/87.7M [03:22<00:36, 420kB/s]\n",
      " 84%|########4 | 74.0M/87.7M [03:24<00:33, 424kB/s]\n",
      " 86%|########5 | 75.0M/87.7M [03:27<00:32, 415kB/s]\n",
      " 87%|########6 | 76.0M/87.7M [03:29<00:29, 411kB/s]\n",
      " 88%|########7 | 77.0M/87.7M [03:32<00:27, 411kB/s]\n",
      " 89%|########8 | 78.0M/87.7M [03:34<00:24, 417kB/s]\n",
      " 90%|######### | 79.0M/87.7M [03:37<00:21, 416kB/s]\n",
      " 91%|#########1| 80.0M/87.7M [03:39<00:19, 420kB/s]\n",
      " 92%|#########2| 81.0M/87.7M [03:42<00:16, 418kB/s]\n",
      " 94%|#########3| 82.0M/87.7M [03:44<00:14, 422kB/s]\n",
      " 95%|#########4| 83.0M/87.7M [03:47<00:11, 416kB/s]\n",
      " 96%|#########5| 84.0M/87.7M [03:49<00:09, 420kB/s]\n",
      " 97%|#########6| 85.0M/87.7M [03:52<00:06, 421kB/s]\n",
      " 98%|#########8| 86.0M/87.7M [03:54<00:04, 418kB/s]\n",
      " 99%|#########9| 87.0M/87.7M [03:57<00:01, 419kB/s]\n",
      "100%|##########| 87.7M/87.7M [03:58<00:00, 416kB/s]\n",
      "100%|##########| 87.7M/87.7M [03:58<00:00, 385kB/s]\n"
     ]
    }
   ],
   "source": [
    "!kaggle datasets download -d brittabettendorf/berlin-airbnb-data"
   ]
  },
  {
   "cell_type": "code",
   "execution_count": 7,
   "metadata": {},
   "outputs": [
    {
     "data": {
      "text/plain": "   listing_id        date\n0        2015  2016-04-11\n1        2015  2016-04-15\n2        2015  2016-04-26\n3        2015  2016-05-10\n4        2015  2016-05-14",
      "text/html": "<div>\n<style scoped>\n    .dataframe tbody tr th:only-of-type {\n        vertical-align: middle;\n    }\n\n    .dataframe tbody tr th {\n        vertical-align: top;\n    }\n\n    .dataframe thead th {\n        text-align: right;\n    }\n</style>\n<table border=\"1\" class=\"dataframe\">\n  <thead>\n    <tr style=\"text-align: right;\">\n      <th></th>\n      <th>listing_id</th>\n      <th>date</th>\n    </tr>\n  </thead>\n  <tbody>\n    <tr>\n      <th>0</th>\n      <td>2015</td>\n      <td>2016-04-11</td>\n    </tr>\n    <tr>\n      <th>1</th>\n      <td>2015</td>\n      <td>2016-04-15</td>\n    </tr>\n    <tr>\n      <th>2</th>\n      <td>2015</td>\n      <td>2016-04-26</td>\n    </tr>\n    <tr>\n      <th>3</th>\n      <td>2015</td>\n      <td>2016-05-10</td>\n    </tr>\n    <tr>\n      <th>4</th>\n      <td>2015</td>\n      <td>2016-05-14</td>\n    </tr>\n  </tbody>\n</table>\n</div>"
     },
     "execution_count": 7,
     "metadata": {},
     "output_type": "execute_result"
    }
   ],
   "source": [
    "zf = zipfile.ZipFile('berlin-airbnb-data.zip')\n",
    "df = pd.read_csv(zf.open('reviews.csv'))\n",
    "df.head()"
   ]
  }
 ],
 "metadata": {
  "kernelspec": {
   "display_name": "Python 3",
   "language": "python",
   "name": "python3"
  },
  "language_info": {
   "codemirror_mode": {
    "name": "ipython",
    "version": 3
   },
   "file_extension": ".py",
   "mimetype": "text/x-python",
   "name": "python",
   "nbconvert_exporter": "python",
   "pygments_lexer": "ipython3",
   "version": "3.6.10"
  }
 },
 "nbformat": 4,
 "nbformat_minor": 4
}