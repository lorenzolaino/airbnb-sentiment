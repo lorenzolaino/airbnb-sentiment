{
 "cells": [
  {
   "cell_type": "markdown",
   "source": [
    "# AirBnB Sentiment Analysis"
   ],
   "metadata": {
    "collapsed": false
   }
  },
  {
   "cell_type": "code",
   "execution_count": 1,
   "outputs": [],
   "source": [
    "%reload_ext autoreload\n",
    "%autoreload 2\n",
    "%matplotlib inline"
   ],
   "metadata": {
    "collapsed": false,
    "pycharm": {
     "name": "#%%\n"
    }
   }
  },
  {
   "cell_type": "markdown",
   "source": [
    "## Project Scope\n",
    " - Use of sentiment analysis, of the reviews of each ad, to view the evaluation of the ad\n",
    "    itself.\n",
    "\n",
    " - Search for relationships between the price of a room and the day of the week, holidays,\n",
    "    and time of year, and relationships between the price and the characteristics of a\n",
    "    room to make a forecast.\n",
    "\n",
    "  Specify that the analysis is unsupervised\n",
    "\n",
    "Dataset: https://www.kaggle.com/brittabettendorf/berlin-airbnb-data"
   ],
   "metadata": {
    "collapsed": false
   }
  },
  {
   "cell_type": "code",
   "execution_count": 2,
   "outputs": [
    {
     "name": "stderr",
     "output_type": "stream",
     "text": [
      "d:\\utenti\\marco\\desktop\\insubria\\laurea magistrale\\data mining\\airbnb-sentiment\\venv\\lib\\site-packages\\gensim\\similarities\\__init__.py:15: UserWarning: The gensim.similarities.levenshtein submodule is disabled, because the optional Levenshtein package <https://pypi.org/project/python-Levenshtein/> is unavailable. Install Levenhstein (e.g. `pip install python-Levenshtein`) to suppress this warning.\n",
      "  warnings.warn(msg)\n"
     ]
    }
   ],
   "source": [
    "import pandas as pd\n",
    "import gensim\n",
    "import nltk"
   ],
   "metadata": {
    "collapsed": false,
    "pycharm": {
     "name": "#%%\n"
    }
   }
  },
  {
   "cell_type": "markdown",
   "source": [
    "## Import of the reviews' dataset\n",
    "\n",
    "The dataset imported and used along this analysis is the one previously generated."
   ],
   "metadata": {
    "collapsed": false,
    "pycharm": {
     "name": "#%% md\n"
    }
   }
  },
  {
   "cell_type": "code",
   "execution_count": 3,
   "metadata": {
    "collapsed": true
   },
   "outputs": [
    {
     "data": {
      "text/plain": "   listing_id        id        date  reviewer_id reviewer_name  \\\n0        2015  69544350  2016-04-11      7178145         Rahel   \n1        2015  69990732  2016-04-15     41944715        Hannah   \n2        2015  71605267  2016-04-26     30048708        Victor   \n3        2015  73819566  2016-05-10     63697857          Judy   \n4        2015  74293504  2016-05-14     10414887        Romina   \n\n                                            comments Lang  \n0  mein freund und ich hatten gute gemütliche vie...   de  \n1  jan was very friendly and welcoming host! the ...   en  \n2  un appartement tres bien situé dans un quartie...   fr  \n3  it is really nice area, food, park, transport ...   en  \n4  buena ubicación, el departamento no está orden...   es  ",
      "text/html": "<div>\n<style scoped>\n    .dataframe tbody tr th:only-of-type {\n        vertical-align: middle;\n    }\n\n    .dataframe tbody tr th {\n        vertical-align: top;\n    }\n\n    .dataframe thead th {\n        text-align: right;\n    }\n</style>\n<table border=\"1\" class=\"dataframe\">\n  <thead>\n    <tr style=\"text-align: right;\">\n      <th></th>\n      <th>listing_id</th>\n      <th>id</th>\n      <th>date</th>\n      <th>reviewer_id</th>\n      <th>reviewer_name</th>\n      <th>comments</th>\n      <th>Lang</th>\n    </tr>\n  </thead>\n  <tbody>\n    <tr>\n      <th>0</th>\n      <td>2015</td>\n      <td>69544350</td>\n      <td>2016-04-11</td>\n      <td>7178145</td>\n      <td>Rahel</td>\n      <td>mein freund und ich hatten gute gemütliche vie...</td>\n      <td>de</td>\n    </tr>\n    <tr>\n      <th>1</th>\n      <td>2015</td>\n      <td>69990732</td>\n      <td>2016-04-15</td>\n      <td>41944715</td>\n      <td>Hannah</td>\n      <td>jan was very friendly and welcoming host! the ...</td>\n      <td>en</td>\n    </tr>\n    <tr>\n      <th>2</th>\n      <td>2015</td>\n      <td>71605267</td>\n      <td>2016-04-26</td>\n      <td>30048708</td>\n      <td>Victor</td>\n      <td>un appartement tres bien situé dans un quartie...</td>\n      <td>fr</td>\n    </tr>\n    <tr>\n      <th>3</th>\n      <td>2015</td>\n      <td>73819566</td>\n      <td>2016-05-10</td>\n      <td>63697857</td>\n      <td>Judy</td>\n      <td>it is really nice area, food, park, transport ...</td>\n      <td>en</td>\n    </tr>\n    <tr>\n      <th>4</th>\n      <td>2015</td>\n      <td>74293504</td>\n      <td>2016-05-14</td>\n      <td>10414887</td>\n      <td>Romina</td>\n      <td>buena ubicación, el departamento no está orden...</td>\n      <td>es</td>\n    </tr>\n  </tbody>\n</table>\n</div>"
     },
     "execution_count": 3,
     "metadata": {},
     "output_type": "execute_result"
    }
   ],
   "source": [
    "dfReviews = pd.read_csv('reviews_summary_langs.csv')\n",
    "dfReviews.head()"
   ]
  },
  {
   "cell_type": "code",
   "execution_count": 4,
   "outputs": [
    {
     "data": {
      "text/plain": "array(['de', 'en', 'fr', 'es', 'no', 'ro', 'ca', 'sv', 'pt', 'it', 'ko',\n       'nl', 'af', 'ru', 'zh-cn', 'fi', 'da', 'hu', 'None', 'vi', 'ja',\n       'pl', 'cy', 'id', 'cs', 'et', 'hr', 'el', 'tr', 'sl', 'so',\n       'zh-tw', 'tl', 'sk', 'sq', 'sw', 'uk', 'lv', 'mk', 'he', 'lt',\n       'bg', 'th', 'ar'], dtype=object)"
     },
     "execution_count": 4,
     "metadata": {},
     "output_type": "execute_result"
    }
   ],
   "source": [
    "dfReviews['Lang'].unique()"
   ],
   "metadata": {
    "collapsed": false,
    "pycharm": {
     "name": "#%%\n"
    }
   }
  },
  {
   "cell_type": "markdown",
   "source": [
    "The rows in which the 'Lang' column shows the value 'None' are the ones that in the previous\n",
    "step have thrown some problems.\n",
    "In particular, the possible problems are the inability of the used technique to detect\n",
    "their language or the too-narrow length of the review."
   ],
   "metadata": {
    "collapsed": false,
    "pycharm": {
     "name": "#%% md\n"
    }
   }
  },
  {
   "cell_type": "code",
   "execution_count": 5,
   "outputs": [
    {
     "name": "stdout",
     "output_type": "stream",
     "text": [
      "Number of reviews with None language: 648\n",
      "Percentage of reviews with None language: 0.16%\n"
     ]
    }
   ],
   "source": [
    "dfNoneLangReviews = dfReviews[dfReviews['Lang'] == 'None']\n",
    "print(f'Number of reviews with None language: {dfNoneLangReviews.shape[0]}')\n",
    "print(f'Percentage of reviews with None language: '\n",
    "      f'{round(dfNoneLangReviews.shape[0] * 100 / dfReviews.shape[0],2)}%')"
   ],
   "metadata": {
    "collapsed": false,
    "pycharm": {
     "name": "#%%\n"
    }
   }
  },
  {
   "cell_type": "markdown",
   "source": [
    "The reviews written in english language are the interesting ones for this analysis."
   ],
   "metadata": {
    "collapsed": false,
    "pycharm": {
     "name": "#%% md\n"
    }
   }
  },
  {
   "cell_type": "code",
   "execution_count": 6,
   "outputs": [
    {
     "data": {
      "text/plain": "   listing_id        id        date  reviewer_id reviewer_name  \\\n1        2015  69990732  2016-04-15     41944715        Hannah   \n3        2015  73819566  2016-05-10     63697857          Judy   \n6        2015  76603178  2016-05-28     29323516       Laurent   \n7        2015  77296201  2016-05-31      9025122        Rasmus   \n9        2015  82322683  2016-06-27     73902920           Mag   \n\n                                            comments Lang  \n1  jan was very friendly and welcoming host! the ...   en  \n3  it is really nice area, food, park, transport ...   en  \n6  we had a very nice stay in berlin, thanks to j...   en  \n7  great location close to mauerpark, kastanienal...   en  \n9  apartment very well located, close to everythi...   en  ",
      "text/html": "<div>\n<style scoped>\n    .dataframe tbody tr th:only-of-type {\n        vertical-align: middle;\n    }\n\n    .dataframe tbody tr th {\n        vertical-align: top;\n    }\n\n    .dataframe thead th {\n        text-align: right;\n    }\n</style>\n<table border=\"1\" class=\"dataframe\">\n  <thead>\n    <tr style=\"text-align: right;\">\n      <th></th>\n      <th>listing_id</th>\n      <th>id</th>\n      <th>date</th>\n      <th>reviewer_id</th>\n      <th>reviewer_name</th>\n      <th>comments</th>\n      <th>Lang</th>\n    </tr>\n  </thead>\n  <tbody>\n    <tr>\n      <th>1</th>\n      <td>2015</td>\n      <td>69990732</td>\n      <td>2016-04-15</td>\n      <td>41944715</td>\n      <td>Hannah</td>\n      <td>jan was very friendly and welcoming host! the ...</td>\n      <td>en</td>\n    </tr>\n    <tr>\n      <th>3</th>\n      <td>2015</td>\n      <td>73819566</td>\n      <td>2016-05-10</td>\n      <td>63697857</td>\n      <td>Judy</td>\n      <td>it is really nice area, food, park, transport ...</td>\n      <td>en</td>\n    </tr>\n    <tr>\n      <th>6</th>\n      <td>2015</td>\n      <td>76603178</td>\n      <td>2016-05-28</td>\n      <td>29323516</td>\n      <td>Laurent</td>\n      <td>we had a very nice stay in berlin, thanks to j...</td>\n      <td>en</td>\n    </tr>\n    <tr>\n      <th>7</th>\n      <td>2015</td>\n      <td>77296201</td>\n      <td>2016-05-31</td>\n      <td>9025122</td>\n      <td>Rasmus</td>\n      <td>great location close to mauerpark, kastanienal...</td>\n      <td>en</td>\n    </tr>\n    <tr>\n      <th>9</th>\n      <td>2015</td>\n      <td>82322683</td>\n      <td>2016-06-27</td>\n      <td>73902920</td>\n      <td>Mag</td>\n      <td>apartment very well located, close to everythi...</td>\n      <td>en</td>\n    </tr>\n  </tbody>\n</table>\n</div>"
     },
     "execution_count": 6,
     "metadata": {},
     "output_type": "execute_result"
    }
   ],
   "source": [
    "dfEnglishReviews = dfReviews[dfReviews['Lang'] == 'en']\n",
    "dfEnglishReviews.head()"
   ],
   "metadata": {
    "collapsed": false,
    "pycharm": {
     "name": "#%%\n"
    }
   }
  },
  {
   "cell_type": "code",
   "execution_count": 7,
   "outputs": [
    {
     "name": "stdout",
     "output_type": "stream",
     "text": [
      "<class 'pandas.core.frame.DataFrame'>\n",
      "Int64Index: 268508 entries, 1 to 401466\n",
      "Data columns (total 7 columns):\n",
      " #   Column         Non-Null Count   Dtype \n",
      "---  ------         --------------   ----- \n",
      " 0   listing_id     268508 non-null  int64 \n",
      " 1   id             268508 non-null  int64 \n",
      " 2   date           268508 non-null  object\n",
      " 3   reviewer_id    268508 non-null  int64 \n",
      " 4   reviewer_name  268508 non-null  object\n",
      " 5   comments       268508 non-null  object\n",
      " 6   Lang           268508 non-null  object\n",
      "dtypes: int64(3), object(4)\n",
      "memory usage: 16.4+ MB\n"
     ]
    }
   ],
   "source": [
    "dfEnglishReviews.info()"
   ],
   "metadata": {
    "collapsed": false,
    "pycharm": {
     "name": "#%%\n"
    }
   }
  },
  {
   "cell_type": "markdown",
   "source": [
    "## Duplicates removal\n",
    "\n",
    "The first step requires the removal of the duplicated reviews."
   ],
   "metadata": {
    "collapsed": false,
    "pycharm": {
     "name": "#%% md\n"
    }
   }
  },
  {
   "cell_type": "code",
   "execution_count": 8,
   "outputs": [
    {
     "name": "stdout",
     "output_type": "stream",
     "text": [
      "Number of English reviews: 268508\n",
      "Number of unique English reviews: 258767\n"
     ]
    }
   ],
   "source": [
    "print('Number of English reviews: {}'.format(dfEnglishReviews.shape[0]))\n",
    "print('Number of unique English reviews: {}'.format(len(dfEnglishReviews['comments'].unique())))"
   ],
   "metadata": {
    "collapsed": false,
    "pycharm": {
     "name": "#%%\n"
    }
   }
  },
  {
   "cell_type": "code",
   "execution_count": 9,
   "outputs": [
    {
     "name": "stdout",
     "output_type": "stream",
     "text": [
      "Number of reviews after the duplicated removal: 258767\n"
     ]
    }
   ],
   "source": [
    "dfEnglishReviews = dfEnglishReviews.drop_duplicates(subset='comments')\n",
    "print(f'Number of reviews after the duplicated removal: {dfEnglishReviews.shape[0]}')"
   ],
   "metadata": {
    "collapsed": false,
    "pycharm": {
     "name": "#%%\n"
    }
   }
  },
  {
   "cell_type": "markdown",
   "source": [
    "## Non-English words removal"
   ],
   "metadata": {
    "collapsed": false,
    "pycharm": {
     "name": "#%% md\n"
    }
   }
  },
  {
   "cell_type": "code",
   "execution_count": 33,
   "outputs": [
    {
     "data": {
      "text/plain": "\"britta’s apartment is perfect! clean, bright, fully-appointed , cozy. there is very convenience area, many cafes and restaurant around but quiet. it is situated few minutes from train and tram station. it made us perfect stay in berlin. we didn't have chance to meet britta but she is very kindness and has strong sense of responsibility, prepared  many tips and information for us. thanks a lot.\\r\\nとても便利な場所にあり､ﾄﾗﾑや駅から数分で､きれいで明るく､設備の整った､居心地の良い完璧な部屋です｡周辺には沢山のｶﾌｪやﾚｽﾄﾗﾝがあり､暮らすように旅する滞在にﾋﾟｯﾀﾘです｡brittaに会う機会はありませんでしたが､周辺情報などをまとめたものを用意してくれていて､大変親切にして頂きました｡\""
     },
     "execution_count": 33,
     "metadata": {},
     "output_type": "execute_result"
    }
   ],
   "source": [
    "dfEnglishReviews['comments'].iloc[172]"
   ],
   "metadata": {
    "collapsed": false,
    "pycharm": {
     "name": "#%%\n"
    }
   }
  },
  {
   "cell_type": "code",
   "execution_count": 34,
   "outputs": [
    {
     "data": {
      "text/plain": "'britta s apartment is perfect  clean  bright  fully appointed   cozy  there is very convenience area  many cafes and restaurant around but quiet  it is situated few minutes from train and tram station  it made us perfect stay in berlin  we didn t have chance to meet britta but she is very kindness and has strong sense of responsibility  prepared  many tips and information for us  thanks a lot                                                                                               britta                                                     '"
     },
     "execution_count": 34,
     "metadata": {},
     "output_type": "execute_result"
    }
   ],
   "source": [
    "from re import sub\n",
    "\n",
    "dfEnglishReviews['comments'] = dfEnglishReviews.apply(\n",
    "    lambda x: sub(r\"[^A-Za-z]\", \" \", x['comments']), axis=1)\n",
    "dfEnglishReviews['comments'].iloc[172]"
   ],
   "metadata": {
    "collapsed": false,
    "pycharm": {
     "name": "#%%\n"
    }
   }
  },
  {
   "cell_type": "markdown",
   "source": [
    "## Tokenization\n",
    "\n",
    "In order to prepare the data for the analysis model, it is needed to perform a tokenization\n",
    "operation.\n",
    "For this purpose, the 'gensim' library is used."
   ],
   "metadata": {
    "collapsed": false
   }
  },
  {
   "cell_type": "code",
   "execution_count": 35,
   "outputs": [
    {
     "data": {
      "text/plain": "1         [jan, was, very, friendly, and, welcoming, hos...\n3         [it, is, really, nice, area, food, park, trans...\n6         [we, had, very, nice, stay, in, berlin, thanks...\n7         [great, location, close, to, mauerpark, kastan...\n9         [apartment, very, well, located, close, to, ev...\n                                ...                        \n401442    [great, place, to, stay, and, bit, far, though...\n401443    [the, place, is, great, very, spacey, and, cle...\n401445    [this, appartment, is, super, comfortable, and...\n401453          [nice, quite, close, to, the, center, walk]\n401462    [the, host, canceled, this, reservation, days,...\nLength: 258767, dtype: object"
     },
     "execution_count": 35,
     "metadata": {},
     "output_type": "execute_result"
    }
   ],
   "source": [
    "tokenizedEnglishReviews = dfEnglishReviews.apply(\n",
    "    lambda x: gensim.utils.simple_preprocess(str(x['comments'])), axis=1)\n",
    "tokenizedEnglishReviews"
   ],
   "metadata": {
    "collapsed": false,
    "pycharm": {
     "name": "#%%\n"
    }
   }
  },
  {
   "cell_type": "markdown",
   "source": [
    "## Normalization\n",
    "\n",
    "Another important step concerns the normalization of the reviews.\n",
    "For this purpose, the 'nltk' library is used.\n",
    "\n",
    "In particular, the 'wordnet' and 'average_perceptron_tagger' packages are downloaded from\n",
    "the 'nltk' resources.\n",
    "The first package provides a 'Lemmatizer' that, given a word, converts it into its base form.\n",
    "The second package provides a method that, given a word, returns a tag representing its\n",
    "grammatical type."
   ],
   "metadata": {
    "collapsed": false
   }
  },
  {
   "cell_type": "code",
   "execution_count": 11,
   "outputs": [
    {
     "name": "stderr",
     "output_type": "stream",
     "text": [
      "[nltk_data] Downloading package wordnet to\n",
      "[nltk_data]     C:\\Users\\Marco\\AppData\\Roaming\\nltk_data...\n",
      "[nltk_data]   Package wordnet is already up-to-date!\n",
      "[nltk_data] Downloading package averaged_perceptron_tagger to\n",
      "[nltk_data]     C:\\Users\\Marco\\AppData\\Roaming\\nltk_data...\n",
      "[nltk_data]   Package averaged_perceptron_tagger is already up-to-\n",
      "[nltk_data]       date!\n"
     ]
    },
    {
     "data": {
      "text/plain": "True"
     },
     "execution_count": 11,
     "metadata": {},
     "output_type": "execute_result"
    }
   ],
   "source": [
    "nltk.download('wordnet')\n",
    "nltk.download('averaged_perceptron_tagger')"
   ],
   "metadata": {
    "collapsed": false,
    "pycharm": {
     "name": "#%%\n"
    }
   }
  },
  {
   "cell_type": "code",
   "execution_count": 12,
   "outputs": [],
   "source": [
    "from nltk.stem.wordnet import WordNetLemmatizer\n",
    "from nltk.tag import pos_tag\n",
    "\n",
    "def lemmatize_reviews(tokenized_reviews):\n",
    "    lemmatizer = WordNetLemmatizer()\n",
    "    lemmatized_reviews = []\n",
    "    for tokens_review in tokenized_reviews:\n",
    "        lemmatized_review = []\n",
    "        for word, tag in pos_tag(tokens_review):\n",
    "            if tag.startswith('NN'):\n",
    "                pos = 'n'\n",
    "            elif tag.startswith('VB'):\n",
    "                pos = 'v'\n",
    "            else:\n",
    "                pos = 'a'\n",
    "            lemmatized_review.append(lemmatizer.lemmatize(word, pos))\n",
    "        lemmatized_reviews.append(lemmatized_review)\n",
    "\n",
    "    return lemmatized_reviews"
   ],
   "metadata": {
    "collapsed": false,
    "pycharm": {
     "name": "#%%\n"
    }
   }
  },
  {
   "cell_type": "code",
   "execution_count": 36,
   "outputs": [
    {
     "data": {
      "text/plain": "[['jan',\n  'be',\n  'very',\n  'friendly',\n  'and',\n  'welcome',\n  'host',\n  'the',\n  'apartment',\n  'be',\n  'great',\n  'and',\n  'the',\n  'area',\n  'be',\n  'sooo',\n  'amaze',\n  'lot',\n  'of',\n  'nice',\n  'cafe',\n  'and',\n  'shop',\n  'enjoy',\n  'my',\n  'time',\n  'there',\n  'lot'],\n ['it',\n  'be',\n  'really',\n  'nice',\n  'area',\n  'food',\n  'park',\n  'transport',\n  'be',\n  'perfect'],\n ['we',\n  'have',\n  'very',\n  'nice',\n  'stay',\n  'in',\n  'berlin',\n  'thanks',\n  'to',\n  'jan',\n  'premium',\n  'situate',\n  'apartment',\n  'the',\n  'place',\n  'isn',\n  'big',\n  'but',\n  'be',\n  'quiet',\n  'and',\n  'functional',\n  'also',\n  'it',\n  'situate',\n  'in',\n  'perfect',\n  'neighbourhood',\n  'jan',\n  'be',\n  'very',\n  'welcome',\n  'host',\n  'eager',\n  'to',\n  'help',\n  'you',\n  'if',\n  'need',\n  'or',\n  'to',\n  'provide',\n  'you',\n  'any',\n  'kind',\n  'of',\n  'information',\n  'he',\n  'also',\n  'have',\n  'very',\n  'good',\n  'advice',\n  'on',\n  'biergarten'],\n ['great',\n  'location',\n  'close',\n  'to',\n  'mauerpark',\n  'kastanienallee',\n  'and',\n  'rosenthaler',\n  'platz',\n  'with',\n  'lot',\n  'of',\n  'bar',\n  'and',\n  'restaurant',\n  'nearby',\n  'jan',\n  'be',\n  'very',\n  'friendly',\n  'and',\n  'service',\n  'mind'],\n ['apartment',\n  'very',\n  'well',\n  'locate',\n  'close',\n  'to',\n  'everything',\n  'supermarket',\n  'transport',\n  'city',\n  'center',\n  'very',\n  'quiet',\n  'night',\n  'because',\n  'the',\n  'apartment',\n  'be',\n  'locate',\n  'on',\n  'the',\n  'inside',\n  'of',\n  'the',\n  'building',\n  'it',\n  'have',\n  'the',\n  'basic',\n  'equipment',\n  'for',\n  'one',\n  'week',\n  'stay',\n  'jan',\n  'be',\n  'super',\n  'accessible',\n  'nice',\n  'and',\n  'always',\n  'available']]"
     },
     "execution_count": 36,
     "metadata": {},
     "output_type": "execute_result"
    }
   ],
   "source": [
    "lemmatizedTokenizedEnglishReviews = lemmatize_reviews(tokenizedEnglishReviews)\n",
    "lemmatizedTokenizedEnglishReviews[:5]"
   ],
   "metadata": {
    "collapsed": false,
    "pycharm": {
     "name": "#%%\n"
    }
   }
  },
  {
   "cell_type": "markdown",
   "source": [
    "## Stop words removal\n",
    "\n",
    "Finally, it is important to remove the stop-words.\n",
    "For this purpose, the 'stopwords' package of the 'nltk' library is used."
   ],
   "metadata": {
    "collapsed": false,
    "pycharm": {
     "name": "#%% md\n"
    }
   }
  },
  {
   "cell_type": "code",
   "execution_count": 14,
   "outputs": [
    {
     "name": "stderr",
     "output_type": "stream",
     "text": [
      "[nltk_data] Downloading package stopwords to\n",
      "[nltk_data]     C:\\Users\\Marco\\AppData\\Roaming\\nltk_data...\n",
      "[nltk_data]   Package stopwords is already up-to-date!\n"
     ]
    },
    {
     "data": {
      "text/plain": "True"
     },
     "execution_count": 14,
     "metadata": {},
     "output_type": "execute_result"
    }
   ],
   "source": [
    "nltk.download('stopwords')"
   ],
   "metadata": {
    "collapsed": false,
    "pycharm": {
     "name": "#%%\n"
    }
   }
  },
  {
   "cell_type": "code",
   "execution_count": 15,
   "outputs": [
    {
     "data": {
      "text/plain": "['i', 'me', 'my', 'myself', 'we', 'our', 'ours', 'ourselves', 'you', \"you're\"]"
     },
     "execution_count": 15,
     "metadata": {},
     "output_type": "execute_result"
    }
   ],
   "source": [
    "from nltk.corpus import stopwords\n",
    "\n",
    "stopWords = stopwords.words('english')\n",
    "stopWords[:10]"
   ],
   "metadata": {
    "collapsed": false,
    "pycharm": {
     "name": "#%%\n"
    }
   }
  },
  {
   "cell_type": "code",
   "execution_count": 16,
   "outputs": [],
   "source": [
    "def remove_stop_words(tokenized_reviews, stop_words):\n",
    "    tokenized_reviews_without_stopwords = []\n",
    "    for tokenized_review in tokenized_reviews:\n",
    "        tokenized_reviews_without_stopwords.append(\n",
    "            [word for word in tokenized_review if not word in stop_words]\n",
    "        )\n",
    "    return tokenized_reviews_without_stopwords"
   ],
   "metadata": {
    "collapsed": false,
    "pycharm": {
     "name": "#%%\n"
    }
   }
  },
  {
   "cell_type": "code",
   "execution_count": 39,
   "outputs": [
    {
     "data": {
      "text/plain": "[['jan',\n  'friendly',\n  'welcome',\n  'host',\n  'apartment',\n  'great',\n  'area',\n  'sooo',\n  'amaze',\n  'lot',\n  'nice',\n  'cafe',\n  'shop',\n  'enjoy',\n  'time',\n  'lot'],\n ['really', 'nice', 'area', 'food', 'park', 'transport', 'perfect'],\n ['nice',\n  'stay',\n  'berlin',\n  'thanks',\n  'jan',\n  'premium',\n  'situate',\n  'apartment',\n  'place',\n  'big',\n  'quiet',\n  'functional',\n  'also',\n  'situate',\n  'perfect',\n  'neighbourhood',\n  'jan',\n  'welcome',\n  'host',\n  'eager',\n  'help',\n  'need',\n  'provide',\n  'kind',\n  'information',\n  'also',\n  'good',\n  'advice',\n  'biergarten'],\n ['great',\n  'location',\n  'close',\n  'mauerpark',\n  'kastanienallee',\n  'rosenthaler',\n  'platz',\n  'lot',\n  'bar',\n  'restaurant',\n  'nearby',\n  'jan',\n  'friendly',\n  'service',\n  'mind'],\n ['apartment',\n  'well',\n  'locate',\n  'close',\n  'everything',\n  'supermarket',\n  'transport',\n  'city',\n  'center',\n  'quiet',\n  'night',\n  'apartment',\n  'locate',\n  'inside',\n  'building',\n  'basic',\n  'equipment',\n  'one',\n  'week',\n  'stay',\n  'jan',\n  'super',\n  'accessible',\n  'nice',\n  'always',\n  'available']]"
     },
     "execution_count": 39,
     "metadata": {},
     "output_type": "execute_result"
    }
   ],
   "source": [
    "lemmatizedTokenizedEnglishReviewsWithoutStopWords = remove_stop_words(\n",
    "    lemmatizedTokenizedEnglishReviews, stopWords)\n",
    "lemmatizedTokenizedEnglishReviewsWithoutStopWords[:5]"
   ],
   "metadata": {
    "collapsed": false,
    "pycharm": {
     "name": "#%%\n"
    }
   }
  },
  {
   "cell_type": "markdown",
   "source": [
    "## Bigrams generation"
   ],
   "metadata": {
    "collapsed": false,
    "pycharm": {
     "name": "#%% md\n"
    }
   }
  },
  {
   "cell_type": "code",
   "execution_count": 42,
   "outputs": [
    {
     "data": {
      "text/plain": "['really', 'nice', 'area', 'food', 'park', 'transport', 'perfect']"
     },
     "execution_count": 42,
     "metadata": {},
     "output_type": "execute_result"
    }
   ],
   "source": [
    "from gensim.models.phrases import Phrases, Phraser\n",
    "\n",
    "phrases = Phrases(lemmatizedTokenizedEnglishReviewsWithoutStopWords, min_count=3, progress_per=50000)\n",
    "bigram = Phraser(phrases)\n",
    "sentences = bigram[lemmatizedTokenizedEnglishReviewsWithoutStopWords]\n",
    "sentences[1]"
   ],
   "metadata": {
    "collapsed": false,
    "pycharm": {
     "name": "#%%\n"
    }
   }
  },
  {
   "cell_type": "code",
   "execution_count": 43,
   "outputs": [
    {
     "data": {
      "text/plain": "64487"
     },
     "execution_count": 43,
     "metadata": {},
     "output_type": "execute_result"
    }
   ],
   "source": [
    "from collections import defaultdict\n",
    "\n",
    "word_freq = defaultdict(int)\n",
    "for sent in sentences:\n",
    "    for i in sent:\n",
    "        word_freq[i] += 1\n",
    "len(word_freq)"
   ],
   "metadata": {
    "collapsed": false,
    "pycharm": {
     "name": "#%%\n"
    }
   }
  },
  {
   "cell_type": "code",
   "execution_count": 44,
   "outputs": [
    {
     "data": {
      "text/plain": "['great',\n 'apartment',\n 'stay',\n 'place',\n 'berlin',\n 'nice',\n 'location',\n 'host',\n 'clean',\n 'good']"
     },
     "execution_count": 44,
     "metadata": {},
     "output_type": "execute_result"
    }
   ],
   "source": [
    "sorted(word_freq, key=word_freq.get, reverse=True)[:10]"
   ],
   "metadata": {
    "collapsed": false,
    "pycharm": {
     "name": "#%%\n"
    }
   }
  },
  {
   "cell_type": "markdown",
   "source": [
    "## Word2Vec model"
   ],
   "metadata": {
    "collapsed": false,
    "pycharm": {
     "name": "#%% md\n"
    }
   }
  },
  {
   "cell_type": "code",
   "execution_count": 45,
   "outputs": [],
   "source": [
    "from gensim.models import Word2Vec\n",
    "\n",
    "w2v_model = Word2Vec(min_count=20,\n",
    "                     window=4,\n",
    "                     vector_size=300,\n",
    "                     sample=6e-5,\n",
    "                     alpha=0.03,\n",
    "                     min_alpha=0.0007,\n",
    "                     negative=20,\n",
    "                     workers=4)"
   ],
   "metadata": {
    "collapsed": false,
    "pycharm": {
     "name": "#%%\n"
    }
   }
  },
  {
   "cell_type": "code",
   "execution_count": 46,
   "outputs": [
    {
     "name": "stdout",
     "output_type": "stream",
     "text": [
      "Time to build vocab: 0.13 mins\n"
     ]
    }
   ],
   "source": [
    "from time import time\n",
    "\n",
    "t = time()\n",
    "\n",
    "w2v_model.build_vocab(sentences, progress_per=10000)\n",
    "\n",
    "print('Time to build vocab: {} mins'.format(round((time() - t) / 60, 2)))"
   ],
   "metadata": {
    "collapsed": false,
    "pycharm": {
     "name": "#%%\n"
    }
   }
  },
  {
   "cell_type": "code",
   "execution_count": 47,
   "outputs": [
    {
     "name": "stdout",
     "output_type": "stream",
     "text": [
      "Time to train the model: 5.65 mins\n"
     ]
    }
   ],
   "source": [
    "t = time()\n",
    "\n",
    "w2v_model.train(sentences, total_examples=w2v_model.corpus_count, epochs=30, report_delay=1)\n",
    "\n",
    "print('Time to train the model: {} mins'.format(round((time() - t) / 60, 2)))"
   ],
   "metadata": {
    "collapsed": false,
    "pycharm": {
     "name": "#%%\n"
    }
   }
  },
  {
   "cell_type": "code",
   "execution_count": 48,
   "outputs": [],
   "source": [
    "# w2v_model.save(\"word2vec.model\")"
   ],
   "metadata": {
    "collapsed": false,
    "pycharm": {
     "name": "#%%\n"
    }
   }
  },
  {
   "cell_type": "markdown",
   "source": [
    "## Exploring the model"
   ],
   "metadata": {
    "collapsed": false,
    "pycharm": {
     "name": "#%% md\n"
    }
   }
  },
  {
   "cell_type": "code",
   "execution_count": 49,
   "outputs": [
    {
     "data": {
      "text/plain": "[('flat', 0.6814600825309753),\n ('spacious', 0.5264761447906494),\n ('modern', 0.48734188079833984),\n ('studio', 0.4537934958934784),\n ('clean', 0.4438861906528473),\n ('bright', 0.4140062928199768),\n ('beautifully_appoint', 0.3940298855304718),\n ('light_airy', 0.39114996790885925),\n ('modern_furnishing', 0.3764360547065735),\n ('location', 0.37172961235046387)]"
     },
     "execution_count": 49,
     "metadata": {},
     "output_type": "execute_result"
    }
   ],
   "source": [
    "w2v_model.wv.most_similar(positive=[\"apartment\"])"
   ],
   "metadata": {
    "collapsed": false,
    "pycharm": {
     "name": "#%%\n"
    }
   }
  },
  {
   "cell_type": "markdown",
   "source": [
    "## Clustering model"
   ],
   "metadata": {
    "collapsed": false,
    "pycharm": {
     "name": "#%% md\n"
    }
   }
  },
  {
   "cell_type": "code",
   "execution_count": 50,
   "outputs": [
    {
     "data": {
      "text/plain": "KMeans(max_iter=1000, n_clusters=2, n_init=50, random_state=True)"
     },
     "execution_count": 50,
     "metadata": {},
     "output_type": "execute_result"
    }
   ],
   "source": [
    "from sklearn.cluster import KMeans\n",
    "import numpy as np\n",
    "\n",
    "# kmeans_model = KMeans(n_clusters=2, max_iter=1000, random_state=True, n_init=50).fit(X=.vectors.astype('double'))\n",
    "kmeans_model = KMeans(n_clusters=2, max_iter=1000, random_state=True, n_init=50)\n",
    "kmeans_model.fit(X=w2v_model.wv.vectors.astype('double'))"
   ],
   "metadata": {
    "collapsed": false,
    "pycharm": {
     "name": "#%%\n"
    }
   }
  },
  {
   "cell_type": "code",
   "execution_count": 55,
   "outputs": [
    {
     "data": {
      "text/plain": "[('useless', 0.6690021753311157),\n ('unacceptable', 0.6566799283027649),\n ('due_lack', 0.6558582782745361),\n ('replacement', 0.6488563418388367),\n ('rug', 0.6485123634338379),\n ('trap', 0.634070634841919),\n ('smelly', 0.6288523077964783),\n ('take_trash', 0.6276218891143799),\n ('electricity', 0.6265416145324707),\n ('mop', 0.6223761439323425)]"
     },
     "execution_count": 55,
     "metadata": {},
     "output_type": "execute_result"
    }
   ],
   "source": [
    "w2v_model.wv.similar_by_vector(kmeans_model.cluster_centers_[0], topn=10, restrict_vocab=None)"
   ],
   "metadata": {
    "collapsed": false,
    "pycharm": {
     "name": "#%%\n"
    }
   }
  },
  {
   "cell_type": "code",
   "execution_count": 56,
   "outputs": [],
   "source": [
    "negative_cluster_index = 0\n",
    "negative_cluster_center = kmeans_model.cluster_centers_[negative_cluster_index]\n",
    "positive_cluster_center = kmeans_model.cluster_centers_[1-negative_cluster_index]"
   ],
   "metadata": {
    "collapsed": false,
    "pycharm": {
     "name": "#%%\n"
    }
   }
  },
  {
   "cell_type": "code",
   "execution_count": 57,
   "outputs": [
    {
     "data": {
      "text/plain": "       words                                            vectors  cluster\n0      great  [0.023204772, 0.059004717, -0.3098381, 0.60022...        1\n1  apartment  [0.0007390261, -0.41159153, 0.41341403, -0.402...        1\n2       stay  [0.33254883, 0.40867707, 0.19273868, -0.435026...        1\n3      place  [0.011042707, -0.16829014, -0.29300955, 0.0513...        1\n4     berlin  [0.24693859, 0.07494845, -0.36934593, -0.03560...        1",
      "text/html": "<div>\n<style scoped>\n    .dataframe tbody tr th:only-of-type {\n        vertical-align: middle;\n    }\n\n    .dataframe tbody tr th {\n        vertical-align: top;\n    }\n\n    .dataframe thead th {\n        text-align: right;\n    }\n</style>\n<table border=\"1\" class=\"dataframe\">\n  <thead>\n    <tr style=\"text-align: right;\">\n      <th></th>\n      <th>words</th>\n      <th>vectors</th>\n      <th>cluster</th>\n    </tr>\n  </thead>\n  <tbody>\n    <tr>\n      <th>0</th>\n      <td>great</td>\n      <td>[0.023204772, 0.059004717, -0.3098381, 0.60022...</td>\n      <td>1</td>\n    </tr>\n    <tr>\n      <th>1</th>\n      <td>apartment</td>\n      <td>[0.0007390261, -0.41159153, 0.41341403, -0.402...</td>\n      <td>1</td>\n    </tr>\n    <tr>\n      <th>2</th>\n      <td>stay</td>\n      <td>[0.33254883, 0.40867707, 0.19273868, -0.435026...</td>\n      <td>1</td>\n    </tr>\n    <tr>\n      <th>3</th>\n      <td>place</td>\n      <td>[0.011042707, -0.16829014, -0.29300955, 0.0513...</td>\n      <td>1</td>\n    </tr>\n    <tr>\n      <th>4</th>\n      <td>berlin</td>\n      <td>[0.24693859, 0.07494845, -0.36934593, -0.03560...</td>\n      <td>1</td>\n    </tr>\n  </tbody>\n</table>\n</div>"
     },
     "execution_count": 57,
     "metadata": {},
     "output_type": "execute_result"
    }
   ],
   "source": [
    "# dfWords = pd.DataFrame(w2v_model.wv.vocab.keys())\n",
    "\n",
    "dfWords = pd.DataFrame(w2v_model.wv.key_to_index.keys())\n",
    "dfWords.columns = ['words']\n",
    "dfWords['vectors'] = dfWords.words.apply(lambda x: w2v_model.wv[f'{x}'])\n",
    "dfWords['cluster'] = dfWords.vectors.apply(lambda x: kmeans_model.predict([np.array(x)]))\n",
    "dfWords.cluster = dfWords.cluster.apply(lambda x: x[0])\n",
    "dfWords.head()"
   ],
   "metadata": {
    "collapsed": false,
    "pycharm": {
     "name": "#%%\n"
    }
   }
  },
  {
   "cell_type": "code",
   "execution_count": 59,
   "outputs": [
    {
     "data": {
      "text/plain": "   words                                            vectors  cluster  \\\n11  room  [-0.6147242, -0.74645656, 0.66465837, 0.408310...        0   \n20  need  [0.7595736, -0.007738052, 0.30257878, 0.175887...        0   \n40  like  [0.2302345, 0.010540499, 0.1864814, 0.1680768,...        0   \n45   one  [-0.3450254, -0.36648145, 1.055815, -0.6519758...        0   \n46   bed  [-0.49814302, -0.77044404, 0.9306575, -0.22167...        0   \n\n    cluster_value  closeness_score  sentiment_coeff  \n11             -1         0.136778        -0.136778  \n20             -1         0.130511        -0.130511  \n40             -1         0.131209        -0.131209  \n45             -1         0.161927        -0.161927  \n46             -1         0.107062        -0.107062  ",
      "text/html": "<div>\n<style scoped>\n    .dataframe tbody tr th:only-of-type {\n        vertical-align: middle;\n    }\n\n    .dataframe tbody tr th {\n        vertical-align: top;\n    }\n\n    .dataframe thead th {\n        text-align: right;\n    }\n</style>\n<table border=\"1\" class=\"dataframe\">\n  <thead>\n    <tr style=\"text-align: right;\">\n      <th></th>\n      <th>words</th>\n      <th>vectors</th>\n      <th>cluster</th>\n      <th>cluster_value</th>\n      <th>closeness_score</th>\n      <th>sentiment_coeff</th>\n    </tr>\n  </thead>\n  <tbody>\n    <tr>\n      <th>11</th>\n      <td>room</td>\n      <td>[-0.6147242, -0.74645656, 0.66465837, 0.408310...</td>\n      <td>0</td>\n      <td>-1</td>\n      <td>0.136778</td>\n      <td>-0.136778</td>\n    </tr>\n    <tr>\n      <th>20</th>\n      <td>need</td>\n      <td>[0.7595736, -0.007738052, 0.30257878, 0.175887...</td>\n      <td>0</td>\n      <td>-1</td>\n      <td>0.130511</td>\n      <td>-0.130511</td>\n    </tr>\n    <tr>\n      <th>40</th>\n      <td>like</td>\n      <td>[0.2302345, 0.010540499, 0.1864814, 0.1680768,...</td>\n      <td>0</td>\n      <td>-1</td>\n      <td>0.131209</td>\n      <td>-0.131209</td>\n    </tr>\n    <tr>\n      <th>45</th>\n      <td>one</td>\n      <td>[-0.3450254, -0.36648145, 1.055815, -0.6519758...</td>\n      <td>0</td>\n      <td>-1</td>\n      <td>0.161927</td>\n      <td>-0.161927</td>\n    </tr>\n    <tr>\n      <th>46</th>\n      <td>bed</td>\n      <td>[-0.49814302, -0.77044404, 0.9306575, -0.22167...</td>\n      <td>0</td>\n      <td>-1</td>\n      <td>0.107062</td>\n      <td>-0.107062</td>\n    </tr>\n  </tbody>\n</table>\n</div>"
     },
     "execution_count": 59,
     "metadata": {},
     "output_type": "execute_result"
    }
   ],
   "source": [
    "dfWords['cluster_value'] = [-1 if i==negative_cluster_index else 1 for i in dfWords.cluster]\n",
    "dfWords['closeness_score'] = dfWords.apply(lambda x: 1/(kmeans_model.transform([x.vectors]).min()), axis=1)\n",
    "dfWords['sentiment_coeff'] = dfWords.closeness_score * dfWords.cluster_value\n",
    "dfWords[dfWords['cluster_value'] == -1].head()"
   ],
   "metadata": {
    "collapsed": false,
    "pycharm": {
     "name": "#%%\n"
    }
   }
  },
  {
   "cell_type": "code",
   "execution_count": 54,
   "outputs": [],
   "source": [],
   "metadata": {
    "collapsed": false,
    "pycharm": {
     "name": "#%%\n"
    }
   }
  }
 ],
 "metadata": {
  "kernelspec": {
   "display_name": "Python 3",
   "language": "python",
   "name": "python3"
  },
  "language_info": {
   "codemirror_mode": {
    "name": "ipython",
    "version": 2
   },
   "file_extension": ".py",
   "mimetype": "text/x-python",
   "name": "python",
   "nbconvert_exporter": "python",
   "pygments_lexer": "ipython2",
   "version": "2.7.6"
  }
 },
 "nbformat": 4,
 "nbformat_minor": 0
}