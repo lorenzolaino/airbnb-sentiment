{
 "cells": [
  {
   "cell_type": "markdown",
   "source": [
    "# AirBnB Sentiment Analysis"
   ],
   "metadata": {
    "collapsed": false
   }
  },
  {
   "cell_type": "code",
   "execution_count": 8,
   "outputs": [],
   "source": [
    "%reload_ext autoreload\n",
    "%autoreload 2\n",
    "%matplotlib inline"
   ],
   "metadata": {
    "collapsed": false,
    "pycharm": {
     "name": "#%%\n"
    }
   }
  },
  {
   "cell_type": "markdown",
   "source": [
    "## Project Scope\n",
    " - Use of sentiment analysis, of the reviews of each ad, to view the evaluation of the ad\n",
    "    itself.\n",
    "\n",
    " - Search for relationships between the price of a room and the day of the week, holidays,\n",
    "    and time of year, and relationships between the price and the characteristics of a\n",
    "    room to make a forecast.\n",
    "\n",
    "  Specify that the analysis is unsupervised\n",
    "\n",
    "Dataset: https://www.kaggle.com/brittabettendorf/berlin-airbnb-data"
   ],
   "metadata": {
    "collapsed": false
   }
  },
  {
   "cell_type": "code",
   "execution_count": 9,
   "outputs": [],
   "source": [
    "import pandas as pd\n",
    "import gensim\n",
    "import nltk"
   ],
   "metadata": {
    "collapsed": false,
    "pycharm": {
     "name": "#%%\n"
    }
   }
  },
  {
   "cell_type": "markdown",
   "source": [
    "## Import of the reviews' dataset\n",
    "\n",
    "The dataset imported and used along this analysis is the one previously generated."
   ],
   "metadata": {
    "collapsed": false,
    "pycharm": {
     "name": "#%% md\n"
    }
   }
  },
  {
   "cell_type": "code",
   "execution_count": 10,
   "metadata": {
    "collapsed": true
   },
   "outputs": [
    {
     "data": {
      "text/plain": "   Unnamed: 0  listing_id        id        date  reviewer_id reviewer_name  \\\n0           0        2015  69544350  2016-04-11      7178145         Rahel   \n1           1        2015  69990732  2016-04-15     41944715        Hannah   \n2           2        2015  71605267  2016-04-26     30048708        Victor   \n3           3        2015  73819566  2016-05-10     63697857          Judy   \n4           4        2015  74293504  2016-05-14     10414887        Romina   \n\n                                            comments Lang  \n0  mein freund und ich hatten gute gemütliche vie...   de  \n1  jan was very friendly and welcoming host! the ...   en  \n2  un appartement tres bien situé dans un quartie...   fr  \n3  it is really nice area, food, park, transport ...   en  \n4  buena ubicación, el departamento no está orden...   es  ",
      "text/html": "<div>\n<style scoped>\n    .dataframe tbody tr th:only-of-type {\n        vertical-align: middle;\n    }\n\n    .dataframe tbody tr th {\n        vertical-align: top;\n    }\n\n    .dataframe thead th {\n        text-align: right;\n    }\n</style>\n<table border=\"1\" class=\"dataframe\">\n  <thead>\n    <tr style=\"text-align: right;\">\n      <th></th>\n      <th>Unnamed: 0</th>\n      <th>listing_id</th>\n      <th>id</th>\n      <th>date</th>\n      <th>reviewer_id</th>\n      <th>reviewer_name</th>\n      <th>comments</th>\n      <th>Lang</th>\n    </tr>\n  </thead>\n  <tbody>\n    <tr>\n      <th>0</th>\n      <td>0</td>\n      <td>2015</td>\n      <td>69544350</td>\n      <td>2016-04-11</td>\n      <td>7178145</td>\n      <td>Rahel</td>\n      <td>mein freund und ich hatten gute gemütliche vie...</td>\n      <td>de</td>\n    </tr>\n    <tr>\n      <th>1</th>\n      <td>1</td>\n      <td>2015</td>\n      <td>69990732</td>\n      <td>2016-04-15</td>\n      <td>41944715</td>\n      <td>Hannah</td>\n      <td>jan was very friendly and welcoming host! the ...</td>\n      <td>en</td>\n    </tr>\n    <tr>\n      <th>2</th>\n      <td>2</td>\n      <td>2015</td>\n      <td>71605267</td>\n      <td>2016-04-26</td>\n      <td>30048708</td>\n      <td>Victor</td>\n      <td>un appartement tres bien situé dans un quartie...</td>\n      <td>fr</td>\n    </tr>\n    <tr>\n      <th>3</th>\n      <td>3</td>\n      <td>2015</td>\n      <td>73819566</td>\n      <td>2016-05-10</td>\n      <td>63697857</td>\n      <td>Judy</td>\n      <td>it is really nice area, food, park, transport ...</td>\n      <td>en</td>\n    </tr>\n    <tr>\n      <th>4</th>\n      <td>4</td>\n      <td>2015</td>\n      <td>74293504</td>\n      <td>2016-05-14</td>\n      <td>10414887</td>\n      <td>Romina</td>\n      <td>buena ubicación, el departamento no está orden...</td>\n      <td>es</td>\n    </tr>\n  </tbody>\n</table>\n</div>"
     },
     "execution_count": 10,
     "metadata": {},
     "output_type": "execute_result"
    }
   ],
   "source": [
    "dfReviews = pd.read_csv('reviews_summary_langs.csv')\n",
    "dfReviews.head()"
   ]
  },
  {
   "cell_type": "code",
   "execution_count": 11,
   "outputs": [
    {
     "data": {
      "text/plain": "array(['de', 'en', 'fr', 'es', 'no', 'ro', 'ca', 'sv', 'pt', 'it', 'ko',\n       'nl', 'af', 'ru', 'zh-cn', 'fi', 'da', 'hu', 'None', 'vi', 'ja',\n       'pl', 'cy', 'id', 'cs', 'et', 'hr', 'el', 'tr', 'sl', 'so',\n       'zh-tw', 'tl', 'sk', 'sq', 'sw', 'uk', 'lv', 'mk', 'he', 'lt',\n       'bg', 'th', 'ar'], dtype=object)"
     },
     "execution_count": 11,
     "metadata": {},
     "output_type": "execute_result"
    }
   ],
   "source": [
    "dfReviews['Lang'].unique()"
   ],
   "metadata": {
    "collapsed": false,
    "pycharm": {
     "name": "#%%\n"
    }
   }
  },
  {
   "cell_type": "markdown",
   "source": [
    "The rows in which the 'Lang' column shows the value 'None' are the ones that in the previous\n",
    "step have thrown some problems.\n",
    "In particular, the possible problems are the inability of the used technique to detect\n",
    "their language or the too-narrow length of the review."
   ],
   "metadata": {
    "collapsed": false,
    "pycharm": {
     "name": "#%% md\n"
    }
   }
  },
  {
   "cell_type": "code",
   "execution_count": 18,
   "outputs": [
    {
     "name": "stdout",
     "output_type": "stream",
     "text": [
      "Number of reviews with None language: 648\n",
      "Percentage of reviews with None language: 0.16%\n"
     ]
    }
   ],
   "source": [
    "dfNoneLangReviews = dfReviews[dfReviews['Lang'] == 'None']\n",
    "print(f'Number of reviews with None language: {dfNoneLangReviews.shape[0]}')\n",
    "print(f'Percentage of reviews with None language: '\n",
    "      f'{round(dfNoneLangReviews.shape[0] * 100 / dfReviews.shape[0],2)}%')"
   ],
   "metadata": {
    "collapsed": false,
    "pycharm": {
     "name": "#%%\n"
    }
   }
  },
  {
   "cell_type": "markdown",
   "source": [
    "The reviews written in english language are the interesting ones for this analysis."
   ],
   "metadata": {
    "collapsed": false,
    "pycharm": {
     "name": "#%% md\n"
    }
   }
  },
  {
   "cell_type": "code",
   "execution_count": 13,
   "outputs": [
    {
     "data": {
      "text/plain": "   Unnamed: 0  listing_id        id        date  reviewer_id reviewer_name  \\\n1           1        2015  69990732  2016-04-15     41944715        Hannah   \n3           3        2015  73819566  2016-05-10     63697857          Judy   \n6           6        2015  76603178  2016-05-28     29323516       Laurent   \n7           7        2015  77296201  2016-05-31      9025122        Rasmus   \n9           9        2015  82322683  2016-06-27     73902920           Mag   \n\n                                            comments Lang  \n1  jan was very friendly and welcoming host! the ...   en  \n3  it is really nice area, food, park, transport ...   en  \n6  we had a very nice stay in berlin, thanks to j...   en  \n7  great location close to mauerpark, kastanienal...   en  \n9  apartment very well located, close to everythi...   en  ",
      "text/html": "<div>\n<style scoped>\n    .dataframe tbody tr th:only-of-type {\n        vertical-align: middle;\n    }\n\n    .dataframe tbody tr th {\n        vertical-align: top;\n    }\n\n    .dataframe thead th {\n        text-align: right;\n    }\n</style>\n<table border=\"1\" class=\"dataframe\">\n  <thead>\n    <tr style=\"text-align: right;\">\n      <th></th>\n      <th>Unnamed: 0</th>\n      <th>listing_id</th>\n      <th>id</th>\n      <th>date</th>\n      <th>reviewer_id</th>\n      <th>reviewer_name</th>\n      <th>comments</th>\n      <th>Lang</th>\n    </tr>\n  </thead>\n  <tbody>\n    <tr>\n      <th>1</th>\n      <td>1</td>\n      <td>2015</td>\n      <td>69990732</td>\n      <td>2016-04-15</td>\n      <td>41944715</td>\n      <td>Hannah</td>\n      <td>jan was very friendly and welcoming host! the ...</td>\n      <td>en</td>\n    </tr>\n    <tr>\n      <th>3</th>\n      <td>3</td>\n      <td>2015</td>\n      <td>73819566</td>\n      <td>2016-05-10</td>\n      <td>63697857</td>\n      <td>Judy</td>\n      <td>it is really nice area, food, park, transport ...</td>\n      <td>en</td>\n    </tr>\n    <tr>\n      <th>6</th>\n      <td>6</td>\n      <td>2015</td>\n      <td>76603178</td>\n      <td>2016-05-28</td>\n      <td>29323516</td>\n      <td>Laurent</td>\n      <td>we had a very nice stay in berlin, thanks to j...</td>\n      <td>en</td>\n    </tr>\n    <tr>\n      <th>7</th>\n      <td>7</td>\n      <td>2015</td>\n      <td>77296201</td>\n      <td>2016-05-31</td>\n      <td>9025122</td>\n      <td>Rasmus</td>\n      <td>great location close to mauerpark, kastanienal...</td>\n      <td>en</td>\n    </tr>\n    <tr>\n      <th>9</th>\n      <td>9</td>\n      <td>2015</td>\n      <td>82322683</td>\n      <td>2016-06-27</td>\n      <td>73902920</td>\n      <td>Mag</td>\n      <td>apartment very well located, close to everythi...</td>\n      <td>en</td>\n    </tr>\n  </tbody>\n</table>\n</div>"
     },
     "execution_count": 13,
     "metadata": {},
     "output_type": "execute_result"
    }
   ],
   "source": [
    "dfEnglishReviews = dfReviews[dfReviews['Lang'] == 'en']\n",
    "dfEnglishReviews.head()"
   ],
   "metadata": {
    "collapsed": false,
    "pycharm": {
     "name": "#%%\n"
    }
   }
  },
  {
   "cell_type": "code",
   "execution_count": 14,
   "outputs": [
    {
     "name": "stdout",
     "output_type": "stream",
     "text": [
      "<class 'pandas.core.frame.DataFrame'>\n",
      "Int64Index: 268508 entries, 1 to 401466\n",
      "Data columns (total 8 columns):\n",
      " #   Column         Non-Null Count   Dtype \n",
      "---  ------         --------------   ----- \n",
      " 0   Unnamed: 0     268508 non-null  int64 \n",
      " 1   listing_id     268508 non-null  int64 \n",
      " 2   id             268508 non-null  int64 \n",
      " 3   date           268508 non-null  object\n",
      " 4   reviewer_id    268508 non-null  int64 \n",
      " 5   reviewer_name  268508 non-null  object\n",
      " 6   comments       268508 non-null  object\n",
      " 7   Lang           268508 non-null  object\n",
      "dtypes: int64(4), object(4)\n",
      "memory usage: 18.4+ MB\n"
     ]
    }
   ],
   "source": [
    "dfEnglishReviews.info()"
   ],
   "metadata": {
    "collapsed": false,
    "pycharm": {
     "name": "#%%\n"
    }
   }
  },
  {
   "cell_type": "markdown",
   "source": [
    "## Duplicates removal\n",
    "\n",
    "The first step requires the removal of the duplicated reviews."
   ],
   "metadata": {
    "collapsed": false,
    "pycharm": {
     "name": "#%% md\n"
    }
   }
  },
  {
   "cell_type": "code",
   "execution_count": 24,
   "outputs": [
    {
     "name": "stdout",
     "output_type": "stream",
     "text": [
      "Number of English reviews: 268508\n",
      "Number of unique English reviews: 258767\n"
     ]
    }
   ],
   "source": [
    "print('Number of English reviews: {}'.format(dfEnglishReviews.shape[0]))\n",
    "print('Number of unique English reviews: {}'.format(len(dfEnglishReviews['comments'].unique())))"
   ],
   "metadata": {
    "collapsed": false,
    "pycharm": {
     "name": "#%%\n"
    }
   }
  },
  {
   "cell_type": "code",
   "execution_count": 27,
   "outputs": [
    {
     "name": "stdout",
     "output_type": "stream",
     "text": [
      "Number of reviews after the duplicated removal: 258767\n"
     ]
    }
   ],
   "source": [
    "dfEnglishReviews = dfEnglishReviews.drop_duplicates(subset='comments')\n",
    "print(f'Number of reviews after the duplicated removal: {dfEnglishReviews.shape[0]}')"
   ],
   "metadata": {
    "collapsed": false,
    "pycharm": {
     "name": "#%%\n"
    }
   }
  },
  {
   "cell_type": "markdown",
   "source": [
    "## Tokenization\n",
    "\n",
    "In order to prepare the data for the analysis model, it is needed to perform a tokenization\n",
    "operation.\n",
    "For this purpose, the 'gensim' library is used."
   ],
   "metadata": {
    "collapsed": false
   }
  },
  {
   "cell_type": "code",
   "execution_count": 15,
   "outputs": [
    {
     "data": {
      "text/plain": "1         [jan, was, very, friendly, and, welcoming, hos...\n3         [it, is, really, nice, area, food, park, trans...\n6         [we, had, very, nice, stay, in, berlin, thanks...\n7         [great, location, close, to, mauerpark, kastan...\n9         [apartment, very, well, located, close, to, ev...\n                                ...                        \n401462    [the, host, canceled, this, reservation, days,...\n401463    [the, host, canceled, this, reservation, days,...\n401464    [the, host, canceled, this, reservation, days,...\n401465    [the, host, canceled, this, reservation, days,...\n401466    [the, host, canceled, this, reservation, days,...\nLength: 268508, dtype: object"
     },
     "execution_count": 15,
     "metadata": {},
     "output_type": "execute_result"
    }
   ],
   "source": [
    "tokenizedEnglishReviews = dfEnglishReviews.apply(\n",
    "    lambda x: gensim.utils.simple_preprocess(str(x['comments'])), axis=1)\n",
    "tokenizedEnglishReviews"
   ],
   "metadata": {
    "collapsed": false,
    "pycharm": {
     "name": "#%%\n"
    }
   }
  },
  {
   "cell_type": "markdown",
   "source": [
    "## Normalization\n",
    "\n",
    "Another important step is the normalization.\n",
    "For this purpose, the 'nltk' library is used.\n",
    "\n",
    "In particular, the 'wordnet' and 'average_perceptron_tagger' packages are downloaded from\n",
    "the 'nltk' resources."
   ],
   "metadata": {
    "collapsed": false,
    "pycharm": {
     "name": "#%% md\n"
    }
   }
  },
  {
   "cell_type": "code",
   "execution_count": null,
   "outputs": [],
   "source": [
    "nltk.download('wordnet')\n",
    "nltk.download('averaged_perceptron_tagger')"
   ],
   "metadata": {
    "collapsed": false,
    "pycharm": {
     "name": "#%%\n"
    }
   }
  },
  {
   "cell_type": "code",
   "execution_count": 35,
   "outputs": [],
   "source": [
    "from nltk.stem.wordnet import WordNetLemmatizer\n",
    "from nltk.tag import pos_tag\n",
    "\n",
    "def lemmatize_sentences(tokenized_sentences):\n",
    "    lemmatizer = WordNetLemmatizer()\n",
    "    lemmatized_sentences = []\n",
    "    for tokens_sentence in tokenized_sentences:\n",
    "        lemmatized_sentence = []\n",
    "        for word, tag in pos_tag(tokens_sentence):\n",
    "            if tag.startswith('NN'):\n",
    "                pos = 'n'\n",
    "            elif tag.startswith('VB'):\n",
    "                pos = 'v'\n",
    "            else:\n",
    "                pos = 'a'\n",
    "            lemmatized_sentence.append(lemmatizer.lemmatize(word, pos))\n",
    "        lemmatized_sentences.append(lemmatized_sentence)\n",
    "\n",
    "    return lemmatized_sentences"
   ],
   "metadata": {
    "collapsed": false,
    "pycharm": {
     "name": "#%%\n"
    }
   }
  },
  {
   "cell_type": "code",
   "execution_count": 40,
   "outputs": [
    {
     "data": {
      "text/plain": "[['jan',\n  'be',\n  'very',\n  'friendly',\n  'and',\n  'welcome',\n  'host',\n  'the',\n  'apartment',\n  'be',\n  'great',\n  'and',\n  'the',\n  'area',\n  'be',\n  'sooo',\n  'amaze',\n  'lot',\n  'of',\n  'nice',\n  'cafe',\n  'and',\n  'shop',\n  'enjoy',\n  'my',\n  'time',\n  'there',\n  'lot'],\n ['it',\n  'be',\n  'really',\n  'nice',\n  'area',\n  'food',\n  'park',\n  'transport',\n  'be',\n  'perfect'],\n ['we',\n  'have',\n  'very',\n  'nice',\n  'stay',\n  'in',\n  'berlin',\n  'thanks',\n  'to',\n  'jan',\n  'premium',\n  'situate',\n  'apartment',\n  'the',\n  'place',\n  'isn',\n  'big',\n  'but',\n  'be',\n  'quiet',\n  'and',\n  'functional',\n  'also',\n  'it',\n  'situate',\n  'in',\n  'perfect',\n  'neighbourhood',\n  'jan',\n  'be',\n  'very',\n  'welcome',\n  'host',\n  'eager',\n  'to',\n  'help',\n  'you',\n  'if',\n  'need',\n  'or',\n  'to',\n  'provide',\n  'you',\n  'any',\n  'kind',\n  'of',\n  'information',\n  'he',\n  'also',\n  'have',\n  'very',\n  'good',\n  'advice',\n  'on',\n  'biergarten'],\n ['great',\n  'location',\n  'close',\n  'to',\n  'mauerpark',\n  'kastanienallee',\n  'and',\n  'rosenthaler',\n  'platz',\n  'with',\n  'lot',\n  'of',\n  'bar',\n  'and',\n  'restaurant',\n  'nearby',\n  'jan',\n  'be',\n  'very',\n  'friendly',\n  'and',\n  'service',\n  'mind'],\n ['apartment',\n  'very',\n  'well',\n  'locate',\n  'close',\n  'to',\n  'everything',\n  'supermarket',\n  'transport',\n  'city',\n  'center',\n  'very',\n  'quiet',\n  'night',\n  'because',\n  'the',\n  'apartment',\n  'be',\n  'locate',\n  'on',\n  'the',\n  'inside',\n  'of',\n  'the',\n  'building',\n  'it',\n  'have',\n  'the',\n  'basic',\n  'equipment',\n  'for',\n  'one',\n  'week',\n  'stay',\n  'jan',\n  'be',\n  'super',\n  'accessible',\n  'nice',\n  'and',\n  'always',\n  'available']]"
     },
     "execution_count": 40,
     "metadata": {},
     "output_type": "execute_result"
    }
   ],
   "source": [
    "lemmatizedTokenizedEnglishReviews = lemmatize_sentences(tokenizedEnglishReviews)\n",
    "lemmatizedTokenizedEnglishReviews[:5]"
   ],
   "metadata": {
    "collapsed": false,
    "pycharm": {
     "name": "#%%\n"
    }
   }
  },
  {
   "cell_type": "markdown",
   "source": [
    "## Stop words removal\n"
   ],
   "metadata": {
    "collapsed": false,
    "pycharm": {
     "name": "#%% md\n"
    }
   }
  },
  {
   "cell_type": "code",
   "execution_count": 37,
   "outputs": [
    {
     "name": "stderr",
     "output_type": "stream",
     "text": [
      "[nltk_data] Downloading package stopwords to\n",
      "[nltk_data]     C:\\Users\\Marco\\AppData\\Roaming\\nltk_data...\n",
      "[nltk_data]   Unzipping corpora\\stopwords.zip.\n"
     ]
    },
    {
     "data": {
      "text/plain": "True"
     },
     "execution_count": 37,
     "metadata": {},
     "output_type": "execute_result"
    }
   ],
   "source": [
    "nltk.download('stopwords')"
   ],
   "metadata": {
    "collapsed": false,
    "pycharm": {
     "name": "#%%\n"
    }
   }
  },
  {
   "cell_type": "code",
   "execution_count": 41,
   "outputs": [
    {
     "data": {
      "text/plain": "['i', 'me', 'my', 'myself', 'we', 'our', 'ours', 'ourselves', 'you', \"you're\"]"
     },
     "execution_count": 41,
     "metadata": {},
     "output_type": "execute_result"
    }
   ],
   "source": [
    "from nltk.corpus import stopwords\n",
    "\n",
    "stopWords = stopwords.words('english')\n",
    "stopWords[:10]"
   ],
   "metadata": {
    "collapsed": false,
    "pycharm": {
     "name": "#%%\n"
    }
   }
  },
  {
   "cell_type": "code",
   "execution_count": 42,
   "outputs": [],
   "source": [
    "def remove_stop_words(tokenized_sentences, stop_words):\n",
    "    tokenized_sentences_without_stopwords = []\n",
    "    for tokenized_sentence in tokenized_sentences:\n",
    "        tokenized_sentences_without_stopwords.append(\n",
    "            [word for word in tokenized_sentence if not word in stop_words]\n",
    "        )\n",
    "    return tokenized_sentences_without_stopwords"
   ],
   "metadata": {
    "collapsed": false,
    "pycharm": {
     "name": "#%%\n"
    }
   }
  },
  {
   "cell_type": "code",
   "execution_count": 43,
   "outputs": [
    {
     "data": {
      "text/plain": "[['jan',\n  'friendly',\n  'welcome',\n  'host',\n  'apartment',\n  'great',\n  'area',\n  'sooo',\n  'amaze',\n  'lot',\n  'nice',\n  'cafe',\n  'shop',\n  'enjoy',\n  'time',\n  'lot'],\n ['really', 'nice', 'area', 'food', 'park', 'transport', 'perfect'],\n ['nice',\n  'stay',\n  'berlin',\n  'thanks',\n  'jan',\n  'premium',\n  'situate',\n  'apartment',\n  'place',\n  'big',\n  'quiet',\n  'functional',\n  'also',\n  'situate',\n  'perfect',\n  'neighbourhood',\n  'jan',\n  'welcome',\n  'host',\n  'eager',\n  'help',\n  'need',\n  'provide',\n  'kind',\n  'information',\n  'also',\n  'good',\n  'advice',\n  'biergarten'],\n ['great',\n  'location',\n  'close',\n  'mauerpark',\n  'kastanienallee',\n  'rosenthaler',\n  'platz',\n  'lot',\n  'bar',\n  'restaurant',\n  'nearby',\n  'jan',\n  'friendly',\n  'service',\n  'mind'],\n ['apartment',\n  'well',\n  'locate',\n  'close',\n  'everything',\n  'supermarket',\n  'transport',\n  'city',\n  'center',\n  'quiet',\n  'night',\n  'apartment',\n  'locate',\n  'inside',\n  'building',\n  'basic',\n  'equipment',\n  'one',\n  'week',\n  'stay',\n  'jan',\n  'super',\n  'accessible',\n  'nice',\n  'always',\n  'available']]"
     },
     "execution_count": 43,
     "metadata": {},
     "output_type": "execute_result"
    }
   ],
   "source": [
    "lemmatizedTokenizedEnglishReviewsWithoutStopWords = remove_stop_words(\n",
    "    lemmatizedTokenizedEnglishReviews, stopWords)\n",
    "lemmatizedTokenizedEnglishReviewsWithoutStopWords[:5]\n"
   ],
   "metadata": {
    "collapsed": false,
    "pycharm": {
     "name": "#%%\n"
    }
   }
  }
 ],
 "metadata": {
  "kernelspec": {
   "display_name": "Python 3",
   "language": "python",
   "name": "python3"
  },
  "language_info": {
   "codemirror_mode": {
    "name": "ipython",
    "version": 2
   },
   "file_extension": ".py",
   "mimetype": "text/x-python",
   "name": "python",
   "nbconvert_exporter": "python",
   "pygments_lexer": "ipython2",
   "version": "2.7.6"
  }
 },
 "nbformat": 4,
 "nbformat_minor": 0
}