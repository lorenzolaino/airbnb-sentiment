{
 "cells": [
  {
   "cell_type": "markdown",
   "metadata": {},
   "source": [
    "# AirBnB Sentiment Analysis"
   ]
  },
  {
   "cell_type": "code",
   "execution_count": 1,
   "metadata": {},
   "outputs": [],
   "source": [
    "%reload_ext autoreload\n",
    "%autoreload 2\n",
    "%matplotlib inline"
   ]
  },
  {
   "cell_type": "markdown",
   "metadata": {},
   "source": [
    "## Project Scope\n",
    "Use of sentiment analysis, of the reviews of each ad, to view the evaluation of the ad itself.\n",
    "\n",
    "Search for relationships between the price of a room and the day of the week, holidays, and time of year, and relationships between the price and the characteristics of a room to make a forecast.\n",
    "\n",
    "Dataset: https://www.kaggle.com/brittabettendorf/berlin-airbnb-data"
   ]
  },
  {
   "cell_type": "code",
   "execution_count": 2,
   "metadata": {},
   "outputs": [],
   "source": [
    "import pandas as pd"
   ]
  },
  {
   "cell_type": "code",
   "execution_count": 4,
   "metadata": {},
   "outputs": [
    {
     "name": "stdout",
     "output_type": "stream",
     "text": [
      "Warning: Your Kaggle API key is readable by other users on this system! To fix this, you can run 'chmod 600 /Users/lorenzolaino/.kaggle/kaggle.json'\n",
      "Downloading berlin-airbnb-data.zip to /Users/lorenzolaino/llDev/airbnb-sentiment\n",
      "100%|██████████████████████████████████████| 87.7M/87.7M [00:56<00:00, 1.80MB/s]\n",
      "100%|██████████████████████████████████████| 87.7M/87.7M [00:56<00:00, 1.64MB/s]\n"
     ]
    }
   ],
   "source": [
    "!kaggle datasets download -d brittabettendorf/berlin-airbnb-data"
   ]
  },
  {
   "cell_type": "code",
   "execution_count": null,
   "metadata": {},
   "outputs": [],
   "source": []
  }
 ],
 "metadata": {
  "kernelspec": {
   "display_name": "Python 3",
   "language": "python",
   "name": "python3"
  },
  "language_info": {
   "codemirror_mode": {
    "name": "ipython",
    "version": 3
   },
   "file_extension": ".py",
   "mimetype": "text/x-python",
   "name": "python",
   "nbconvert_exporter": "python",
   "pygments_lexer": "ipython3",
   "version": "3.6.10"
  }
 },
 "nbformat": 4,
 "nbformat_minor": 4
}
