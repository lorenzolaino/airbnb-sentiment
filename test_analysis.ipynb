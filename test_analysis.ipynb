{
 "cells": [
  {
   "cell_type": "code",
   "execution_count": 65,
   "metadata": {
    "collapsed": true
   },
   "outputs": [],
   "source": [
    "import pandas as pd\n",
    "import matplotlib.pyplot as plt"
   ]
  },
  {
   "cell_type": "code",
   "execution_count": 66,
   "outputs": [
    {
     "data": {
      "text/plain": "\"['jan', 'be', 'very', 'friendly', 'and', 'welcome', 'host', 'the', 'apartment', 'be', 'great', 'and', 'the', 'area', 'be', 'sooo', 'amaze', 'lot', 'of', 'nice', 'cafe', 'and', 'shop', 'enjoy', 'my', 'time', 'there', 'lot']\""
     },
     "execution_count": 66,
     "metadata": {},
     "output_type": "execute_result"
    }
   ],
   "source": [
    "with open('lemmatized.txt') as f:\n",
    "    reviews = f.read().splitlines()\n",
    "\n",
    "reviews[0]"
   ],
   "metadata": {
    "collapsed": false,
    "pycharm": {
     "name": "#%%\n"
    }
   }
  },
  {
   "cell_type": "code",
   "execution_count": 67,
   "outputs": [
    {
     "data": {
      "text/plain": "['jan',\n 'be',\n 'very',\n 'friendly',\n 'and',\n 'welcome',\n 'host',\n 'the',\n 'apartment',\n 'be',\n 'great',\n 'and',\n 'the',\n 'area',\n 'be',\n 'sooo',\n 'amaze',\n 'lot',\n 'of',\n 'nice',\n 'cafe',\n 'and',\n 'shop',\n 'enjoy',\n 'my',\n 'time',\n 'there',\n 'lot']"
     },
     "execution_count": 67,
     "metadata": {},
     "output_type": "execute_result"
    }
   ],
   "source": [
    "reviews = [review.replace('\\'', '').strip('][').split(', ') for review in reviews]\n",
    "reviews[0]"
   ],
   "metadata": {
    "collapsed": false,
    "pycharm": {
     "name": "#%%\n"
    }
   }
  },
  {
   "cell_type": "markdown",
   "source": [
    "## Bigrams generation"
   ],
   "metadata": {
    "collapsed": false
   }
  },
  {
   "cell_type": "code",
   "execution_count": 68,
   "outputs": [
    {
     "data": {
      "text/plain": "['it',\n 'be',\n 'really',\n 'nice',\n 'area',\n 'food',\n 'park',\n 'transport',\n 'be',\n 'perfect']"
     },
     "execution_count": 68,
     "metadata": {},
     "output_type": "execute_result"
    }
   ],
   "source": [
    "from gensim.models.phrases import Phrases, Phraser\n",
    "\n",
    "phrases = Phrases(reviews, min_count=3, progress_per=50000)\n",
    "bigram = Phraser(phrases)\n",
    "sentences = bigram[reviews]\n",
    "sentences[1]"
   ],
   "metadata": {
    "collapsed": false,
    "pycharm": {
     "name": "#%%\n"
    }
   }
  },
  {
   "cell_type": "code",
   "execution_count": 69,
   "outputs": [
    {
     "data": {
      "text/plain": "61035"
     },
     "execution_count": 69,
     "metadata": {},
     "output_type": "execute_result"
    }
   ],
   "source": [
    "from collections import defaultdict\n",
    "\n",
    "word_freq = defaultdict(int)\n",
    "for sent in sentences:\n",
    "    for i in sent:\n",
    "        word_freq[i] += 1\n",
    "len(word_freq)"
   ],
   "metadata": {
    "collapsed": false,
    "pycharm": {
     "name": "#%%\n"
    }
   }
  },
  {
   "cell_type": "code",
   "execution_count": 70,
   "outputs": [
    {
     "data": {
      "text/plain": "['be', 'and', 'the', 'to', 'in', 'very', 'we', 'of', 'great', 'it']"
     },
     "execution_count": 70,
     "metadata": {},
     "output_type": "execute_result"
    }
   ],
   "source": [
    "sorted(word_freq, key=word_freq.get, reverse=True)[:10]"
   ],
   "metadata": {
    "collapsed": false,
    "pycharm": {
     "name": "#%%\n"
    }
   }
  },
  {
   "cell_type": "markdown",
   "source": [
    "## Word2Vec model"
   ],
   "metadata": {
    "collapsed": false
   }
  },
  {
   "cell_type": "code",
   "execution_count": 71,
   "outputs": [],
   "source": [
    "from gensim.models import Word2Vec\n",
    "\n",
    "w2v_model = Word2Vec(min_count=20,\n",
    "                     window=4,\n",
    "                     vector_size=300,\n",
    "                     sample=6e-5,\n",
    "                     alpha=0.03,\n",
    "                     min_alpha=0.0007,\n",
    "                     negative=20,\n",
    "                     workers=4)"
   ],
   "metadata": {
    "collapsed": false,
    "pycharm": {
     "name": "#%%\n"
    }
   }
  },
  {
   "cell_type": "code",
   "execution_count": 72,
   "outputs": [
    {
     "name": "stdout",
     "output_type": "stream",
     "text": [
      "Time to build vocab: 0.24 mins\n"
     ]
    }
   ],
   "source": [
    "from time import time\n",
    "\n",
    "t = time()\n",
    "\n",
    "w2v_model.build_vocab(sentences, progress_per=10000)\n",
    "\n",
    "print('Time to build vocab: {} mins'.format(round((time() - t) / 60, 2)))"
   ],
   "metadata": {
    "collapsed": false,
    "pycharm": {
     "name": "#%%\n"
    }
   }
  },
  {
   "cell_type": "code",
   "execution_count": 73,
   "outputs": [
    {
     "name": "stdout",
     "output_type": "stream",
     "text": [
      "Time to train the model: 9.5 mins\n"
     ]
    }
   ],
   "source": [
    "t = time()\n",
    "\n",
    "w2v_model.train(sentences, total_examples=w2v_model.corpus_count, epochs=30, report_delay=1)\n",
    "\n",
    "print('Time to train the model: {} mins'.format(round((time() - t) / 60, 2)))"
   ],
   "metadata": {
    "collapsed": false,
    "pycharm": {
     "name": "#%%\n"
    }
   }
  },
  {
   "cell_type": "code",
   "execution_count": 85,
   "outputs": [],
   "source": [
    "# w2v_model.save(\"word2vec_no_stopwords.model\")"
   ],
   "metadata": {
    "collapsed": false,
    "pycharm": {
     "name": "#%%\n"
    }
   }
  },
  {
   "cell_type": "markdown",
   "source": [
    "## Exploring the model"
   ],
   "metadata": {
    "collapsed": false
   }
  },
  {
   "cell_type": "code",
   "execution_count": 75,
   "outputs": [
    {
     "data": {
      "text/plain": "[('flat', 0.8218903541564941),\n ('studio', 0.5149616599082947),\n ('appartment', 0.5054166316986084),\n ('spacious', 0.4886400103569031),\n ('modern', 0.4737890362739563),\n ('clean', 0.4581682085990906),\n ('apt', 0.44859403371810913),\n ('itself', 0.4369816482067108),\n ('bright', 0.41343653202056885),\n ('stylish', 0.405124694108963)]"
     },
     "execution_count": 75,
     "metadata": {},
     "output_type": "execute_result"
    }
   ],
   "source": [
    "w2v_model.wv.most_similar(positive=[\"apartment\"])"
   ],
   "metadata": {
    "collapsed": false,
    "pycharm": {
     "name": "#%%\n"
    }
   }
  },
  {
   "cell_type": "markdown",
   "source": [
    "## Clustering model"
   ],
   "metadata": {
    "collapsed": false
   }
  },
  {
   "cell_type": "code",
   "execution_count": 76,
   "outputs": [
    {
     "data": {
      "text/plain": "KMeans(max_iter=1000, n_clusters=2, n_init=50, random_state=42)"
     },
     "execution_count": 76,
     "metadata": {},
     "output_type": "execute_result"
    }
   ],
   "source": [
    "from sklearn.cluster import KMeans\n",
    "import numpy as np\n",
    "\n",
    "kmeans_model = KMeans(n_clusters=2, max_iter=1000, random_state=42, n_init=50)\n",
    "kmeans_model.fit(X=w2v_model.wv.vectors.astype('double'))"
   ],
   "metadata": {
    "collapsed": false,
    "pycharm": {
     "name": "#%%\n"
    }
   }
  },
  {
   "cell_type": "code",
   "execution_count": 77,
   "outputs": [
    {
     "data": {
      "text/plain": "[('metal', 0.5894463658332825),\n ('the', 0.5432169437408447),\n ('which', 0.5348013043403625),\n ('leather', 0.5305972099304199),\n ('useless', 0.5222089886665344),\n ('mount', 0.5180814862251282),\n ('stone', 0.5176619291305542),\n ('small', 0.5152503252029419),\n ('plastic', 0.5049681663513184),\n ('container', 0.5046096444129944)]"
     },
     "execution_count": 77,
     "metadata": {},
     "output_type": "execute_result"
    }
   ],
   "source": [
    "w2v_model.wv.similar_by_vector(kmeans_model.cluster_centers_[1], topn=10, restrict_vocab=None)"
   ],
   "metadata": {
    "collapsed": false,
    "pycharm": {
     "name": "#%%\n"
    }
   }
  },
  {
   "cell_type": "code",
   "execution_count": 78,
   "outputs": [],
   "source": [
    "negative_cluster_index = 1\n",
    "negative_cluster_center = kmeans_model.cluster_centers_[negative_cluster_index]\n",
    "positive_cluster_center = kmeans_model.cluster_centers_[1-negative_cluster_index]"
   ],
   "metadata": {
    "collapsed": false,
    "pycharm": {
     "name": "#%%\n"
    }
   }
  },
  {
   "cell_type": "code",
   "execution_count": 79,
   "outputs": [
    {
     "data": {
      "text/plain": "  words                                            vectors  cluster\n0    be  [-0.0927477, -0.14208923, 0.058706816, -0.2560...        1\n1   and  [-0.28698897, -0.26512343, 0.25663704, -0.1716...        0\n2   the  [-0.13803813, -0.18952447, 0.4213321, 0.163406...        1\n3    to  [0.052224956, -0.124095224, 0.4544998, 0.01550...        1\n4    in  [0.31688312, 0.39756396, -0.04785121, -0.26668...        1",
      "text/html": "<div>\n<style scoped>\n    .dataframe tbody tr th:only-of-type {\n        vertical-align: middle;\n    }\n\n    .dataframe tbody tr th {\n        vertical-align: top;\n    }\n\n    .dataframe thead th {\n        text-align: right;\n    }\n</style>\n<table border=\"1\" class=\"dataframe\">\n  <thead>\n    <tr style=\"text-align: right;\">\n      <th></th>\n      <th>words</th>\n      <th>vectors</th>\n      <th>cluster</th>\n    </tr>\n  </thead>\n  <tbody>\n    <tr>\n      <th>0</th>\n      <td>be</td>\n      <td>[-0.0927477, -0.14208923, 0.058706816, -0.2560...</td>\n      <td>1</td>\n    </tr>\n    <tr>\n      <th>1</th>\n      <td>and</td>\n      <td>[-0.28698897, -0.26512343, 0.25663704, -0.1716...</td>\n      <td>0</td>\n    </tr>\n    <tr>\n      <th>2</th>\n      <td>the</td>\n      <td>[-0.13803813, -0.18952447, 0.4213321, 0.163406...</td>\n      <td>1</td>\n    </tr>\n    <tr>\n      <th>3</th>\n      <td>to</td>\n      <td>[0.052224956, -0.124095224, 0.4544998, 0.01550...</td>\n      <td>1</td>\n    </tr>\n    <tr>\n      <th>4</th>\n      <td>in</td>\n      <td>[0.31688312, 0.39756396, -0.04785121, -0.26668...</td>\n      <td>1</td>\n    </tr>\n  </tbody>\n</table>\n</div>"
     },
     "execution_count": 79,
     "metadata": {},
     "output_type": "execute_result"
    }
   ],
   "source": [
    "# dfWords = pd.DataFrame(w2v_model.wv.vocab.keys())\n",
    "\n",
    "dfWords = pd.DataFrame(w2v_model.wv.key_to_index.keys())\n",
    "dfWords.columns = ['words']\n",
    "dfWords['vectors'] = dfWords.words.apply(lambda x: w2v_model.wv[f'{x}'])\n",
    "dfWords['cluster'] = dfWords.vectors.apply(lambda x: kmeans_model.predict([np.array(x)]))\n",
    "dfWords.cluster = dfWords.cluster.apply(lambda x: x[0])\n",
    "dfWords.head()"
   ],
   "metadata": {
    "collapsed": false,
    "pycharm": {
     "name": "#%%\n"
    }
   }
  },
  {
   "cell_type": "code",
   "execution_count": 80,
   "outputs": [
    {
     "data": {
      "text/plain": "  words                                            vectors  cluster  \\\n0    be  [-0.0927477, -0.14208923, 0.058706816, -0.2560...        1   \n2   the  [-0.13803813, -0.18952447, 0.4213321, 0.163406...        1   \n3    to  [0.052224956, -0.124095224, 0.4544998, 0.01550...        1   \n4    in  [0.31688312, 0.39756396, -0.04785121, -0.26668...        1   \n7    of  [0.57323194, -0.06555045, 0.23580411, 0.182030...        1   \n\n   cluster_value  closeness_score  sentiment_coeff  \n0             -1         0.189069        -0.189069  \n2             -1         0.155709        -0.155709  \n3             -1         0.113737        -0.113737  \n4             -1         0.143733        -0.143733  \n7             -1         0.099053        -0.099053  ",
      "text/html": "<div>\n<style scoped>\n    .dataframe tbody tr th:only-of-type {\n        vertical-align: middle;\n    }\n\n    .dataframe tbody tr th {\n        vertical-align: top;\n    }\n\n    .dataframe thead th {\n        text-align: right;\n    }\n</style>\n<table border=\"1\" class=\"dataframe\">\n  <thead>\n    <tr style=\"text-align: right;\">\n      <th></th>\n      <th>words</th>\n      <th>vectors</th>\n      <th>cluster</th>\n      <th>cluster_value</th>\n      <th>closeness_score</th>\n      <th>sentiment_coeff</th>\n    </tr>\n  </thead>\n  <tbody>\n    <tr>\n      <th>0</th>\n      <td>be</td>\n      <td>[-0.0927477, -0.14208923, 0.058706816, -0.2560...</td>\n      <td>1</td>\n      <td>-1</td>\n      <td>0.189069</td>\n      <td>-0.189069</td>\n    </tr>\n    <tr>\n      <th>2</th>\n      <td>the</td>\n      <td>[-0.13803813, -0.18952447, 0.4213321, 0.163406...</td>\n      <td>1</td>\n      <td>-1</td>\n      <td>0.155709</td>\n      <td>-0.155709</td>\n    </tr>\n    <tr>\n      <th>3</th>\n      <td>to</td>\n      <td>[0.052224956, -0.124095224, 0.4544998, 0.01550...</td>\n      <td>1</td>\n      <td>-1</td>\n      <td>0.113737</td>\n      <td>-0.113737</td>\n    </tr>\n    <tr>\n      <th>4</th>\n      <td>in</td>\n      <td>[0.31688312, 0.39756396, -0.04785121, -0.26668...</td>\n      <td>1</td>\n      <td>-1</td>\n      <td>0.143733</td>\n      <td>-0.143733</td>\n    </tr>\n    <tr>\n      <th>7</th>\n      <td>of</td>\n      <td>[0.57323194, -0.06555045, 0.23580411, 0.182030...</td>\n      <td>1</td>\n      <td>-1</td>\n      <td>0.099053</td>\n      <td>-0.099053</td>\n    </tr>\n  </tbody>\n</table>\n</div>"
     },
     "execution_count": 80,
     "metadata": {},
     "output_type": "execute_result"
    }
   ],
   "source": [
    "dfWords['cluster_value'] = [-1 if i==negative_cluster_index else 1 for i in dfWords.cluster]\n",
    "dfWords['closeness_score'] = dfWords.apply(lambda x: 1/(kmeans_model.transform([x.vectors]).min()), axis=1)\n",
    "dfWords['sentiment_coeff'] = dfWords.closeness_score * dfWords.cluster_value\n",
    "dfWords[dfWords['cluster_value'] == -1].head()"
   ],
   "metadata": {
    "collapsed": false,
    "pycharm": {
     "name": "#%%\n"
    }
   }
  },
  {
   "cell_type": "code",
   "execution_count": 81,
   "outputs": [
    {
     "name": "stdout",
     "output_type": "stream",
     "text": [
      "inertia_ 1197634.3803933568\n",
      "inertia_ 1152211.4744823768\n",
      "inertia_ 1115968.3418813455\n",
      "inertia_ 1096843.2318332002\n",
      "inertia_ 1083732.4305333877\n",
      "inertia_ 1069963.638983126\n",
      "inertia_ 1058945.2127353228\n",
      "inertia_ 1049950.5012926478\n",
      "inertia_ 1042506.5079706263\n",
      "inertia_ 1035199.0927066457\n"
     ]
    },
    {
     "data": {
      "text/plain": "<Figure size 432x288 with 1 Axes>",
      "image/png": "[encoded data removed]"
     },
     "metadata": {
      "needs_background": "light"
     },
     "output_type": "display_data"
    }
   ],
   "source": [
    "wcss = []\n",
    "for i in range(1, 11):\n",
    "    kmeans = KMeans(n_clusters = i, init = 'k-means++', random_state = 42)\n",
    "    kmeans.fit(X=w2v_model.wv.vectors.astype('double'))\n",
    "    # inertia_ is sum of squared distance of samples to its closest cluster centers.\n",
    "    wcss.append(kmeans.inertia_)\n",
    "    print(\"inertia_\", kmeans.inertia_)\n",
    "    # print(\"wcss\", within_css(kmeans))\n",
    "plt.plot(range(1, 11), wcss)\n",
    "plt.title('Elbow Method')\n",
    "plt.xlabel('Number of clusters')\n",
    "plt.ylabel('WCSS')\n",
    "plt.show()"
   ],
   "metadata": {
    "collapsed": false,
    "pycharm": {
     "name": "#%%\n"
    }
   }
  },
  {
   "cell_type": "code",
   "execution_count": 82,
   "outputs": [],
   "source": [
    "from sklearn.metrics import silhouette_score\n",
    "\n",
    "def kmeansSilhouette(X,range_clusters):\n",
    "    for i, k in range_clusters :\n",
    "\n",
    "        # Run the Kmeans algorithm\n",
    "        km = KMeans(n_clusters = k, init = 'k-means++', random_state = 42)\n",
    "\n",
    "        km.fit(X)\n",
    "        labels = km.predict(X)\n",
    "\n",
    "        print(\"For n_clusters =\", k,\n",
    "                  \"The computed average silhouette_score is :\", silhouette_score(X, labels, metric='euclidean'))"
   ],
   "metadata": {
    "collapsed": false,
    "pycharm": {
     "name": "#%%\n"
    }
   }
  },
  {
   "cell_type": "code",
   "execution_count": 83,
   "outputs": [
    {
     "name": "stdout",
     "output_type": "stream",
     "text": [
      "For n_clusters = 2 The average silhouette_score is : 0.03479409221940732\n",
      "For n_clusters = 2 The computed average silhouette_score is : 0.03479409221940732\n",
      "For n_clusters = 3 The average silhouette_score is : 0.047063074908886775\n",
      "For n_clusters = 3 The computed average silhouette_score is : 0.047063074908886775\n",
      "For n_clusters = 4 The average silhouette_score is : 0.04043813342738252\n",
      "For n_clusters = 4 The computed average silhouette_score is : 0.04043813342738252\n",
      "For n_clusters = 5 The average silhouette_score is : 0.03143777433864057\n",
      "For n_clusters = 5 The computed average silhouette_score is : 0.03143777433864057\n",
      "For n_clusters = 6 The average silhouette_score is : -0.008080516134488357\n",
      "For n_clusters = 6 The computed average silhouette_score is : -0.008080516134488357\n",
      "For n_clusters = 7 The average silhouette_score is : -0.015573730364179186\n",
      "For n_clusters = 7 The computed average silhouette_score is : -0.015573730364179186\n",
      "For n_clusters = 8 The average silhouette_score is : -0.013012767466571495\n",
      "For n_clusters = 8 The computed average silhouette_score is : -0.013012767466571495\n",
      "For n_clusters = 9 The average silhouette_score is : -0.05946083916035152\n",
      "For n_clusters = 9 The computed average silhouette_score is : -0.05946083916035152\n",
      "For n_clusters = 10 The average silhouette_score is : -0.05740973362175471\n",
      "For n_clusters = 10 The computed average silhouette_score is : -0.05740973362175471\n"
     ]
    }
   ],
   "source": [
    "rangeClusters = enumerate([2,3,4,5,6,7,8,9,10])\n",
    "kmeansSilhouette(w2v_model.wv.vectors.astype('double'), rangeClusters)"
   ],
   "metadata": {
    "collapsed": false,
    "pycharm": {
     "name": "#%%\n"
    }
   }
  },
  {
   "cell_type": "code",
   "execution_count": 86,
   "outputs": [
    {
     "data": {
      "text/plain": "<Figure size 720x720 with 1 Axes>",
      "image/png": "[encoded data removed]"
     },
     "metadata": {
      "needs_background": "light"
     },
     "output_type": "display_data"
    }
   ],
   "source": [
    "import scipy.cluster.hierarchy as sch\n",
    "\n",
    "plt.figure(figsize=(10,10))\n",
    "dendrogram = sch.dendrogram(sch.linkage(w2v_model.wv.vectors.astype('double'), method = 'ward'))\n",
    "plt.title('Dendrogram')\n",
    "plt.xlabel('Words')\n",
    "plt.ylabel('Euclidean distances')\n",
    "plt.show()"
   ],
   "metadata": {
    "collapsed": false,
    "pycharm": {
     "name": "#%%\n"
    }
   }
  },
  {
   "cell_type": "code",
   "execution_count": 101,
   "outputs": [],
   "source": [
    "from sklearn.cluster import AgglomerativeClustering\n",
    "\n",
    "hc = AgglomerativeClustering(n_clusters = 4, linkage = 'ward')\n",
    "y_hc = hc.fit_predict(w2v_model.wv.vectors.astype('double'))"
   ],
   "metadata": {
    "collapsed": false,
    "pycharm": {
     "name": "#%%\n"
    }
   }
  },
  {
   "cell_type": "code",
   "execution_count": 117,
   "outputs": [
    {
     "data": {
      "text/plain": "  words clusters                                            vectors\n0    be        0  [-0.0927477, -0.14208923, 0.058706816, -0.2560...\n1   and        0  [-0.28698897, -0.26512343, 0.25663704, -0.1716...\n2   the        1  [-0.13803813, -0.18952447, 0.4213321, 0.163406...\n3    to        2  [0.052224956, -0.124095224, 0.4544998, 0.01550...\n4    in        1  [0.31688312, 0.39756396, -0.04785121, -0.26668...",
      "text/html": "<div>\n<style scoped>\n    .dataframe tbody tr th:only-of-type {\n        vertical-align: middle;\n    }\n\n    .dataframe tbody tr th {\n        vertical-align: top;\n    }\n\n    .dataframe thead th {\n        text-align: right;\n    }\n</style>\n<table border=\"1\" class=\"dataframe\">\n  <thead>\n    <tr style=\"text-align: right;\">\n      <th></th>\n      <th>words</th>\n      <th>clusters</th>\n      <th>vectors</th>\n    </tr>\n  </thead>\n  <tbody>\n    <tr>\n      <th>0</th>\n      <td>be</td>\n      <td>0</td>\n      <td>[-0.0927477, -0.14208923, 0.058706816, -0.2560...</td>\n    </tr>\n    <tr>\n      <th>1</th>\n      <td>and</td>\n      <td>0</td>\n      <td>[-0.28698897, -0.26512343, 0.25663704, -0.1716...</td>\n    </tr>\n    <tr>\n      <th>2</th>\n      <td>the</td>\n      <td>1</td>\n      <td>[-0.13803813, -0.18952447, 0.4213321, 0.163406...</td>\n    </tr>\n    <tr>\n      <th>3</th>\n      <td>to</td>\n      <td>2</td>\n      <td>[0.052224956, -0.124095224, 0.4544998, 0.01550...</td>\n    </tr>\n    <tr>\n      <th>4</th>\n      <td>in</td>\n      <td>1</td>\n      <td>[0.31688312, 0.39756396, -0.04785121, -0.26668...</td>\n    </tr>\n  </tbody>\n</table>\n</div>"
     },
     "execution_count": 117,
     "metadata": {},
     "output_type": "execute_result"
    }
   ],
   "source": [
    "dfWords2 = pd.DataFrame(data=[w2v_model.wv.key_to_index.keys(), y_hc]).T\n",
    "dfWords2.columns = ['words', 'clusters']\n",
    "dfWords2['vectors'] = dfWords2.words.apply(lambda x: w2v_model.wv[f'{x}'])\n",
    "dfWords2.head()"
   ],
   "metadata": {
    "collapsed": false,
    "pycharm": {
     "name": "#%%\n"
    }
   }
  },
  {
   "cell_type": "code",
   "execution_count": 116,
   "outputs": [
    {
     "data": {
      "text/plain": "17"
     },
     "execution_count": 116,
     "metadata": {},
     "output_type": "execute_result"
    }
   ],
   "source": [
    "batch_nrs = len(w2v_model.wv.key_to_index.keys()) // 500\n",
    "batch_nrs"
   ],
   "metadata": {
    "collapsed": false,
    "pycharm": {
     "name": "#%%\n"
    }
   }
  },
  {
   "cell_type": "code",
   "execution_count": 122,
   "outputs": [
    {
     "name": "stdout",
     "output_type": "stream",
     "text": [
      "0.023734545\n",
      "-0.020631375\n",
      "-0.0070487806\n",
      "0.0037613302\n",
      "0.014120397\n",
      "0.009044545\n",
      "0.010323811\n",
      "0.0071021286\n",
      "0.003086017\n",
      "0.013017715\n",
      "0.0017780903\n",
      "-0.008456902\n",
      "-0.007854482\n",
      "-0.009499589\n",
      "-0.01292545\n",
      "-0.021994816\n",
      "-0.017167289\n"
     ]
    },
    {
     "data": {
      "text/plain": "-0.0011535354"
     },
     "execution_count": 122,
     "metadata": {},
     "output_type": "execute_result"
    }
   ],
   "source": [
    "silhouette_scores = []\n",
    "\n",
    "for i in range(batch_nrs):\n",
    "    silhouetteScore = silhouette_score(w2v_model.wv.vectors[i*500:(i+1)*500],\n",
    "                                       y_hc[i*500:(i+1)*500],\n",
    "                                       metric='euclidean')\n",
    "    print(silhouetteScore)\n",
    "    silhouette_scores.append(silhouetteScore)\n",
    "\n",
    "finalSilhouetteScore = np.mean(silhouette_scores)\n",
    "finalSilhouetteScore\n"
   ],
   "metadata": {
    "collapsed": false,
    "pycharm": {
     "name": "#%%\n"
    }
   }
  }
 ],
 "metadata": {
  "kernelspec": {
   "display_name": "Python 3",
   "language": "python",
   "name": "python3"
  },
  "language_info": {
   "codemirror_mode": {
    "name": "ipython",
    "version": 2
   },
   "file_extension": ".py",
   "mimetype": "text/x-python",
   "name": "python",
   "nbconvert_exporter": "python",
   "pygments_lexer": "ipython2",
   "version": "2.7.6"
  }
 },
 "nbformat": 4,
 "nbformat_minor": 0
}