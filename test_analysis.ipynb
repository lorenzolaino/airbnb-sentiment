{
 "cells": [
  {
   "cell_type": "code",
   "execution_count": 33,
   "metadata": {
    "collapsed": true
   },
   "outputs": [],
   "source": [
    "import pandas as pd\n",
    "import matplotlib.pyplot as plt"
   ]
  },
  {
   "cell_type": "code",
   "execution_count": 34,
   "outputs": [
    {
     "data": {
      "text/plain": "\"['jan', 'be', 'very', 'friendly', 'and', 'welcome', 'host', 'the', 'apartment', 'be', 'great', 'and', 'the', 'area', 'be', 'sooo', 'amaze', 'lot', 'of', 'nice', 'cafe', 'and', 'shop', 'enjoy', 'my', 'time', 'there', 'lot']\""
     },
     "execution_count": 34,
     "metadata": {},
     "output_type": "execute_result"
    }
   ],
   "source": [
    "with open('lemmatized.txt') as f:\n",
    "    reviews = f.read().splitlines()\n",
    "\n",
    "reviews[0]"
   ],
   "metadata": {
    "collapsed": false,
    "pycharm": {
     "name": "#%%\n"
    }
   }
  },
  {
   "cell_type": "code",
   "execution_count": 35,
   "outputs": [
    {
     "data": {
      "text/plain": "['jan',\n 'be',\n 'very',\n 'friendly',\n 'and',\n 'welcome',\n 'host',\n 'the',\n 'apartment',\n 'be',\n 'great',\n 'and',\n 'the',\n 'area',\n 'be',\n 'sooo',\n 'amaze',\n 'lot',\n 'of',\n 'nice',\n 'cafe',\n 'and',\n 'shop',\n 'enjoy',\n 'my',\n 'time',\n 'there',\n 'lot']"
     },
     "execution_count": 35,
     "metadata": {},
     "output_type": "execute_result"
    }
   ],
   "source": [
    "reviews = [review.replace('\\'', '').strip('][').split(', ') for review in reviews]\n",
    "reviews[0]"
   ],
   "metadata": {
    "collapsed": false,
    "pycharm": {
     "name": "#%%\n"
    }
   }
  },
  {
   "cell_type": "markdown",
   "source": [
    "## Bigrams generation"
   ],
   "metadata": {
    "collapsed": false
   }
  },
  {
   "cell_type": "code",
   "execution_count": 36,
   "outputs": [
    {
     "data": {
      "text/plain": "['it',\n 'be',\n 'really',\n 'nice',\n 'area',\n 'food',\n 'park',\n 'transport',\n 'be',\n 'perfect']"
     },
     "execution_count": 36,
     "metadata": {},
     "output_type": "execute_result"
    }
   ],
   "source": [
    "from gensim.models.phrases import Phrases, Phraser\n",
    "\n",
    "phrases = Phrases(reviews, min_count=3, progress_per=50000)\n",
    "bigram = Phraser(phrases)\n",
    "sentences = bigram[reviews]\n",
    "sentences[1]"
   ],
   "metadata": {
    "collapsed": false,
    "pycharm": {
     "name": "#%%\n"
    }
   }
  },
  {
   "cell_type": "code",
   "execution_count": 37,
   "outputs": [
    {
     "data": {
      "text/plain": "61035"
     },
     "execution_count": 37,
     "metadata": {},
     "output_type": "execute_result"
    }
   ],
   "source": [
    "from collections import defaultdict\n",
    "\n",
    "word_freq = defaultdict(int)\n",
    "for sent in sentences:\n",
    "    for i in sent:\n",
    "        word_freq[i] += 1\n",
    "len(word_freq)"
   ],
   "metadata": {
    "collapsed": false,
    "pycharm": {
     "name": "#%%\n"
    }
   }
  },
  {
   "cell_type": "code",
   "execution_count": 38,
   "outputs": [
    {
     "data": {
      "text/plain": "['be', 'and', 'the', 'to', 'in', 'very', 'we', 'of', 'great', 'it']"
     },
     "execution_count": 38,
     "metadata": {},
     "output_type": "execute_result"
    }
   ],
   "source": [
    "sorted(word_freq, key=word_freq.get, reverse=True)[:10]"
   ],
   "metadata": {
    "collapsed": false,
    "pycharm": {
     "name": "#%%\n"
    }
   }
  },
  {
   "cell_type": "markdown",
   "source": [
    "## Word2Vec model"
   ],
   "metadata": {
    "collapsed": false
   }
  },
  {
   "cell_type": "code",
   "execution_count": 39,
   "outputs": [],
   "source": [
    "from gensim.models import Word2Vec\n",
    "\n",
    "w2v_model = Word2Vec(min_count=20,\n",
    "                     window=4,\n",
    "                     vector_size=300,\n",
    "                     sample=6e-5,\n",
    "                     alpha=0.03,\n",
    "                     min_alpha=0.0007,\n",
    "                     negative=20,\n",
    "                     workers=4)"
   ],
   "metadata": {
    "collapsed": false,
    "pycharm": {
     "name": "#%%\n"
    }
   }
  },
  {
   "cell_type": "code",
   "execution_count": 40,
   "outputs": [
    {
     "name": "stdout",
     "output_type": "stream",
     "text": [
      "Time to build vocab: 0.24 mins\n"
     ]
    }
   ],
   "source": [
    "from time import time\n",
    "\n",
    "t = time()\n",
    "\n",
    "w2v_model.build_vocab(sentences, progress_per=10000)\n",
    "\n",
    "print('Time to build vocab: {} mins'.format(round((time() - t) / 60, 2)))"
   ],
   "metadata": {
    "collapsed": false,
    "pycharm": {
     "name": "#%%\n"
    }
   }
  },
  {
   "cell_type": "code",
   "execution_count": 41,
   "outputs": [
    {
     "name": "stdout",
     "output_type": "stream",
     "text": [
      "Time to train the model: 9.21 mins\n"
     ]
    }
   ],
   "source": [
    "t = time()\n",
    "\n",
    "w2v_model.train(sentences, total_examples=w2v_model.corpus_count, epochs=30, report_delay=1)\n",
    "\n",
    "print('Time to train the model: {} mins'.format(round((time() - t) / 60, 2)))"
   ],
   "metadata": {
    "collapsed": false,
    "pycharm": {
     "name": "#%%\n"
    }
   }
  },
  {
   "cell_type": "code",
   "execution_count": 134,
   "outputs": [],
   "source": [
    "# w2v_model.save(\"word2vec.model\")"
   ],
   "metadata": {
    "collapsed": false,
    "pycharm": {
     "name": "#%%\n"
    }
   }
  },
  {
   "cell_type": "markdown",
   "source": [
    "## Exploring the model"
   ],
   "metadata": {
    "collapsed": false
   }
  },
  {
   "cell_type": "code",
   "execution_count": 43,
   "outputs": [
    {
     "data": {
      "text/plain": "[('flat', 0.8184784054756165),\n ('studio', 0.5035080909729004),\n ('appartment', 0.49468955397605896),\n ('spacious', 0.48489269614219666),\n ('modern', 0.48029956221580505),\n ('clean', 0.4498693346977234),\n ('apt', 0.42693156003952026),\n ('itself', 0.42469674348831177),\n ('beautifully_appoint', 0.41398540139198303),\n ('bright', 0.41148775815963745)]"
     },
     "execution_count": 43,
     "metadata": {},
     "output_type": "execute_result"
    }
   ],
   "source": [
    "w2v_model.wv.most_similar(positive=[\"apartment\"])"
   ],
   "metadata": {
    "collapsed": false,
    "pycharm": {
     "name": "#%%\n"
    }
   }
  },
  {
   "cell_type": "markdown",
   "source": [
    "## Clustering model"
   ],
   "metadata": {
    "collapsed": false
   }
  },
  {
   "cell_type": "code",
   "execution_count": 75,
   "outputs": [
    {
     "data": {
      "text/plain": "KMeans(max_iter=1000, n_clusters=2, n_init=50, random_state=42)"
     },
     "execution_count": 75,
     "metadata": {},
     "output_type": "execute_result"
    }
   ],
   "source": [
    "from sklearn.cluster import KMeans\n",
    "import numpy as np\n",
    "\n",
    "kmeans_model = KMeans(n_clusters=2, max_iter=1000, random_state=42, n_init=50)\n",
    "kmeans_model.fit(X=w2v_model.wv.vectors.astype('double'))"
   ],
   "metadata": {
    "collapsed": false,
    "pycharm": {
     "name": "#%%\n"
    }
   }
  },
  {
   "cell_type": "code",
   "execution_count": 105,
   "outputs": [
    {
     "data": {
      "text/plain": "[('no', 0.6178538799285889),\n ('that', 0.6154983639717102),\n ('useless', 0.6057008504867554),\n ('metal', 0.601493239402771),\n ('rug', 0.5799352526664734),\n ('plastic', 0.5778060555458069),\n ('bit_annoy', 0.5755999088287354),\n ('broken', 0.5718725323677063),\n ('mop', 0.5668021440505981),\n ('odor', 0.5624467730522156)]"
     },
     "execution_count": 105,
     "metadata": {},
     "output_type": "execute_result"
    }
   ],
   "source": [
    "w2v_model.wv.similar_by_vector(kmeans_model.cluster_centers_[0], topn=10, restrict_vocab=None)"
   ],
   "metadata": {
    "collapsed": false,
    "pycharm": {
     "name": "#%%\n"
    }
   }
  },
  {
   "cell_type": "code",
   "execution_count": 106,
   "outputs": [],
   "source": [
    "negative_cluster_index = 0\n",
    "negative_cluster_center = kmeans_model.cluster_centers_[negative_cluster_index]\n",
    "positive_cluster_center = kmeans_model.cluster_centers_[1-negative_cluster_index]"
   ],
   "metadata": {
    "collapsed": false,
    "pycharm": {
     "name": "#%%\n"
    }
   }
  },
  {
   "cell_type": "code",
   "execution_count": 107,
   "outputs": [
    {
     "data": {
      "text/plain": "  words                                            vectors  cluster\n0    be  [0.11147587, 0.07957115, 0.0352661, 0.2452787,...        0\n1   and  [-0.30145282, -0.041696303, 0.06714162, -0.166...        2\n2   the  [0.17333335, -0.43380734, 0.6963205, -0.070611...        0\n3    to  [-0.5403165, 0.002703896, 0.1560523, -0.411324...        1\n4    in  [0.41520724, 0.11420307, 0.59832984, -0.116240...        0",
      "text/html": "<div>\n<style scoped>\n    .dataframe tbody tr th:only-of-type {\n        vertical-align: middle;\n    }\n\n    .dataframe tbody tr th {\n        vertical-align: top;\n    }\n\n    .dataframe thead th {\n        text-align: right;\n    }\n</style>\n<table border=\"1\" class=\"dataframe\">\n  <thead>\n    <tr style=\"text-align: right;\">\n      <th></th>\n      <th>words</th>\n      <th>vectors</th>\n      <th>cluster</th>\n    </tr>\n  </thead>\n  <tbody>\n    <tr>\n      <th>0</th>\n      <td>be</td>\n      <td>[0.11147587, 0.07957115, 0.0352661, 0.2452787,...</td>\n      <td>0</td>\n    </tr>\n    <tr>\n      <th>1</th>\n      <td>and</td>\n      <td>[-0.30145282, -0.041696303, 0.06714162, -0.166...</td>\n      <td>2</td>\n    </tr>\n    <tr>\n      <th>2</th>\n      <td>the</td>\n      <td>[0.17333335, -0.43380734, 0.6963205, -0.070611...</td>\n      <td>0</td>\n    </tr>\n    <tr>\n      <th>3</th>\n      <td>to</td>\n      <td>[-0.5403165, 0.002703896, 0.1560523, -0.411324...</td>\n      <td>1</td>\n    </tr>\n    <tr>\n      <th>4</th>\n      <td>in</td>\n      <td>[0.41520724, 0.11420307, 0.59832984, -0.116240...</td>\n      <td>0</td>\n    </tr>\n  </tbody>\n</table>\n</div>"
     },
     "execution_count": 107,
     "metadata": {},
     "output_type": "execute_result"
    }
   ],
   "source": [
    "# dfWords = pd.DataFrame(w2v_model.wv.vocab.keys())\n",
    "\n",
    "dfWords = pd.DataFrame(w2v_model.wv.key_to_index.keys())\n",
    "dfWords.columns = ['words']\n",
    "dfWords['vectors'] = dfWords.words.apply(lambda x: w2v_model.wv[f'{x}'])\n",
    "dfWords['cluster'] = dfWords.vectors.apply(lambda x: kmeans_model.predict([np.array(x)]))\n",
    "dfWords.cluster = dfWords.cluster.apply(lambda x: x[0])\n",
    "dfWords.head()"
   ],
   "metadata": {
    "collapsed": false,
    "pycharm": {
     "name": "#%%\n"
    }
   }
  },
  {
   "cell_type": "code",
   "execution_count": 108,
   "outputs": [
    {
     "data": {
      "text/plain": "   words                                            vectors  cluster  \\\n0     be  [0.11147587, 0.07957115, 0.0352661, 0.2452787,...        0   \n2    the  [0.17333335, -0.43380734, 0.6963205, -0.070611...        0   \n4     in  [0.41520724, 0.11420307, 0.59832984, -0.116240...        0   \n9     it  [0.013412308, -0.42243224, 0.15261401, 0.58773...        0   \n12   for  [0.12189595, -0.04447002, -0.5717739, -1.14031...        0   \n\n    cluster_value  closeness_score  sentiment_coeff  \n0              -1         0.178454        -0.178454  \n2              -1         0.142254        -0.142254  \n4              -1         0.134969        -0.134969  \n9              -1         0.141696        -0.141696  \n12             -1         0.110504        -0.110504  ",
      "text/html": "<div>\n<style scoped>\n    .dataframe tbody tr th:only-of-type {\n        vertical-align: middle;\n    }\n\n    .dataframe tbody tr th {\n        vertical-align: top;\n    }\n\n    .dataframe thead th {\n        text-align: right;\n    }\n</style>\n<table border=\"1\" class=\"dataframe\">\n  <thead>\n    <tr style=\"text-align: right;\">\n      <th></th>\n      <th>words</th>\n      <th>vectors</th>\n      <th>cluster</th>\n      <th>cluster_value</th>\n      <th>closeness_score</th>\n      <th>sentiment_coeff</th>\n    </tr>\n  </thead>\n  <tbody>\n    <tr>\n      <th>0</th>\n      <td>be</td>\n      <td>[0.11147587, 0.07957115, 0.0352661, 0.2452787,...</td>\n      <td>0</td>\n      <td>-1</td>\n      <td>0.178454</td>\n      <td>-0.178454</td>\n    </tr>\n    <tr>\n      <th>2</th>\n      <td>the</td>\n      <td>[0.17333335, -0.43380734, 0.6963205, -0.070611...</td>\n      <td>0</td>\n      <td>-1</td>\n      <td>0.142254</td>\n      <td>-0.142254</td>\n    </tr>\n    <tr>\n      <th>4</th>\n      <td>in</td>\n      <td>[0.41520724, 0.11420307, 0.59832984, -0.116240...</td>\n      <td>0</td>\n      <td>-1</td>\n      <td>0.134969</td>\n      <td>-0.134969</td>\n    </tr>\n    <tr>\n      <th>9</th>\n      <td>it</td>\n      <td>[0.013412308, -0.42243224, 0.15261401, 0.58773...</td>\n      <td>0</td>\n      <td>-1</td>\n      <td>0.141696</td>\n      <td>-0.141696</td>\n    </tr>\n    <tr>\n      <th>12</th>\n      <td>for</td>\n      <td>[0.12189595, -0.04447002, -0.5717739, -1.14031...</td>\n      <td>0</td>\n      <td>-1</td>\n      <td>0.110504</td>\n      <td>-0.110504</td>\n    </tr>\n  </tbody>\n</table>\n</div>"
     },
     "execution_count": 108,
     "metadata": {},
     "output_type": "execute_result"
    }
   ],
   "source": [
    "dfWords['cluster_value'] = [-1 if i==negative_cluster_index else 1 for i in dfWords.cluster]\n",
    "dfWords['closeness_score'] = dfWords.apply(lambda x: 1/(kmeans_model.transform([x.vectors]).min()), axis=1)\n",
    "dfWords['sentiment_coeff'] = dfWords.closeness_score * dfWords.cluster_value\n",
    "dfWords[dfWords['cluster_value'] == -1].head()"
   ],
   "metadata": {
    "collapsed": false,
    "pycharm": {
     "name": "#%%\n"
    }
   }
  },
  {
   "cell_type": "code",
   "execution_count": 109,
   "outputs": [
    {
     "data": {
      "text/plain": "                                            comments\n0  jan be very friendly and welcome host the apar...\n1  it be really nice area food park transport be ...\n2  we have very nice stay in berlin thanks to jan...\n3  great location close to mauerpark kastanienall...\n4  apartment very well locate close to everything...",
      "text/html": "<div>\n<style scoped>\n    .dataframe tbody tr th:only-of-type {\n        vertical-align: middle;\n    }\n\n    .dataframe tbody tr th {\n        vertical-align: top;\n    }\n\n    .dataframe thead th {\n        text-align: right;\n    }\n</style>\n<table border=\"1\" class=\"dataframe\">\n  <thead>\n    <tr style=\"text-align: right;\">\n      <th></th>\n      <th>comments</th>\n    </tr>\n  </thead>\n  <tbody>\n    <tr>\n      <th>0</th>\n      <td>jan be very friendly and welcome host the apar...</td>\n    </tr>\n    <tr>\n      <th>1</th>\n      <td>it be really nice area food park transport be ...</td>\n    </tr>\n    <tr>\n      <th>2</th>\n      <td>we have very nice stay in berlin thanks to jan...</td>\n    </tr>\n    <tr>\n      <th>3</th>\n      <td>great location close to mauerpark kastanienall...</td>\n    </tr>\n    <tr>\n      <th>4</th>\n      <td>apartment very well locate close to everything...</td>\n    </tr>\n  </tbody>\n</table>\n</div>"
     },
     "execution_count": 109,
     "metadata": {},
     "output_type": "execute_result"
    }
   ],
   "source": [
    "dfCleanedReviews = pd.DataFrame([' '.join(review) for review in reviews], columns=['comments'])\n",
    "dfCleanedReviews.head()"
   ],
   "metadata": {
    "collapsed": false,
    "pycharm": {
     "name": "#%%\n"
    }
   }
  },
  {
   "cell_type": "code",
   "execution_count": 110,
   "outputs": [],
   "source": [
    "from sklearn.feature_extraction.text import TfidfVectorizer\n",
    "\n",
    "tfidf = TfidfVectorizer(norm=None)\n",
    "transformed = tfidf.fit_transform(dfCleanedReviews['comments'].tolist())\n",
    "features = pd.Series(tfidf.get_feature_names())"
   ],
   "metadata": {
    "collapsed": false,
    "pycharm": {
     "name": "#%%\n"
    }
   }
  },
  {
   "cell_type": "code",
   "execution_count": 111,
   "outputs": [],
   "source": [
    "def create_tfidf_dictionary(x, transformed_file, features):\n",
    "    '''\n",
    "    create dictionary for each input sentence x, where each word has assigned its tfidf score\n",
    "\n",
    "    inspired  by function from this wonderful article:\n",
    "    https://medium.com/analytics-vidhya/automated-keyword-extraction-from-articles-using-nlp-bfd864f41b34\n",
    "\n",
    "    x - row of dataframe, containing sentences, and their indexes,\n",
    "    transformed_file - all sentences transformed with TfidfVectorizer\n",
    "    features - names of all words in corpus used in TfidfVectorizer\n",
    "\n",
    "    '''\n",
    "    # print('Name:', x.name)\n",
    "    vector_coo = transformed_file[x.name].tocoo()\n",
    "    vector_coo.col = features.iloc[vector_coo.col].values\n",
    "    dict_from_coo = dict(zip(vector_coo.col, vector_coo.data))\n",
    "    return dict_from_coo\n",
    "\n",
    "def replace_tfidf_words(x, transformed_file, features):\n",
    "    '''\n",
    "    replacing each word with it's calculated tfidf dictionary with scores of each word\n",
    "    x - row of dataframe, containing sentences, and their indexes,\n",
    "    transformed_file - all sentences transformed with TfidfVectorizer\n",
    "    features - names of all words in corpus used in TfidfVectorizer\n",
    "    '''\n",
    "    dictionary = create_tfidf_dictionary(x, transformed_file, features)\n",
    "    # print(dictionary.keys())\n",
    "    # print('Dictionary[there]', dictionary['there'])\n",
    "    # print('Dictionary[be]', dictionary['be'])\n",
    "    # print(dictionary.keys())\n",
    "    # print(x.comments)\n",
    "    try:\n",
    "        res = list(map(lambda y:dictionary[f'{y}'], x.comments.split()))\n",
    "    except KeyError:\n",
    "        res = [0 for i in x.comments.split()]\n",
    "    # print('Res[0]:', res[0])\n",
    "    # return list(map(lambda y:dictionary[f'{y}'], x.comments.split()))\n",
    "    return res"
   ],
   "metadata": {
    "collapsed": false,
    "pycharm": {
     "name": "#%%\n"
    }
   }
  },
  {
   "cell_type": "code",
   "execution_count": 112,
   "outputs": [
    {
     "data": {
      "text/plain": "pandas.core.series.Series"
     },
     "execution_count": 112,
     "metadata": {},
     "output_type": "execute_result"
    }
   ],
   "source": [
    "replaced_tfidf_scores = dfCleanedReviews.apply(lambda x: replace_tfidf_words(x, transformed, features), axis=1)\n",
    "type(replaced_tfidf_scores)"
   ],
   "metadata": {
    "collapsed": false,
    "pycharm": {
     "name": "#%%\n"
    }
   }
  },
  {
   "cell_type": "code",
   "execution_count": 113,
   "outputs": [],
   "source": [
    "sentiment_dict = dict(zip(dfWords.words.values, dfWords.sentiment_coeff.values))"
   ],
   "metadata": {
    "collapsed": false,
    "pycharm": {
     "name": "#%%\n"
    }
   }
  },
  {
   "cell_type": "code",
   "execution_count": 114,
   "outputs": [],
   "source": [
    "\n",
    "def replace_sentiment_words(word, sentiment_dict):\n",
    "    '''\n",
    "    replacing each word with its associated sentiment score from sentiment dict\n",
    "    '''\n",
    "    try:\n",
    "        out = sentiment_dict[word]\n",
    "    except KeyError:\n",
    "        out = 0\n",
    "    return out"
   ],
   "metadata": {
    "collapsed": false,
    "pycharm": {
     "name": "#%%\n"
    }
   }
  },
  {
   "cell_type": "code",
   "execution_count": 115,
   "outputs": [],
   "source": [
    "replaced_closeness_scores = dfCleanedReviews['comments'].apply(lambda x: list(map(lambda y: replace_sentiment_words(y, sentiment_dict), x.split())))"
   ],
   "metadata": {
    "collapsed": false,
    "pycharm": {
     "name": "#%%\n"
    }
   }
  },
  {
   "cell_type": "code",
   "execution_count": 116,
   "outputs": [
    {
     "data": {
      "text/plain": "                                     sentiment_coeff  \\\n0  [0.08264830965921147, -0.17845424863877163, 0....   \n1  [-0.14169600930737072, -0.17845424863877163, 0...   \n2  [0.11390161214456318, -0.14736751348122512, 0....   \n3  [0.1436133694443176, 0.14592163170361538, 0.09...   \n4  [0.12993493434599254, 0.13770945493730063, 0.0...   \n\n                                        tfidf_scores  \\\n0  [6.45518200427728, 3.6108140688773807, 1.62336...   \n1  [2.034512963851828, 2.407209379251587, 2.64191...   \n2  [2.091150860411193, 4.119858950780223, 4.87009...   \n3  [1.8501655371557688, 2.159718877149754, 2.7123...   \n4  [3.927308953862587, 3.246732537406179, 2.84084...   \n\n                                            sentence  sentiment_rate  \\\n0  jan be very friendly and welcome host the apar...        5.850742   \n1  it be really nice area food park transport be ...        1.203945   \n2  we have very nice stay in berlin thanks to jan...        8.632043   \n3  great location close to mauerpark kastanienall...        7.758851   \n4  apartment very well locate close to everything...        2.161046   \n\n   prediction  \n0           1  \n1           1  \n2           1  \n3           1  \n4           1  ",
      "text/html": "<div>\n<style scoped>\n    .dataframe tbody tr th:only-of-type {\n        vertical-align: middle;\n    }\n\n    .dataframe tbody tr th {\n        vertical-align: top;\n    }\n\n    .dataframe thead th {\n        text-align: right;\n    }\n</style>\n<table border=\"1\" class=\"dataframe\">\n  <thead>\n    <tr style=\"text-align: right;\">\n      <th></th>\n      <th>sentiment_coeff</th>\n      <th>tfidf_scores</th>\n      <th>sentence</th>\n      <th>sentiment_rate</th>\n      <th>prediction</th>\n    </tr>\n  </thead>\n  <tbody>\n    <tr>\n      <th>0</th>\n      <td>[0.08264830965921147, -0.17845424863877163, 0....</td>\n      <td>[6.45518200427728, 3.6108140688773807, 1.62336...</td>\n      <td>jan be very friendly and welcome host the apar...</td>\n      <td>5.850742</td>\n      <td>1</td>\n    </tr>\n    <tr>\n      <th>1</th>\n      <td>[-0.14169600930737072, -0.17845424863877163, 0...</td>\n      <td>[2.034512963851828, 2.407209379251587, 2.64191...</td>\n      <td>it be really nice area food park transport be ...</td>\n      <td>1.203945</td>\n      <td>1</td>\n    </tr>\n    <tr>\n      <th>2</th>\n      <td>[0.11390161214456318, -0.14736751348122512, 0....</td>\n      <td>[2.091150860411193, 4.119858950780223, 4.87009...</td>\n      <td>we have very nice stay in berlin thanks to jan...</td>\n      <td>8.632043</td>\n      <td>1</td>\n    </tr>\n    <tr>\n      <th>3</th>\n      <td>[0.1436133694443176, 0.14592163170361538, 0.09...</td>\n      <td>[1.8501655371557688, 2.159718877149754, 2.7123...</td>\n      <td>great location close to mauerpark kastanienall...</td>\n      <td>7.758851</td>\n      <td>1</td>\n    </tr>\n    <tr>\n      <th>4</th>\n      <td>[0.12993493434599254, 0.13770945493730063, 0.0...</td>\n      <td>[3.927308953862587, 3.246732537406179, 2.84084...</td>\n      <td>apartment very well locate close to everything...</td>\n      <td>2.161046</td>\n      <td>1</td>\n    </tr>\n  </tbody>\n</table>\n</div>"
     },
     "execution_count": 116,
     "metadata": {},
     "output_type": "execute_result"
    }
   ],
   "source": [
    "replacement_df = pd.DataFrame(data=[replaced_closeness_scores, replaced_tfidf_scores, dfCleanedReviews['comments']]).T\n",
    "replacement_df.columns = ['sentiment_coeff', 'tfidf_scores', 'sentence']\n",
    "replacement_df['sentiment_rate'] = replacement_df.apply(lambda x: np.array(x.loc['sentiment_coeff']) @ np.array(x.loc['tfidf_scores']), axis=1)\n",
    "# replacement_df['prediction'] = 'Positive' if replacement_df.sentiment_rate>0 else 'Negative'\n",
    "replacement_df['prediction'] = (replacement_df.sentiment_rate>0).astype('int8')\n",
    "# replacement_df['sentiment'] = [1 if i==1 else 0 for i in replacement_df.sentiment]\n",
    "replacement_df.head()"
   ],
   "metadata": {
    "collapsed": false,
    "pycharm": {
     "name": "#%%\n"
    }
   }
  },
  {
   "cell_type": "code",
   "execution_count": 117,
   "outputs": [
    {
     "name": "stderr",
     "output_type": "stream",
     "text": [
      "d:\\utenti\\marco\\desktop\\insubria\\laurea magistrale\\data mining\\airbnb-sentiment\\venv\\lib\\site-packages\\ipykernel_launcher.py:2: SettingWithCopyWarning: \n",
      "A value is trying to be set on a copy of a slice from a DataFrame\n",
      "\n",
      "See the caveats in the documentation: https://pandas.pydata.org/pandas-docs/stable/user_guide/indexing.html#returning-a-view-versus-a-copy\n",
      "  \n"
     ]
    },
    {
     "data": {
      "text/plain": "['accuracy pretty sure this place be low income housing the building be super sketchy the lobby area be disgust dark and full of graffiti tags the elevator be the same way the wall and floor of hallway lead into the apartment look like they ve never be clean the neighbor have their possession scatter about the hallway it say it have three bedroom but there be two plus bed in the living room which be openly connect to the rest of the residence every electrical socket and light fixture be hang out of the wall or ceiling the stove have be disable and be connect to propane tank there be piece of raw plywood hang randomly attach to wall jet out into area of traffic the nicer furniture in the photo have be remove check in from the street it be difficult to see the building we be suppose to enter there be very little lighting in the area and there aren easily visible sign with marking everything around the entrance look be dirty and cover in graffiti tag have make plan to meet chadi between at he be message me ask where be and that he have be wait for me arrive at exactly excite the elevator on the floor all of the light be off and it be extremely eerie enter the residence it be extremely cold and all of the heat be off on top of this during check in the door to the balcony be open letting in draft and an unexpected man be out there on the phone and be never introduce with the lack of heat there be little bedding include pretty sure would have freeze if have stay there cleanliness wouldn be able to guess how long it have be since the place have be clean the wall and floor be filthy there be residue leave in the toilet and filmy stain in the bathtub shower and sink not all of the bed have bedding and appear to be very old the bedding be tattered and didn look clean the kitchen be mess it contain shop cart full of empty bottle there be rot vegetable in the refrigerator that have terrible odor there be also pot inside contain pasta sit in liquid there be also another container cover in tinfoil which do not examine communication have make plan to meet chadi between at he be message me ask where be and that he have be wait for me arrive at exactly location other than be in low income housing area the location didn seem terrible from the min be there at night value the value be insanely terrible after see the residence cancel my reservation at over and find great hotel room at the sheraton grand for under',\n 'be an advocate for airbnb and have be host for two year but this experience highlight the major problem with many airbnb listing and have by far be the bad ve experience it start with the check in the quest be send information to collect the key which be about minute walk from the accommodation arrive with the give code to collect the key and the confusion begin wait half an hour before be give two set of key the one that didn fit be to return at this stage felt be the victim of scam neither key would fit the door suspect this studio be foreign own as everything be outsource and the owner be not there hour behind to oversee any problem nor do they assume responsibility when anything that go wrong the studio be stories up so if you be elderly or have health condition this need to be consider be call the key manager on an international phone try to arrange the key neither he nor could contact the owner if didn have phone service would have be up and down those stair and hang around hour bottle shop wait for key the other silent owner monique with whom have never hear of nor have any correspondence with started send me message via airbnb blame me as have request an early check which be agree to and not consider problem when correspond with isabella the other owner it take three hour to get the right key at this stage would have prefer to of cancel the accommodation mainly because of the owner attitude have come in on long international flight and be leave bewilder by the owner attitude that the key fiasco be my fault the previous guest speak of this key arrangement as be difficult in his review the studio itself present well but be far from practical as this be night minimum stay there be absolutely no consideration to what guest might require the kitchen have the very basics what be provide look like every past guest leftover and there be no wash machine couch would have be good and physical map of the area the host provide one towel each and two toilet roll for night there be no proper broom or mop there be old soap and other product in the shower leave by previous guest the shower basin do not drain and will flood the floor the host provide an ipad but this be fiddle with by previous guest and the code and language have be change render it useless the host provide bike but this process be convolute as well be to sign waiver to use the bike download an agreement on the ipad at this stage just give up the tenant of',\n 'terrible experience this be my first time use airbnb be book for group of people for night fri sun in february when make the initial booking request the airbnb rate be include the service fee clean fee and surcharge for additional guest however this be decline by the owner and instead be send pre approve special offer which come to when check the price almost increase when sent message to the host use the airbnb mail to determine why they do not respond our alternative apartment be book at this stage so we decide to go through with our book for this apt when make my way through the book the price have again inexplicably increase to incl all fee without any explanation and without an increase in the list rate couldn work this price out from the rate quote on the listing even take into account the extra people very unsatisfactory to make matter bad on the day of departure the host son call me to inform me that the new berlin city tax be not include in the agreed price and that would have to leave an additional on the table in cash before we leave our agreement through airbnb have no mention of any additional charge so inform them that consider that it be include in the total fee that have pay and refuse to pay any more note that airbnb policy in this regard be that the tax should be add to the rate list on the website the whole experience leave bad taste in my mouth and spoil what be otherwise an enjoyable weekend with my wife and good friend in fantastic city would also note that it take two mail and text message on the day lead up to the visit to get the host to send me direction on where to pick up the key also never meet the host communication be ridiculously poor and see that other people have note this the apartment be on the st floor and there be noisy bar on the ground floor of the adjacent building that open late the bar have side door that lead directly into the stairwell of the apartment which be poor security on the friday night of our visit there be an incident in the early hour where some people be smash bottle on the pavement below our apartment which wake everyone up street traffic include the passing tram also make the main front bedroom in the apartment noisy the lighting in the apartment be seriously poor and most of the bulb in the main bedroom be not work the curtain be also flimsy only offer partial privacy in the apartment will not be return to his apartment or host',\n 'it be clean well lay out in nice apartment on rd floor walk up the layout be spacious it be big building so it have these large room with high ceiling something be not use to live in in nyc so my frame of reference as baseline be much small apartment the floor be wide plank wood floor lacquer with caramel hue they be possibly the old original floor from old sturdy tree only say this because the floor board dont creak the fridge be stainless steel hedi have some nice message on the fridge the tub be almost as big as jacuzzi which be very impressive it be wide and could possibly fit or people that could be quite nice in term of water nozzle most bathroom in europe have removable spray nozzle which be something that only handicap bathroom have in america so find that little novel it certainly have nice reach the room that stay in be just like the photo it have nice large window overlook school playground the actual window be probably high around autumn the temperature be little colder so do not think that the glass be thermally insulate which may allow for some air seepage luckily there be large curtain hanging there and the original cast iron heater be right under the window the kitchen have nice balcony accessible with an in swing french door it would be nice to sip cappuccino for moment out there from what they call the th floor in the us the mattress be firm about or thick it be wide and lay out on the floor prefer mattress on the floor since be simple person not want much in term of bedframe and moreover sleep good on sturdy bed since have sleep apnea and need to turn and can only do so on hard mattress the pillow be very fluffy maybe that be the style in germany so have to sleep with my airplane neckbrace for extra firm support but to each his own guess the corridor have one solitary suspend dim light with nice shade it create the ambience of parisian cafe the door be large wooden door sort of heavy about wide with stainless steel handle and hinge that don creak the door actually close quite nicely almost as if they could swing shut by themselves unfortunately the door be not sound proof hedi have some interesting artwork such as large canvas of japanese woman hang on the wall she also have some interesting book but unfortunately cannot read german hedi be truly remarkable person as well as gift artist she be very dynamic and interesting host she be at once personable and fascinating although we only meet briefly she be someone',\n 'late in june we stay at rebecca appartment which be locate in ostkreuz berlin first the area be very convenient since you re immediately close to railway station which take you to the famous alexanderplatz for instance in minute or you can reach the airport in less than minute it be friendly neighborhood with lot of place to eat or drink and many sp ttis which sell snack beverage etc at almost any time of the day night the people be friendly and not that much tourist lot of young people artists indie kid etc very nice two of the nice record store be nearby bi aufs messer and hhv and as usual with berlin there be many park and green space around where you can meet people walk their dog the apartment itself be very very cool if you want to be in berlin and just leave stress behind this apartment be super quiet do not think it due to the insulation it just that people here be very respectful of their neighbor tranquility it be really great so maybe if you travel with young kid or if you re the kind of person who be not into this kind of behaviour maybe you ought not choose this place the apartment be locate inside courtyard therefore there be no noise from the street in the meantime it be not very noisy area okay there be no elevator and you re on the rd floor so be prepare to lift your luggage the place be ancient but very charm the building date from the early th century and survive the communist era the inside have be refurnish repaint etc there be two big room one be the living room the other be sunbathe bedroom you can use cupboard to store your clothes etc the kitchen be small but it be okay to cook or prepare meal beware the fridge be mini one so it kind of hard to have lot of stuff veggie fit inside of it big bottle as well the sofa in the living room be incredibly cosy and can be use as spare bed think also spot mattress for extra bed the decoration be very nyc influence with many many frame pic on the wall and the bedroom be more influenced by sea and sailing beware if you be allergic to feather be the duvet and pillow be ikea classic geese feather fill otherwise it perfect to sleep the usual in germany one duvet per person instead of large big one for two finally the bathroom be the less convenient room but it logical since the apartment be in an old building it be long and narrow room with toilet and shower and it can be bit moist at time you good leave the door open when you re out so that some air may come in but it be fine enough for']"
     },
     "execution_count": 117,
     "metadata": {},
     "output_type": "execute_result"
    }
   ],
   "source": [
    "dfNegativeSentiment = replacement_df[replacement_df['prediction'] == 0]\n",
    "dfNegativeSentiment.sort_values(by=['sentiment_rate'], inplace=True)\n",
    "dfNegativeSentiment['sentence'].head().tolist()"
   ],
   "metadata": {
    "collapsed": false,
    "pycharm": {
     "name": "#%%\n"
    }
   }
  },
  {
   "cell_type": "code",
   "execution_count": 118,
   "outputs": [],
   "source": [
    "# replacement_df.to_csv('sentiment_dataset_2_clusters.csv', sep=',', index=False, header=True)\n",
    "#"
   ],
   "metadata": {
    "collapsed": false,
    "pycharm": {
     "name": "#%%\n"
    }
   }
  },
  {
   "cell_type": "code",
   "execution_count": 119,
   "outputs": [],
   "source": [
    "# wcss = []\n",
    "# for i in range(1, 11):\n",
    "#     kmeans = KMeans(n_clusters = i, init = 'k-means++', random_state = 42)\n",
    "#     kmeans.fit(X=w2v_model.wv.vectors.astype('double'))\n",
    "#     # inertia_ is sum of squared distance of samples to its closest cluster centers.\n",
    "#     wcss.append(kmeans.inertia_)\n",
    "#     print(\"inertia_\", kmeans.inertia_)\n",
    "#     # print(\"wcss\", within_css(kmeans))\n",
    "# plt.plot(range(1, 11), wcss)\n",
    "# plt.title('Elbow Method')\n",
    "# plt.xlabel('Number of clusters')\n",
    "# plt.ylabel('WCSS')\n",
    "# plt.show()\n",
    "#"
   ],
   "metadata": {
    "collapsed": false,
    "pycharm": {
     "name": "#%%\n"
    }
   }
  },
  {
   "cell_type": "code",
   "execution_count": 120,
   "outputs": [],
   "source": [
    "# from sklearn.metrics import silhouette_score\n",
    "#\n",
    "# def kmeansSilhouette(X,range_clusters):\n",
    "#     for i, k in range_clusters :\n",
    "#\n",
    "#         # Run the Kmeans algorithm\n",
    "#         km = KMeans(n_clusters = k, init = 'k-means++', random_state = 42)\n",
    "#\n",
    "#         km.fit(X)\n",
    "#         labels = km.predict(X)\n",
    "#\n",
    "#         print(\"For n_clusters =\", k,\n",
    "#                   \"The computed average silhouette_score is :\", silhouette_score(X, labels, metric='euclidean'))\n",
    "#"
   ],
   "metadata": {
    "collapsed": false,
    "pycharm": {
     "name": "#%%\n"
    }
   }
  },
  {
   "cell_type": "code",
   "execution_count": 121,
   "outputs": [],
   "source": [
    "# rangeClusters = enumerate([2,3,4,5,6,7,8,9,10])\n",
    "# kmeansSilhouette(w2v_model.wv.vectors.astype('double'), rangeClusters)"
   ],
   "metadata": {
    "collapsed": false,
    "pycharm": {
     "name": "#%%\n"
    }
   }
  },
  {
   "cell_type": "markdown",
   "source": [
    "## 3-clusters"
   ],
   "metadata": {
    "collapsed": false,
    "pycharm": {
     "name": "#%% md\n"
    }
   }
  },
  {
   "cell_type": "code",
   "execution_count": 122,
   "outputs": [
    {
     "data": {
      "text/plain": "KMeans(max_iter=1000, n_clusters=3, n_init=50, random_state=42)"
     },
     "execution_count": 122,
     "metadata": {},
     "output_type": "execute_result"
    }
   ],
   "source": [
    "kmeans_model = KMeans(n_clusters=3, max_iter=1000, random_state=42, n_init=50)\n",
    "kmeans_model.fit(X=w2v_model.wv.vectors.astype('double'))"
   ],
   "metadata": {
    "collapsed": false,
    "pycharm": {
     "name": "#%%\n"
    }
   }
  },
  {
   "cell_type": "code",
   "execution_count": 140,
   "outputs": [
    {
     "data": {
      "text/plain": "[('host', 0.6405877470970154),\n ('franck', 0.5894724130630493),\n ('jonna', 0.5868253111839294),\n ('nasir', 0.5857282876968384),\n ('yasemin', 0.5811430215835571),\n ('frieda', 0.5712906122207642),\n ('cordula', 0.566154956817627),\n ('valentina', 0.5637852549552917),\n ('fanny', 0.5616538524627686),\n ('emre', 0.5603703260421753)]"
     },
     "execution_count": 140,
     "metadata": {},
     "output_type": "execute_result"
    }
   ],
   "source": [
    "w2v_model.wv.similar_by_vector(kmeans_model.cluster_centers_[2], topn=10, restrict_vocab=None)"
   ],
   "metadata": {
    "collapsed": false,
    "pycharm": {
     "name": "#%%\n"
    }
   }
  },
  {
   "cell_type": "code",
   "execution_count": 142,
   "outputs": [],
   "source": [
    "negative_cluster_index = 0\n",
    "positive_cluster_index = 1\n",
    "negative_cluster_center = kmeans_model.cluster_centers_[negative_cluster_index]\n",
    "positive_cluster_center = kmeans_model.cluster_centers_[positive_cluster_index]"
   ],
   "metadata": {
    "collapsed": false,
    "pycharm": {
     "name": "#%%\n"
    }
   }
  },
  {
   "cell_type": "code",
   "execution_count": 125,
   "outputs": [
    {
     "data": {
      "text/plain": "  words                                            vectors  cluster\n0    be  [0.11147587, 0.07957115, 0.0352661, 0.2452787,...        0\n1   and  [-0.30145282, -0.041696303, 0.06714162, -0.166...        2\n2   the  [0.17333335, -0.43380734, 0.6963205, -0.070611...        0\n3    to  [-0.5403165, 0.002703896, 0.1560523, -0.411324...        1\n4    in  [0.41520724, 0.11420307, 0.59832984, -0.116240...        0",
      "text/html": "<div>\n<style scoped>\n    .dataframe tbody tr th:only-of-type {\n        vertical-align: middle;\n    }\n\n    .dataframe tbody tr th {\n        vertical-align: top;\n    }\n\n    .dataframe thead th {\n        text-align: right;\n    }\n</style>\n<table border=\"1\" class=\"dataframe\">\n  <thead>\n    <tr style=\"text-align: right;\">\n      <th></th>\n      <th>words</th>\n      <th>vectors</th>\n      <th>cluster</th>\n    </tr>\n  </thead>\n  <tbody>\n    <tr>\n      <th>0</th>\n      <td>be</td>\n      <td>[0.11147587, 0.07957115, 0.0352661, 0.2452787,...</td>\n      <td>0</td>\n    </tr>\n    <tr>\n      <th>1</th>\n      <td>and</td>\n      <td>[-0.30145282, -0.041696303, 0.06714162, -0.166...</td>\n      <td>2</td>\n    </tr>\n    <tr>\n      <th>2</th>\n      <td>the</td>\n      <td>[0.17333335, -0.43380734, 0.6963205, -0.070611...</td>\n      <td>0</td>\n    </tr>\n    <tr>\n      <th>3</th>\n      <td>to</td>\n      <td>[-0.5403165, 0.002703896, 0.1560523, -0.411324...</td>\n      <td>1</td>\n    </tr>\n    <tr>\n      <th>4</th>\n      <td>in</td>\n      <td>[0.41520724, 0.11420307, 0.59832984, -0.116240...</td>\n      <td>0</td>\n    </tr>\n  </tbody>\n</table>\n</div>"
     },
     "execution_count": 125,
     "metadata": {},
     "output_type": "execute_result"
    }
   ],
   "source": [
    "# dfWords = pd.DataFrame(w2v_model.wv.vocab.keys())\n",
    "\n",
    "dfWords = pd.DataFrame(w2v_model.wv.key_to_index.keys())\n",
    "dfWords.columns = ['words']\n",
    "dfWords['vectors'] = dfWords.words.apply(lambda x: w2v_model.wv[f'{x}'])\n",
    "dfWords['cluster'] = dfWords.vectors.apply(lambda x: kmeans_model.predict([np.array(x)]))\n",
    "dfWords.cluster = dfWords.cluster.apply(lambda x: x[0])\n",
    "dfWords.head()"
   ],
   "metadata": {
    "collapsed": false,
    "pycharm": {
     "name": "#%%\n"
    }
   }
  },
  {
   "cell_type": "code",
   "execution_count": 143,
   "outputs": [
    {
     "data": {
      "text/plain": "   words                                            vectors  cluster  \\\n0     be  [0.11147587, 0.07957115, 0.0352661, 0.2452787,...        0   \n2    the  [0.17333335, -0.43380734, 0.6963205, -0.070611...        0   \n4     in  [0.41520724, 0.11420307, 0.59832984, -0.116240...        0   \n9     it  [0.013412308, -0.42243224, 0.15261401, 0.58773...        0   \n12   for  [0.12189595, -0.04447002, -0.5717739, -1.14031...        0   \n\n    cluster_value  closeness_score  sentiment_coeff  \n0              -1         0.178454        -0.178454  \n2              -1         0.142254        -0.142254  \n4              -1         0.134969        -0.134969  \n9              -1         0.141696        -0.141696  \n12             -1         0.110504        -0.110504  ",
      "text/html": "<div>\n<style scoped>\n    .dataframe tbody tr th:only-of-type {\n        vertical-align: middle;\n    }\n\n    .dataframe tbody tr th {\n        vertical-align: top;\n    }\n\n    .dataframe thead th {\n        text-align: right;\n    }\n</style>\n<table border=\"1\" class=\"dataframe\">\n  <thead>\n    <tr style=\"text-align: right;\">\n      <th></th>\n      <th>words</th>\n      <th>vectors</th>\n      <th>cluster</th>\n      <th>cluster_value</th>\n      <th>closeness_score</th>\n      <th>sentiment_coeff</th>\n    </tr>\n  </thead>\n  <tbody>\n    <tr>\n      <th>0</th>\n      <td>be</td>\n      <td>[0.11147587, 0.07957115, 0.0352661, 0.2452787,...</td>\n      <td>0</td>\n      <td>-1</td>\n      <td>0.178454</td>\n      <td>-0.178454</td>\n    </tr>\n    <tr>\n      <th>2</th>\n      <td>the</td>\n      <td>[0.17333335, -0.43380734, 0.6963205, -0.070611...</td>\n      <td>0</td>\n      <td>-1</td>\n      <td>0.142254</td>\n      <td>-0.142254</td>\n    </tr>\n    <tr>\n      <th>4</th>\n      <td>in</td>\n      <td>[0.41520724, 0.11420307, 0.59832984, -0.116240...</td>\n      <td>0</td>\n      <td>-1</td>\n      <td>0.134969</td>\n      <td>-0.134969</td>\n    </tr>\n    <tr>\n      <th>9</th>\n      <td>it</td>\n      <td>[0.013412308, -0.42243224, 0.15261401, 0.58773...</td>\n      <td>0</td>\n      <td>-1</td>\n      <td>0.141696</td>\n      <td>-0.141696</td>\n    </tr>\n    <tr>\n      <th>12</th>\n      <td>for</td>\n      <td>[0.12189595, -0.04447002, -0.5717739, -1.14031...</td>\n      <td>0</td>\n      <td>-1</td>\n      <td>0.110504</td>\n      <td>-0.110504</td>\n    </tr>\n  </tbody>\n</table>\n</div>"
     },
     "execution_count": 143,
     "metadata": {},
     "output_type": "execute_result"
    }
   ],
   "source": [
    "dfWords['cluster_value'] = [-1 if i==negative_cluster_index else 1 if i==positive_cluster_index else 0 for i in dfWords.cluster]\n",
    "dfWords['closeness_score'] = dfWords.apply(lambda x: 1/(kmeans_model.transform([x.vectors]).min()), axis=1)\n",
    "dfWords['sentiment_coeff'] = dfWords.closeness_score * dfWords.cluster_value\n",
    "dfWords[dfWords['cluster_value'] == -1].head()"
   ],
   "metadata": {
    "collapsed": false,
    "pycharm": {
     "name": "#%%\n"
    }
   }
  },
  {
   "cell_type": "code",
   "execution_count": 144,
   "outputs": [],
   "source": [
    "sentiment_dict = dict(zip(dfWords.words.values, dfWords.sentiment_coeff.values))"
   ],
   "metadata": {
    "collapsed": false,
    "pycharm": {
     "name": "#%%\n"
    }
   }
  },
  {
   "cell_type": "code",
   "execution_count": 145,
   "outputs": [],
   "source": [
    "replaced_closeness_scores = dfCleanedReviews['comments'].apply(lambda x: list(map(lambda y: replace_sentiment_words(y, sentiment_dict), x.split())))"
   ],
   "metadata": {
    "collapsed": false,
    "pycharm": {
     "name": "#%%\n"
    }
   }
  },
  {
   "cell_type": "code",
   "execution_count": 146,
   "outputs": [
    {
     "data": {
      "text/plain": "                                     sentiment_coeff  \\\n0  [0.0, -0.17845424863877163, 0.0, 0.0, 0.0, 0.0...   \n1  [-0.14169600930737072, -0.17845424863877163, 0...   \n2  [0.0, -0.14736751348122512, 0.0, 0.0, 0.0, -0....   \n3  [0.0, 0.14592163170361538, 0.09924674485275728...   \n4  [0.0, 0.0, 0.08637751005721282, 0.101727374669...   \n\n                                        tfidf_scores  \\\n0  [6.45518200427728, 3.6108140688773807, 1.62336...   \n1  [2.034512963851828, 2.407209379251587, 2.64191...   \n2  [2.091150860411193, 4.119858950780223, 4.87009...   \n3  [1.8501655371557688, 2.159718877149754, 2.7123...   \n4  [3.927308953862587, 3.246732537406179, 2.84084...   \n\n                                            sentence  sentiment_rate  \\\n0  jan be very friendly and welcome host the apar...       -0.632116   \n1  it be really nice area food park transport be ...        0.141791   \n2  we have very nice stay in berlin thanks to jan...       -0.656895   \n3  great location close to mauerpark kastanienall...        4.695634   \n4  apartment very well locate close to everything...       -2.767381   \n\n   prediction  \n0           0  \n1           1  \n2           0  \n3           1  \n4           0  ",
      "text/html": "<div>\n<style scoped>\n    .dataframe tbody tr th:only-of-type {\n        vertical-align: middle;\n    }\n\n    .dataframe tbody tr th {\n        vertical-align: top;\n    }\n\n    .dataframe thead th {\n        text-align: right;\n    }\n</style>\n<table border=\"1\" class=\"dataframe\">\n  <thead>\n    <tr style=\"text-align: right;\">\n      <th></th>\n      <th>sentiment_coeff</th>\n      <th>tfidf_scores</th>\n      <th>sentence</th>\n      <th>sentiment_rate</th>\n      <th>prediction</th>\n    </tr>\n  </thead>\n  <tbody>\n    <tr>\n      <th>0</th>\n      <td>[0.0, -0.17845424863877163, 0.0, 0.0, 0.0, 0.0...</td>\n      <td>[6.45518200427728, 3.6108140688773807, 1.62336...</td>\n      <td>jan be very friendly and welcome host the apar...</td>\n      <td>-0.632116</td>\n      <td>0</td>\n    </tr>\n    <tr>\n      <th>1</th>\n      <td>[-0.14169600930737072, -0.17845424863877163, 0...</td>\n      <td>[2.034512963851828, 2.407209379251587, 2.64191...</td>\n      <td>it be really nice area food park transport be ...</td>\n      <td>0.141791</td>\n      <td>1</td>\n    </tr>\n    <tr>\n      <th>2</th>\n      <td>[0.0, -0.14736751348122512, 0.0, 0.0, 0.0, -0....</td>\n      <td>[2.091150860411193, 4.119858950780223, 4.87009...</td>\n      <td>we have very nice stay in berlin thanks to jan...</td>\n      <td>-0.656895</td>\n      <td>0</td>\n    </tr>\n    <tr>\n      <th>3</th>\n      <td>[0.0, 0.14592163170361538, 0.09924674485275728...</td>\n      <td>[1.8501655371557688, 2.159718877149754, 2.7123...</td>\n      <td>great location close to mauerpark kastanienall...</td>\n      <td>4.695634</td>\n      <td>1</td>\n    </tr>\n    <tr>\n      <th>4</th>\n      <td>[0.0, 0.0, 0.08637751005721282, 0.101727374669...</td>\n      <td>[3.927308953862587, 3.246732537406179, 2.84084...</td>\n      <td>apartment very well locate close to everything...</td>\n      <td>-2.767381</td>\n      <td>0</td>\n    </tr>\n  </tbody>\n</table>\n</div>"
     },
     "execution_count": 146,
     "metadata": {},
     "output_type": "execute_result"
    }
   ],
   "source": [
    "replacement_df = pd.DataFrame(data=[replaced_closeness_scores, replaced_tfidf_scores, dfCleanedReviews['comments']]).T\n",
    "replacement_df.columns = ['sentiment_coeff', 'tfidf_scores', 'sentence']\n",
    "replacement_df['sentiment_rate'] = replacement_df.apply(lambda x: np.array(x.loc['sentiment_coeff']) @ np.array(x.loc['tfidf_scores']), axis=1)\n",
    "# replacement_df['prediction'] = 'Positive' if replacement_df.sentiment_rate>0 else 'Negative'\n",
    "replacement_df['prediction'] = (replacement_df.sentiment_rate>0).astype('int8')\n",
    "# replacement_df['sentiment'] = [1 if i==1 else 0 for i in replacement_df.sentiment]\n",
    "replacement_df.head()"
   ],
   "metadata": {
    "collapsed": false,
    "pycharm": {
     "name": "#%%\n"
    }
   }
  },
  {
   "cell_type": "code",
   "execution_count": null,
   "outputs": [],
   "source": [
    "# replacement_df.to_csv('sentiment_dataset_3_clusters.csv', sep=',', index=False, header=True)"
   ],
   "metadata": {
    "collapsed": false,
    "pycharm": {
     "name": "#%%\n"
    }
   }
  },
  {
   "cell_type": "code",
   "execution_count": 147,
   "outputs": [
    {
     "name": "stderr",
     "output_type": "stream",
     "text": [
      "d:\\utenti\\marco\\desktop\\insubria\\laurea magistrale\\data mining\\airbnb-sentiment\\venv\\lib\\site-packages\\ipykernel_launcher.py:2: SettingWithCopyWarning: \n",
      "A value is trying to be set on a copy of a slice from a DataFrame\n",
      "\n",
      "See the caveats in the documentation: https://pandas.pydata.org/pandas-docs/stable/user_guide/indexing.html#returning-a-view-versus-a-copy\n",
      "  \n"
     ]
    },
    {
     "data": {
      "text/plain": "['accuracy pretty sure this place be low income housing the building be super sketchy the lobby area be disgust dark and full of graffiti tags the elevator be the same way the wall and floor of hallway lead into the apartment look like they ve never be clean the neighbor have their possession scatter about the hallway it say it have three bedroom but there be two plus bed in the living room which be openly connect to the rest of the residence every electrical socket and light fixture be hang out of the wall or ceiling the stove have be disable and be connect to propane tank there be piece of raw plywood hang randomly attach to wall jet out into area of traffic the nicer furniture in the photo have be remove check in from the street it be difficult to see the building we be suppose to enter there be very little lighting in the area and there aren easily visible sign with marking everything around the entrance look be dirty and cover in graffiti tag have make plan to meet chadi between at he be message me ask where be and that he have be wait for me arrive at exactly excite the elevator on the floor all of the light be off and it be extremely eerie enter the residence it be extremely cold and all of the heat be off on top of this during check in the door to the balcony be open letting in draft and an unexpected man be out there on the phone and be never introduce with the lack of heat there be little bedding include pretty sure would have freeze if have stay there cleanliness wouldn be able to guess how long it have be since the place have be clean the wall and floor be filthy there be residue leave in the toilet and filmy stain in the bathtub shower and sink not all of the bed have bedding and appear to be very old the bedding be tattered and didn look clean the kitchen be mess it contain shop cart full of empty bottle there be rot vegetable in the refrigerator that have terrible odor there be also pot inside contain pasta sit in liquid there be also another container cover in tinfoil which do not examine communication have make plan to meet chadi between at he be message me ask where be and that he have be wait for me arrive at exactly location other than be in low income housing area the location didn seem terrible from the min be there at night value the value be insanely terrible after see the residence cancel my reservation at over and find great hotel room at the sheraton grand for under',\n 'be an advocate for airbnb and have be host for two year but this experience highlight the major problem with many airbnb listing and have by far be the bad ve experience it start with the check in the quest be send information to collect the key which be about minute walk from the accommodation arrive with the give code to collect the key and the confusion begin wait half an hour before be give two set of key the one that didn fit be to return at this stage felt be the victim of scam neither key would fit the door suspect this studio be foreign own as everything be outsource and the owner be not there hour behind to oversee any problem nor do they assume responsibility when anything that go wrong the studio be stories up so if you be elderly or have health condition this need to be consider be call the key manager on an international phone try to arrange the key neither he nor could contact the owner if didn have phone service would have be up and down those stair and hang around hour bottle shop wait for key the other silent owner monique with whom have never hear of nor have any correspondence with started send me message via airbnb blame me as have request an early check which be agree to and not consider problem when correspond with isabella the other owner it take three hour to get the right key at this stage would have prefer to of cancel the accommodation mainly because of the owner attitude have come in on long international flight and be leave bewilder by the owner attitude that the key fiasco be my fault the previous guest speak of this key arrangement as be difficult in his review the studio itself present well but be far from practical as this be night minimum stay there be absolutely no consideration to what guest might require the kitchen have the very basics what be provide look like every past guest leftover and there be no wash machine couch would have be good and physical map of the area the host provide one towel each and two toilet roll for night there be no proper broom or mop there be old soap and other product in the shower leave by previous guest the shower basin do not drain and will flood the floor the host provide an ipad but this be fiddle with by previous guest and the code and language have be change render it useless the host provide bike but this process be convolute as well be to sign waiver to use the bike download an agreement on the ipad at this stage just give up the tenant of',\n 'terrible experience this be my first time use airbnb be book for group of people for night fri sun in february when make the initial booking request the airbnb rate be include the service fee clean fee and surcharge for additional guest however this be decline by the owner and instead be send pre approve special offer which come to when check the price almost increase when sent message to the host use the airbnb mail to determine why they do not respond our alternative apartment be book at this stage so we decide to go through with our book for this apt when make my way through the book the price have again inexplicably increase to incl all fee without any explanation and without an increase in the list rate couldn work this price out from the rate quote on the listing even take into account the extra people very unsatisfactory to make matter bad on the day of departure the host son call me to inform me that the new berlin city tax be not include in the agreed price and that would have to leave an additional on the table in cash before we leave our agreement through airbnb have no mention of any additional charge so inform them that consider that it be include in the total fee that have pay and refuse to pay any more note that airbnb policy in this regard be that the tax should be add to the rate list on the website the whole experience leave bad taste in my mouth and spoil what be otherwise an enjoyable weekend with my wife and good friend in fantastic city would also note that it take two mail and text message on the day lead up to the visit to get the host to send me direction on where to pick up the key also never meet the host communication be ridiculously poor and see that other people have note this the apartment be on the st floor and there be noisy bar on the ground floor of the adjacent building that open late the bar have side door that lead directly into the stairwell of the apartment which be poor security on the friday night of our visit there be an incident in the early hour where some people be smash bottle on the pavement below our apartment which wake everyone up street traffic include the passing tram also make the main front bedroom in the apartment noisy the lighting in the apartment be seriously poor and most of the bulb in the main bedroom be not work the curtain be also flimsy only offer partial privacy in the apartment will not be return to his apartment or host',\n 'would give this place star review but since there be no half round up luke be an accommodate host but his place be less so have stay in many airbnb but this be my first experience in private room with the host so want to accurately reflect my experience luke be kind and offer tip and extend invite to spend time with his friend that be say the place wasn quite as picture he be spring cleaning so the kitchen and entry way be clutter laundry on floor in kitchen vacuum and mop in front of doorway box and book take up large corner of the house we be there for night he start spring clean before we arrive and be still go at it slowly as we leave at first glance the room be very welcome but little inconvenience pile up the third night as we lay on the bed it break we look under the bed to find that the bed be already broken and be hold up by stack of book also under the bed lot of dust cigarette butt candy wrapper etc we notify him and he come in quickly and tell us he hat the bed and have be mean to get rid of it but keep forget he give it temporary fix and address it with more book the next day the garbage under the bed remain the bed hold up for the rest of the trip also the bed linen have small hole in them after that we notice thing keep fall apart the doorknob to the bedroom fell off twice the knob of the kitchen sink would fall off at almost every use the dryer be break the front door didn have knob the upulstry on the couch be tear the clothes rack need to be constantly repropped up because the hanger would slide off them and this be the only place to store your clothing no dresser or drawer we notice the beautiful bedroom table in the photo be replace with two small rickety pressboard table the apartment building door be old and janky to use and take numerous try to get in because the key be so finicky any of these would be minor issue but all together it start to get frustrating some of the more positive attribute of the stay and there be many the bathtub be phenomenal and the water pressure be perfect the bedroom be large the location be central luke offer headache medicine to my girlfriend when she be sick and make us breakfast one morning and be always quick to respond to message overall the experience be not bad and the host be kind but there be many bump in the road that be surprise didn get highlight in past review so want to give an accurate depiction of the place',\n 'bacho apartment itself be good sized apartment with good enough location in berlin close to public transportation and less than walk to the city main attraction the wi fi work good and the building be silent the only structural drawback be the floor stair to go up and down since there be no elevator in the building the commucation with bacho be quite easy until the day of arrival he be not actually in berlin so he have send friend of his to hand me the key but his friend be initially not at the apartment at the hour set as result get to wait min at the apartment door by the time have actually enter the apartment be when disaster begin the apartment be in abandon look state there be dust everywhere grease all over the cooktop small piece of food in the kitchen floor disgust toilet black stain all over its floor facial hair all over its sink and not even clean sheet for the bed be desperate for moment my decision then be to buy cleaning product at the near market and do the cleaning myself waste the afternoon would spend enjoy the city as plan as for the clean sheet message bacho and ask for at least clean sheet regard the apartment cleaning after more than hour have do the apartment livable space again as for the clean sheet bacho be simply not able to arrange me such have to sleep my first night use the sheet as use by the previous guest as bacho itself have affirm there be no cleaning in between my stay and the previous stay as he supposedly rely on what the last guest do for cleaning as if the responsibility absurdly be not his as if my afternoon be not awkward and stressful enough by the time finish all the cleaning and decide to get my rental car and finally go explore little bit realise that the car passenger small window near the side mirror be break and my dslr camera that have leave in the car be rob the car be park exactly in front of the building and it be still daylight as result the last amount of time leave for my arrival day in berlin which would finally spend with the travelling that have plan have to spend speaking german at nearby police station it be disastrous day even though obviously would not blame bacho for the rental car window or my camera it be clear to me that if it weren for his lack of responsibility and respect for his guest by leave the apartment with no appropriate higiene procedure for each incoming guest would simply have live good day in berlin would still have my camera and would not be require to pay my rental auto window repair']"
     },
     "execution_count": 147,
     "metadata": {},
     "output_type": "execute_result"
    }
   ],
   "source": [
    "dfNegativeSentiment = replacement_df[replacement_df['prediction'] == 0]\n",
    "dfNegativeSentiment.sort_values(by=['sentiment_rate'], inplace=True)\n",
    "dfNegativeSentiment['sentence'].head().tolist()"
   ],
   "metadata": {
    "collapsed": false,
    "pycharm": {
     "name": "#%%\n"
    }
   }
  },
  {
   "cell_type": "markdown",
   "source": [
    "## Hierarchical clustering"
   ],
   "metadata": {
    "collapsed": false,
    "pycharm": {
     "name": "#%% md\n"
    }
   }
  },
  {
   "cell_type": "code",
   "execution_count": 129,
   "outputs": [],
   "source": [
    "# import scipy.cluster.hierarchy as sch\n",
    "#\n",
    "# plt.figure(figsize=(10,10))\n",
    "# dendrogram = sch.dendrogram(sch.linkage(w2v_model.wv.vectors.astype('double'), method = 'ward'))\n",
    "# plt.title('Dendrogram')\n",
    "# plt.xlabel('Words')\n",
    "# plt.ylabel('Euclidean distances')\n",
    "# plt.show()\n",
    "#"
   ],
   "metadata": {
    "collapsed": false,
    "pycharm": {
     "name": "#%%\n"
    }
   }
  },
  {
   "cell_type": "code",
   "execution_count": 130,
   "outputs": [],
   "source": [
    "# from sklearn.cluster import AgglomerativeClustering\n",
    "#\n",
    "# hc = AgglomerativeClustering(n_clusters = 4, linkage = 'ward')\n",
    "# y_hc = hc.fit_predict(w2v_model.wv.vectors.astype('double'))\n",
    "#"
   ],
   "metadata": {
    "collapsed": false,
    "pycharm": {
     "name": "#%%\n"
    }
   }
  },
  {
   "cell_type": "code",
   "execution_count": 131,
   "outputs": [],
   "source": [
    "# dfWords2 = pd.DataFrame(data=[w2v_model.wv.key_to_index.keys(), y_hc]).T\n",
    "# dfWords2.columns = ['words', 'clusters']\n",
    "# dfWords2['vectors'] = dfWords2.words.apply(lambda x: w2v_model.wv[f'{x}'])\n",
    "# dfWords2.head()\n",
    "#"
   ],
   "metadata": {
    "collapsed": false,
    "pycharm": {
     "name": "#%%\n"
    }
   }
  },
  {
   "cell_type": "code",
   "execution_count": 132,
   "outputs": [],
   "source": [
    "# batch_nrs = len(w2v_model.wv.key_to_index.keys()) // 500\n",
    "# batch_nrs\n",
    "#"
   ],
   "metadata": {
    "collapsed": false,
    "pycharm": {
     "name": "#%%\n"
    }
   }
  },
  {
   "cell_type": "code",
   "execution_count": 133,
   "outputs": [],
   "source": [
    "# silhouette_scores = []\n",
    "#\n",
    "# for i in range(batch_nrs):\n",
    "#     silhouetteScore = silhouette_score(w2v_model.wv.vectors[i*500:(i+1)*500],\n",
    "#                                        y_hc[i*500:(i+1)*500],\n",
    "#                                        metric='euclidean')\n",
    "#     print(silhouetteScore)\n",
    "#     silhouette_scores.append(silhouetteScore)\n",
    "#\n",
    "# finalSilhouetteScore = np.mean(silhouette_scores)\n",
    "# finalSilhouetteScore\n"
   ],
   "metadata": {
    "collapsed": false,
    "pycharm": {
     "name": "#%%\n"
    }
   }
  }
 ],
 "metadata": {
  "kernelspec": {
   "display_name": "Python 3",
   "language": "python",
   "name": "python3"
  },
  "language_info": {
   "codemirror_mode": {
    "name": "ipython",
    "version": 2
   },
   "file_extension": ".py",
   "mimetype": "text/x-python",
   "name": "python",
   "nbconvert_exporter": "python",
   "pygments_lexer": "ipython2",
   "version": "2.7.6"
  }
 },
 "nbformat": 4,
 "nbformat_minor": 0
}