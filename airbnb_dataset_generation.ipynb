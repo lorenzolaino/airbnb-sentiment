{
 "cells": [
  {
   "cell_type": "markdown",
   "metadata": {},
   "source": [
    "# AirBnB Sentiment Analysis - Dataset generation"
   ]
  },
  {
   "cell_type": "code",
   "execution_count": 2,
   "metadata": {},
   "outputs": [],
   "source": [
    "%reload_ext autoreload\n",
    "%autoreload 2\n",
    "%matplotlib inline"
   ]
  },
  {
   "cell_type": "markdown",
   "metadata": {},
   "source": [
    "## Project Scope\n",
    " - Use of sentiment analysis, of the reviews of each ad, to view the evaluation of the ad\n",
    "    itself.\n",
    "\n",
    " - Search for relationships between the price of a room and the day of the week, holidays,\n",
    "    and time of year, and relationships between the price and the characteristics of a\n",
    "    room to make a forecast.\n",
    "\n",
    "Dataset: https://www.kaggle.com/brittabettendorf/berlin-airbnb-data"
   ]
  },
  {
   "cell_type": "code",
   "execution_count": 3,
   "metadata": {},
   "outputs": [],
   "source": [
    "import langdetect\n",
    "import pandas as pd\n",
    "import zipfile36 as zipfile"
   ]
  },
  {
   "cell_type": "markdown",
   "source": [
    "## 1. Import of the reviews' dataset\n",
    "\n",
    "The first step concerns the download of the datasets.\n",
    "In particular, for this purpose, the Kaggle APIs are used."
   ],
   "metadata": {
    "collapsed": false,
    "pycharm": {
     "name": "#%% md\n"
    }
   }
  },
  {
   "cell_type": "code",
   "execution_count": 3,
   "metadata": {},
   "outputs": [
    {
     "name": "stdout",
     "output_type": "stream",
     "text": [
      "berlin-airbnb-data.zip: Skipping, found more recently modified local copy (use --force to force download)\n"
     ]
    }
   ],
   "source": [
    "!kaggle datasets download -d brittabettendorf/berlin-airbnb-data"
   ]
  },
  {
   "cell_type": "code",
   "execution_count": 17,
   "metadata": {},
   "outputs": [
    {
     "data": {
      "text/plain": "   listing_id        id        date  reviewer_id reviewer_name  \\\n0        2015  69544350  2016-04-11      7178145         Rahel   \n1        2015  69990732  2016-04-15     41944715        Hannah   \n2        2015  71605267  2016-04-26     30048708        Victor   \n3        2015  73819566  2016-05-10     63697857          Judy   \n4        2015  74293504  2016-05-14     10414887        Romina   \n\n                                            comments  \n0  Mein Freund und ich hatten gute gemütliche vie...  \n1  Jan was very friendly and welcoming host! The ...  \n2  Un appartement tres bien situé dans un quartie...  \n3  It is really nice area, food, park, transport ...  \n4  Buena ubicación, el departamento no está orden...  ",
      "text/html": "<div>\n<style scoped>\n    .dataframe tbody tr th:only-of-type {\n        vertical-align: middle;\n    }\n\n    .dataframe tbody tr th {\n        vertical-align: top;\n    }\n\n    .dataframe thead th {\n        text-align: right;\n    }\n</style>\n<table border=\"1\" class=\"dataframe\">\n  <thead>\n    <tr style=\"text-align: right;\">\n      <th></th>\n      <th>listing_id</th>\n      <th>id</th>\n      <th>date</th>\n      <th>reviewer_id</th>\n      <th>reviewer_name</th>\n      <th>comments</th>\n    </tr>\n  </thead>\n  <tbody>\n    <tr>\n      <th>0</th>\n      <td>2015</td>\n      <td>69544350</td>\n      <td>2016-04-11</td>\n      <td>7178145</td>\n      <td>Rahel</td>\n      <td>Mein Freund und ich hatten gute gemütliche vie...</td>\n    </tr>\n    <tr>\n      <th>1</th>\n      <td>2015</td>\n      <td>69990732</td>\n      <td>2016-04-15</td>\n      <td>41944715</td>\n      <td>Hannah</td>\n      <td>Jan was very friendly and welcoming host! The ...</td>\n    </tr>\n    <tr>\n      <th>2</th>\n      <td>2015</td>\n      <td>71605267</td>\n      <td>2016-04-26</td>\n      <td>30048708</td>\n      <td>Victor</td>\n      <td>Un appartement tres bien situé dans un quartie...</td>\n    </tr>\n    <tr>\n      <th>3</th>\n      <td>2015</td>\n      <td>73819566</td>\n      <td>2016-05-10</td>\n      <td>63697857</td>\n      <td>Judy</td>\n      <td>It is really nice area, food, park, transport ...</td>\n    </tr>\n    <tr>\n      <th>4</th>\n      <td>2015</td>\n      <td>74293504</td>\n      <td>2016-05-14</td>\n      <td>10414887</td>\n      <td>Romina</td>\n      <td>Buena ubicación, el departamento no está orden...</td>\n    </tr>\n  </tbody>\n</table>\n</div>"
     },
     "execution_count": 17,
     "metadata": {},
     "output_type": "execute_result"
    }
   ],
   "source": [
    "zf = zipfile.ZipFile('berlin-airbnb-data.zip')\n",
    "dfReviews = pd.read_csv(zf.open('reviews_summary.csv'))\n",
    "dfReviews.head()"
   ]
  },
  {
   "cell_type": "markdown",
   "source": [
    "## 2. Data preprocessing\n",
    "\n",
    "Once the dataset is available, it is needed to check whether there are some null data-points."
   ],
   "metadata": {
    "collapsed": false,
    "pycharm": {
     "name": "#%% md\n"
    }
   }
  },
  {
   "cell_type": "code",
   "execution_count": 5,
   "outputs": [
    {
     "name": "stdout",
     "output_type": "stream",
     "text": [
      "<class 'pandas.core.frame.DataFrame'>\n",
      "RangeIndex: 401963 entries, 0 to 401962\n",
      "Data columns (total 6 columns):\n",
      " #   Column         Non-Null Count   Dtype \n",
      "---  ------         --------------   ----- \n",
      " 0   listing_id     401963 non-null  int64 \n",
      " 1   id             401963 non-null  int64 \n",
      " 2   date           401963 non-null  object\n",
      " 3   reviewer_id    401963 non-null  int64 \n",
      " 4   reviewer_name  401963 non-null  object\n",
      " 5   comments       401467 non-null  object\n",
      "dtypes: int64(3), object(3)\n",
      "memory usage: 18.4+ MB\n"
     ]
    }
   ],
   "source": [
    "dfReviews.info()"
   ],
   "metadata": {
    "collapsed": false,
    "pycharm": {
     "name": "#%%\n"
    }
   }
  },
  {
   "cell_type": "code",
   "execution_count": 6,
   "outputs": [
    {
     "name": "stdout",
     "output_type": "stream",
     "text": [
      "Number of null comments: 496\n"
     ]
    },
    {
     "data": {
      "text/plain": "       listing_id         id        date  reviewer_id reviewer_name comments\n3049        42809     160781  2010-12-31       226667         Frank      NaN\n4316        63468   75695155  2016-05-22     26052219     Sebastian      NaN\n7984       139769   10110711  2014-01-31     10977586          Mark      NaN\n8411       153015  234852734  2018-02-14    165971645        Chiara      NaN\n10960      183918   11107030  2014-03-21     11014142        Andrea      NaN",
      "text/html": "<div>\n<style scoped>\n    .dataframe tbody tr th:only-of-type {\n        vertical-align: middle;\n    }\n\n    .dataframe tbody tr th {\n        vertical-align: top;\n    }\n\n    .dataframe thead th {\n        text-align: right;\n    }\n</style>\n<table border=\"1\" class=\"dataframe\">\n  <thead>\n    <tr style=\"text-align: right;\">\n      <th></th>\n      <th>listing_id</th>\n      <th>id</th>\n      <th>date</th>\n      <th>reviewer_id</th>\n      <th>reviewer_name</th>\n      <th>comments</th>\n    </tr>\n  </thead>\n  <tbody>\n    <tr>\n      <th>3049</th>\n      <td>42809</td>\n      <td>160781</td>\n      <td>2010-12-31</td>\n      <td>226667</td>\n      <td>Frank</td>\n      <td>NaN</td>\n    </tr>\n    <tr>\n      <th>4316</th>\n      <td>63468</td>\n      <td>75695155</td>\n      <td>2016-05-22</td>\n      <td>26052219</td>\n      <td>Sebastian</td>\n      <td>NaN</td>\n    </tr>\n    <tr>\n      <th>7984</th>\n      <td>139769</td>\n      <td>10110711</td>\n      <td>2014-01-31</td>\n      <td>10977586</td>\n      <td>Mark</td>\n      <td>NaN</td>\n    </tr>\n    <tr>\n      <th>8411</th>\n      <td>153015</td>\n      <td>234852734</td>\n      <td>2018-02-14</td>\n      <td>165971645</td>\n      <td>Chiara</td>\n      <td>NaN</td>\n    </tr>\n    <tr>\n      <th>10960</th>\n      <td>183918</td>\n      <td>11107030</td>\n      <td>2014-03-21</td>\n      <td>11014142</td>\n      <td>Andrea</td>\n      <td>NaN</td>\n    </tr>\n  </tbody>\n</table>\n</div>"
     },
     "execution_count": 6,
     "metadata": {},
     "output_type": "execute_result"
    }
   ],
   "source": [
    "dfNullReviews = dfReviews[dfReviews['comments'].isnull()]\n",
    "print(f'Number of null comments: {dfNullReviews.shape[0]}')\n",
    "dfNullReviews.head()"
   ],
   "metadata": {
    "collapsed": false,
    "pycharm": {
     "name": "#%%\n"
    }
   }
  },
  {
   "cell_type": "code",
   "execution_count": 7,
   "outputs": [
    {
     "name": "stdout",
     "output_type": "stream",
     "text": [
      "<class 'pandas.core.frame.DataFrame'>\n",
      "Int64Index: 401467 entries, 0 to 401962\n",
      "Data columns (total 6 columns):\n",
      " #   Column         Non-Null Count   Dtype \n",
      "---  ------         --------------   ----- \n",
      " 0   listing_id     401467 non-null  int64 \n",
      " 1   id             401467 non-null  int64 \n",
      " 2   date           401467 non-null  object\n",
      " 3   reviewer_id    401467 non-null  int64 \n",
      " 4   reviewer_name  401467 non-null  object\n",
      " 5   comments       401467 non-null  object\n",
      "dtypes: int64(3), object(3)\n",
      "memory usage: 21.4+ MB\n"
     ]
    }
   ],
   "source": [
    "dfReviews.dropna(axis=0, how='any', inplace=True)\n",
    "dfReviews.info()"
   ],
   "metadata": {
    "collapsed": false,
    "pycharm": {
     "name": "#%%\n"
    }
   }
  },
  {
   "cell_type": "markdown",
   "source": [
    "After the null data-points removal operation, it is needed to convert all the comments\n",
    "into lowercase strings."
   ],
   "metadata": {
    "collapsed": false,
    "pycharm": {
     "name": "#%% md\n"
    }
   }
  },
  {
   "cell_type": "code",
   "execution_count": 8,
   "outputs": [
    {
     "data": {
      "text/plain": "   listing_id        id        date  reviewer_id reviewer_name  \\\n0        2015  69544350  2016-04-11      7178145         Rahel   \n1        2015  69990732  2016-04-15     41944715        Hannah   \n2        2015  71605267  2016-04-26     30048708        Victor   \n3        2015  73819566  2016-05-10     63697857          Judy   \n4        2015  74293504  2016-05-14     10414887        Romina   \n\n                                            comments  \n0  mein freund und ich hatten gute gemütliche vie...  \n1  jan was very friendly and welcoming host! the ...  \n2  un appartement tres bien situé dans un quartie...  \n3  it is really nice area, food, park, transport ...  \n4  buena ubicación, el departamento no está orden...  ",
      "text/html": "<div>\n<style scoped>\n    .dataframe tbody tr th:only-of-type {\n        vertical-align: middle;\n    }\n\n    .dataframe tbody tr th {\n        vertical-align: top;\n    }\n\n    .dataframe thead th {\n        text-align: right;\n    }\n</style>\n<table border=\"1\" class=\"dataframe\">\n  <thead>\n    <tr style=\"text-align: right;\">\n      <th></th>\n      <th>listing_id</th>\n      <th>id</th>\n      <th>date</th>\n      <th>reviewer_id</th>\n      <th>reviewer_name</th>\n      <th>comments</th>\n    </tr>\n  </thead>\n  <tbody>\n    <tr>\n      <th>0</th>\n      <td>2015</td>\n      <td>69544350</td>\n      <td>2016-04-11</td>\n      <td>7178145</td>\n      <td>Rahel</td>\n      <td>mein freund und ich hatten gute gemütliche vie...</td>\n    </tr>\n    <tr>\n      <th>1</th>\n      <td>2015</td>\n      <td>69990732</td>\n      <td>2016-04-15</td>\n      <td>41944715</td>\n      <td>Hannah</td>\n      <td>jan was very friendly and welcoming host! the ...</td>\n    </tr>\n    <tr>\n      <th>2</th>\n      <td>2015</td>\n      <td>71605267</td>\n      <td>2016-04-26</td>\n      <td>30048708</td>\n      <td>Victor</td>\n      <td>un appartement tres bien situé dans un quartie...</td>\n    </tr>\n    <tr>\n      <th>3</th>\n      <td>2015</td>\n      <td>73819566</td>\n      <td>2016-05-10</td>\n      <td>63697857</td>\n      <td>Judy</td>\n      <td>it is really nice area, food, park, transport ...</td>\n    </tr>\n    <tr>\n      <th>4</th>\n      <td>2015</td>\n      <td>74293504</td>\n      <td>2016-05-14</td>\n      <td>10414887</td>\n      <td>Romina</td>\n      <td>buena ubicación, el departamento no está orden...</td>\n    </tr>\n  </tbody>\n</table>\n</div>"
     },
     "execution_count": 8,
     "metadata": {},
     "output_type": "execute_result"
    }
   ],
   "source": [
    "dfReviews['comments'] = dfReviews.apply(lambda x: x['comments'].lower(), axis=1)\n",
    "dfReviews.head()"
   ],
   "metadata": {
    "collapsed": false,
    "pycharm": {
     "name": "#%%\n"
    }
   }
  },
  {
   "cell_type": "markdown",
   "source": [
    "Since the comments are written in many languages, it can be useful to detect the language\n",
    "of each comment.\n",
    "This operation allows the selection of the comments based on their language (and also an\n",
    "eventual translation of all the comments into a common language).\n",
    "\n",
    "In order to detect the language of the comments, the langdetect library is used.\n",
    "\n",
    "The first step of this operation concerns the definition of a method that"
   ],
   "metadata": {
    "collapsed": false,
    "pycharm": {
     "name": "#%% md\n"
    }
   }
  },
  {
   "cell_type": "code",
   "execution_count": 9,
   "outputs": [],
   "source": [
    "def get_lang_from_comment(dataframe):\n",
    "    list_langs = []\n",
    "    for index, comment in dataframe['comments'].iteritems():\n",
    "        if index % 5000 == 0:\n",
    "            print(f'Processed {index} rows...')\n",
    "        try:\n",
    "            comment_lang = langdetect.detect(comment[:50])\n",
    "            list_langs.append(comment_lang)\n",
    "        except:\n",
    "            list_langs.append(\"None\")\n",
    "\n",
    "    return list_langs"
   ],
   "metadata": {
    "collapsed": false,
    "pycharm": {
     "name": "#%%\n"
    }
   }
  },
  {
   "cell_type": "markdown",
   "source": [
    "Once the language for each comment is detected, it is added as a new column to the already\n",
    "existing dataframe."
   ],
   "metadata": {
    "collapsed": false,
    "pycharm": {
     "name": "#%% md\n"
    }
   }
  },
  {
   "cell_type": "code",
   "execution_count": 15,
   "outputs": [
    {
     "data": {
      "text/plain": "   listing_id        id        date  reviewer_id reviewer_name  \\\n0        2015  69544350  2016-04-11      7178145         Rahel   \n1        2015  69990732  2016-04-15     41944715        Hannah   \n2        2015  71605267  2016-04-26     30048708        Victor   \n3        2015  73819566  2016-05-10     63697857          Judy   \n4        2015  74293504  2016-05-14     10414887        Romina   \n\n                                            comments  \n0  mein freund und ich hatten gute gemütliche vie...  \n1  jan was very friendly and welcoming host! the ...  \n2  un appartement tres bien situé dans un quartie...  \n3  it is really nice area, food, park, transport ...  \n4  buena ubicación, el departamento no está orden...  ",
      "text/html": "<div>\n<style scoped>\n    .dataframe tbody tr th:only-of-type {\n        vertical-align: middle;\n    }\n\n    .dataframe tbody tr th {\n        vertical-align: top;\n    }\n\n    .dataframe thead th {\n        text-align: right;\n    }\n</style>\n<table border=\"1\" class=\"dataframe\">\n  <thead>\n    <tr style=\"text-align: right;\">\n      <th></th>\n      <th>listing_id</th>\n      <th>id</th>\n      <th>date</th>\n      <th>reviewer_id</th>\n      <th>reviewer_name</th>\n      <th>comments</th>\n    </tr>\n  </thead>\n  <tbody>\n    <tr>\n      <th>0</th>\n      <td>2015</td>\n      <td>69544350</td>\n      <td>2016-04-11</td>\n      <td>7178145</td>\n      <td>Rahel</td>\n      <td>mein freund und ich hatten gute gemütliche vie...</td>\n    </tr>\n    <tr>\n      <th>1</th>\n      <td>2015</td>\n      <td>69990732</td>\n      <td>2016-04-15</td>\n      <td>41944715</td>\n      <td>Hannah</td>\n      <td>jan was very friendly and welcoming host! the ...</td>\n    </tr>\n    <tr>\n      <th>2</th>\n      <td>2015</td>\n      <td>71605267</td>\n      <td>2016-04-26</td>\n      <td>30048708</td>\n      <td>Victor</td>\n      <td>un appartement tres bien situé dans un quartie...</td>\n    </tr>\n    <tr>\n      <th>3</th>\n      <td>2015</td>\n      <td>73819566</td>\n      <td>2016-05-10</td>\n      <td>63697857</td>\n      <td>Judy</td>\n      <td>it is really nice area, food, park, transport ...</td>\n    </tr>\n    <tr>\n      <th>4</th>\n      <td>2015</td>\n      <td>74293504</td>\n      <td>2016-05-14</td>\n      <td>10414887</td>\n      <td>Romina</td>\n      <td>buena ubicación, el departamento no está orden...</td>\n    </tr>\n  </tbody>\n</table>\n</div>"
     },
     "execution_count": 15,
     "metadata": {},
     "output_type": "execute_result"
    }
   ],
   "source": [
    "dfReviews['Lang'] = get_lang_from_comment(dfReviews)\n",
    "dfReviews.head()"
   ],
   "metadata": {
    "collapsed": false,
    "pycharm": {
     "name": "#%%\n"
    }
   }
  },
  {
   "cell_type": "markdown",
   "source": [
    "Finally, the dataframe is saved into a .csv file.\n",
    "In this way, the language detection operation, that is very time-consuming, is performed\n",
    "only once."
   ],
   "metadata": {
    "collapsed": false,
    "pycharm": {
     "name": "#%% md\n"
    }
   }
  },
  {
   "cell_type": "code",
   "execution_count": 16,
   "outputs": [],
   "source": [
    "dfReviews.to_csv('reviews_summary_langs.csv', sep=\",\", index=False, header=True)\n"
   ],
   "metadata": {
    "collapsed": false,
    "pycharm": {
     "name": "#%%\n"
    }
   }
  }
 ],
 "metadata": {
  "kernelspec": {
   "name": "python3610jvsc74a57bd0f116369bb443611ec5cab0c9221307ec730b5e1ed95d27bdab35489ef9edeeb2",
   "display_name": "Python 3.6.10 64-bit ('dev': conda)"
  },
  "language_info": {
   "codemirror_mode": {
    "name": "ipython",
    "version": 3
   },
   "file_extension": ".py",
   "mimetype": "text/x-python",
   "name": "python",
   "nbconvert_exporter": "python",
   "pygments_lexer": "ipython3",
   "version": "3.6.10"
  }
 },
 "nbformat": 4,
 "nbformat_minor": 4
}