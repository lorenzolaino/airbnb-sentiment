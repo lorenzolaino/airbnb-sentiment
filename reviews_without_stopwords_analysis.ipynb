{
 "cells": [
  {
   "cell_type": "code",
   "execution_count": 1,
   "outputs": [],
   "source": [
    "import pandas as pd\n",
    "import matplotlib.pyplot as plt"
   ],
   "metadata": {
    "collapsed": false,
    "pycharm": {
     "name": "#%%\n"
    }
   }
  },
  {
   "cell_type": "code",
   "execution_count": 2,
   "outputs": [
    {
     "data": {
      "text/plain": "\"['jan', 'friendly', 'welcome', 'host', 'apartment', 'great', 'area', 'sooo', 'amaze', 'lot', 'nice', 'cafe', 'shop', 'enjoy', 'time', 'lot']\""
     },
     "execution_count": 2,
     "metadata": {},
     "output_type": "execute_result"
    }
   ],
   "source": [
    "with open('lemmatized_without_stopwords.txt') as f:\n",
    "    reviewsWithoutStopWords = f.read().splitlines()\n",
    "\n",
    "reviewsWithoutStopWords[0]"
   ],
   "metadata": {
    "collapsed": false,
    "pycharm": {
     "name": "#%%\n"
    }
   }
  },
  {
   "cell_type": "code",
   "execution_count": 3,
   "outputs": [
    {
     "data": {
      "text/plain": "['jan',\n 'friendly',\n 'welcome',\n 'host',\n 'apartment',\n 'great',\n 'area',\n 'sooo',\n 'amaze',\n 'lot',\n 'nice',\n 'cafe',\n 'shop',\n 'enjoy',\n 'time',\n 'lot']"
     },
     "execution_count": 3,
     "metadata": {},
     "output_type": "execute_result"
    }
   ],
   "source": [
    "reviewsWithoutStopWords = [review.replace('\\'', '').strip('][').split(', ')\n",
    "                           for review in reviewsWithoutStopWords]\n",
    "\n",
    "reviewsWithoutStopWords[0]"
   ],
   "metadata": {
    "collapsed": false,
    "pycharm": {
     "name": "#%%\n"
    }
   }
  },
  {
   "cell_type": "markdown",
   "source": [
    "## Bigrams generation"
   ],
   "metadata": {
    "collapsed": false
   }
  },
  {
   "cell_type": "code",
   "execution_count": 4,
   "outputs": [
    {
     "name": "stderr",
     "output_type": "stream",
     "text": [
      "d:\\utenti\\marco\\desktop\\insubria\\laurea magistrale\\data mining\\airbnb-sentiment\\venv\\lib\\site-packages\\gensim\\similarities\\__init__.py:15: UserWarning: The gensim.similarities.levenshtein submodule is disabled, because the optional Levenshtein package <https://pypi.org/project/python-Levenshtein/> is unavailable. Install Levenhstein (e.g. `pip install python-Levenshtein`) to suppress this warning.\n",
      "  warnings.warn(msg)\n"
     ]
    },
    {
     "data": {
      "text/plain": "['really', 'nice', 'area', 'food', 'park', 'transport', 'perfect']"
     },
     "execution_count": 4,
     "metadata": {},
     "output_type": "execute_result"
    }
   ],
   "source": [
    "from gensim.models.phrases import Phrases, Phraser\n",
    "\n",
    "phrasesWithoutStopWords = Phrases(reviewsWithoutStopWords,\n",
    "                                  min_count=3,\n",
    "                                  progress_per=50000)\n",
    "\n",
    "bigramWithoutStopWords = Phraser(phrasesWithoutStopWords)\n",
    "\n",
    "bigramReviewsWithoutStopWords = bigramWithoutStopWords[reviewsWithoutStopWords]\n",
    "\n",
    "bigramReviewsWithoutStopWords[0]"
   ],
   "metadata": {
    "collapsed": false,
    "pycharm": {
     "name": "#%%\n"
    }
   }
  },
  {
   "cell_type": "code",
   "execution_count": 5,
   "outputs": [
    {
     "data": {
      "text/plain": "64487"
     },
     "execution_count": 5,
     "metadata": {},
     "output_type": "execute_result"
    }
   ],
   "source": [
    "from collections import defaultdict\n",
    "\n",
    "dictWordFreq = defaultdict(int)\n",
    "for review in bigramReviewsWithoutStopWords:\n",
    "    for i in review:\n",
    "        dictWordFreq[i] += 1\n",
    "\n",
    "len(dictWordFreq)"
   ],
   "metadata": {
    "collapsed": false,
    "pycharm": {
     "name": "#%%\n"
    }
   }
  },
  {
   "cell_type": "code",
   "execution_count": null,
   "outputs": [],
   "source": [
    "# Eventually, show an example of item in word_freq"
   ],
   "metadata": {
    "collapsed": false,
    "pycharm": {
     "name": "#%%\n"
    }
   }
  },
  {
   "cell_type": "code",
   "execution_count": 6,
   "outputs": [
    {
     "data": {
      "text/plain": "['great',\n 'apartment',\n 'stay',\n 'place',\n 'berlin',\n 'nice',\n 'location',\n 'host',\n 'clean',\n 'good']"
     },
     "execution_count": 6,
     "metadata": {},
     "output_type": "execute_result"
    }
   ],
   "source": [
    "sorted(dictWordFreq, key=dictWordFreq.get, reverse=True)[:10]"
   ],
   "metadata": {
    "collapsed": false,
    "pycharm": {
     "name": "#%%\n"
    }
   }
  },
  {
   "cell_type": "markdown",
   "source": [
    "## Word2Vec model"
   ],
   "metadata": {
    "collapsed": false
   }
  },
  {
   "cell_type": "code",
   "execution_count": 7,
   "outputs": [],
   "source": [
    "from gensim.models import Word2Vec\n",
    "\n",
    "w2vModelWithoutStopWords = Word2Vec(min_count=20,\n",
    "                             window=4,\n",
    "                             vector_size=300,\n",
    "                             sample=6e-5,\n",
    "                             alpha=0.03,\n",
    "                             min_alpha=0.0007,\n",
    "                             negative=20,\n",
    "                             workers=4)"
   ],
   "metadata": {
    "collapsed": false,
    "pycharm": {
     "name": "#%%\n"
    }
   }
  },
  {
   "cell_type": "code",
   "execution_count": 8,
   "outputs": [
    {
     "name": "stdout",
     "output_type": "stream",
     "text": [
      "Time to build vocab: 0.13 mins\n"
     ]
    }
   ],
   "source": [
    "from time import time\n",
    "\n",
    "t = time()\n",
    "\n",
    "w2vModelWithoutStopWords.build_vocab(bigramReviewsWithoutStopWords, progress_per=10000)\n",
    "\n",
    "print('Time to build vocab: {} mins'.format(round((time() - t) / 60, 2)))"
   ],
   "metadata": {
    "collapsed": false,
    "pycharm": {
     "name": "#%%\n"
    }
   }
  },
  {
   "cell_type": "code",
   "execution_count": 9,
   "outputs": [
    {
     "name": "stdout",
     "output_type": "stream",
     "text": [
      "Time to train the model: 5.69 mins\n"
     ]
    }
   ],
   "source": [
    "t = time()\n",
    "\n",
    "w2vModelWithoutStopWords.train(bigramReviewsWithoutStopWords,\n",
    "                               total_examples=w2vModelWithoutStopWords.corpus_count,\n",
    "                               epochs=30,\n",
    "                               report_delay=1)\n",
    "\n",
    "print('Time to train the model: {} mins'.format(round((time() - t) / 60, 2)))"
   ],
   "metadata": {
    "collapsed": false,
    "pycharm": {
     "name": "#%%\n"
    }
   }
  },
  {
   "cell_type": "code",
   "execution_count": 10,
   "outputs": [],
   "source": [
    "# w2vModelWithoutStopWords.save(\"word2vec_no_stopwords.model\")"
   ],
   "metadata": {
    "collapsed": false,
    "pycharm": {
     "name": "#%%\n"
    }
   }
  },
  {
   "cell_type": "markdown",
   "source": [
    "## Exploring the model"
   ],
   "metadata": {
    "collapsed": false
   }
  },
  {
   "cell_type": "code",
   "execution_count": 11,
   "outputs": [
    {
     "data": {
      "text/plain": "[('flat', 0.6894327998161316),\n ('spacious', 0.5183488130569458),\n ('modern', 0.4726952016353607),\n ('clean', 0.4235592186450958),\n ('studio', 0.4066460132598877),\n ('beautifully_appoint', 0.40020251274108887),\n ('recently_renovate', 0.3892408609390259),\n ('stylishly_decorate', 0.38521313667297363),\n ('amenity', 0.38502761721611023),\n ('light_airy', 0.38435810804367065)]"
     },
     "execution_count": 11,
     "metadata": {},
     "output_type": "execute_result"
    }
   ],
   "source": [
    "w2vModelWithoutStopWords.wv.most_similar(positive=[\"apartment\"])"
   ],
   "metadata": {
    "collapsed": false,
    "pycharm": {
     "name": "#%%\n"
    }
   }
  },
  {
   "cell_type": "markdown",
   "source": [
    "## Clustering model"
   ],
   "metadata": {
    "collapsed": false
   }
  },
  {
   "cell_type": "code",
   "execution_count": 12,
   "outputs": [
    {
     "data": {
      "text/plain": "KMeans(max_iter=1000, n_clusters=2, n_init=50, random_state=42)"
     },
     "execution_count": 12,
     "metadata": {},
     "output_type": "execute_result"
    }
   ],
   "source": [
    "from sklearn.cluster import KMeans\n",
    "import numpy as np\n",
    "\n",
    "kmeansModel2Clusters = KMeans(n_clusters=2, max_iter=1000, random_state=42, n_init=50)\n",
    "kmeansModel2Clusters.fit(X=w2vModelWithoutStopWords.wv.vectors.astype('double'))"
   ],
   "metadata": {
    "collapsed": false,
    "pycharm": {
     "name": "#%%\n"
    }
   }
  },
  {
   "cell_type": "code",
   "execution_count": 13,
   "outputs": [
    {
     "data": {
      "text/plain": "[('unacceptable', 0.6562420129776001),\n ('due_lack', 0.6510743498802185),\n ('useless', 0.6452800631523132),\n ('replacement', 0.6404633522033691),\n ('wire', 0.6399429440498352),\n ('rug', 0.6363683342933655),\n ('metal', 0.6256919503211975),\n ('disgust', 0.6226676106452942),\n ('trap', 0.6218467950820923),\n ('however', 0.6179028153419495)]"
     },
     "execution_count": 13,
     "metadata": {},
     "output_type": "execute_result"
    }
   ],
   "source": [
    "w2vModelWithoutStopWords.wv.similar_by_vector(kmeansModel2Clusters.cluster_centers_[0],\n",
    "                                              topn=10,\n",
    "                                              restrict_vocab=None)"
   ],
   "metadata": {
    "collapsed": false,
    "pycharm": {
     "name": "#%%\n"
    }
   }
  },
  {
   "cell_type": "code",
   "execution_count": 14,
   "outputs": [],
   "source": [
    "negativeClusterIndex = 0"
   ],
   "metadata": {
    "collapsed": false,
    "pycharm": {
     "name": "#%%\n"
    }
   }
  },
  {
   "cell_type": "code",
   "execution_count": 15,
   "outputs": [
    {
     "data": {
      "text/plain": "       words                                            vectors  cluster\n0      great  [0.2318326, -0.41356355, -0.38995484, 0.054996...        1\n1  apartment  [0.18243288, -0.25620466, 0.051194306, 0.01662...        1\n2       stay  [0.28195247, 0.38772163, -0.038925134, 0.14130...        1\n3      place  [0.39702508, -0.29538885, 0.04700571, 0.120634...        1\n4     berlin  [-0.012200372, 0.06495952, -0.043543015, -0.23...        1",
      "text/html": "<div>\n<style scoped>\n    .dataframe tbody tr th:only-of-type {\n        vertical-align: middle;\n    }\n\n    .dataframe tbody tr th {\n        vertical-align: top;\n    }\n\n    .dataframe thead th {\n        text-align: right;\n    }\n</style>\n<table border=\"1\" class=\"dataframe\">\n  <thead>\n    <tr style=\"text-align: right;\">\n      <th></th>\n      <th>words</th>\n      <th>vectors</th>\n      <th>cluster</th>\n    </tr>\n  </thead>\n  <tbody>\n    <tr>\n      <th>0</th>\n      <td>great</td>\n      <td>[0.2318326, -0.41356355, -0.38995484, 0.054996...</td>\n      <td>1</td>\n    </tr>\n    <tr>\n      <th>1</th>\n      <td>apartment</td>\n      <td>[0.18243288, -0.25620466, 0.051194306, 0.01662...</td>\n      <td>1</td>\n    </tr>\n    <tr>\n      <th>2</th>\n      <td>stay</td>\n      <td>[0.28195247, 0.38772163, -0.038925134, 0.14130...</td>\n      <td>1</td>\n    </tr>\n    <tr>\n      <th>3</th>\n      <td>place</td>\n      <td>[0.39702508, -0.29538885, 0.04700571, 0.120634...</td>\n      <td>1</td>\n    </tr>\n    <tr>\n      <th>4</th>\n      <td>berlin</td>\n      <td>[-0.012200372, 0.06495952, -0.043543015, -0.23...</td>\n      <td>1</td>\n    </tr>\n  </tbody>\n</table>\n</div>"
     },
     "execution_count": 15,
     "metadata": {},
     "output_type": "execute_result"
    }
   ],
   "source": [
    "dfWords2ClustersWithoutStopWords = pd.DataFrame(\n",
    "    w2vModelWithoutStopWords.wv.key_to_index.keys())\n",
    "\n",
    "dfWords2ClustersWithoutStopWords.columns = ['words']\n",
    "\n",
    "dfWords2ClustersWithoutStopWords['vectors'] = \\\n",
    "    dfWords2ClustersWithoutStopWords['words'].apply(\n",
    "        lambda x: w2vModelWithoutStopWords.wv[f'{x}'])\n",
    "\n",
    "dfWords2ClustersWithoutStopWords['cluster'] = \\\n",
    "    dfWords2ClustersWithoutStopWords['vectors'].apply(\n",
    "        lambda x: w2vModelWithoutStopWords.predict([np.array(x)]))\n",
    "\n",
    "dfWords2ClustersWithoutStopWords['cluster'] = \\\n",
    "    dfWords2ClustersWithoutStopWords['cluster'].apply(\n",
    "        lambda x: x[0])\n",
    "\n",
    "dfWords2ClustersWithoutStopWords.head()"
   ],
   "metadata": {
    "collapsed": false,
    "pycharm": {
     "name": "#%%\n"
    }
   }
  },
  {
   "cell_type": "code",
   "execution_count": 16,
   "outputs": [
    {
     "data": {
      "text/plain": "   words                                            vectors  cluster  \\\n11  room  [-0.36604568, -0.08541794, 0.26281667, 0.56228...        0   \n40  like  [0.66072285, -0.034582037, 0.16814052, -0.4716...        0   \n45   one  [-0.5676881, -0.084533446, 0.8584303, -0.08739...        0   \n46   bed  [-0.7576953, -0.2234998, 0.16871263, 0.2120387...        0   \n47   big  [-0.6025334, -0.14693871, 0.42892277, 0.477283...        0   \n\n    cluster_value  closeness_score  sentiment_coeff  \n11             -1         0.138173        -0.138173  \n40             -1         0.129486        -0.129486  \n45             -1         0.159863        -0.159863  \n46             -1         0.108120        -0.108120  \n47             -1         0.116142        -0.116142  ",
      "text/html": "<div>\n<style scoped>\n    .dataframe tbody tr th:only-of-type {\n        vertical-align: middle;\n    }\n\n    .dataframe tbody tr th {\n        vertical-align: top;\n    }\n\n    .dataframe thead th {\n        text-align: right;\n    }\n</style>\n<table border=\"1\" class=\"dataframe\">\n  <thead>\n    <tr style=\"text-align: right;\">\n      <th></th>\n      <th>words</th>\n      <th>vectors</th>\n      <th>cluster</th>\n      <th>cluster_value</th>\n      <th>closeness_score</th>\n      <th>sentiment_coeff</th>\n    </tr>\n  </thead>\n  <tbody>\n    <tr>\n      <th>11</th>\n      <td>room</td>\n      <td>[-0.36604568, -0.08541794, 0.26281667, 0.56228...</td>\n      <td>0</td>\n      <td>-1</td>\n      <td>0.138173</td>\n      <td>-0.138173</td>\n    </tr>\n    <tr>\n      <th>40</th>\n      <td>like</td>\n      <td>[0.66072285, -0.034582037, 0.16814052, -0.4716...</td>\n      <td>0</td>\n      <td>-1</td>\n      <td>0.129486</td>\n      <td>-0.129486</td>\n    </tr>\n    <tr>\n      <th>45</th>\n      <td>one</td>\n      <td>[-0.5676881, -0.084533446, 0.8584303, -0.08739...</td>\n      <td>0</td>\n      <td>-1</td>\n      <td>0.159863</td>\n      <td>-0.159863</td>\n    </tr>\n    <tr>\n      <th>46</th>\n      <td>bed</td>\n      <td>[-0.7576953, -0.2234998, 0.16871263, 0.2120387...</td>\n      <td>0</td>\n      <td>-1</td>\n      <td>0.108120</td>\n      <td>-0.108120</td>\n    </tr>\n    <tr>\n      <th>47</th>\n      <td>big</td>\n      <td>[-0.6025334, -0.14693871, 0.42892277, 0.477283...</td>\n      <td>0</td>\n      <td>-1</td>\n      <td>0.116142</td>\n      <td>-0.116142</td>\n    </tr>\n  </tbody>\n</table>\n</div>"
     },
     "execution_count": 16,
     "metadata": {},
     "output_type": "execute_result"
    }
   ],
   "source": [
    "dfWords2ClustersWithoutStopWords['cluster_value'] = [\n",
    "    -1 if i==negativeClusterIndex else 1\n",
    "    for i in dfWords2ClustersWithoutStopWords['cluster']]\n",
    "\n",
    "dfWords2ClustersWithoutStopWords['closeness_score'] = \\\n",
    "    dfWords2ClustersWithoutStopWords.apply(\n",
    "        lambda x: 1/(kmeansModel2Clusters.transform([x.vectors]).min()),\n",
    "        axis=1)\n",
    "\n",
    "dfWords2ClustersWithoutStopWords['sentiment_coeff'] = \\\n",
    "    dfWords2ClustersWithoutStopWords['closeness_score'] * \\\n",
    "    dfWords2ClustersWithoutStopWords['cluster_value']\n",
    "\n",
    "dfWords2ClustersWithoutStopWords[\n",
    "    dfWords2ClustersWithoutStopWords['cluster_value'] == -1].head()"
   ],
   "metadata": {
    "collapsed": false,
    "pycharm": {
     "name": "#%%\n"
    }
   }
  },
  {
   "cell_type": "markdown",
   "source": [
    "## TF-IDF"
   ],
   "metadata": {
    "collapsed": false,
    "pycharm": {
     "name": "#%% md\n"
    }
   }
  },
  {
   "cell_type": "code",
   "execution_count": 17,
   "outputs": [
    {
     "data": {
      "text/plain": "                                            comments\n0  jan friendly welcome host apartment great area...\n1       really nice area food park transport perfect\n2  nice stay berlin thanks jan premium situate ap...\n3  great location close mauerpark kastanienallee ...\n4  apartment well locate close everything superma...",
      "text/html": "<div>\n<style scoped>\n    .dataframe tbody tr th:only-of-type {\n        vertical-align: middle;\n    }\n\n    .dataframe tbody tr th {\n        vertical-align: top;\n    }\n\n    .dataframe thead th {\n        text-align: right;\n    }\n</style>\n<table border=\"1\" class=\"dataframe\">\n  <thead>\n    <tr style=\"text-align: right;\">\n      <th></th>\n      <th>comments</th>\n    </tr>\n  </thead>\n  <tbody>\n    <tr>\n      <th>0</th>\n      <td>jan friendly welcome host apartment great area...</td>\n    </tr>\n    <tr>\n      <th>1</th>\n      <td>really nice area food park transport perfect</td>\n    </tr>\n    <tr>\n      <th>2</th>\n      <td>nice stay berlin thanks jan premium situate ap...</td>\n    </tr>\n    <tr>\n      <th>3</th>\n      <td>great location close mauerpark kastanienallee ...</td>\n    </tr>\n    <tr>\n      <th>4</th>\n      <td>apartment well locate close everything superma...</td>\n    </tr>\n  </tbody>\n</table>\n</div>"
     },
     "execution_count": 17,
     "metadata": {},
     "output_type": "execute_result"
    }
   ],
   "source": [
    "dfCleanedReviewsWithoutStopWords = pd.DataFrame(\n",
    "    [' '.join(review) for review in reviewsWithoutStopWords],\n",
    "    columns=['comments'])\n",
    "\n",
    "dfCleanedReviewsWithoutStopWords.head()"
   ],
   "metadata": {
    "collapsed": false,
    "pycharm": {
     "name": "#%%\n"
    }
   }
  },
  {
   "cell_type": "code",
   "execution_count": 18,
   "outputs": [],
   "source": [
    "from sklearn.feature_extraction.text import TfidfVectorizer\n",
    "\n",
    "tfidfWithoutStopWords = TfidfVectorizer(norm=None)\n",
    "transformed = tfidfWithoutStopWords.fit_transform(\n",
    "    dfCleanedReviewsWithoutStopWords['comments'].tolist())\n",
    "features = pd.Series(tfidfWithoutStopWords.get_feature_names())"
   ],
   "metadata": {
    "collapsed": false,
    "pycharm": {
     "name": "#%%\n"
    }
   }
  },
  {
   "cell_type": "code",
   "execution_count": 19,
   "outputs": [],
   "source": [
    "def create_tfidf_dictionary(x, transformed_file, features_file):\n",
    "    \"\"\"\n",
    "    create dictionary for each input sentence x, where each word has assigned its tfidf score\n",
    "\n",
    "    inspired  by function from this wonderful article:\n",
    "    https://medium.com/analytics-vidhya/automated-keyword-extraction-from-articles-using-nlp-bfd864f41b34\n",
    "\n",
    "    x - row of dataframe, containing sentences, and their indexes,\n",
    "    transformed_file - all sentences transformed with TfidfVectorizer\n",
    "    features - names of all words in corpus used in TfidfVectorizer\n",
    "    \"\"\"\n",
    "    # print('Name:', x.name)\n",
    "    vector_coo = transformed_file[x.name].tocoo()\n",
    "    vector_coo.col = features_file.iloc[vector_coo.col].values\n",
    "    dict_from_coo = dict(zip(vector_coo.col, vector_coo.data))\n",
    "    return dict_from_coo\n",
    "\n",
    "def replace_tfidf_words(x, transformed_file, features_file):\n",
    "    \"\"\"\n",
    "    replacing each word with it's calculated tfidf dictionary with scores of each word\n",
    "    x - row of dataframe, containing sentences, and their indexes,\n",
    "    transformed_file - all sentences transformed with TfidfVectorizer\n",
    "    features - names of all words in corpus used in TfidfVectorizer\n",
    "    \"\"\"\n",
    "    dictionary = create_tfidf_dictionary(x, transformed_file, features_file)\n",
    "    try:\n",
    "        res = list(map(lambda y:dictionary[f'{y}'], x['comments'].split()))\n",
    "    except KeyError:\n",
    "        res = [0 for i in x['comments'].split()]\n",
    "    return res"
   ],
   "metadata": {
    "collapsed": false,
    "pycharm": {
     "name": "#%%\n"
    }
   }
  },
  {
   "cell_type": "code",
   "execution_count": 20,
   "outputs": [
    {
     "data": {
      "text/plain": "pandas.core.series.Series"
     },
     "execution_count": 20,
     "metadata": {},
     "output_type": "execute_result"
    }
   ],
   "source": [
    "tfidfScoresWithoutStopWords = dfCleanedReviewsWithoutStopWords.apply(\n",
    "    lambda x: replace_tfidf_words(x, transformed, features), axis=1)\n",
    "type(tfidfScoresWithoutStopWords)"
   ],
   "metadata": {
    "collapsed": false,
    "pycharm": {
     "name": "#%%\n"
    }
   }
  },
  {
   "cell_type": "code",
   "execution_count": 21,
   "outputs": [],
   "source": [
    "dictSentiment2ClustersWithoutStopWords = dict(zip(\n",
    "    dfWords2ClustersWithoutStopWords['words'].values,\n",
    "    dfWords2ClustersWithoutStopWords['sentiment_coeff'].values))"
   ],
   "metadata": {
    "collapsed": false,
    "pycharm": {
     "name": "#%%\n"
    }
   }
  },
  {
   "cell_type": "code",
   "execution_count": 22,
   "outputs": [],
   "source": [
    "\n",
    "def replace_sentiment_words(word, sentiment_dict):\n",
    "    \"\"\"\n",
    "    replacing each word with its associated sentiment score from sentiment dict\n",
    "    \"\"\"\n",
    "    try:\n",
    "        out = sentiment_dict[word]\n",
    "    except KeyError:\n",
    "        out = 0\n",
    "    return out"
   ],
   "metadata": {
    "collapsed": false,
    "pycharm": {
     "name": "#%%\n"
    }
   }
  },
  {
   "cell_type": "code",
   "execution_count": 23,
   "outputs": [],
   "source": [
    "closenessScores2ClustersWithoutStopWords = \\\n",
    "    dfCleanedReviewsWithoutStopWords['comments'].apply(\n",
    "        lambda x: list(map(\n",
    "            lambda y: replace_sentiment_words(y, dictSentiment2ClustersWithoutStopWords),\n",
    "            x.split())))"
   ],
   "metadata": {
    "collapsed": false,
    "pycharm": {
     "name": "#%%\n"
    }
   }
  },
  {
   "cell_type": "code",
   "execution_count": 24,
   "outputs": [
    {
     "data": {
      "text/plain": "                                     sentiment_coeff  \\\n0  [0.08292789117179868, 0.14659773029428852, 0.1...   \n1  [0.2140253900223827, 0.1759372378172309, 0.118...   \n2  [0.1759372378172309, 0.1749805377874351, 0.144...   \n3  [0.20017538809786173, 0.16653104339589603, 0.1...   \n4  [0.18708789271173457, 0.13582535451733493, 0.1...   \n\n                                        tfidf_scores  \\\n0  [6.45518200427728, 3.112217967778944, 3.555659...   \n1  [2.6419108992866036, 2.1582410989662106, 3.154...   \n2  [2.1582410989662106, 1.8573260246038177, 2.148...   \n3  [1.8501655371557688, 2.159718877149754, 2.7123...   \n4  [3.927308953862587, 2.8408487877668502, 6.4401...   \n\n                                            sentence  sentiment_rate  \\\n0  jan friendly welcome host apartment great area...        8.077008   \n1       really nice area food park transport perfect        2.924775   \n2  nice stay berlin thanks jan premium situate ap...       12.992785   \n3  great location close mauerpark kastanienallee ...        4.916187   \n4  apartment well locate close everything superma...        6.689567   \n\n   prediction  \n0           1  \n1           1  \n2           1  \n3           1  \n4           1  ",
      "text/html": "<div>\n<style scoped>\n    .dataframe tbody tr th:only-of-type {\n        vertical-align: middle;\n    }\n\n    .dataframe tbody tr th {\n        vertical-align: top;\n    }\n\n    .dataframe thead th {\n        text-align: right;\n    }\n</style>\n<table border=\"1\" class=\"dataframe\">\n  <thead>\n    <tr style=\"text-align: right;\">\n      <th></th>\n      <th>sentiment_coeff</th>\n      <th>tfidf_scores</th>\n      <th>sentence</th>\n      <th>sentiment_rate</th>\n      <th>prediction</th>\n    </tr>\n  </thead>\n  <tbody>\n    <tr>\n      <th>0</th>\n      <td>[0.08292789117179868, 0.14659773029428852, 0.1...</td>\n      <td>[6.45518200427728, 3.112217967778944, 3.555659...</td>\n      <td>jan friendly welcome host apartment great area...</td>\n      <td>8.077008</td>\n      <td>1</td>\n    </tr>\n    <tr>\n      <th>1</th>\n      <td>[0.2140253900223827, 0.1759372378172309, 0.118...</td>\n      <td>[2.6419108992866036, 2.1582410989662106, 3.154...</td>\n      <td>really nice area food park transport perfect</td>\n      <td>2.924775</td>\n      <td>1</td>\n    </tr>\n    <tr>\n      <th>2</th>\n      <td>[0.1759372378172309, 0.1749805377874351, 0.144...</td>\n      <td>[2.1582410989662106, 1.8573260246038177, 2.148...</td>\n      <td>nice stay berlin thanks jan premium situate ap...</td>\n      <td>12.992785</td>\n      <td>1</td>\n    </tr>\n    <tr>\n      <th>3</th>\n      <td>[0.20017538809786173, 0.16653104339589603, 0.1...</td>\n      <td>[1.8501655371557688, 2.159718877149754, 2.7123...</td>\n      <td>great location close mauerpark kastanienallee ...</td>\n      <td>4.916187</td>\n      <td>1</td>\n    </tr>\n    <tr>\n      <th>4</th>\n      <td>[0.18708789271173457, 0.13582535451733493, 0.1...</td>\n      <td>[3.927308953862587, 2.8408487877668502, 6.4401...</td>\n      <td>apartment well locate close everything superma...</td>\n      <td>6.689567</td>\n      <td>1</td>\n    </tr>\n  </tbody>\n</table>\n</div>"
     },
     "execution_count": 24,
     "metadata": {},
     "output_type": "execute_result"
    }
   ],
   "source": [
    "dfSentiment2ClustersTfidfReviewsWithoutStopWords = \\\n",
    "    pd.DataFrame([closenessScores2ClustersWithoutStopWords,\n",
    "                  tfidfScoresWithoutStopWords,\n",
    "                  dfCleanedReviewsWithoutStopWords['comments']]).T\n",
    "\n",
    "dfSentiment2ClustersTfidfReviewsWithoutStopWords.columns = \\\n",
    "    ['sentiment_coeff', 'tfidf_scores', 'review']\n",
    "\n",
    "dfSentiment2ClustersTfidfReviewsWithoutStopWords['sentiment_rate'] = \\\n",
    "    dfSentiment2ClustersTfidfReviewsWithoutStopWords.apply(\n",
    "        lambda x: np.array(x.loc['sentiment_coeff']) @ np.array(x.loc['tfidf_scores']),\n",
    "        axis=1)\n",
    "\n",
    "dfSentiment2ClustersTfidfReviewsWithoutStopWords['prediction'] =\\\n",
    "    (dfSentiment2ClustersTfidfReviewsWithoutStopWords['sentiment_rate'] > 0)\\\n",
    "        .astype('int8')\n",
    "\n",
    "dfSentiment2ClustersTfidfReviewsWithoutStopWords.head()"
   ],
   "metadata": {
    "collapsed": false,
    "pycharm": {
     "name": "#%%\n"
    }
   }
  },
  {
   "cell_type": "code",
   "execution_count": 25,
   "outputs": [
    {
     "name": "stderr",
     "output_type": "stream",
     "text": [
      "d:\\utenti\\marco\\desktop\\insubria\\laurea magistrale\\data mining\\airbnb-sentiment\\venv\\lib\\site-packages\\ipykernel_launcher.py:2: SettingWithCopyWarning: \n",
      "A value is trying to be set on a copy of a slice from a DataFrame\n",
      "\n",
      "See the caveats in the documentation: https://pandas.pydata.org/pandas-docs/stable/user_guide/indexing.html#returning-a-view-versus-a-copy\n",
      "  \n"
     ]
    },
    {
     "data": {
      "text/plain": "['big flat heart neuk lln min station nice flatmate amazing room day everything fine flat mate nice reccomend every website hide airbnb sure like thanks benjamin sonia luca website hide airbnb website hide airbnb website hide airbnb website hide airbnb website hide airbnb website hide airbnb website hide airbnb website hide airbnb website hide airbnb website hide airbnb website hide airbnb website hide airbnb website hide airbnb website hide airbnb website hide airbnb website hide airbnb website hide airbnb website hide airbnb website hide airbnb website hide airbnb website hide airbnb website hide airbnb website hide airbnb website hide airbnb',\n 'one word mouse get apartment find mice run living room bedroom hysteria contact host benjamin respond right away tell us sunday know could nothing could check problem really mice problem tell family small child berlin high season would go tell would contact airbnb change apartment look hotel back forth say would borrow cat friend seem like good idea terrible problem lend pet stranger felt like short story bring two cat apartment dealt immediate emergency mouse run around tell cat ingenious idea okay untenable situation handle mouse cat one cat actually actively go mouse cat well behave pleasant mean need care get fee incessant nudging feed vacation benjamin home rental apartment business fair mouse feces remain unabated benjamin evidently come apartment without knowledge except alert us bring exterminator exterminator say apparently entire building contaminate mouse set poison traps host exterminator discuss mouse entry point observed location mouse droppings throughout apartment disgust contact site move immediately nothing available could find available airbnb site hotel space explain host see mouse contact airbnb ask new apartment hop could help us slow respond get offer help us find something midnight day leave nd day send picture mouse droppings next trap reveal fact apartment clean disinfect locate mouse since stick mouse airbnb suggest refund two night accept offer pay one night suggestion tell would strongly prefer different apartment disgust experience come home find threaten note host attack complain mouse stay like choice note contain incendiary language normally associate middle th century overwhelm',\n 'good apartment good location unfortunately leave key inside room leave pay euro week also pay euro extra open door bil live berlin neighbor take care apartment check ask return key face face leave tell day would leave must put key mailbox bil leave nobody mention us one key berlin one week forget put key send message ask bil half hour leave first mistake ask early half hour reply catch flight leave key table every time rent apartment airbnb second mistake bang door appear angry first time tell us one key would pay lot company help open door moment feel guilty promise pay fee open door leave way airport get message bil really annoy give great deal leave key inside cost lot thank guilty go immediately even complain make feel uncomfortable still try understand situation sent message explain reason promise pay open door second day get bill bil cost us euro get door open please transfer amount account phone number hide airbnb hi bil agree trouble begin us still pay euro complain annoy us think mr one key annoy thing happen lucky leave key indoor leave package key together room pay euro lose package flight still rent apartment airbnb mention risk never ever forget key door lose key otherwise promise back room pay euro open door last barcelona hide airbnb account transfer euro immediately otherwise please wait till june back home go bank transfer money',\n 'find marcos unit less expect airbnb reason front door complex lock front door unit break makeshift repair make door jamb could look door jamb door close make party comfortable night bed spread inside unit like flop house living room real bedroom room recently split half new wall last bed end hall adult couple stay night good thing family two room door outlet work second room split room half floor lamp light switch light living room bed kitchen table ceiling light work till play bite flicker night extension cord plug together run along floor across door way real room unit power tv tv extension cord hang floor foot reach tv plug little dangerous plus year old guest sit except kitchen table bed hook hang coat dresser couch luggage rack nothing except twin bed kitchen table seated people provide fitted mattress sheet blanket pillow cover one towel per guest would recommend cover mattress pillow see stain uncover one hand towel would order wash cloth bring house shoe walk around also floor cover fine grit shower leak bathroom floor puddle sink first shower morning stand puddle find unit uncomfortable group people people would fine stomach condition super host resort city united state year would embarrass call airbnb create many airbnb unit people california take pride unit place remind aunt grow ddr sorry marco get zero',\n 'would recommend spend dollar go elsewhere even travel budget like host fail provide sufficient information residence provide address building particular room also fail tell residence name miranda rather jabuti list name airbnb pretty misleading since find place base name tell outside building say lead wander around minute try find turn actually outside even though say phone die reach pester shop owner one would allow use charger turn outside correct spot along host simply could bother walk one flight stair show room never give number correct name blame issue claim one else ever problem late realize fail tell correct name room number ultimately arrival berlin stressful hour day waste even though check time pm room even ready time reach around pm whole ordeal jabuti try push check time back without consult prior change finally able enter saw spiderwebs spider corner room also catch bug crawl wall twice jabuti bother take trash kitchen entire time even though brim arrive kitchen lot fruit fly unpleasant try eat also mold around bathtub make want use picture guest room prospective guest unable see rest place quite mess even guest room picture mislead give thin twin size blanket even though currently end november room trouble heat properly even heater turn high take two hour room heat properly tl dr place pretty unpleasant recommend go elsewhere pretty conflicted write since feel wrong potentially negative impact someone source income negligence host perhaps warrant honesty']"
     },
     "execution_count": 25,
     "metadata": {},
     "output_type": "execute_result"
    }
   ],
   "source": [
    "dfNegativeSentiment = dfSentiment2ClustersTfidfReviewsWithoutStopWords[\n",
    "    dfSentiment2ClustersTfidfReviewsWithoutStopWords['prediction'] == 0].sort_values(\n",
    "        by=['sentiment_rate'])\n",
    "\n",
    "print('Top-5 negative reviews:')\n",
    "dfNegativeSentiment['review'].head().tolist()"
   ],
   "metadata": {
    "collapsed": false,
    "pycharm": {
     "name": "#%%\n"
    }
   }
  },
  {
   "cell_type": "code",
   "execution_count": 58,
   "outputs": [],
   "source": [
    "# dfSentiment2ClustersTfidfReviewsWithoutStopWords.to_csv(\n",
    "#     'sentiment_dataset_2_clusters_no_stopwords.csv',\n",
    "#     sep=',', index=False, header=True)"
   ],
   "metadata": {
    "collapsed": false,
    "pycharm": {
     "name": "#%%\n"
    }
   }
  },
  {
   "cell_type": "code",
   "execution_count": 27,
   "outputs": [
    {
     "name": "stdout",
     "output_type": "stream",
     "text": [
      "inertia_ 1019212.2318113383\n",
      "inertia_ 978896.6769949866\n",
      "inertia_ 945585.1195484456\n",
      "inertia_ 928658.3150795486\n",
      "inertia_ 916025.811975582\n",
      "inertia_ 903335.0746483419\n",
      "inertia_ 893447.0373069287\n",
      "inertia_ 886049.8955736477\n",
      "inertia_ 879141.0423535313\n",
      "inertia_ 872683.0122456265\n"
     ]
    },
    {
     "data": {
      "text/plain": "<Figure size 432x288 with 1 Axes>",
      "image/png": "[encoded data removed]"
     },
     "metadata": {
      "needs_background": "light"
     },
     "output_type": "display_data"
    }
   ],
   "source": [
    "wcss = []\n",
    "for i in range(1, 11):\n",
    "    kmeans = KMeans(n_clusters = i, init = 'k-means++', random_state = 42)\n",
    "    kmeans.fit(X=w2vModelWithoutStopWords.wv.vectors.astype('double'))\n",
    "    # inertia_ is sum of squared distance of samples to its closest cluster centers.\n",
    "    wcss.append(kmeans.inertia_)\n",
    "    print(\"inertia_\", kmeans.inertia_)\n",
    "    # print(\"wcss\", within_css(kmeans))\n",
    "\n",
    "plt.plot(range(1, 11), wcss)\n",
    "plt.title('Elbow Method')\n",
    "plt.xlabel('Number of clusters')\n",
    "plt.ylabel('WCSS')\n",
    "plt.show()"
   ],
   "metadata": {
    "collapsed": false,
    "pycharm": {
     "name": "#%%\n"
    }
   }
  },
  {
   "cell_type": "code",
   "execution_count": 28,
   "outputs": [],
   "source": [
    "from sklearn.metrics import silhouette_score\n",
    "\n",
    "def kmeans_silhouette(X,range_clusters):\n",
    "    for i, k in range_clusters :\n",
    "\n",
    "        # Run the Kmeans algorithm\n",
    "        km = KMeans(n_clusters = k, init = 'k-means++', random_state = 42)\n",
    "\n",
    "        km.fit(X)\n",
    "        labels = km.predict(X)\n",
    "\n",
    "        print(\"For n_clusters =\", k,\n",
    "                  \"The computed average silhouette_score is :\",\n",
    "              silhouette_score(X, labels, metric='euclidean'))"
   ],
   "metadata": {
    "collapsed": false,
    "pycharm": {
     "name": "#%%\n"
    }
   }
  },
  {
   "cell_type": "code",
   "execution_count": 29,
   "outputs": [
    {
     "name": "stdout",
     "output_type": "stream",
     "text": [
      "For n_clusters = 2 The computed average silhouette_score is : 0.06838657781314701\n",
      "For n_clusters = 3 The computed average silhouette_score is : 0.05258252258721236\n",
      "For n_clusters = 4 The computed average silhouette_score is : 0.04920517899962191\n",
      "For n_clusters = 5 The computed average silhouette_score is : -0.0011381941214056086\n",
      "For n_clusters = 6 The computed average silhouette_score is : -0.0009612685214078678\n",
      "For n_clusters = 7 The computed average silhouette_score is : -0.008021767718248312\n",
      "For n_clusters = 8 The computed average silhouette_score is : -0.004286899803312471\n",
      "For n_clusters = 9 The computed average silhouette_score is : -0.04467021073991618\n",
      "For n_clusters = 10 The computed average silhouette_score is : -0.04210330476167779\n"
     ]
    }
   ],
   "source": [
    "rangeClusters = enumerate([2,3,4,5,6,7,8,9,10])\n",
    "kmeans_silhouette(w2vModelWithoutStopWords.wv.vectors.astype('double'), rangeClusters)"
   ],
   "metadata": {
    "collapsed": false,
    "pycharm": {
     "name": "#%%\n"
    }
   }
  },
  {
   "cell_type": "markdown",
   "source": [
    "## 3-clusters"
   ],
   "metadata": {
    "collapsed": false,
    "pycharm": {
     "name": "#%% md\n"
    }
   }
  },
  {
   "cell_type": "code",
   "execution_count": 31,
   "outputs": [
    {
     "data": {
      "text/plain": "KMeans(max_iter=1000, n_clusters=3, n_init=50, random_state=42)"
     },
     "execution_count": 31,
     "metadata": {},
     "output_type": "execute_result"
    }
   ],
   "source": [
    "kmeansModel3Clusters = KMeans(n_clusters=3, max_iter=1000, random_state=42, n_init=50)\n",
    "kmeansModel3Clusters.fit(X=w2vModelWithoutStopWords.wv.vectors.astype('double'))"
   ],
   "metadata": {
    "collapsed": false,
    "pycharm": {
     "name": "#%%\n"
    }
   }
  },
  {
   "cell_type": "code",
   "execution_count": 43,
   "outputs": [
    {
     "data": {
      "text/plain": "[('rug', 0.6532878279685974),\n ('useless', 0.6441034078598022),\n ('wire', 0.6389830112457275),\n ('metal', 0.637913167476654),\n ('unacceptable', 0.6357297897338867),\n ('due_lack', 0.6344221830368042),\n ('replacement', 0.6306535005569458),\n ('bathroom', 0.6279341578483582),\n ('shower', 0.620943009853363),\n ('light_fixture', 0.618454098701477)]"
     },
     "execution_count": 43,
     "metadata": {},
     "output_type": "execute_result"
    }
   ],
   "source": [
    "w2vModelWithoutStopWords.wv.similar_by_vector(\n",
    "    kmeansModel3Clusters.cluster_centers_[2], topn=10, restrict_vocab=None)"
   ],
   "metadata": {
    "collapsed": false,
    "pycharm": {
     "name": "#%%\n"
    }
   }
  },
  {
   "cell_type": "code",
   "execution_count": 50,
   "outputs": [],
   "source": [
    "negativeClusterIndex = 2\n",
    "positiveClusterIndex = 0"
   ],
   "metadata": {
    "collapsed": false,
    "pycharm": {
     "name": "#%%\n"
    }
   }
  },
  {
   "cell_type": "code",
   "execution_count": 51,
   "outputs": [
    {
     "data": {
      "text/plain": "       words                                            vectors  cluster\n0      great  [0.2318326, -0.41356355, -0.38995484, 0.054996...        1\n1  apartment  [0.18243288, -0.25620466, 0.051194306, 0.01662...        1\n2       stay  [0.28195247, 0.38772163, -0.038925134, 0.14130...        1\n3      place  [0.39702508, -0.29538885, 0.04700571, 0.120634...        1\n4     berlin  [-0.012200372, 0.06495952, -0.043543015, -0.23...        0",
      "text/html": "<div>\n<style scoped>\n    .dataframe tbody tr th:only-of-type {\n        vertical-align: middle;\n    }\n\n    .dataframe tbody tr th {\n        vertical-align: top;\n    }\n\n    .dataframe thead th {\n        text-align: right;\n    }\n</style>\n<table border=\"1\" class=\"dataframe\">\n  <thead>\n    <tr style=\"text-align: right;\">\n      <th></th>\n      <th>words</th>\n      <th>vectors</th>\n      <th>cluster</th>\n    </tr>\n  </thead>\n  <tbody>\n    <tr>\n      <th>0</th>\n      <td>great</td>\n      <td>[0.2318326, -0.41356355, -0.38995484, 0.054996...</td>\n      <td>1</td>\n    </tr>\n    <tr>\n      <th>1</th>\n      <td>apartment</td>\n      <td>[0.18243288, -0.25620466, 0.051194306, 0.01662...</td>\n      <td>1</td>\n    </tr>\n    <tr>\n      <th>2</th>\n      <td>stay</td>\n      <td>[0.28195247, 0.38772163, -0.038925134, 0.14130...</td>\n      <td>1</td>\n    </tr>\n    <tr>\n      <th>3</th>\n      <td>place</td>\n      <td>[0.39702508, -0.29538885, 0.04700571, 0.120634...</td>\n      <td>1</td>\n    </tr>\n    <tr>\n      <th>4</th>\n      <td>berlin</td>\n      <td>[-0.012200372, 0.06495952, -0.043543015, -0.23...</td>\n      <td>0</td>\n    </tr>\n  </tbody>\n</table>\n</div>"
     },
     "execution_count": 51,
     "metadata": {},
     "output_type": "execute_result"
    }
   ],
   "source": [
    "dfWords3ClustersWithoutStopWords = pd.DataFrame(\n",
    "    w2vModelWithoutStopWords.wv.key_to_index.keys())\n",
    "\n",
    "dfWords3ClustersWithoutStopWords.columns = ['words']\n",
    "\n",
    "dfWords3ClustersWithoutStopWords['vectors'] = \\\n",
    "    dfWords3ClustersWithoutStopWords['words'].apply(\n",
    "        lambda x: w2vModelWithoutStopWords.wv[f'{x}'])\n",
    "\n",
    "dfWords3ClustersWithoutStopWords['cluster'] = \\\n",
    "    dfWords3ClustersWithoutStopWords['vectors'].apply(\n",
    "        lambda x: kmeansModel3Clusters.predict([np.array(x)]))\n",
    "\n",
    "dfWords3ClustersWithoutStopWords.cluster = \\\n",
    "    dfWords3ClustersWithoutStopWords['cluster'].apply(\n",
    "        lambda x: x[0])\n",
    "\n",
    "dfWords3ClustersWithoutStopWords.head()"
   ],
   "metadata": {
    "collapsed": false,
    "pycharm": {
     "name": "#%%\n"
    }
   }
  },
  {
   "cell_type": "code",
   "execution_count": 52,
   "outputs": [
    {
     "data": {
      "text/plain": "          words                                            vectors  cluster  \\\n11         room  [-0.36604568, -0.08541794, 0.26281667, 0.56228...        2   \n18  comfortable  [-0.32571805, -0.03460458, -0.044151783, 0.333...        2   \n20         need  [0.26455298, 0.08572723, 0.47097304, 0.5727650...        2   \n40         like  [0.66072285, -0.034582037, 0.16814052, -0.4716...        2   \n45          one  [-0.5676881, -0.084533446, 0.8584303, -0.08739...        2   \n\n    cluster_value  closeness_score  sentiment_coeff  \n11             -1         0.141049        -0.141049  \n18             -1         0.143153        -0.143153  \n20             -1         0.130251        -0.130251  \n40             -1         0.130875        -0.130875  \n45             -1         0.159071        -0.159071  ",
      "text/html": "<div>\n<style scoped>\n    .dataframe tbody tr th:only-of-type {\n        vertical-align: middle;\n    }\n\n    .dataframe tbody tr th {\n        vertical-align: top;\n    }\n\n    .dataframe thead th {\n        text-align: right;\n    }\n</style>\n<table border=\"1\" class=\"dataframe\">\n  <thead>\n    <tr style=\"text-align: right;\">\n      <th></th>\n      <th>words</th>\n      <th>vectors</th>\n      <th>cluster</th>\n      <th>cluster_value</th>\n      <th>closeness_score</th>\n      <th>sentiment_coeff</th>\n    </tr>\n  </thead>\n  <tbody>\n    <tr>\n      <th>11</th>\n      <td>room</td>\n      <td>[-0.36604568, -0.08541794, 0.26281667, 0.56228...</td>\n      <td>2</td>\n      <td>-1</td>\n      <td>0.141049</td>\n      <td>-0.141049</td>\n    </tr>\n    <tr>\n      <th>18</th>\n      <td>comfortable</td>\n      <td>[-0.32571805, -0.03460458, -0.044151783, 0.333...</td>\n      <td>2</td>\n      <td>-1</td>\n      <td>0.143153</td>\n      <td>-0.143153</td>\n    </tr>\n    <tr>\n      <th>20</th>\n      <td>need</td>\n      <td>[0.26455298, 0.08572723, 0.47097304, 0.5727650...</td>\n      <td>2</td>\n      <td>-1</td>\n      <td>0.130251</td>\n      <td>-0.130251</td>\n    </tr>\n    <tr>\n      <th>40</th>\n      <td>like</td>\n      <td>[0.66072285, -0.034582037, 0.16814052, -0.4716...</td>\n      <td>2</td>\n      <td>-1</td>\n      <td>0.130875</td>\n      <td>-0.130875</td>\n    </tr>\n    <tr>\n      <th>45</th>\n      <td>one</td>\n      <td>[-0.5676881, -0.084533446, 0.8584303, -0.08739...</td>\n      <td>2</td>\n      <td>-1</td>\n      <td>0.159071</td>\n      <td>-0.159071</td>\n    </tr>\n  </tbody>\n</table>\n</div>"
     },
     "execution_count": 52,
     "metadata": {},
     "output_type": "execute_result"
    }
   ],
   "source": [
    "dfWords3ClustersWithoutStopWords['cluster_value'] = \\\n",
    "    [-1 if i==negativeClusterIndex\n",
    "     else 1 if i==positiveClusterIndex else 0\n",
    "     for i in dfWords3ClustersWithoutStopWords['cluster']]\n",
    "\n",
    "dfWords3ClustersWithoutStopWords['closeness_score'] = \\\n",
    "    dfWords3ClustersWithoutStopWords.apply(\n",
    "        lambda x: 1/(kmeansModel3Clusters.transform([x.vectors]).min()),\n",
    "        axis=1)\n",
    "\n",
    "dfWords3ClustersWithoutStopWords['sentiment_coeff'] = \\\n",
    "    dfWords3ClustersWithoutStopWords['closeness_score'] * \\\n",
    "    dfWords3ClustersWithoutStopWords['cluster_value']\n",
    "\n",
    "dfWords3ClustersWithoutStopWords[\n",
    "    dfWords3ClustersWithoutStopWords['cluster_value'] == -1].head()"
   ],
   "metadata": {
    "collapsed": false,
    "pycharm": {
     "name": "#%%\n"
    }
   }
  },
  {
   "cell_type": "code",
   "execution_count": 53,
   "outputs": [],
   "source": [
    "dictSentiment3ClustersWithoutStopWords = dict(zip(\n",
    "    dfWords3ClustersWithoutStopWords['words'].values,\n",
    "    dfWords3ClustersWithoutStopWords['sentiment_coeff'].values))"
   ],
   "metadata": {
    "collapsed": false,
    "pycharm": {
     "name": "#%%\n"
    }
   }
  },
  {
   "cell_type": "code",
   "execution_count": 54,
   "outputs": [],
   "source": [
    "closenessScores3ClustersWithoutStopWords = \\\n",
    "    dfCleanedReviewsWithoutStopWords['comments'].apply(\n",
    "        lambda x: list(map(\n",
    "            lambda y: replace_sentiment_words(y, dictSentiment3ClustersWithoutStopWords),\n",
    "            x.split())))"
   ],
   "metadata": {
    "collapsed": false,
    "pycharm": {
     "name": "#%%\n"
    }
   }
  },
  {
   "cell_type": "code",
   "execution_count": 55,
   "outputs": [
    {
     "data": {
      "text/plain": "                                     sentiment_coeff  \\\n0  [0.0, 0.0, 0.0, 0.0, 0.0, 0.0, 0.1505729803885...   \n1  [0.0, 0.0, 0.15057298038858502, 0.094984880778...   \n2  [0.0, 0.0, 0.14180768378448597, 0.0, 0.0, -0.1...   \n3  [0.0, 0.19859402114984503, 0.14351576345021688...   \n4  [0.0, 0.13010846637642784, 0.13745346635416864...   \n\n                                        tfidf_scores  \\\n0  [6.45518200427728, 3.112217967778944, 3.555659...   \n1  [2.6419108992866036, 2.1582410989662106, 3.154...   \n2  [2.1582410989662106, 1.8573260246038177, 2.148...   \n3  [1.8501655371557688, 2.159718877149754, 2.7123...   \n4  [3.927308953862587, 2.8408487877668502, 6.4401...   \n\n                                            sentence  sentiment_rate  \\\n0  jan friendly welcome host apartment great area...        3.190171   \n1       really nice area food park transport perfect        1.718151   \n2  nice stay berlin thanks jan premium situate ap...        4.935444   \n3  great location close mauerpark kastanienallee ...        4.189321   \n4  apartment well locate close everything superma...        2.252799   \n\n   prediction  \n0           1  \n1           1  \n2           1  \n3           1  \n4           1  ",
      "text/html": "<div>\n<style scoped>\n    .dataframe tbody tr th:only-of-type {\n        vertical-align: middle;\n    }\n\n    .dataframe tbody tr th {\n        vertical-align: top;\n    }\n\n    .dataframe thead th {\n        text-align: right;\n    }\n</style>\n<table border=\"1\" class=\"dataframe\">\n  <thead>\n    <tr style=\"text-align: right;\">\n      <th></th>\n      <th>sentiment_coeff</th>\n      <th>tfidf_scores</th>\n      <th>sentence</th>\n      <th>sentiment_rate</th>\n      <th>prediction</th>\n    </tr>\n  </thead>\n  <tbody>\n    <tr>\n      <th>0</th>\n      <td>[0.0, 0.0, 0.0, 0.0, 0.0, 0.0, 0.1505729803885...</td>\n      <td>[6.45518200427728, 3.112217967778944, 3.555659...</td>\n      <td>jan friendly welcome host apartment great area...</td>\n      <td>3.190171</td>\n      <td>1</td>\n    </tr>\n    <tr>\n      <th>1</th>\n      <td>[0.0, 0.0, 0.15057298038858502, 0.094984880778...</td>\n      <td>[2.6419108992866036, 2.1582410989662106, 3.154...</td>\n      <td>really nice area food park transport perfect</td>\n      <td>1.718151</td>\n      <td>1</td>\n    </tr>\n    <tr>\n      <th>2</th>\n      <td>[0.0, 0.0, 0.14180768378448597, 0.0, 0.0, -0.1...</td>\n      <td>[2.1582410989662106, 1.8573260246038177, 2.148...</td>\n      <td>nice stay berlin thanks jan premium situate ap...</td>\n      <td>4.935444</td>\n      <td>1</td>\n    </tr>\n    <tr>\n      <th>3</th>\n      <td>[0.0, 0.19859402114984503, 0.14351576345021688...</td>\n      <td>[1.8501655371557688, 2.159718877149754, 2.7123...</td>\n      <td>great location close mauerpark kastanienallee ...</td>\n      <td>4.189321</td>\n      <td>1</td>\n    </tr>\n    <tr>\n      <th>4</th>\n      <td>[0.0, 0.13010846637642784, 0.13745346635416864...</td>\n      <td>[3.927308953862587, 2.8408487877668502, 6.4401...</td>\n      <td>apartment well locate close everything superma...</td>\n      <td>2.252799</td>\n      <td>1</td>\n    </tr>\n  </tbody>\n</table>\n</div>"
     },
     "execution_count": 55,
     "metadata": {},
     "output_type": "execute_result"
    }
   ],
   "source": [
    "dfSentiment3ClustersTfidfReviewsWithoutStopWords = pd.DataFrame(\n",
    "    [closenessScores3ClustersWithoutStopWords,\n",
    "     tfidfScoresWithoutStopWords,\n",
    "     dfCleanedReviewsWithoutStopWords['comments']]).T\n",
    "\n",
    "dfSentiment3ClustersTfidfReviewsWithoutStopWords.columns = \\\n",
    "    ['sentiment_coeff', 'tfidf_scores', 'review']\n",
    "\n",
    "dfSentiment3ClustersTfidfReviewsWithoutStopWords['sentiment_rate'] = \\\n",
    "    dfSentiment3ClustersTfidfReviewsWithoutStopWords.apply(\n",
    "        lambda x: np.array(x.loc['sentiment_coeff']) @ np.array(x.loc['tfidf_scores']),\n",
    "        axis=1)\n",
    "\n",
    "dfSentiment3ClustersTfidfReviewsWithoutStopWords['prediction'] = \\\n",
    "    (dfSentiment3ClustersTfidfReviewsWithoutStopWords['sentiment_rate']>0)\\\n",
    "        .astype('int8')\n",
    "\n",
    "dfSentiment3ClustersTfidfReviewsWithoutStopWords.head()"
   ],
   "metadata": {
    "collapsed": false,
    "pycharm": {
     "name": "#%%\n"
    }
   }
  },
  {
   "cell_type": "code",
   "execution_count": null,
   "outputs": [],
   "source": [
    "# dfSentiment3ClustersTfidfReviewsWithoutStopWords.to_csv(\n",
    "#     'sentiment_dataset_3_clusters_no_stopwords.csv',\n",
    "#     sep=',', index=False, header=True)"
   ],
   "metadata": {
    "collapsed": false,
    "pycharm": {
     "name": "#%%\n"
    }
   }
  },
  {
   "cell_type": "code",
   "execution_count": 57,
   "outputs": [
    {
     "name": "stderr",
     "output_type": "stream",
     "text": [
      "d:\\utenti\\marco\\desktop\\insubria\\laurea magistrale\\data mining\\airbnb-sentiment\\venv\\lib\\site-packages\\ipykernel_launcher.py:2: SettingWithCopyWarning: \n",
      "A value is trying to be set on a copy of a slice from a DataFrame\n",
      "\n",
      "See the caveats in the documentation: https://pandas.pydata.org/pandas-docs/stable/user_guide/indexing.html#returning-a-view-versus-a-copy\n",
      "  \n"
     ]
    },
    {
     "data": {
      "text/plain": "['big flat heart neuk lln min station nice flatmate amazing room day everything fine flat mate nice reccomend every website hide airbnb sure like thanks benjamin sonia luca website hide airbnb website hide airbnb website hide airbnb website hide airbnb website hide airbnb website hide airbnb website hide airbnb website hide airbnb website hide airbnb website hide airbnb website hide airbnb website hide airbnb website hide airbnb website hide airbnb website hide airbnb website hide airbnb website hide airbnb website hide airbnb website hide airbnb website hide airbnb website hide airbnb website hide airbnb website hide airbnb website hide airbnb',\n 'one word mouse get apartment find mice run living room bedroom hysteria contact host benjamin respond right away tell us sunday know could nothing could check problem really mice problem tell family small child berlin high season would go tell would contact airbnb change apartment look hotel back forth say would borrow cat friend seem like good idea terrible problem lend pet stranger felt like short story bring two cat apartment dealt immediate emergency mouse run around tell cat ingenious idea okay untenable situation handle mouse cat one cat actually actively go mouse cat well behave pleasant mean need care get fee incessant nudging feed vacation benjamin home rental apartment business fair mouse feces remain unabated benjamin evidently come apartment without knowledge except alert us bring exterminator exterminator say apparently entire building contaminate mouse set poison traps host exterminator discuss mouse entry point observed location mouse droppings throughout apartment disgust contact site move immediately nothing available could find available airbnb site hotel space explain host see mouse contact airbnb ask new apartment hop could help us slow respond get offer help us find something midnight day leave nd day send picture mouse droppings next trap reveal fact apartment clean disinfect locate mouse since stick mouse airbnb suggest refund two night accept offer pay one night suggestion tell would strongly prefer different apartment disgust experience come home find threaten note host attack complain mouse stay like choice note contain incendiary language normally associate middle th century overwhelm',\n 'good apartment good location unfortunately leave key inside room leave pay euro week also pay euro extra open door bil live berlin neighbor take care apartment check ask return key face face leave tell day would leave must put key mailbox bil leave nobody mention us one key berlin one week forget put key send message ask bil half hour leave first mistake ask early half hour reply catch flight leave key table every time rent apartment airbnb second mistake bang door appear angry first time tell us one key would pay lot company help open door moment feel guilty promise pay fee open door leave way airport get message bil really annoy give great deal leave key inside cost lot thank guilty go immediately even complain make feel uncomfortable still try understand situation sent message explain reason promise pay open door second day get bill bil cost us euro get door open please transfer amount account phone number hide airbnb hi bil agree trouble begin us still pay euro complain annoy us think mr one key annoy thing happen lucky leave key indoor leave package key together room pay euro lose package flight still rent apartment airbnb mention risk never ever forget key door lose key otherwise promise back room pay euro open door last barcelona hide airbnb account transfer euro immediately otherwise please wait till june back home go bank transfer money',\n 'expect bait switch profile proudly state one apartment berlin air condition even fan let alone ac room describe king size bed perfect son sleep comfortably one person bed big twin nowhere near big enough two people sleep wanted leave soon got respond finally say give money back afford pay two place choice stay though continue miserable experience especially son never travel eddy try blame want ac place hot enough also try blame airbnb admin helpful btw even refund money try sleep eddy place bad part otherwise lovely time berlin eddy express anger airbnb folk give hard time ac since falsely claim profile book place base nr preference travel especially jet lag place ac say kid lie ac sorry wrong bed size either bad host airbnb rightfully express dissatisfaction airbnb customer service get involved know say make eddy go buy mobile ac unit half way one week stay refuse attach properly even though assure work plug hang pipe window use hardware seal material include ac leave pipe fall ac unit side pipe fall room several time night either nothing blow hot air room keep try attach end postal tape give postal tape make stay put fight keep ac sort attach night restful would happy attach material say want keep part pristine unused shape possible could return store leave thanks nothing many thing could say place tire arrive back home want put nightmare eddie',\n 'find marcos unit less expect airbnb reason front door complex lock front door unit break makeshift repair make door jamb could look door jamb door close make party comfortable night bed spread inside unit like flop house living room real bedroom room recently split half new wall last bed end hall adult couple stay night good thing family two room door outlet work second room split room half floor lamp light switch light living room bed kitchen table ceiling light work till play bite flicker night extension cord plug together run along floor across door way real room unit power tv tv extension cord hang floor foot reach tv plug little dangerous plus year old guest sit except kitchen table bed hook hang coat dresser couch luggage rack nothing except twin bed kitchen table seated people provide fitted mattress sheet blanket pillow cover one towel per guest would recommend cover mattress pillow see stain uncover one hand towel would order wash cloth bring house shoe walk around also floor cover fine grit shower leak bathroom floor puddle sink first shower morning stand puddle find unit uncomfortable group people people would fine stomach condition super host resort city united state year would embarrass call airbnb create many airbnb unit people california take pride unit place remind aunt grow ddr sorry marco get zero']"
     },
     "execution_count": 57,
     "metadata": {},
     "output_type": "execute_result"
    }
   ],
   "source": [
    "dfNegativeSentiment = dfSentiment3ClustersTfidfReviewsWithoutStopWords[\n",
    "    dfSentiment3ClustersTfidfReviewsWithoutStopWords['prediction'] == 0].sort_values(\n",
    "        by=['sentiment_rate'], inplace=True)\n",
    "\n",
    "dfNegativeSentiment['review'].head().tolist()"
   ],
   "metadata": {
    "collapsed": false,
    "pycharm": {
     "name": "#%%\n"
    }
   }
  },
  {
   "cell_type": "markdown",
   "source": [
    "## TextBlob"
   ],
   "metadata": {
    "collapsed": false,
    "pycharm": {
     "name": "#%% md\n"
    }
   }
  },
  {
   "cell_type": "code",
   "execution_count": 59,
   "outputs": [],
   "source": [
    "from textblob import TextBlob"
   ],
   "metadata": {
    "collapsed": false,
    "pycharm": {
     "name": "#%%\n"
    }
   }
  },
  {
   "cell_type": "code",
   "execution_count": 61,
   "outputs": [
    {
     "data": {
      "text/plain": "0    0.595000\n1    0.800000\n2    0.487500\n3    0.587500\n4    0.229762\nName: comments, dtype: float64"
     },
     "execution_count": 61,
     "metadata": {},
     "output_type": "execute_result"
    }
   ],
   "source": [
    "textblobSentimentWithoutStopWords = dfCleanedReviewsWithoutStopWords['comments'].apply(\n",
    "    lambda x: TextBlob(x).sentiment.polarity)\n",
    "\n",
    "textblobSentimentWithoutStopWords.head()"
   ],
   "metadata": {
    "collapsed": false,
    "pycharm": {
     "name": "#%%\n"
    }
   }
  },
  {
   "cell_type": "code",
   "execution_count": 70,
   "outputs": [
    {
     "data": {
      "text/plain": "                                     sentiment_coeff  \\\n0  [0.0, 0.0, 0.0, 0.0, 0.0, 0.0, 0.1505729803885...   \n1  [0.0, 0.0, 0.15057298038858502, 0.094984880778...   \n2  [0.0, 0.0, 0.14180768378448597, 0.0, 0.0, -0.1...   \n3  [0.0, 0.19859402114984503, 0.14351576345021688...   \n4  [0.0, 0.13010846637642784, 0.13745346635416864...   \n\n                                        tfidf_scores  \\\n0  [6.45518200427728, 3.112217967778944, 3.555659...   \n1  [2.6419108992866036, 2.1582410989662106, 3.154...   \n2  [2.1582410989662106, 1.8573260246038177, 2.148...   \n3  [1.8501655371557688, 2.159718877149754, 2.7123...   \n4  [3.927308953862587, 2.8408487877668502, 6.4401...   \n\n                                            sentence  sentiment_rate  \\\n0  jan friendly welcome host apartment great area...        3.190171   \n1       really nice area food park transport perfect        1.718151   \n2  nice stay berlin thanks jan premium situate ap...        4.935444   \n3  great location close mauerpark kastanienallee ...        4.189321   \n4  apartment well locate close everything superma...        2.252799   \n\n   prediction  Textblob Sentiment  Textblob Prediction  \n0           1            0.595000                    1  \n1           1            0.800000                    1  \n2           1            0.487500                    1  \n3           1            0.587500                    1  \n4           1            0.229762                    1  ",
      "text/html": "<div>\n<style scoped>\n    .dataframe tbody tr th:only-of-type {\n        vertical-align: middle;\n    }\n\n    .dataframe tbody tr th {\n        vertical-align: top;\n    }\n\n    .dataframe thead th {\n        text-align: right;\n    }\n</style>\n<table border=\"1\" class=\"dataframe\">\n  <thead>\n    <tr style=\"text-align: right;\">\n      <th></th>\n      <th>sentiment_coeff</th>\n      <th>tfidf_scores</th>\n      <th>sentence</th>\n      <th>sentiment_rate</th>\n      <th>prediction</th>\n      <th>Textblob Sentiment</th>\n      <th>Textblob Prediction</th>\n    </tr>\n  </thead>\n  <tbody>\n    <tr>\n      <th>0</th>\n      <td>[0.0, 0.0, 0.0, 0.0, 0.0, 0.0, 0.1505729803885...</td>\n      <td>[6.45518200427728, 3.112217967778944, 3.555659...</td>\n      <td>jan friendly welcome host apartment great area...</td>\n      <td>3.190171</td>\n      <td>1</td>\n      <td>0.595000</td>\n      <td>1</td>\n    </tr>\n    <tr>\n      <th>1</th>\n      <td>[0.0, 0.0, 0.15057298038858502, 0.094984880778...</td>\n      <td>[2.6419108992866036, 2.1582410989662106, 3.154...</td>\n      <td>really nice area food park transport perfect</td>\n      <td>1.718151</td>\n      <td>1</td>\n      <td>0.800000</td>\n      <td>1</td>\n    </tr>\n    <tr>\n      <th>2</th>\n      <td>[0.0, 0.0, 0.14180768378448597, 0.0, 0.0, -0.1...</td>\n      <td>[2.1582410989662106, 1.8573260246038177, 2.148...</td>\n      <td>nice stay berlin thanks jan premium situate ap...</td>\n      <td>4.935444</td>\n      <td>1</td>\n      <td>0.487500</td>\n      <td>1</td>\n    </tr>\n    <tr>\n      <th>3</th>\n      <td>[0.0, 0.19859402114984503, 0.14351576345021688...</td>\n      <td>[1.8501655371557688, 2.159718877149754, 2.7123...</td>\n      <td>great location close mauerpark kastanienallee ...</td>\n      <td>4.189321</td>\n      <td>1</td>\n      <td>0.587500</td>\n      <td>1</td>\n    </tr>\n    <tr>\n      <th>4</th>\n      <td>[0.0, 0.13010846637642784, 0.13745346635416864...</td>\n      <td>[3.927308953862587, 2.8408487877668502, 6.4401...</td>\n      <td>apartment well locate close everything superma...</td>\n      <td>2.252799</td>\n      <td>1</td>\n      <td>0.229762</td>\n      <td>1</td>\n    </tr>\n  </tbody>\n</table>\n</div>"
     },
     "execution_count": 70,
     "metadata": {},
     "output_type": "execute_result"
    }
   ],
   "source": [
    "dfSentiment3ClustersTfidfReviewsWithoutStopWords['textblob_sentiment'] = \\\n",
    "    textblobSentimentWithoutStopWords\n",
    "\n",
    "dfSentiment3ClustersTfidfReviewsWithoutStopWords['textblob_prediction'] = \\\n",
    "    (dfSentiment3ClustersTfidfReviewsWithoutStopWords['textblob_sentiment'] > 0)\\\n",
    "        .astype('int8')\n",
    "\n",
    "dfSentiment3ClustersTfidfReviewsWithoutStopWords.head()"
   ],
   "metadata": {
    "collapsed": false,
    "pycharm": {
     "name": "#%%\n"
    }
   }
  },
  {
   "cell_type": "markdown",
   "source": [
    "## Sentiment Analysis Evaluation"
   ],
   "metadata": {
    "collapsed": false,
    "pycharm": {
     "name": "#%% md\n"
    }
   }
  },
  {
   "cell_type": "code",
   "execution_count": 77,
   "outputs": [
    {
     "name": "stdout",
     "output_type": "stream",
     "text": [
      "\n",
      " \n",
      " Scores\n"
     ]
    },
    {
     "data": {
      "text/plain": "             scores\naccuracy   0.585589\nprecision  0.583074\nrecall     0.991731\nf1         0.734380",
      "text/html": "<div>\n<style scoped>\n    .dataframe tbody tr th:only-of-type {\n        vertical-align: middle;\n    }\n\n    .dataframe tbody tr th {\n        vertical-align: top;\n    }\n\n    .dataframe thead th {\n        text-align: right;\n    }\n</style>\n<table border=\"1\" class=\"dataframe\">\n  <thead>\n    <tr style=\"text-align: right;\">\n      <th></th>\n      <th>scores</th>\n    </tr>\n  </thead>\n  <tbody>\n    <tr>\n      <th>accuracy</th>\n      <td>0.585589</td>\n    </tr>\n    <tr>\n      <th>precision</th>\n      <td>0.583074</td>\n    </tr>\n    <tr>\n      <th>recall</th>\n      <td>0.991731</td>\n    </tr>\n    <tr>\n      <th>f1</th>\n      <td>0.734380</td>\n    </tr>\n  </tbody>\n</table>\n</div>"
     },
     "execution_count": 77,
     "metadata": {},
     "output_type": "execute_result"
    }
   ],
   "source": [
    "from sklearn.metrics import accuracy_score, confusion_matrix, precision_score, recall_score, f1_score\n",
    "\n",
    "def compute_test_scores(predictions, labels):\n",
    "\n",
    "    df_conf_matrix = pd.DataFrame(confusion_matrix(predictions, labels))\n",
    "\n",
    "    print(df_conf_matrix)\n",
    "\n",
    "    test_scores = accuracy_score(predictions, labels), \\\n",
    "                  precision_score(predictions, labels), \\\n",
    "                  recall_score(predictions, labels), \\\n",
    "                  f1_score(predictions, labels)\n",
    "\n",
    "    return test_scores"
   ],
   "metadata": {
    "collapsed": false,
    "pycharm": {
     "name": "#%%\n"
    }
   }
  },
  {
   "cell_type": "code",
   "execution_count": 1,
   "outputs": [
    {
     "ename": "NameError",
     "evalue": "name 'compute_test_scores' is not defined",
     "output_type": "error",
     "traceback": [
      "\u001B[1;31m---------------------------------------------------------------------------\u001B[0m",
      "\u001B[1;31mNameError\u001B[0m                                 Traceback (most recent call last)",
      "\u001B[1;32m<ipython-input-1-fb5df6fbfbf5>\u001B[0m in \u001B[0;36m<module>\u001B[1;34m\u001B[0m\n\u001B[1;32m----> 1\u001B[1;33m testScores3ClustersSentiment = compute_test_scores(\n\u001B[0m\u001B[0;32m      2\u001B[0m     \u001B[0mdfSentiment3ClustersTfidfReviewsWithoutStopWords\u001B[0m\u001B[1;33m[\u001B[0m\u001B[1;34m'prediction'\u001B[0m\u001B[1;33m]\u001B[0m\u001B[1;33m,\u001B[0m\u001B[1;33m\u001B[0m\u001B[1;33m\u001B[0m\u001B[0m\n\u001B[0;32m      3\u001B[0m     dfSentiment3ClustersTfidfReviewsWithoutStopWords['textblob_sentiment'])\n\u001B[0;32m      4\u001B[0m \u001B[1;33m\u001B[0m\u001B[0m\n\u001B[0;32m      5\u001B[0m \u001B[0mdfTestScores3ClustersSentiment\u001B[0m \u001B[1;33m=\u001B[0m \u001B[0mpd\u001B[0m\u001B[1;33m.\u001B[0m\u001B[0mDataFrame\u001B[0m\u001B[1;33m(\u001B[0m\u001B[1;33m[\u001B[0m\u001B[0mtestScores3ClustersSentiment\u001B[0m\u001B[1;33m]\u001B[0m\u001B[1;33m)\u001B[0m\u001B[1;33m\u001B[0m\u001B[1;33m\u001B[0m\u001B[0m\n",
      "\u001B[1;31mNameError\u001B[0m: name 'compute_test_scores' is not defined"
     ]
    }
   ],
   "source": [
    "testScores2ClustersSentiment = compute_test_scores(\n",
    "    dfSentiment2ClustersTfidfReviewsWithoutStopWords['prediction'],\n",
    "    dfSentiment2ClustersTfidfReviewsWithoutStopWords['textblob_sentiment'])\n",
    "\n",
    "dfTestScores2ClustersSentiment = pd.DataFrame([testScores2ClustersSentiment])\n",
    "dfTestScores2ClustersSentiment.columns = ['accuracy', 'precision', 'recall', 'f1']\n",
    "dfTestScores2ClustersSentiment = dfTestScores2ClustersSentiment.T\n",
    "dfTestScores2ClustersSentiment.columns = ['scores']\n",
    "\n",
    "print('Scores for sentiment analysis with 2 clusters and no stopwords: ')\n",
    "dfTestScores2ClustersSentiment"
   ],
   "metadata": {
    "collapsed": false,
    "pycharm": {
     "name": "#%%\n"
    }
   }
  },
  {
   "cell_type": "code",
   "execution_count": null,
   "outputs": [],
   "source": [
    "testScores3ClustersSentiment = compute_test_scores(\n",
    "    dfSentiment3ClustersTfidfReviewsWithoutStopWords['prediction'],\n",
    "    dfSentiment3ClustersTfidfReviewsWithoutStopWords['textblob_sentiment'])\n",
    "\n",
    "dfTestScores3ClustersSentiment = pd.DataFrame([testScores3ClustersSentiment])\n",
    "dfTestScores3ClustersSentiment.columns = ['accuracy', 'precision', 'recall', 'f1']\n",
    "dfTestScores3ClustersSentiment = dfTestScores3ClustersSentiment.T\n",
    "dfTestScores3ClustersSentiment.columns = ['scores']\n",
    "\n",
    "print('Scores for sentiment analysis with 3 clusters and no stopwords: ')\n",
    "dfTestScores3ClustersSentiment\n"
   ],
   "metadata": {
    "collapsed": false,
    "pycharm": {
     "name": "#%%\n"
    }
   }
  }
 ],
 "metadata": {
  "kernelspec": {
   "display_name": "Python 3",
   "language": "python",
   "name": "python3"
  },
  "language_info": {
   "codemirror_mode": {
    "name": "ipython",
    "version": 2
   },
   "file_extension": ".py",
   "mimetype": "text/x-python",
   "name": "python",
   "nbconvert_exporter": "python",
   "pygments_lexer": "ipython2",
   "version": "2.7.6"
  }
 },
 "nbformat": 4,
 "nbformat_minor": 0
}