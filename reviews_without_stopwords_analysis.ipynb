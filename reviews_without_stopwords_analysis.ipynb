{
 "cells": [
  {
   "cell_type": "code",
   "execution_count": 2,
   "outputs": [],
   "source": [
    "import pandas as pd\n",
    "import matplotlib.pyplot as plt"
   ],
   "metadata": {
    "collapsed": false,
    "pycharm": {
     "name": "#%%\n"
    }
   }
  },
  {
   "cell_type": "code",
   "execution_count": 3,
   "outputs": [
    {
     "data": {
      "text/plain": "\"['jan', 'friendly', 'welcome', 'host', 'apartment', 'great', 'area', 'sooo', 'amaze', 'lot', 'nice', 'cafe', 'shop', 'enjoy', 'time', 'lot']\""
     },
     "execution_count": 3,
     "metadata": {},
     "output_type": "execute_result"
    }
   ],
   "source": [
    "with open('lemmatized_without_stopwords.txt') as f:\n",
    "    reviewsWithoutStopWords = f.read().splitlines()\n",
    "\n",
    "reviewsWithoutStopWords[0]"
   ],
   "metadata": {
    "collapsed": false,
    "pycharm": {
     "name": "#%%\n"
    }
   }
  },
  {
   "cell_type": "code",
   "execution_count": 4,
   "outputs": [
    {
     "data": {
      "text/plain": "['jan',\n 'friendly',\n 'welcome',\n 'host',\n 'apartment',\n 'great',\n 'area',\n 'sooo',\n 'amaze',\n 'lot',\n 'nice',\n 'cafe',\n 'shop',\n 'enjoy',\n 'time',\n 'lot']"
     },
     "execution_count": 4,
     "metadata": {},
     "output_type": "execute_result"
    }
   ],
   "source": [
    "reviewsWithoutStopWords = [review.replace('\\'', '').strip('][').split(', ')\n",
    "                           for review in reviewsWithoutStopWords]\n",
    "\n",
    "reviewsWithoutStopWords[0]"
   ],
   "metadata": {
    "collapsed": false,
    "pycharm": {
     "name": "#%%\n"
    }
   }
  },
  {
   "cell_type": "markdown",
   "source": [
    "## Bigrams generation"
   ],
   "metadata": {
    "collapsed": false
   }
  },
  {
   "cell_type": "code",
   "execution_count": 5,
   "outputs": [
    {
     "name": "stderr",
     "output_type": "stream",
     "text": [
      "d:\\utenti\\marco\\desktop\\insubria\\laurea magistrale\\data mining\\airbnb-sentiment\\venv\\lib\\site-packages\\gensim\\similarities\\__init__.py:15: UserWarning: The gensim.similarities.levenshtein submodule is disabled, because the optional Levenshtein package <https://pypi.org/project/python-Levenshtein/> is unavailable. Install Levenhstein (e.g. `pip install python-Levenshtein`) to suppress this warning.\n",
      "  warnings.warn(msg)\n"
     ]
    },
    {
     "data": {
      "text/plain": "['jan',\n 'friendly',\n 'welcome',\n 'host',\n 'apartment',\n 'great',\n 'area',\n 'sooo',\n 'amaze',\n 'lot',\n 'nice',\n 'cafe',\n 'shop',\n 'enjoy',\n 'time',\n 'lot']"
     },
     "execution_count": 5,
     "metadata": {},
     "output_type": "execute_result"
    }
   ],
   "source": [
    "from gensim.models.phrases import Phrases, Phraser\n",
    "\n",
    "phrasesWithoutStopWords = Phrases(reviewsWithoutStopWords,\n",
    "                                  min_count=3,\n",
    "                                  progress_per=50000)\n",
    "\n",
    "bigramWithoutStopWords = Phraser(phrasesWithoutStopWords)\n",
    "\n",
    "bigramReviewsWithoutStopWords = bigramWithoutStopWords[reviewsWithoutStopWords]\n",
    "\n",
    "bigramReviewsWithoutStopWords[0]"
   ],
   "metadata": {
    "collapsed": false,
    "pycharm": {
     "name": "#%%\n"
    }
   }
  },
  {
   "cell_type": "code",
   "execution_count": 6,
   "outputs": [
    {
     "data": {
      "text/plain": "64487"
     },
     "execution_count": 6,
     "metadata": {},
     "output_type": "execute_result"
    }
   ],
   "source": [
    "from collections import defaultdict\n",
    "\n",
    "dictWordFreq = defaultdict(int)\n",
    "for review in bigramReviewsWithoutStopWords:\n",
    "    for i in review:\n",
    "        dictWordFreq[i] += 1\n",
    "\n",
    "len(dictWordFreq)"
   ],
   "metadata": {
    "collapsed": false,
    "pycharm": {
     "name": "#%%\n"
    }
   }
  },
  {
   "cell_type": "code",
   "execution_count": 7,
   "outputs": [],
   "source": [
    "# Eventually, show an example of item in word_freq"
   ],
   "metadata": {
    "collapsed": false,
    "pycharm": {
     "name": "#%%\n"
    }
   }
  },
  {
   "cell_type": "code",
   "execution_count": 8,
   "outputs": [
    {
     "data": {
      "text/plain": "['great',\n 'apartment',\n 'stay',\n 'place',\n 'berlin',\n 'nice',\n 'location',\n 'host',\n 'clean',\n 'good']"
     },
     "execution_count": 8,
     "metadata": {},
     "output_type": "execute_result"
    }
   ],
   "source": [
    "sorted(dictWordFreq, key=dictWordFreq.get, reverse=True)[:10]"
   ],
   "metadata": {
    "collapsed": false,
    "pycharm": {
     "name": "#%%\n"
    }
   }
  },
  {
   "cell_type": "markdown",
   "source": [
    "## Word2Vec model"
   ],
   "metadata": {
    "collapsed": false
   }
  },
  {
   "cell_type": "code",
   "execution_count": 9,
   "outputs": [],
   "source": [
    "from gensim.models import Word2Vec\n",
    "\n",
    "w2vModelWithoutStopWords = Word2Vec(min_count=20,\n",
    "                             window=4,\n",
    "                             vector_size=300,\n",
    "                             sample=6e-5,\n",
    "                             alpha=0.03,\n",
    "                             min_alpha=0.0007,\n",
    "                             negative=20,\n",
    "                             workers=4)"
   ],
   "metadata": {
    "collapsed": false,
    "pycharm": {
     "name": "#%%\n"
    }
   }
  },
  {
   "cell_type": "code",
   "execution_count": 10,
   "outputs": [
    {
     "name": "stdout",
     "output_type": "stream",
     "text": [
      "Time to build vocab: 0.14 mins\n"
     ]
    }
   ],
   "source": [
    "from time import time\n",
    "\n",
    "t = time()\n",
    "\n",
    "w2vModelWithoutStopWords.build_vocab(bigramReviewsWithoutStopWords, progress_per=10000)\n",
    "\n",
    "print('Time to build vocab: {} mins'.format(round((time() - t) / 60, 2)))"
   ],
   "metadata": {
    "collapsed": false,
    "pycharm": {
     "name": "#%%\n"
    }
   }
  },
  {
   "cell_type": "code",
   "execution_count": 11,
   "outputs": [
    {
     "name": "stdout",
     "output_type": "stream",
     "text": [
      "Time to train the model: 5.71 mins\n"
     ]
    }
   ],
   "source": [
    "t = time()\n",
    "\n",
    "w2vModelWithoutStopWords.train(bigramReviewsWithoutStopWords,\n",
    "                               total_examples=w2vModelWithoutStopWords.corpus_count,\n",
    "                               epochs=30,\n",
    "                               report_delay=1)\n",
    "\n",
    "print('Time to train the model: {} mins'.format(round((time() - t) / 60, 2)))"
   ],
   "metadata": {
    "collapsed": false,
    "pycharm": {
     "name": "#%%\n"
    }
   }
  },
  {
   "cell_type": "code",
   "execution_count": 55,
   "outputs": [],
   "source": [
    "# w2vModelWithoutStopWords.save(\"word2vec_no_stopwords.model\")"
   ],
   "metadata": {
    "collapsed": false,
    "pycharm": {
     "name": "#%%\n"
    }
   }
  },
  {
   "cell_type": "markdown",
   "source": [
    "## Exploring the model"
   ],
   "metadata": {
    "collapsed": false
   }
  },
  {
   "cell_type": "code",
   "execution_count": 13,
   "outputs": [
    {
     "data": {
      "text/plain": "[('flat', 0.6878382563591003),\n ('spacious', 0.4964258074760437),\n ('modern', 0.48108017444610596),\n ('studio', 0.4650469124317169),\n ('clean', 0.4501889944076538),\n ('comfortably_furnish', 0.38306912779808044),\n ('building', 0.3798222839832306),\n ('bright', 0.377280056476593),\n ('modern_furnishing', 0.37452903389930725),\n ('beautifully_appoint', 0.37319716811180115)]"
     },
     "execution_count": 13,
     "metadata": {},
     "output_type": "execute_result"
    }
   ],
   "source": [
    "w2vModelWithoutStopWords.wv.most_similar(positive=[\"apartment\"])"
   ],
   "metadata": {
    "collapsed": false,
    "pycharm": {
     "name": "#%%\n"
    }
   }
  },
  {
   "cell_type": "markdown",
   "source": [
    "## Clustering model"
   ],
   "metadata": {
    "collapsed": false
   }
  },
  {
   "cell_type": "code",
   "execution_count": 14,
   "outputs": [
    {
     "data": {
      "text/plain": "KMeans(max_iter=1000, n_clusters=2, n_init=50, random_state=42)"
     },
     "execution_count": 14,
     "metadata": {},
     "output_type": "execute_result"
    }
   ],
   "source": [
    "from sklearn.cluster import KMeans\n",
    "import numpy as np\n",
    "\n",
    "kmeansModel2Clusters = KMeans(n_clusters=2, max_iter=1000, random_state=42, n_init=50)\n",
    "kmeansModel2Clusters.fit(X=w2vModelWithoutStopWords.wv.vectors.astype('double'))"
   ],
   "metadata": {
    "collapsed": false,
    "pycharm": {
     "name": "#%%\n"
    }
   }
  },
  {
   "cell_type": "code",
   "execution_count": 15,
   "outputs": [
    {
     "data": {
      "text/plain": "[('due_lack', 0.6634340882301331),\n ('wire', 0.660079300403595),\n ('useless', 0.636574387550354),\n ('unacceptable', 0.6353410482406616),\n ('rug', 0.6306374073028564),\n ('take_trash', 0.6300591826438904),\n ('filthy', 0.6290209293365479),\n ('leak', 0.6218292117118835),\n ('trap', 0.6210276484489441),\n ('smelly', 0.6185833811759949)]"
     },
     "execution_count": 15,
     "metadata": {},
     "output_type": "execute_result"
    }
   ],
   "source": [
    "w2vModelWithoutStopWords.wv.similar_by_vector(kmeansModel2Clusters.cluster_centers_[0],\n",
    "                                              topn=10,\n",
    "                                              restrict_vocab=None)"
   ],
   "metadata": {
    "collapsed": false,
    "pycharm": {
     "name": "#%%\n"
    }
   }
  },
  {
   "cell_type": "code",
   "execution_count": 16,
   "outputs": [],
   "source": [
    "negativeClusterIndex = 0"
   ],
   "metadata": {
    "collapsed": false,
    "pycharm": {
     "name": "#%%\n"
    }
   }
  },
  {
   "cell_type": "code",
   "execution_count": 18,
   "outputs": [
    {
     "data": {
      "text/plain": "       words                                            vectors  cluster\n0      great  [0.021736015, -0.09696648, -0.20334733, 0.3184...        1\n1  apartment  [0.09413033, -0.20562932, -0.09986646, -0.0815...        1\n2       stay  [-0.04194155, 0.27263644, -0.30879694, -0.4886...        1\n3      place  [0.1171688, -0.45740342, -0.18468466, 0.219762...        1\n4     berlin  [-0.062057998, 0.043246496, -0.19278, -0.67646...        1",
      "text/html": "<div>\n<style scoped>\n    .dataframe tbody tr th:only-of-type {\n        vertical-align: middle;\n    }\n\n    .dataframe tbody tr th {\n        vertical-align: top;\n    }\n\n    .dataframe thead th {\n        text-align: right;\n    }\n</style>\n<table border=\"1\" class=\"dataframe\">\n  <thead>\n    <tr style=\"text-align: right;\">\n      <th></th>\n      <th>words</th>\n      <th>vectors</th>\n      <th>cluster</th>\n    </tr>\n  </thead>\n  <tbody>\n    <tr>\n      <th>0</th>\n      <td>great</td>\n      <td>[0.021736015, -0.09696648, -0.20334733, 0.3184...</td>\n      <td>1</td>\n    </tr>\n    <tr>\n      <th>1</th>\n      <td>apartment</td>\n      <td>[0.09413033, -0.20562932, -0.09986646, -0.0815...</td>\n      <td>1</td>\n    </tr>\n    <tr>\n      <th>2</th>\n      <td>stay</td>\n      <td>[-0.04194155, 0.27263644, -0.30879694, -0.4886...</td>\n      <td>1</td>\n    </tr>\n    <tr>\n      <th>3</th>\n      <td>place</td>\n      <td>[0.1171688, -0.45740342, -0.18468466, 0.219762...</td>\n      <td>1</td>\n    </tr>\n    <tr>\n      <th>4</th>\n      <td>berlin</td>\n      <td>[-0.062057998, 0.043246496, -0.19278, -0.67646...</td>\n      <td>1</td>\n    </tr>\n  </tbody>\n</table>\n</div>"
     },
     "execution_count": 18,
     "metadata": {},
     "output_type": "execute_result"
    }
   ],
   "source": [
    "dfWords2ClustersWithoutStopWords = pd.DataFrame(\n",
    "    w2vModelWithoutStopWords.wv.key_to_index.keys())\n",
    "\n",
    "dfWords2ClustersWithoutStopWords.columns = ['words']\n",
    "\n",
    "dfWords2ClustersWithoutStopWords['vectors'] = \\\n",
    "    dfWords2ClustersWithoutStopWords['words'].apply(\n",
    "        lambda x: w2vModelWithoutStopWords.wv[f'{x}'])\n",
    "\n",
    "dfWords2ClustersWithoutStopWords['cluster'] = \\\n",
    "    dfWords2ClustersWithoutStopWords['vectors'].apply(\n",
    "        lambda x: kmeansModel2Clusters.predict([np.array(x)]))\n",
    "\n",
    "dfWords2ClustersWithoutStopWords['cluster'] = \\\n",
    "    dfWords2ClustersWithoutStopWords['cluster'].apply(\n",
    "        lambda x: x[0])\n",
    "\n",
    "dfWords2ClustersWithoutStopWords.head()"
   ],
   "metadata": {
    "collapsed": false,
    "pycharm": {
     "name": "#%%\n"
    }
   }
  },
  {
   "cell_type": "code",
   "execution_count": 19,
   "outputs": [
    {
     "data": {
      "text/plain": "          words                                            vectors  cluster  \\\n11         room  [-0.1289804, -0.47577977, 0.45509025, 0.071285...        0   \n18  comfortable  [-0.105109595, -0.28582796, 0.23227535, -0.098...        0   \n40         like  [0.2838839, -0.5819455, 0.27681106, -0.0084737...        0   \n45          one  [-0.7768008, -0.64739054, 0.637206, -0.629718,...        0   \n46          bed  [-0.37433314, -0.19291034, 0.44292012, -0.3003...        0   \n\n    cluster_value  closeness_score  sentiment_coeff  \n11             -1         0.135719        -0.135719  \n18             -1         0.139571        -0.139571  \n40             -1         0.132852        -0.132852  \n45             -1         0.162380        -0.162380  \n46             -1         0.107758        -0.107758  ",
      "text/html": "<div>\n<style scoped>\n    .dataframe tbody tr th:only-of-type {\n        vertical-align: middle;\n    }\n\n    .dataframe tbody tr th {\n        vertical-align: top;\n    }\n\n    .dataframe thead th {\n        text-align: right;\n    }\n</style>\n<table border=\"1\" class=\"dataframe\">\n  <thead>\n    <tr style=\"text-align: right;\">\n      <th></th>\n      <th>words</th>\n      <th>vectors</th>\n      <th>cluster</th>\n      <th>cluster_value</th>\n      <th>closeness_score</th>\n      <th>sentiment_coeff</th>\n    </tr>\n  </thead>\n  <tbody>\n    <tr>\n      <th>11</th>\n      <td>room</td>\n      <td>[-0.1289804, -0.47577977, 0.45509025, 0.071285...</td>\n      <td>0</td>\n      <td>-1</td>\n      <td>0.135719</td>\n      <td>-0.135719</td>\n    </tr>\n    <tr>\n      <th>18</th>\n      <td>comfortable</td>\n      <td>[-0.105109595, -0.28582796, 0.23227535, -0.098...</td>\n      <td>0</td>\n      <td>-1</td>\n      <td>0.139571</td>\n      <td>-0.139571</td>\n    </tr>\n    <tr>\n      <th>40</th>\n      <td>like</td>\n      <td>[0.2838839, -0.5819455, 0.27681106, -0.0084737...</td>\n      <td>0</td>\n      <td>-1</td>\n      <td>0.132852</td>\n      <td>-0.132852</td>\n    </tr>\n    <tr>\n      <th>45</th>\n      <td>one</td>\n      <td>[-0.7768008, -0.64739054, 0.637206, -0.629718,...</td>\n      <td>0</td>\n      <td>-1</td>\n      <td>0.162380</td>\n      <td>-0.162380</td>\n    </tr>\n    <tr>\n      <th>46</th>\n      <td>bed</td>\n      <td>[-0.37433314, -0.19291034, 0.44292012, -0.3003...</td>\n      <td>0</td>\n      <td>-1</td>\n      <td>0.107758</td>\n      <td>-0.107758</td>\n    </tr>\n  </tbody>\n</table>\n</div>"
     },
     "execution_count": 19,
     "metadata": {},
     "output_type": "execute_result"
    }
   ],
   "source": [
    "dfWords2ClustersWithoutStopWords['cluster_value'] = [\n",
    "    -1 if i==negativeClusterIndex else 1\n",
    "    for i in dfWords2ClustersWithoutStopWords['cluster']]\n",
    "\n",
    "dfWords2ClustersWithoutStopWords['closeness_score'] = \\\n",
    "    dfWords2ClustersWithoutStopWords.apply(\n",
    "        lambda x: 1/(kmeansModel2Clusters.transform([x.vectors]).min()),\n",
    "        axis=1)\n",
    "\n",
    "dfWords2ClustersWithoutStopWords['sentiment_coeff'] = \\\n",
    "    dfWords2ClustersWithoutStopWords['closeness_score'] * \\\n",
    "    dfWords2ClustersWithoutStopWords['cluster_value']\n",
    "\n",
    "dfWords2ClustersWithoutStopWords[\n",
    "    dfWords2ClustersWithoutStopWords['cluster_value'] == -1].head()"
   ],
   "metadata": {
    "collapsed": false,
    "pycharm": {
     "name": "#%%\n"
    }
   }
  },
  {
   "cell_type": "markdown",
   "source": [
    "## TF-IDF"
   ],
   "metadata": {
    "collapsed": false,
    "pycharm": {
     "name": "#%% md\n"
    }
   }
  },
  {
   "cell_type": "code",
   "execution_count": 20,
   "outputs": [
    {
     "data": {
      "text/plain": "                                            comments\n0  jan friendly welcome host apartment great area...\n1       really nice area food park transport perfect\n2  nice stay berlin thanks jan premium situate ap...\n3  great location close mauerpark kastanienallee ...\n4  apartment well locate close everything superma...",
      "text/html": "<div>\n<style scoped>\n    .dataframe tbody tr th:only-of-type {\n        vertical-align: middle;\n    }\n\n    .dataframe tbody tr th {\n        vertical-align: top;\n    }\n\n    .dataframe thead th {\n        text-align: right;\n    }\n</style>\n<table border=\"1\" class=\"dataframe\">\n  <thead>\n    <tr style=\"text-align: right;\">\n      <th></th>\n      <th>comments</th>\n    </tr>\n  </thead>\n  <tbody>\n    <tr>\n      <th>0</th>\n      <td>jan friendly welcome host apartment great area...</td>\n    </tr>\n    <tr>\n      <th>1</th>\n      <td>really nice area food park transport perfect</td>\n    </tr>\n    <tr>\n      <th>2</th>\n      <td>nice stay berlin thanks jan premium situate ap...</td>\n    </tr>\n    <tr>\n      <th>3</th>\n      <td>great location close mauerpark kastanienallee ...</td>\n    </tr>\n    <tr>\n      <th>4</th>\n      <td>apartment well locate close everything superma...</td>\n    </tr>\n  </tbody>\n</table>\n</div>"
     },
     "execution_count": 20,
     "metadata": {},
     "output_type": "execute_result"
    }
   ],
   "source": [
    "dfCleanedReviewsWithoutStopWords = pd.DataFrame(\n",
    "    [' '.join(review) for review in reviewsWithoutStopWords],\n",
    "    columns=['comments'])\n",
    "\n",
    "dfCleanedReviewsWithoutStopWords.head()"
   ],
   "metadata": {
    "collapsed": false,
    "pycharm": {
     "name": "#%%\n"
    }
   }
  },
  {
   "cell_type": "code",
   "execution_count": 21,
   "outputs": [],
   "source": [
    "from sklearn.feature_extraction.text import TfidfVectorizer\n",
    "\n",
    "tfidfWithoutStopWords = TfidfVectorizer(norm=None)\n",
    "transformed = tfidfWithoutStopWords.fit_transform(\n",
    "    dfCleanedReviewsWithoutStopWords['comments'].tolist())\n",
    "features = pd.Series(tfidfWithoutStopWords.get_feature_names())"
   ],
   "metadata": {
    "collapsed": false,
    "pycharm": {
     "name": "#%%\n"
    }
   }
  },
  {
   "cell_type": "code",
   "execution_count": 22,
   "outputs": [],
   "source": [
    "def create_tfidf_dictionary(x, transformed_file, features_file):\n",
    "    \"\"\"\n",
    "    create dictionary for each input sentence x, where each word has assigned its tfidf score\n",
    "\n",
    "    inspired  by function from this wonderful article:\n",
    "    https://medium.com/analytics-vidhya/automated-keyword-extraction-from-articles-using-nlp-bfd864f41b34\n",
    "\n",
    "    x - row of dataframe, containing sentences, and their indexes,\n",
    "    transformed_file - all sentences transformed with TfidfVectorizer\n",
    "    features - names of all words in corpus used in TfidfVectorizer\n",
    "    \"\"\"\n",
    "    vector_coo = transformed_file[x.name].tocoo()\n",
    "    vector_coo.col = features_file.iloc[vector_coo.col].values\n",
    "    dict_from_coo = dict(zip(vector_coo.col, vector_coo.data))\n",
    "    return dict_from_coo\n",
    "\n",
    "def replace_tfidf_words(x, transformed_file, features_file):\n",
    "    \"\"\"\n",
    "    replacing each word with it's calculated tfidf dictionary with scores of each word\n",
    "    x - row of dataframe, containing sentences, and their indexes,\n",
    "    transformed_file - all sentences transformed with TfidfVectorizer\n",
    "    features - names of all words in corpus used in TfidfVectorizer\n",
    "    \"\"\"\n",
    "    dictionary = create_tfidf_dictionary(x, transformed_file, features_file)\n",
    "    try:\n",
    "        res = list(map(lambda y:dictionary[f'{y}'], x['comments'].split()))\n",
    "    except KeyError:\n",
    "        res = [0 for i in x['comments'].split()]\n",
    "    return res"
   ],
   "metadata": {
    "collapsed": false,
    "pycharm": {
     "name": "#%%\n"
    }
   }
  },
  {
   "cell_type": "code",
   "execution_count": 23,
   "outputs": [
    {
     "data": {
      "text/plain": "pandas.core.series.Series"
     },
     "execution_count": 23,
     "metadata": {},
     "output_type": "execute_result"
    }
   ],
   "source": [
    "tfidfScoresWithoutStopWords = dfCleanedReviewsWithoutStopWords.apply(\n",
    "    lambda x: replace_tfidf_words(x, transformed, features), axis=1)"
   ],
   "metadata": {
    "collapsed": false,
    "pycharm": {
     "name": "#%%\n"
    }
   }
  },
  {
   "cell_type": "code",
   "execution_count": 24,
   "outputs": [],
   "source": [
    "dictSentiment2ClustersWithoutStopWords = dict(zip(\n",
    "    dfWords2ClustersWithoutStopWords['words'].values,\n",
    "    dfWords2ClustersWithoutStopWords['sentiment_coeff'].values))"
   ],
   "metadata": {
    "collapsed": false,
    "pycharm": {
     "name": "#%%\n"
    }
   }
  },
  {
   "cell_type": "code",
   "execution_count": 25,
   "outputs": [],
   "source": [
    "def replace_sentiment_words(word, sentiment_dict):\n",
    "    \"\"\"\n",
    "    replacing each word with its associated sentiment score from sentiment dict\n",
    "    \"\"\"\n",
    "    try:\n",
    "        out = sentiment_dict[word]\n",
    "    except KeyError:\n",
    "        out = 0\n",
    "    return out"
   ],
   "metadata": {
    "collapsed": false,
    "pycharm": {
     "name": "#%%\n"
    }
   }
  },
  {
   "cell_type": "code",
   "execution_count": 26,
   "outputs": [],
   "source": [
    "closenessScores2ClustersWithoutStopWords = \\\n",
    "    dfCleanedReviewsWithoutStopWords['comments'].apply(\n",
    "        lambda x: list(map(\n",
    "            lambda y: replace_sentiment_words(y, dictSentiment2ClustersWithoutStopWords),\n",
    "            x.split())))"
   ],
   "metadata": {
    "collapsed": false,
    "pycharm": {
     "name": "#%%\n"
    }
   }
  },
  {
   "cell_type": "code",
   "execution_count": 27,
   "outputs": [
    {
     "data": {
      "text/plain": "                                     sentiment_coeff  \\\n0  [0.08274272026931886, 0.14438650901133268, 0.1...   \n1  [0.21196840433660452, 0.17771365086007282, 0.1...   \n2  [0.17771365086007282, 0.17679454909616302, 0.1...   \n3  [0.20011867647250559, 0.16337263418936798, 0.1...   \n4  [0.18721176816409277, 0.1347721306573096, 0.11...   \n\n                                        tfidf_scores  \\\n0  [6.45518200427728, 3.112217967778944, 3.555659...   \n1  [2.6419108992866036, 2.1582410989662106, 3.154...   \n2  [2.1582410989662106, 1.8573260246038177, 2.148...   \n3  [1.8501655371557688, 2.159718877149754, 2.7123...   \n4  [3.927308953862587, 2.8408487877668502, 6.4401...   \n\n                                              review  sentiment_rate  \\\n0  jan friendly welcome host apartment great area...        8.102213   \n1       really nice area food park transport perfect        2.926502   \n2  nice stay berlin thanks jan premium situate ap...       15.925815   \n3  great location close mauerpark kastanienallee ...        4.887016   \n4  apartment well locate close everything superma...        5.763220   \n\n   prediction  \n0           1  \n1           1  \n2           1  \n3           1  \n4           1  ",
      "text/html": "<div>\n<style scoped>\n    .dataframe tbody tr th:only-of-type {\n        vertical-align: middle;\n    }\n\n    .dataframe tbody tr th {\n        vertical-align: top;\n    }\n\n    .dataframe thead th {\n        text-align: right;\n    }\n</style>\n<table border=\"1\" class=\"dataframe\">\n  <thead>\n    <tr style=\"text-align: right;\">\n      <th></th>\n      <th>sentiment_coeff</th>\n      <th>tfidf_scores</th>\n      <th>review</th>\n      <th>sentiment_rate</th>\n      <th>prediction</th>\n    </tr>\n  </thead>\n  <tbody>\n    <tr>\n      <th>0</th>\n      <td>[0.08274272026931886, 0.14438650901133268, 0.1...</td>\n      <td>[6.45518200427728, 3.112217967778944, 3.555659...</td>\n      <td>jan friendly welcome host apartment great area...</td>\n      <td>8.102213</td>\n      <td>1</td>\n    </tr>\n    <tr>\n      <th>1</th>\n      <td>[0.21196840433660452, 0.17771365086007282, 0.1...</td>\n      <td>[2.6419108992866036, 2.1582410989662106, 3.154...</td>\n      <td>really nice area food park transport perfect</td>\n      <td>2.926502</td>\n      <td>1</td>\n    </tr>\n    <tr>\n      <th>2</th>\n      <td>[0.17771365086007282, 0.17679454909616302, 0.1...</td>\n      <td>[2.1582410989662106, 1.8573260246038177, 2.148...</td>\n      <td>nice stay berlin thanks jan premium situate ap...</td>\n      <td>15.925815</td>\n      <td>1</td>\n    </tr>\n    <tr>\n      <th>3</th>\n      <td>[0.20011867647250559, 0.16337263418936798, 0.1...</td>\n      <td>[1.8501655371557688, 2.159718877149754, 2.7123...</td>\n      <td>great location close mauerpark kastanienallee ...</td>\n      <td>4.887016</td>\n      <td>1</td>\n    </tr>\n    <tr>\n      <th>4</th>\n      <td>[0.18721176816409277, 0.1347721306573096, 0.11...</td>\n      <td>[3.927308953862587, 2.8408487877668502, 6.4401...</td>\n      <td>apartment well locate close everything superma...</td>\n      <td>5.763220</td>\n      <td>1</td>\n    </tr>\n  </tbody>\n</table>\n</div>"
     },
     "execution_count": 27,
     "metadata": {},
     "output_type": "execute_result"
    }
   ],
   "source": [
    "dfSentiment2ClustersTfidfReviewsWithoutStopWords = \\\n",
    "    pd.DataFrame([closenessScores2ClustersWithoutStopWords,\n",
    "                  tfidfScoresWithoutStopWords,\n",
    "                  dfCleanedReviewsWithoutStopWords['comments']]).T\n",
    "\n",
    "dfSentiment2ClustersTfidfReviewsWithoutStopWords.columns = \\\n",
    "    ['sentiment_coeff', 'tfidf_scores', 'review']\n",
    "\n",
    "dfSentiment2ClustersTfidfReviewsWithoutStopWords['sentiment_rate'] = \\\n",
    "    dfSentiment2ClustersTfidfReviewsWithoutStopWords.apply(\n",
    "        lambda x: np.array(x.loc['sentiment_coeff']) @ np.array(x.loc['tfidf_scores']),\n",
    "        axis=1)\n",
    "\n",
    "dfSentiment2ClustersTfidfReviewsWithoutStopWords['prediction'] =\\\n",
    "    (dfSentiment2ClustersTfidfReviewsWithoutStopWords['sentiment_rate'] > 0)\\\n",
    "        .astype('int8')\n",
    "\n",
    "dfSentiment2ClustersTfidfReviewsWithoutStopWords.head()"
   ],
   "metadata": {
    "collapsed": false,
    "pycharm": {
     "name": "#%%\n"
    }
   }
  },
  {
   "cell_type": "code",
   "execution_count": 28,
   "outputs": [
    {
     "name": "stdout",
     "output_type": "stream",
     "text": [
      "Top-5 negative reviews:\n"
     ]
    },
    {
     "data": {
      "text/plain": "['big flat heart neuk lln min station nice flatmate amazing room day everything fine flat mate nice reccomend every website hide airbnb sure like thanks benjamin sonia luca website hide airbnb website hide airbnb website hide airbnb website hide airbnb website hide airbnb website hide airbnb website hide airbnb website hide airbnb website hide airbnb website hide airbnb website hide airbnb website hide airbnb website hide airbnb website hide airbnb website hide airbnb website hide airbnb website hide airbnb website hide airbnb website hide airbnb website hide airbnb website hide airbnb website hide airbnb website hide airbnb website hide airbnb',\n 'one word mouse get apartment find mice run living room bedroom hysteria contact host benjamin respond right away tell us sunday know could nothing could check problem really mice problem tell family small child berlin high season would go tell would contact airbnb change apartment look hotel back forth say would borrow cat friend seem like good idea terrible problem lend pet stranger felt like short story bring two cat apartment dealt immediate emergency mouse run around tell cat ingenious idea okay untenable situation handle mouse cat one cat actually actively go mouse cat well behave pleasant mean need care get fee incessant nudging feed vacation benjamin home rental apartment business fair mouse feces remain unabated benjamin evidently come apartment without knowledge except alert us bring exterminator exterminator say apparently entire building contaminate mouse set poison traps host exterminator discuss mouse entry point observed location mouse droppings throughout apartment disgust contact site move immediately nothing available could find available airbnb site hotel space explain host see mouse contact airbnb ask new apartment hop could help us slow respond get offer help us find something midnight day leave nd day send picture mouse droppings next trap reveal fact apartment clean disinfect locate mouse since stick mouse airbnb suggest refund two night accept offer pay one night suggestion tell would strongly prefer different apartment disgust experience come home find threaten note host attack complain mouse stay like choice note contain incendiary language normally associate middle th century overwhelm',\n 'good apartment good location unfortunately leave key inside room leave pay euro week also pay euro extra open door bil live berlin neighbor take care apartment check ask return key face face leave tell day would leave must put key mailbox bil leave nobody mention us one key berlin one week forget put key send message ask bil half hour leave first mistake ask early half hour reply catch flight leave key table every time rent apartment airbnb second mistake bang door appear angry first time tell us one key would pay lot company help open door moment feel guilty promise pay fee open door leave way airport get message bil really annoy give great deal leave key inside cost lot thank guilty go immediately even complain make feel uncomfortable still try understand situation sent message explain reason promise pay open door second day get bill bil cost us euro get door open please transfer amount account phone number hide airbnb hi bil agree trouble begin us still pay euro complain annoy us think mr one key annoy thing happen lucky leave key indoor leave package key together room pay euro lose package flight still rent apartment airbnb mention risk never ever forget key door lose key otherwise promise back room pay euro open door last barcelona hide airbnb account transfer euro immediately otherwise please wait till june back home go bank transfer money',\n 'find marcos unit less expect airbnb reason front door complex lock front door unit break makeshift repair make door jamb could look door jamb door close make party comfortable night bed spread inside unit like flop house living room real bedroom room recently split half new wall last bed end hall adult couple stay night good thing family two room door outlet work second room split room half floor lamp light switch light living room bed kitchen table ceiling light work till play bite flicker night extension cord plug together run along floor across door way real room unit power tv tv extension cord hang floor foot reach tv plug little dangerous plus year old guest sit except kitchen table bed hook hang coat dresser couch luggage rack nothing except twin bed kitchen table seated people provide fitted mattress sheet blanket pillow cover one towel per guest would recommend cover mattress pillow see stain uncover one hand towel would order wash cloth bring house shoe walk around also floor cover fine grit shower leak bathroom floor puddle sink first shower morning stand puddle find unit uncomfortable group people people would fine stomach condition super host resort city united state year would embarrass call airbnb create many airbnb unit people california take pride unit place remind aunt grow ddr sorry marco get zero',\n 'stay berlin fantastic city dynamic alot offer especially christopher street day stay rosina place ok price fair berlin guess though apartment bit far important sight also issue awkward exchange worth mention communication book place week advance message never respond message day arrival make sure nothing finally respond call day ok checking check time flexible hang around city luggage able enter appartment apartment door super challenging unlock apartment door neighbour try help even couldnt minute key fidget finally open rosina could mention hand key fine guess learn hard way use toilet rosina show around appartment request use toilet pee pee sit thought bit extra since usually messy always clean know kind experience past say ok late day remind come room ask use toilet say yes ask sit instruct say yes awkward go explain ask everyone culture like us china normal men pee stand germany pee sit know sound strange apparently go germany lol think inquire pee bit intrusive perhaps unecessary maybe dude pee floor past try extra careful get get annoyed little bit education germany thing differently bear raise germany live year travell alot fair say know thing civilized culture know pee clean respectful airbnb host like common sense hey common sense sometimes alwasy common cat amaze make feel good']"
     },
     "execution_count": 28,
     "metadata": {},
     "output_type": "execute_result"
    }
   ],
   "source": [
    "dfNegativeSentiment = dfSentiment2ClustersTfidfReviewsWithoutStopWords[\n",
    "    dfSentiment2ClustersTfidfReviewsWithoutStopWords['prediction'] == 0].sort_values(\n",
    "        by=['sentiment_rate'])\n",
    "\n",
    "print('Top-5 negative reviews:')\n",
    "dfNegativeSentiment['review'].head().tolist()"
   ],
   "metadata": {
    "collapsed": false,
    "pycharm": {
     "name": "#%%\n"
    }
   }
  },
  {
   "cell_type": "code",
   "execution_count": 56,
   "outputs": [],
   "source": [
    "# dfSentiment2ClustersTfidfReviewsWithoutStopWords.to_csv(\n",
    "#     'sentiment_dataset_2_clusters_no_stopwords.csv',\n",
    "#     sep=',', index=False, header=True)"
   ],
   "metadata": {
    "collapsed": false,
    "pycharm": {
     "name": "#%%\n"
    }
   }
  },
  {
   "cell_type": "code",
   "execution_count": 30,
   "outputs": [
    {
     "name": "stdout",
     "output_type": "stream",
     "text": [
      "inertia_ 1019374.8914507161\n",
      "inertia_ 979036.4512069453\n",
      "inertia_ 945731.9965046742\n",
      "inertia_ 928825.8544302889\n",
      "inertia_ 916296.311814165\n",
      "inertia_ 903468.412742547\n",
      "inertia_ 893577.2260768567\n",
      "inertia_ 886675.7141103031\n",
      "inertia_ 879206.5099118422\n",
      "inertia_ 872744.2123647004\n"
     ]
    },
    {
     "data": {
      "text/plain": "<Figure size 432x288 with 1 Axes>",
      "image/png": "[encoded data removed]"
     },
     "metadata": {
      "needs_background": "light"
     },
     "output_type": "display_data"
    }
   ],
   "source": [
    "wcss = []\n",
    "for i in range(1, 11):\n",
    "    kmeans = KMeans(n_clusters = i, init = 'k-means++', random_state = 42)\n",
    "    kmeans.fit(X=w2vModelWithoutStopWords.wv.vectors.astype('double'))\n",
    "    # inertia_ is sum of squared distance of samples to its closest cluster centers.\n",
    "    wcss.append(kmeans.inertia_)\n",
    "    print(\"inertia_\", kmeans.inertia_)\n",
    "    # print(\"wcss\", within_css(kmeans))\n",
    "\n",
    "plt.plot(range(1, 11), wcss)\n",
    "plt.title('Elbow Method')\n",
    "plt.xlabel('Number of clusters')\n",
    "plt.ylabel('WCSS')\n",
    "plt.show()"
   ],
   "metadata": {
    "collapsed": false,
    "pycharm": {
     "name": "#%%\n"
    }
   }
  },
  {
   "cell_type": "code",
   "execution_count": 31,
   "outputs": [],
   "source": [
    "from sklearn.metrics import silhouette_score\n",
    "\n",
    "def kmeans_silhouette(X,range_clusters):\n",
    "    for i, k in range_clusters :\n",
    "\n",
    "        # Run the Kmeans algorithm\n",
    "        km = KMeans(n_clusters = k, init = 'k-means++', random_state = 42)\n",
    "\n",
    "        km.fit(X)\n",
    "        labels = km.predict(X)\n",
    "\n",
    "        print(\"For n_clusters =\", k,\n",
    "                  \"The computed average silhouette_score is :\",\n",
    "              silhouette_score(X, labels, metric='euclidean'))"
   ],
   "metadata": {
    "collapsed": false,
    "pycharm": {
     "name": "#%%\n"
    }
   }
  },
  {
   "cell_type": "code",
   "execution_count": 32,
   "outputs": [
    {
     "name": "stdout",
     "output_type": "stream",
     "text": [
      "For n_clusters = 2 The computed average silhouette_score is : 0.06882298045419695\n",
      "For n_clusters = 3 The computed average silhouette_score is : 0.05184578923038232\n",
      "For n_clusters = 4 The computed average silhouette_score is : 0.0489808665742103\n",
      "For n_clusters = 5 The computed average silhouette_score is : 0.004672535626036191\n",
      "For n_clusters = 6 The computed average silhouette_score is : -0.0008970731786193938\n",
      "For n_clusters = 7 The computed average silhouette_score is : -0.007605956063358059\n",
      "For n_clusters = 8 The computed average silhouette_score is : -0.04694576278840496\n",
      "For n_clusters = 9 The computed average silhouette_score is : -0.04297953670725326\n",
      "For n_clusters = 10 The computed average silhouette_score is : -0.04051978810825676\n"
     ]
    }
   ],
   "source": [
    "rangeClusters = enumerate([2,3,4,5,6,7,8,9,10])\n",
    "kmeans_silhouette(w2vModelWithoutStopWords.wv.vectors.astype('double'), rangeClusters)"
   ],
   "metadata": {
    "collapsed": false,
    "pycharm": {
     "name": "#%%\n"
    }
   }
  },
  {
   "cell_type": "markdown",
   "source": [
    "## 3-clusters"
   ],
   "metadata": {
    "collapsed": false,
    "pycharm": {
     "name": "#%% md\n"
    }
   }
  },
  {
   "cell_type": "code",
   "execution_count": 33,
   "outputs": [
    {
     "data": {
      "text/plain": "KMeans(max_iter=1000, n_clusters=3, n_init=50, random_state=42)"
     },
     "execution_count": 33,
     "metadata": {},
     "output_type": "execute_result"
    }
   ],
   "source": [
    "kmeansModel3Clusters = KMeans(n_clusters=3, max_iter=1000, random_state=42, n_init=50)\n",
    "kmeansModel3Clusters.fit(X=w2vModelWithoutStopWords.wv.vectors.astype('double'))"
   ],
   "metadata": {
    "collapsed": false,
    "pycharm": {
     "name": "#%%\n"
    }
   }
  },
  {
   "cell_type": "code",
   "execution_count": 34,
   "outputs": [
    {
     "data": {
      "text/plain": "[('wire', 0.6604833006858826),\n ('due_lack', 0.6506068110466003),\n ('rug', 0.6456260085105896),\n ('useless', 0.6366190314292908),\n ('filthy', 0.6263508796691895),\n ('smelly', 0.6249639987945557),\n ('bathroom', 0.6226907968521118),\n ('leak', 0.6207293272018433),\n ('unacceptable', 0.6182073950767517),\n ('tape', 0.6162527203559875)]"
     },
     "execution_count": 34,
     "metadata": {},
     "output_type": "execute_result"
    }
   ],
   "source": [
    "w2vModelWithoutStopWords.wv.similar_by_vector(\n",
    "    kmeansModel3Clusters.cluster_centers_[2], topn=10, restrict_vocab=None)"
   ],
   "metadata": {
    "collapsed": false,
    "pycharm": {
     "name": "#%%\n"
    }
   }
  },
  {
   "cell_type": "code",
   "execution_count": 35,
   "outputs": [],
   "source": [
    "negativeClusterIndex = 2\n",
    "positiveClusterIndex = 0"
   ],
   "metadata": {
    "collapsed": false,
    "pycharm": {
     "name": "#%%\n"
    }
   }
  },
  {
   "cell_type": "code",
   "execution_count": 36,
   "outputs": [
    {
     "data": {
      "text/plain": "       words                                            vectors  cluster\n0      great  [0.021736015, -0.09696648, -0.20334733, 0.3184...        1\n1  apartment  [0.09413033, -0.20562932, -0.09986646, -0.0815...        1\n2       stay  [-0.04194155, 0.27263644, -0.30879694, -0.4886...        1\n3      place  [0.1171688, -0.45740342, -0.18468466, 0.219762...        1\n4     berlin  [-0.062057998, 0.043246496, -0.19278, -0.67646...        0",
      "text/html": "<div>\n<style scoped>\n    .dataframe tbody tr th:only-of-type {\n        vertical-align: middle;\n    }\n\n    .dataframe tbody tr th {\n        vertical-align: top;\n    }\n\n    .dataframe thead th {\n        text-align: right;\n    }\n</style>\n<table border=\"1\" class=\"dataframe\">\n  <thead>\n    <tr style=\"text-align: right;\">\n      <th></th>\n      <th>words</th>\n      <th>vectors</th>\n      <th>cluster</th>\n    </tr>\n  </thead>\n  <tbody>\n    <tr>\n      <th>0</th>\n      <td>great</td>\n      <td>[0.021736015, -0.09696648, -0.20334733, 0.3184...</td>\n      <td>1</td>\n    </tr>\n    <tr>\n      <th>1</th>\n      <td>apartment</td>\n      <td>[0.09413033, -0.20562932, -0.09986646, -0.0815...</td>\n      <td>1</td>\n    </tr>\n    <tr>\n      <th>2</th>\n      <td>stay</td>\n      <td>[-0.04194155, 0.27263644, -0.30879694, -0.4886...</td>\n      <td>1</td>\n    </tr>\n    <tr>\n      <th>3</th>\n      <td>place</td>\n      <td>[0.1171688, -0.45740342, -0.18468466, 0.219762...</td>\n      <td>1</td>\n    </tr>\n    <tr>\n      <th>4</th>\n      <td>berlin</td>\n      <td>[-0.062057998, 0.043246496, -0.19278, -0.67646...</td>\n      <td>0</td>\n    </tr>\n  </tbody>\n</table>\n</div>"
     },
     "execution_count": 36,
     "metadata": {},
     "output_type": "execute_result"
    }
   ],
   "source": [
    "dfWords3ClustersWithoutStopWords = pd.DataFrame(\n",
    "    w2vModelWithoutStopWords.wv.key_to_index.keys())\n",
    "\n",
    "dfWords3ClustersWithoutStopWords.columns = ['words']\n",
    "\n",
    "dfWords3ClustersWithoutStopWords['vectors'] = \\\n",
    "    dfWords3ClustersWithoutStopWords['words'].apply(\n",
    "        lambda x: w2vModelWithoutStopWords.wv[f'{x}'])\n",
    "\n",
    "dfWords3ClustersWithoutStopWords['cluster'] = \\\n",
    "    dfWords3ClustersWithoutStopWords['vectors'].apply(\n",
    "        lambda x: kmeansModel3Clusters.predict([np.array(x)]))\n",
    "\n",
    "dfWords3ClustersWithoutStopWords.cluster = \\\n",
    "    dfWords3ClustersWithoutStopWords['cluster'].apply(\n",
    "        lambda x: x[0])\n",
    "\n",
    "dfWords3ClustersWithoutStopWords.head()"
   ],
   "metadata": {
    "collapsed": false,
    "pycharm": {
     "name": "#%%\n"
    }
   }
  },
  {
   "cell_type": "code",
   "execution_count": 37,
   "outputs": [
    {
     "data": {
      "text/plain": "          words                                            vectors  cluster  \\\n11         room  [-0.1289804, -0.47577977, 0.45509025, 0.071285...        2   \n18  comfortable  [-0.105109595, -0.28582796, 0.23227535, -0.098...        2   \n40         like  [0.2838839, -0.5819455, 0.27681106, -0.0084737...        2   \n45          one  [-0.7768008, -0.64739054, 0.637206, -0.629718,...        2   \n46          bed  [-0.37433314, -0.19291034, 0.44292012, -0.3003...        2   \n\n    cluster_value  closeness_score  sentiment_coeff  \n11             -1         0.137974        -0.137974  \n18             -1         0.142628        -0.142628  \n40             -1         0.133966        -0.133966  \n45             -1         0.161954        -0.161954  \n46             -1         0.109352        -0.109352  ",
      "text/html": "<div>\n<style scoped>\n    .dataframe tbody tr th:only-of-type {\n        vertical-align: middle;\n    }\n\n    .dataframe tbody tr th {\n        vertical-align: top;\n    }\n\n    .dataframe thead th {\n        text-align: right;\n    }\n</style>\n<table border=\"1\" class=\"dataframe\">\n  <thead>\n    <tr style=\"text-align: right;\">\n      <th></th>\n      <th>words</th>\n      <th>vectors</th>\n      <th>cluster</th>\n      <th>cluster_value</th>\n      <th>closeness_score</th>\n      <th>sentiment_coeff</th>\n    </tr>\n  </thead>\n  <tbody>\n    <tr>\n      <th>11</th>\n      <td>room</td>\n      <td>[-0.1289804, -0.47577977, 0.45509025, 0.071285...</td>\n      <td>2</td>\n      <td>-1</td>\n      <td>0.137974</td>\n      <td>-0.137974</td>\n    </tr>\n    <tr>\n      <th>18</th>\n      <td>comfortable</td>\n      <td>[-0.105109595, -0.28582796, 0.23227535, -0.098...</td>\n      <td>2</td>\n      <td>-1</td>\n      <td>0.142628</td>\n      <td>-0.142628</td>\n    </tr>\n    <tr>\n      <th>40</th>\n      <td>like</td>\n      <td>[0.2838839, -0.5819455, 0.27681106, -0.0084737...</td>\n      <td>2</td>\n      <td>-1</td>\n      <td>0.133966</td>\n      <td>-0.133966</td>\n    </tr>\n    <tr>\n      <th>45</th>\n      <td>one</td>\n      <td>[-0.7768008, -0.64739054, 0.637206, -0.629718,...</td>\n      <td>2</td>\n      <td>-1</td>\n      <td>0.161954</td>\n      <td>-0.161954</td>\n    </tr>\n    <tr>\n      <th>46</th>\n      <td>bed</td>\n      <td>[-0.37433314, -0.19291034, 0.44292012, -0.3003...</td>\n      <td>2</td>\n      <td>-1</td>\n      <td>0.109352</td>\n      <td>-0.109352</td>\n    </tr>\n  </tbody>\n</table>\n</div>"
     },
     "execution_count": 37,
     "metadata": {},
     "output_type": "execute_result"
    }
   ],
   "source": [
    "dfWords3ClustersWithoutStopWords['cluster_value'] = \\\n",
    "    [-1 if i==negativeClusterIndex\n",
    "     else 1 if i==positiveClusterIndex else 0\n",
    "     for i in dfWords3ClustersWithoutStopWords['cluster']]\n",
    "\n",
    "dfWords3ClustersWithoutStopWords['closeness_score'] = \\\n",
    "    dfWords3ClustersWithoutStopWords.apply(\n",
    "        lambda x: 1/(kmeansModel3Clusters.transform([x.vectors]).min()),\n",
    "        axis=1)\n",
    "\n",
    "dfWords3ClustersWithoutStopWords['sentiment_coeff'] = \\\n",
    "    dfWords3ClustersWithoutStopWords['closeness_score'] * \\\n",
    "    dfWords3ClustersWithoutStopWords['cluster_value']\n",
    "\n",
    "dfWords3ClustersWithoutStopWords[\n",
    "    dfWords3ClustersWithoutStopWords['cluster_value'] == -1].head()"
   ],
   "metadata": {
    "collapsed": false,
    "pycharm": {
     "name": "#%%\n"
    }
   }
  },
  {
   "cell_type": "code",
   "execution_count": 38,
   "outputs": [],
   "source": [
    "dictSentiment3ClustersWithoutStopWords = dict(zip(\n",
    "    dfWords3ClustersWithoutStopWords['words'].values,\n",
    "    dfWords3ClustersWithoutStopWords['sentiment_coeff'].values))"
   ],
   "metadata": {
    "collapsed": false,
    "pycharm": {
     "name": "#%%\n"
    }
   }
  },
  {
   "cell_type": "code",
   "execution_count": 39,
   "outputs": [],
   "source": [
    "closenessScores3ClustersWithoutStopWords = \\\n",
    "    dfCleanedReviewsWithoutStopWords['comments'].apply(\n",
    "        lambda x: list(map(\n",
    "            lambda y: replace_sentiment_words(y, dictSentiment3ClustersWithoutStopWords),\n",
    "            x.split())))"
   ],
   "metadata": {
    "collapsed": false,
    "pycharm": {
     "name": "#%%\n"
    }
   }
  },
  {
   "cell_type": "code",
   "execution_count": 40,
   "outputs": [
    {
     "data": {
      "text/plain": "                                     sentiment_coeff  \\\n0  [0.0, 0.0, 0.0, 0.0, 0.0, 0.0, 0.1530401787107...   \n1  [0.0, 0.0, 0.1530401787107593, 0.0962295034379...   \n2  [0.0, 0.0, 0.1417771922395551, 0.0, 0.0, -0.14...   \n3  [0.0, 0.1948514168094835, 0.14606870725559232,...   \n4  [0.0, 0.12948971833364556, 0.14316824211234594...   \n\n                                        tfidf_scores  \\\n0  [6.45518200427728, 3.112217967778944, 3.555659...   \n1  [2.6419108992866036, 2.1582410989662106, 3.154...   \n2  [2.1582410989662106, 1.8573260246038177, 2.148...   \n3  [1.8501655371557688, 2.159718877149754, 2.7123...   \n4  [3.927308953862587, 2.8408487877668502, 6.4401...   \n\n                                              review  sentiment_rate  \\\n0  jan friendly welcome host apartment great area...        3.171116   \n1       really nice area food park transport perfect        1.725799   \n2  nice stay berlin thanks jan premium situate ap...        4.913388   \n3  great location close mauerpark kastanienallee ...        3.140077   \n4  apartment well locate close everything superma...        2.336270   \n\n   prediction  \n0           1  \n1           1  \n2           1  \n3           1  \n4           1  ",
      "text/html": "<div>\n<style scoped>\n    .dataframe tbody tr th:only-of-type {\n        vertical-align: middle;\n    }\n\n    .dataframe tbody tr th {\n        vertical-align: top;\n    }\n\n    .dataframe thead th {\n        text-align: right;\n    }\n</style>\n<table border=\"1\" class=\"dataframe\">\n  <thead>\n    <tr style=\"text-align: right;\">\n      <th></th>\n      <th>sentiment_coeff</th>\n      <th>tfidf_scores</th>\n      <th>review</th>\n      <th>sentiment_rate</th>\n      <th>prediction</th>\n    </tr>\n  </thead>\n  <tbody>\n    <tr>\n      <th>0</th>\n      <td>[0.0, 0.0, 0.0, 0.0, 0.0, 0.0, 0.1530401787107...</td>\n      <td>[6.45518200427728, 3.112217967778944, 3.555659...</td>\n      <td>jan friendly welcome host apartment great area...</td>\n      <td>3.171116</td>\n      <td>1</td>\n    </tr>\n    <tr>\n      <th>1</th>\n      <td>[0.0, 0.0, 0.1530401787107593, 0.0962295034379...</td>\n      <td>[2.6419108992866036, 2.1582410989662106, 3.154...</td>\n      <td>really nice area food park transport perfect</td>\n      <td>1.725799</td>\n      <td>1</td>\n    </tr>\n    <tr>\n      <th>2</th>\n      <td>[0.0, 0.0, 0.1417771922395551, 0.0, 0.0, -0.14...</td>\n      <td>[2.1582410989662106, 1.8573260246038177, 2.148...</td>\n      <td>nice stay berlin thanks jan premium situate ap...</td>\n      <td>4.913388</td>\n      <td>1</td>\n    </tr>\n    <tr>\n      <th>3</th>\n      <td>[0.0, 0.1948514168094835, 0.14606870725559232,...</td>\n      <td>[1.8501655371557688, 2.159718877149754, 2.7123...</td>\n      <td>great location close mauerpark kastanienallee ...</td>\n      <td>3.140077</td>\n      <td>1</td>\n    </tr>\n    <tr>\n      <th>4</th>\n      <td>[0.0, 0.12948971833364556, 0.14316824211234594...</td>\n      <td>[3.927308953862587, 2.8408487877668502, 6.4401...</td>\n      <td>apartment well locate close everything superma...</td>\n      <td>2.336270</td>\n      <td>1</td>\n    </tr>\n  </tbody>\n</table>\n</div>"
     },
     "execution_count": 40,
     "metadata": {},
     "output_type": "execute_result"
    }
   ],
   "source": [
    "dfSentiment3ClustersTfidfReviewsWithoutStopWords = pd.DataFrame(\n",
    "    [closenessScores3ClustersWithoutStopWords,\n",
    "     tfidfScoresWithoutStopWords,\n",
    "     dfCleanedReviewsWithoutStopWords['comments']]).T\n",
    "\n",
    "dfSentiment3ClustersTfidfReviewsWithoutStopWords.columns = \\\n",
    "    ['sentiment_coeff', 'tfidf_scores', 'review']\n",
    "\n",
    "dfSentiment3ClustersTfidfReviewsWithoutStopWords['sentiment_rate'] = \\\n",
    "    dfSentiment3ClustersTfidfReviewsWithoutStopWords.apply(\n",
    "        lambda x: np.array(x.loc['sentiment_coeff']) @ np.array(x.loc['tfidf_scores']),\n",
    "        axis=1)\n",
    "\n",
    "dfSentiment3ClustersTfidfReviewsWithoutStopWords['prediction'] = \\\n",
    "    (dfSentiment3ClustersTfidfReviewsWithoutStopWords['sentiment_rate']>0)\\\n",
    "        .astype('int8')\n",
    "\n",
    "dfSentiment3ClustersTfidfReviewsWithoutStopWords.head()"
   ],
   "metadata": {
    "collapsed": false,
    "pycharm": {
     "name": "#%%\n"
    }
   }
  },
  {
   "cell_type": "code",
   "execution_count": 57,
   "outputs": [],
   "source": [
    "# dfSentiment3ClustersTfidfReviewsWithoutStopWords.to_csv(\n",
    "#     'sentiment_dataset_3_clusters_no_stopwords.csv',\n",
    "#     sep=',', index=False, header=True)"
   ],
   "metadata": {
    "collapsed": false,
    "pycharm": {
     "name": "#%%\n"
    }
   }
  },
  {
   "cell_type": "code",
   "execution_count": 43,
   "outputs": [
    {
     "data": {
      "text/plain": "['one word mouse get apartment find mice run living room bedroom hysteria contact host benjamin respond right away tell us sunday know could nothing could check problem really mice problem tell family small child berlin high season would go tell would contact airbnb change apartment look hotel back forth say would borrow cat friend seem like good idea terrible problem lend pet stranger felt like short story bring two cat apartment dealt immediate emergency mouse run around tell cat ingenious idea okay untenable situation handle mouse cat one cat actually actively go mouse cat well behave pleasant mean need care get fee incessant nudging feed vacation benjamin home rental apartment business fair mouse feces remain unabated benjamin evidently come apartment without knowledge except alert us bring exterminator exterminator say apparently entire building contaminate mouse set poison traps host exterminator discuss mouse entry point observed location mouse droppings throughout apartment disgust contact site move immediately nothing available could find available airbnb site hotel space explain host see mouse contact airbnb ask new apartment hop could help us slow respond get offer help us find something midnight day leave nd day send picture mouse droppings next trap reveal fact apartment clean disinfect locate mouse since stick mouse airbnb suggest refund two night accept offer pay one night suggestion tell would strongly prefer different apartment disgust experience come home find threaten note host attack complain mouse stay like choice note contain incendiary language normally associate middle th century overwhelm',\n 'big flat heart neuk lln min station nice flatmate amazing room day everything fine flat mate nice reccomend every website hide airbnb sure like thanks benjamin sonia luca website hide airbnb website hide airbnb website hide airbnb website hide airbnb website hide airbnb website hide airbnb website hide airbnb website hide airbnb website hide airbnb website hide airbnb website hide airbnb website hide airbnb website hide airbnb website hide airbnb website hide airbnb website hide airbnb website hide airbnb website hide airbnb website hide airbnb website hide airbnb website hide airbnb website hide airbnb website hide airbnb website hide airbnb',\n 'good apartment good location unfortunately leave key inside room leave pay euro week also pay euro extra open door bil live berlin neighbor take care apartment check ask return key face face leave tell day would leave must put key mailbox bil leave nobody mention us one key berlin one week forget put key send message ask bil half hour leave first mistake ask early half hour reply catch flight leave key table every time rent apartment airbnb second mistake bang door appear angry first time tell us one key would pay lot company help open door moment feel guilty promise pay fee open door leave way airport get message bil really annoy give great deal leave key inside cost lot thank guilty go immediately even complain make feel uncomfortable still try understand situation sent message explain reason promise pay open door second day get bill bil cost us euro get door open please transfer amount account phone number hide airbnb hi bil agree trouble begin us still pay euro complain annoy us think mr one key annoy thing happen lucky leave key indoor leave package key together room pay euro lose package flight still rent apartment airbnb mention risk never ever forget key door lose key otherwise promise back room pay euro open door last barcelona hide airbnb account transfer euro immediately otherwise please wait till june back home go bank transfer money',\n 'expect bait switch profile proudly state one apartment berlin air condition even fan let alone ac room describe king size bed perfect son sleep comfortably one person bed big twin nowhere near big enough two people sleep wanted leave soon got respond finally say give money back afford pay two place choice stay though continue miserable experience especially son never travel eddy try blame want ac place hot enough also try blame airbnb admin helpful btw even refund money try sleep eddy place bad part otherwise lovely time berlin eddy express anger airbnb folk give hard time ac since falsely claim profile book place base nr preference travel especially jet lag place ac say kid lie ac sorry wrong bed size either bad host airbnb rightfully express dissatisfaction airbnb customer service get involved know say make eddy go buy mobile ac unit half way one week stay refuse attach properly even though assure work plug hang pipe window use hardware seal material include ac leave pipe fall ac unit side pipe fall room several time night either nothing blow hot air room keep try attach end postal tape give postal tape make stay put fight keep ac sort attach night restful would happy attach material say want keep part pristine unused shape possible could return store leave thanks nothing many thing could say place tire arrive back home want put nightmare eddie',\n 'find marcos unit less expect airbnb reason front door complex lock front door unit break makeshift repair make door jamb could look door jamb door close make party comfortable night bed spread inside unit like flop house living room real bedroom room recently split half new wall last bed end hall adult couple stay night good thing family two room door outlet work second room split room half floor lamp light switch light living room bed kitchen table ceiling light work till play bite flicker night extension cord plug together run along floor across door way real room unit power tv tv extension cord hang floor foot reach tv plug little dangerous plus year old guest sit except kitchen table bed hook hang coat dresser couch luggage rack nothing except twin bed kitchen table seated people provide fitted mattress sheet blanket pillow cover one towel per guest would recommend cover mattress pillow see stain uncover one hand towel would order wash cloth bring house shoe walk around also floor cover fine grit shower leak bathroom floor puddle sink first shower morning stand puddle find unit uncomfortable group people people would fine stomach condition super host resort city united state year would embarrass call airbnb create many airbnb unit people california take pride unit place remind aunt grow ddr sorry marco get zero']"
     },
     "execution_count": 43,
     "metadata": {},
     "output_type": "execute_result"
    }
   ],
   "source": [
    "dfNegativeSentiment = dfSentiment3ClustersTfidfReviewsWithoutStopWords[\n",
    "    dfSentiment3ClustersTfidfReviewsWithoutStopWords['prediction'] == 0].sort_values(\n",
    "        by=['sentiment_rate'])\n",
    "\n",
    "dfNegativeSentiment['review'].head().tolist()"
   ],
   "metadata": {
    "collapsed": false,
    "pycharm": {
     "name": "#%%\n"
    }
   }
  },
  {
   "cell_type": "markdown",
   "source": [
    "## TextBlob"
   ],
   "metadata": {
    "collapsed": false,
    "pycharm": {
     "name": "#%% md\n"
    }
   }
  },
  {
   "cell_type": "code",
   "execution_count": 44,
   "outputs": [],
   "source": [
    "from textblob import TextBlob"
   ],
   "metadata": {
    "collapsed": false,
    "pycharm": {
     "name": "#%%\n"
    }
   }
  },
  {
   "cell_type": "code",
   "execution_count": 45,
   "outputs": [
    {
     "data": {
      "text/plain": "0    0.595000\n1    0.800000\n2    0.487500\n3    0.587500\n4    0.229762\nName: comments, dtype: float64"
     },
     "execution_count": 45,
     "metadata": {},
     "output_type": "execute_result"
    }
   ],
   "source": [
    "textblobSentimentWithoutStopWords = dfCleanedReviewsWithoutStopWords['comments'].apply(\n",
    "    lambda x: TextBlob(x).sentiment.polarity)\n",
    "\n",
    "textblobSentimentWithoutStopWords.head()"
   ],
   "metadata": {
    "collapsed": false,
    "pycharm": {
     "name": "#%%\n"
    }
   }
  },
  {
   "cell_type": "code",
   "execution_count": 49,
   "outputs": [
    {
     "data": {
      "text/plain": "                                     sentiment_coeff  \\\n0  [0.08274272026931886, 0.14438650901133268, 0.1...   \n1  [0.21196840433660452, 0.17771365086007282, 0.1...   \n2  [0.17771365086007282, 0.17679454909616302, 0.1...   \n3  [0.20011867647250559, 0.16337263418936798, 0.1...   \n4  [0.18721176816409277, 0.1347721306573096, 0.11...   \n\n                                        tfidf_scores  \\\n0  [6.45518200427728, 3.112217967778944, 3.555659...   \n1  [2.6419108992866036, 2.1582410989662106, 3.154...   \n2  [2.1582410989662106, 1.8573260246038177, 2.148...   \n3  [1.8501655371557688, 2.159718877149754, 2.7123...   \n4  [3.927308953862587, 2.8408487877668502, 6.4401...   \n\n                                              review  sentiment_rate  \\\n0  jan friendly welcome host apartment great area...        8.102213   \n1       really nice area food park transport perfect        2.926502   \n2  nice stay berlin thanks jan premium situate ap...       15.925815   \n3  great location close mauerpark kastanienallee ...        4.887016   \n4  apartment well locate close everything superma...        5.763220   \n\n   prediction  textblob_sentiment  textblob_prediction  \n0           1            0.595000                    1  \n1           1            0.800000                    1  \n2           1            0.487500                    1  \n3           1            0.587500                    1  \n4           1            0.229762                    1  ",
      "text/html": "<div>\n<style scoped>\n    .dataframe tbody tr th:only-of-type {\n        vertical-align: middle;\n    }\n\n    .dataframe tbody tr th {\n        vertical-align: top;\n    }\n\n    .dataframe thead th {\n        text-align: right;\n    }\n</style>\n<table border=\"1\" class=\"dataframe\">\n  <thead>\n    <tr style=\"text-align: right;\">\n      <th></th>\n      <th>sentiment_coeff</th>\n      <th>tfidf_scores</th>\n      <th>review</th>\n      <th>sentiment_rate</th>\n      <th>prediction</th>\n      <th>textblob_sentiment</th>\n      <th>textblob_prediction</th>\n    </tr>\n  </thead>\n  <tbody>\n    <tr>\n      <th>0</th>\n      <td>[0.08274272026931886, 0.14438650901133268, 0.1...</td>\n      <td>[6.45518200427728, 3.112217967778944, 3.555659...</td>\n      <td>jan friendly welcome host apartment great area...</td>\n      <td>8.102213</td>\n      <td>1</td>\n      <td>0.595000</td>\n      <td>1</td>\n    </tr>\n    <tr>\n      <th>1</th>\n      <td>[0.21196840433660452, 0.17771365086007282, 0.1...</td>\n      <td>[2.6419108992866036, 2.1582410989662106, 3.154...</td>\n      <td>really nice area food park transport perfect</td>\n      <td>2.926502</td>\n      <td>1</td>\n      <td>0.800000</td>\n      <td>1</td>\n    </tr>\n    <tr>\n      <th>2</th>\n      <td>[0.17771365086007282, 0.17679454909616302, 0.1...</td>\n      <td>[2.1582410989662106, 1.8573260246038177, 2.148...</td>\n      <td>nice stay berlin thanks jan premium situate ap...</td>\n      <td>15.925815</td>\n      <td>1</td>\n      <td>0.487500</td>\n      <td>1</td>\n    </tr>\n    <tr>\n      <th>3</th>\n      <td>[0.20011867647250559, 0.16337263418936798, 0.1...</td>\n      <td>[1.8501655371557688, 2.159718877149754, 2.7123...</td>\n      <td>great location close mauerpark kastanienallee ...</td>\n      <td>4.887016</td>\n      <td>1</td>\n      <td>0.587500</td>\n      <td>1</td>\n    </tr>\n    <tr>\n      <th>4</th>\n      <td>[0.18721176816409277, 0.1347721306573096, 0.11...</td>\n      <td>[3.927308953862587, 2.8408487877668502, 6.4401...</td>\n      <td>apartment well locate close everything superma...</td>\n      <td>5.763220</td>\n      <td>1</td>\n      <td>0.229762</td>\n      <td>1</td>\n    </tr>\n  </tbody>\n</table>\n</div>"
     },
     "execution_count": 49,
     "metadata": {},
     "output_type": "execute_result"
    }
   ],
   "source": [
    "dfSentiment2ClustersTfidfReviewsWithoutStopWords['textblob_sentiment'] = \\\n",
    "    textblobSentimentWithoutStopWords\n",
    "\n",
    "dfSentiment2ClustersTfidfReviewsWithoutStopWords['textblob_prediction'] = \\\n",
    "    (dfSentiment2ClustersTfidfReviewsWithoutStopWords['textblob_sentiment'] > 0)\\\n",
    "        .astype('int8')\n",
    "\n",
    "dfSentiment2ClustersTfidfReviewsWithoutStopWords.head()"
   ],
   "metadata": {
    "collapsed": false,
    "pycharm": {
     "name": "#%%\n"
    }
   }
  },
  {
   "cell_type": "code",
   "execution_count": 50,
   "outputs": [
    {
     "data": {
      "text/plain": "                                     sentiment_coeff  \\\n0  [0.0, 0.0, 0.0, 0.0, 0.0, 0.0, 0.1530401787107...   \n1  [0.0, 0.0, 0.1530401787107593, 0.0962295034379...   \n2  [0.0, 0.0, 0.1417771922395551, 0.0, 0.0, -0.14...   \n3  [0.0, 0.1948514168094835, 0.14606870725559232,...   \n4  [0.0, 0.12948971833364556, 0.14316824211234594...   \n\n                                        tfidf_scores  \\\n0  [6.45518200427728, 3.112217967778944, 3.555659...   \n1  [2.6419108992866036, 2.1582410989662106, 3.154...   \n2  [2.1582410989662106, 1.8573260246038177, 2.148...   \n3  [1.8501655371557688, 2.159718877149754, 2.7123...   \n4  [3.927308953862587, 2.8408487877668502, 6.4401...   \n\n                                              review  sentiment_rate  \\\n0  jan friendly welcome host apartment great area...        3.171116   \n1       really nice area food park transport perfect        1.725799   \n2  nice stay berlin thanks jan premium situate ap...        4.913388   \n3  great location close mauerpark kastanienallee ...        3.140077   \n4  apartment well locate close everything superma...        2.336270   \n\n   prediction  textblob_sentiment  textblob_prediction  \n0           1            0.595000                    1  \n1           1            0.800000                    1  \n2           1            0.487500                    1  \n3           1            0.587500                    1  \n4           1            0.229762                    1  ",
      "text/html": "<div>\n<style scoped>\n    .dataframe tbody tr th:only-of-type {\n        vertical-align: middle;\n    }\n\n    .dataframe tbody tr th {\n        vertical-align: top;\n    }\n\n    .dataframe thead th {\n        text-align: right;\n    }\n</style>\n<table border=\"1\" class=\"dataframe\">\n  <thead>\n    <tr style=\"text-align: right;\">\n      <th></th>\n      <th>sentiment_coeff</th>\n      <th>tfidf_scores</th>\n      <th>review</th>\n      <th>sentiment_rate</th>\n      <th>prediction</th>\n      <th>textblob_sentiment</th>\n      <th>textblob_prediction</th>\n    </tr>\n  </thead>\n  <tbody>\n    <tr>\n      <th>0</th>\n      <td>[0.0, 0.0, 0.0, 0.0, 0.0, 0.0, 0.1530401787107...</td>\n      <td>[6.45518200427728, 3.112217967778944, 3.555659...</td>\n      <td>jan friendly welcome host apartment great area...</td>\n      <td>3.171116</td>\n      <td>1</td>\n      <td>0.595000</td>\n      <td>1</td>\n    </tr>\n    <tr>\n      <th>1</th>\n      <td>[0.0, 0.0, 0.1530401787107593, 0.0962295034379...</td>\n      <td>[2.6419108992866036, 2.1582410989662106, 3.154...</td>\n      <td>really nice area food park transport perfect</td>\n      <td>1.725799</td>\n      <td>1</td>\n      <td>0.800000</td>\n      <td>1</td>\n    </tr>\n    <tr>\n      <th>2</th>\n      <td>[0.0, 0.0, 0.1417771922395551, 0.0, 0.0, -0.14...</td>\n      <td>[2.1582410989662106, 1.8573260246038177, 2.148...</td>\n      <td>nice stay berlin thanks jan premium situate ap...</td>\n      <td>4.913388</td>\n      <td>1</td>\n      <td>0.487500</td>\n      <td>1</td>\n    </tr>\n    <tr>\n      <th>3</th>\n      <td>[0.0, 0.1948514168094835, 0.14606870725559232,...</td>\n      <td>[1.8501655371557688, 2.159718877149754, 2.7123...</td>\n      <td>great location close mauerpark kastanienallee ...</td>\n      <td>3.140077</td>\n      <td>1</td>\n      <td>0.587500</td>\n      <td>1</td>\n    </tr>\n    <tr>\n      <th>4</th>\n      <td>[0.0, 0.12948971833364556, 0.14316824211234594...</td>\n      <td>[3.927308953862587, 2.8408487877668502, 6.4401...</td>\n      <td>apartment well locate close everything superma...</td>\n      <td>2.336270</td>\n      <td>1</td>\n      <td>0.229762</td>\n      <td>1</td>\n    </tr>\n  </tbody>\n</table>\n</div>"
     },
     "execution_count": 50,
     "metadata": {},
     "output_type": "execute_result"
    }
   ],
   "source": [
    "dfSentiment3ClustersTfidfReviewsWithoutStopWords['textblob_sentiment'] = \\\n",
    "    textblobSentimentWithoutStopWords\n",
    "\n",
    "dfSentiment3ClustersTfidfReviewsWithoutStopWords['textblob_prediction'] = \\\n",
    "    (dfSentiment3ClustersTfidfReviewsWithoutStopWords['textblob_sentiment'] > 0)\\\n",
    "        .astype('int8')\n",
    "\n",
    "dfSentiment3ClustersTfidfReviewsWithoutStopWords.head()"
   ],
   "metadata": {
    "collapsed": false,
    "pycharm": {
     "name": "#%%\n"
    }
   }
  },
  {
   "cell_type": "markdown",
   "source": [
    "## Sentiment Analysis Evaluation"
   ],
   "metadata": {
    "collapsed": false,
    "pycharm": {
     "name": "#%% md\n"
    }
   }
  },
  {
   "cell_type": "code",
   "execution_count": 51,
   "outputs": [],
   "source": [
    "from sklearn.metrics import accuracy_score, confusion_matrix, precision_score, recall_score, f1_score\n",
    "\n",
    "def compute_test_scores(predictions, labels):\n",
    "\n",
    "    df_conf_matrix = pd.DataFrame(confusion_matrix(predictions, labels))\n",
    "\n",
    "    print(df_conf_matrix)\n",
    "\n",
    "    test_scores = accuracy_score(predictions, labels), \\\n",
    "                  precision_score(predictions, labels), \\\n",
    "                  recall_score(predictions, labels), \\\n",
    "                  f1_score(predictions, labels)\n",
    "\n",
    "    return test_scores"
   ],
   "metadata": {
    "collapsed": false,
    "pycharm": {
     "name": "#%%\n"
    }
   }
  },
  {
   "cell_type": "code",
   "execution_count": 53,
   "outputs": [
    {
     "name": "stdout",
     "output_type": "stream",
     "text": [
      "      0       1\n",
      "0  1425   13517\n",
      "1  3100  240725\n",
      "Scores for sentiment analysis with 2 clusters and no stopwords: \n"
     ]
    },
    {
     "data": {
      "text/plain": "             scores\naccuracy   0.935784\nprecision  0.946834\nrecall     0.987286\nf1         0.966637",
      "text/html": "<div>\n<style scoped>\n    .dataframe tbody tr th:only-of-type {\n        vertical-align: middle;\n    }\n\n    .dataframe tbody tr th {\n        vertical-align: top;\n    }\n\n    .dataframe thead th {\n        text-align: right;\n    }\n</style>\n<table border=\"1\" class=\"dataframe\">\n  <thead>\n    <tr style=\"text-align: right;\">\n      <th></th>\n      <th>scores</th>\n    </tr>\n  </thead>\n  <tbody>\n    <tr>\n      <th>accuracy</th>\n      <td>0.935784</td>\n    </tr>\n    <tr>\n      <th>precision</th>\n      <td>0.946834</td>\n    </tr>\n    <tr>\n      <th>recall</th>\n      <td>0.987286</td>\n    </tr>\n    <tr>\n      <th>f1</th>\n      <td>0.966637</td>\n    </tr>\n  </tbody>\n</table>\n</div>"
     },
     "execution_count": 53,
     "metadata": {},
     "output_type": "execute_result"
    }
   ],
   "source": [
    "testScores2ClustersSentiment = compute_test_scores(\n",
    "    dfSentiment2ClustersTfidfReviewsWithoutStopWords['prediction'],\n",
    "    dfSentiment2ClustersTfidfReviewsWithoutStopWords['textblob_prediction'])\n",
    "\n",
    "dfTestScores2ClustersSentiment = pd.DataFrame([testScores2ClustersSentiment])\n",
    "dfTestScores2ClustersSentiment.columns = ['accuracy', 'precision', 'recall', 'f1']\n",
    "dfTestScores2ClustersSentiment = dfTestScores2ClustersSentiment.T\n",
    "dfTestScores2ClustersSentiment.columns = ['scores']\n",
    "\n",
    "print('Scores for sentiment analysis with 2 clusters and no stopwords: ')\n",
    "dfTestScores2ClustersSentiment"
   ],
   "metadata": {
    "collapsed": false,
    "pycharm": {
     "name": "#%%\n"
    }
   }
  },
  {
   "cell_type": "code",
   "execution_count": 54,
   "outputs": [
    {
     "name": "stdout",
     "output_type": "stream",
     "text": [
      "      0       1\n",
      "0  3263  108395\n",
      "1  1262  145847\n",
      "Scores for sentiment analysis with 3 clusters and no stopwords: \n"
     ]
    },
    {
     "data": {
      "text/plain": "             scores\naccuracy   0.576233\nprecision  0.573654\nrecall     0.991421\nf1         0.726780",
      "text/html": "<div>\n<style scoped>\n    .dataframe tbody tr th:only-of-type {\n        vertical-align: middle;\n    }\n\n    .dataframe tbody tr th {\n        vertical-align: top;\n    }\n\n    .dataframe thead th {\n        text-align: right;\n    }\n</style>\n<table border=\"1\" class=\"dataframe\">\n  <thead>\n    <tr style=\"text-align: right;\">\n      <th></th>\n      <th>scores</th>\n    </tr>\n  </thead>\n  <tbody>\n    <tr>\n      <th>accuracy</th>\n      <td>0.576233</td>\n    </tr>\n    <tr>\n      <th>precision</th>\n      <td>0.573654</td>\n    </tr>\n    <tr>\n      <th>recall</th>\n      <td>0.991421</td>\n    </tr>\n    <tr>\n      <th>f1</th>\n      <td>0.726780</td>\n    </tr>\n  </tbody>\n</table>\n</div>"
     },
     "execution_count": 54,
     "metadata": {},
     "output_type": "execute_result"
    }
   ],
   "source": [
    "testScores3ClustersSentiment = compute_test_scores(\n",
    "    dfSentiment3ClustersTfidfReviewsWithoutStopWords['prediction'],\n",
    "    dfSentiment3ClustersTfidfReviewsWithoutStopWords['textblob_prediction'])\n",
    "\n",
    "dfTestScores3ClustersSentiment = pd.DataFrame([testScores3ClustersSentiment])\n",
    "dfTestScores3ClustersSentiment.columns = ['accuracy', 'precision', 'recall', 'f1']\n",
    "dfTestScores3ClustersSentiment = dfTestScores3ClustersSentiment.T\n",
    "dfTestScores3ClustersSentiment.columns = ['scores']\n",
    "\n",
    "print('Scores for sentiment analysis with 3 clusters and no stopwords: ')\n",
    "dfTestScores3ClustersSentiment\n"
   ],
   "metadata": {
    "collapsed": false,
    "pycharm": {
     "name": "#%%\n"
    }
   }
  }
 ],
 "metadata": {
  "kernelspec": {
   "display_name": "Python 3",
   "language": "python",
   "name": "python3"
  },
  "language_info": {
   "codemirror_mode": {
    "name": "ipython",
    "version": 2
   },
   "file_extension": ".py",
   "mimetype": "text/x-python",
   "name": "python",
   "nbconvert_exporter": "python",
   "pygments_lexer": "ipython2",
   "version": "2.7.6"
  }
 },
 "nbformat": 4,
 "nbformat_minor": 0
}