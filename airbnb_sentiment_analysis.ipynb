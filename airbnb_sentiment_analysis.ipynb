{
 "cells": [
  {
   "cell_type": "markdown",
   "metadata": {},
   "source": [
    "# AirBnB Sentiment Analysis - Dataset generation"
   ]
  },
  {
   "cell_type": "code",
   "execution_count": 1,
   "metadata": {
    "pycharm": {
     "name": "#%%\n"
    }
   },
   "outputs": [],
   "source": [
    "%reload_ext autoreload\n",
    "%autoreload 2\n",
    "%matplotlib inline"
   ]
  },
  {
   "cell_type": "markdown",
   "metadata": {},
   "source": [
    "## Project Scope\n",
    " - Use of sentiment analysis, of the reviews of each ad, to view the evaluation of the ad\n",
    "    itself.\n",
    "\n",
    " - Search for relationships between the price of a room and the day of the week, holidays,\n",
    "    and time of year, and relationships between the price and the characteristics of a\n",
    "    room to make a forecast.\n",
    "\n",
    "Dataset: https://www.kaggle.com/brittabettendorf/berlin-airbnb-data"
   ]
  },
  {
   "cell_type": "code",
   "execution_count": 2,
   "metadata": {
    "pycharm": {
     "name": "#%%\n"
    }
   },
   "outputs": [
    {
     "name": "stderr",
     "output_type": "stream",
     "text": [
      "d:\\utenti\\marco\\desktop\\insubria\\laurea magistrale\\data mining\\airbnb-sentiment\\venv\\lib\\site-packages\\gensim\\similarities\\__init__.py:15: UserWarning: The gensim.similarities.levenshtein submodule is disabled, because the optional Levenshtein package <https://pypi.org/project/python-Levenshtein/> is unavailable. Install Levenhstein (e.g. `pip install python-Levenshtein`) to suppress this warning.\n",
      "  warnings.warn(msg)\n"
     ]
    }
   ],
   "source": [
    "import pandas as pd\n",
    "import zipfile36 as zipfile\n",
    "import langdetect\n",
    "import os\n",
    "import matplotlib.pyplot as plt\n",
    "import gensim\n",
    "import nltk"
   ]
  },
  {
   "cell_type": "markdown",
   "metadata": {},
   "source": [
    "## 1. Import of the reviews' dataset\n",
    "\n",
    "The first step concerns the download of the datasets.\n",
    "In particular, for this purpose, the Kaggle APIs are used."
   ]
  },
  {
   "cell_type": "code",
   "execution_count": 3,
   "metadata": {
    "pycharm": {
     "name": "#%%\n"
    }
   },
   "outputs": [
    {
     "name": "stdout",
     "output_type": "stream",
     "text": [
      "berlin-airbnb-data.zip: Skipping, found more recently modified local copy (use --force to force download)\n"
     ]
    }
   ],
   "source": [
    "!kaggle datasets download -d brittabettendorf/berlin-airbnb-data"
   ]
  },
  {
   "cell_type": "code",
   "execution_count": 4,
   "metadata": {
    "pycharm": {
     "name": "#%%\n"
    }
   },
   "outputs": [
    {
     "data": {
      "text/html": [
       "<div>\n",
       "<style scoped>\n",
       "    .dataframe tbody tr th:only-of-type {\n",
       "        vertical-align: middle;\n",
       "    }\n",
       "\n",
       "    .dataframe tbody tr th {\n",
       "        vertical-align: top;\n",
       "    }\n",
       "\n",
       "    .dataframe thead th {\n",
       "        text-align: right;\n",
       "    }\n",
       "</style>\n",
       "<table border=\"1\" class=\"dataframe\">\n",
       "  <thead>\n",
       "    <tr style=\"text-align: right;\">\n",
       "      <th></th>\n",
       "      <th>listing_id</th>\n",
       "      <th>id</th>\n",
       "      <th>date</th>\n",
       "      <th>reviewer_id</th>\n",
       "      <th>reviewer_name</th>\n",
       "      <th>comments</th>\n",
       "    </tr>\n",
       "  </thead>\n",
       "  <tbody>\n",
       "    <tr>\n",
       "      <th>0</th>\n",
       "      <td>2015</td>\n",
       "      <td>69544350</td>\n",
       "      <td>2016-04-11</td>\n",
       "      <td>7178145</td>\n",
       "      <td>Rahel</td>\n",
       "      <td>Mein Freund und ich hatten gute gemütliche vie...</td>\n",
       "    </tr>\n",
       "    <tr>\n",
       "      <th>1</th>\n",
       "      <td>2015</td>\n",
       "      <td>69990732</td>\n",
       "      <td>2016-04-15</td>\n",
       "      <td>41944715</td>\n",
       "      <td>Hannah</td>\n",
       "      <td>Jan was very friendly and welcoming host! The ...</td>\n",
       "    </tr>\n",
       "    <tr>\n",
       "      <th>2</th>\n",
       "      <td>2015</td>\n",
       "      <td>71605267</td>\n",
       "      <td>2016-04-26</td>\n",
       "      <td>30048708</td>\n",
       "      <td>Victor</td>\n",
       "      <td>Un appartement tres bien situé dans un quartie...</td>\n",
       "    </tr>\n",
       "    <tr>\n",
       "      <th>3</th>\n",
       "      <td>2015</td>\n",
       "      <td>73819566</td>\n",
       "      <td>2016-05-10</td>\n",
       "      <td>63697857</td>\n",
       "      <td>Judy</td>\n",
       "      <td>It is really nice area, food, park, transport ...</td>\n",
       "    </tr>\n",
       "    <tr>\n",
       "      <th>4</th>\n",
       "      <td>2015</td>\n",
       "      <td>74293504</td>\n",
       "      <td>2016-05-14</td>\n",
       "      <td>10414887</td>\n",
       "      <td>Romina</td>\n",
       "      <td>Buena ubicación, el departamento no está orden...</td>\n",
       "    </tr>\n",
       "  </tbody>\n",
       "</table>\n",
       "</div>"
      ],
      "text/plain": [
       "   listing_id        id        date  reviewer_id reviewer_name  \\\n",
       "0        2015  69544350  2016-04-11      7178145         Rahel   \n",
       "1        2015  69990732  2016-04-15     41944715        Hannah   \n",
       "2        2015  71605267  2016-04-26     30048708        Victor   \n",
       "3        2015  73819566  2016-05-10     63697857          Judy   \n",
       "4        2015  74293504  2016-05-14     10414887        Romina   \n",
       "\n",
       "                                            comments  \n",
       "0  Mein Freund und ich hatten gute gemütliche vie...  \n",
       "1  Jan was very friendly and welcoming host! The ...  \n",
       "2  Un appartement tres bien situé dans un quartie...  \n",
       "3  It is really nice area, food, park, transport ...  \n",
       "4  Buena ubicación, el departamento no está orden...  "
      ]
     },
     "execution_count": 4,
     "metadata": {},
     "output_type": "execute_result"
    }
   ],
   "source": [
    "zf = zipfile.ZipFile('berlin-airbnb-data.zip')\n",
    "dfReviews = pd.read_csv(zf.open('reviews_summary.csv'))\n",
    "dfReviews.head()"
   ]
  },
  {
   "cell_type": "markdown",
   "metadata": {},
   "source": [
    "## 2. Data preprocessing"
   ]
  },
  {
   "cell_type": "markdown",
   "metadata": {},
   "source": [
    "### 2.1 Null data-points removal\n",
    "\n",
    "Once the dataset is available, it is needed to check whether there are some null data-points."
   ]
  },
  {
   "cell_type": "code",
   "execution_count": 5,
   "metadata": {
    "pycharm": {
     "name": "#%%\n"
    }
   },
   "outputs": [
    {
     "name": "stdout",
     "output_type": "stream",
     "text": [
      "<class 'pandas.core.frame.DataFrame'>\n",
      "RangeIndex: 401963 entries, 0 to 401962\n",
      "Data columns (total 6 columns):\n",
      " #   Column         Non-Null Count   Dtype \n",
      "---  ------         --------------   ----- \n",
      " 0   listing_id     401963 non-null  int64 \n",
      " 1   id             401963 non-null  int64 \n",
      " 2   date           401963 non-null  object\n",
      " 3   reviewer_id    401963 non-null  int64 \n",
      " 4   reviewer_name  401963 non-null  object\n",
      " 5   comments       401467 non-null  object\n",
      "dtypes: int64(3), object(3)\n",
      "memory usage: 18.4+ MB\n"
     ]
    }
   ],
   "source": [
    "dfReviews.info()"
   ]
  },
  {
   "cell_type": "code",
   "execution_count": 6,
   "metadata": {
    "pycharm": {
     "name": "#%%\n"
    }
   },
   "outputs": [
    {
     "name": "stdout",
     "output_type": "stream",
     "text": [
      "Number of null comments: 496\n"
     ]
    },
    {
     "data": {
      "text/html": [
       "<div>\n",
       "<style scoped>\n",
       "    .dataframe tbody tr th:only-of-type {\n",
       "        vertical-align: middle;\n",
       "    }\n",
       "\n",
       "    .dataframe tbody tr th {\n",
       "        vertical-align: top;\n",
       "    }\n",
       "\n",
       "    .dataframe thead th {\n",
       "        text-align: right;\n",
       "    }\n",
       "</style>\n",
       "<table border=\"1\" class=\"dataframe\">\n",
       "  <thead>\n",
       "    <tr style=\"text-align: right;\">\n",
       "      <th></th>\n",
       "      <th>listing_id</th>\n",
       "      <th>id</th>\n",
       "      <th>date</th>\n",
       "      <th>reviewer_id</th>\n",
       "      <th>reviewer_name</th>\n",
       "      <th>comments</th>\n",
       "    </tr>\n",
       "  </thead>\n",
       "  <tbody>\n",
       "    <tr>\n",
       "      <th>3049</th>\n",
       "      <td>42809</td>\n",
       "      <td>160781</td>\n",
       "      <td>2010-12-31</td>\n",
       "      <td>226667</td>\n",
       "      <td>Frank</td>\n",
       "      <td>NaN</td>\n",
       "    </tr>\n",
       "    <tr>\n",
       "      <th>4316</th>\n",
       "      <td>63468</td>\n",
       "      <td>75695155</td>\n",
       "      <td>2016-05-22</td>\n",
       "      <td>26052219</td>\n",
       "      <td>Sebastian</td>\n",
       "      <td>NaN</td>\n",
       "    </tr>\n",
       "    <tr>\n",
       "      <th>7984</th>\n",
       "      <td>139769</td>\n",
       "      <td>10110711</td>\n",
       "      <td>2014-01-31</td>\n",
       "      <td>10977586</td>\n",
       "      <td>Mark</td>\n",
       "      <td>NaN</td>\n",
       "    </tr>\n",
       "    <tr>\n",
       "      <th>8411</th>\n",
       "      <td>153015</td>\n",
       "      <td>234852734</td>\n",
       "      <td>2018-02-14</td>\n",
       "      <td>165971645</td>\n",
       "      <td>Chiara</td>\n",
       "      <td>NaN</td>\n",
       "    </tr>\n",
       "    <tr>\n",
       "      <th>10960</th>\n",
       "      <td>183918</td>\n",
       "      <td>11107030</td>\n",
       "      <td>2014-03-21</td>\n",
       "      <td>11014142</td>\n",
       "      <td>Andrea</td>\n",
       "      <td>NaN</td>\n",
       "    </tr>\n",
       "  </tbody>\n",
       "</table>\n",
       "</div>"
      ],
      "text/plain": [
       "       listing_id         id        date  reviewer_id reviewer_name comments\n",
       "3049        42809     160781  2010-12-31       226667         Frank      NaN\n",
       "4316        63468   75695155  2016-05-22     26052219     Sebastian      NaN\n",
       "7984       139769   10110711  2014-01-31     10977586          Mark      NaN\n",
       "8411       153015  234852734  2018-02-14    165971645        Chiara      NaN\n",
       "10960      183918   11107030  2014-03-21     11014142        Andrea      NaN"
      ]
     },
     "execution_count": 6,
     "metadata": {},
     "output_type": "execute_result"
    }
   ],
   "source": [
    "dfNullReviews = dfReviews[dfReviews['comments'].isnull()]\n",
    "print(f'Number of null comments: {dfNullReviews.shape[0]}')\n",
    "dfNullReviews.head()"
   ]
  },
  {
   "cell_type": "code",
   "execution_count": 7,
   "metadata": {
    "pycharm": {
     "name": "#%%\n"
    }
   },
   "outputs": [
    {
     "name": "stdout",
     "output_type": "stream",
     "text": [
      "<class 'pandas.core.frame.DataFrame'>\n",
      "Int64Index: 401467 entries, 0 to 401962\n",
      "Data columns (total 6 columns):\n",
      " #   Column         Non-Null Count   Dtype \n",
      "---  ------         --------------   ----- \n",
      " 0   listing_id     401467 non-null  int64 \n",
      " 1   id             401467 non-null  int64 \n",
      " 2   date           401467 non-null  object\n",
      " 3   reviewer_id    401467 non-null  int64 \n",
      " 4   reviewer_name  401467 non-null  object\n",
      " 5   comments       401467 non-null  object\n",
      "dtypes: int64(3), object(3)\n",
      "memory usage: 21.4+ MB\n"
     ]
    }
   ],
   "source": [
    "dfReviews.dropna(axis=0, how='any', inplace=True)\n",
    "dfReviews.info()"
   ]
  },
  {
   "cell_type": "markdown",
   "metadata": {},
   "source": [
    "### 2.2 Lowercase conversion\n",
    "\n",
    "After the null data-points removal operation, it is needed to convert all the comments\n",
    "into lowercase strings."
   ]
  },
  {
   "cell_type": "code",
   "execution_count": 8,
   "metadata": {
    "pycharm": {
     "name": "#%%\n"
    }
   },
   "outputs": [
    {
     "data": {
      "text/html": [
       "<div>\n",
       "<style scoped>\n",
       "    .dataframe tbody tr th:only-of-type {\n",
       "        vertical-align: middle;\n",
       "    }\n",
       "\n",
       "    .dataframe tbody tr th {\n",
       "        vertical-align: top;\n",
       "    }\n",
       "\n",
       "    .dataframe thead th {\n",
       "        text-align: right;\n",
       "    }\n",
       "</style>\n",
       "<table border=\"1\" class=\"dataframe\">\n",
       "  <thead>\n",
       "    <tr style=\"text-align: right;\">\n",
       "      <th></th>\n",
       "      <th>listing_id</th>\n",
       "      <th>id</th>\n",
       "      <th>date</th>\n",
       "      <th>reviewer_id</th>\n",
       "      <th>reviewer_name</th>\n",
       "      <th>comments</th>\n",
       "    </tr>\n",
       "  </thead>\n",
       "  <tbody>\n",
       "    <tr>\n",
       "      <th>0</th>\n",
       "      <td>2015</td>\n",
       "      <td>69544350</td>\n",
       "      <td>2016-04-11</td>\n",
       "      <td>7178145</td>\n",
       "      <td>Rahel</td>\n",
       "      <td>mein freund und ich hatten gute gemütliche vie...</td>\n",
       "    </tr>\n",
       "    <tr>\n",
       "      <th>1</th>\n",
       "      <td>2015</td>\n",
       "      <td>69990732</td>\n",
       "      <td>2016-04-15</td>\n",
       "      <td>41944715</td>\n",
       "      <td>Hannah</td>\n",
       "      <td>jan was very friendly and welcoming host! the ...</td>\n",
       "    </tr>\n",
       "    <tr>\n",
       "      <th>2</th>\n",
       "      <td>2015</td>\n",
       "      <td>71605267</td>\n",
       "      <td>2016-04-26</td>\n",
       "      <td>30048708</td>\n",
       "      <td>Victor</td>\n",
       "      <td>un appartement tres bien situé dans un quartie...</td>\n",
       "    </tr>\n",
       "    <tr>\n",
       "      <th>3</th>\n",
       "      <td>2015</td>\n",
       "      <td>73819566</td>\n",
       "      <td>2016-05-10</td>\n",
       "      <td>63697857</td>\n",
       "      <td>Judy</td>\n",
       "      <td>it is really nice area, food, park, transport ...</td>\n",
       "    </tr>\n",
       "    <tr>\n",
       "      <th>4</th>\n",
       "      <td>2015</td>\n",
       "      <td>74293504</td>\n",
       "      <td>2016-05-14</td>\n",
       "      <td>10414887</td>\n",
       "      <td>Romina</td>\n",
       "      <td>buena ubicación, el departamento no está orden...</td>\n",
       "    </tr>\n",
       "  </tbody>\n",
       "</table>\n",
       "</div>"
      ],
      "text/plain": [
       "   listing_id        id        date  reviewer_id reviewer_name  \\\n",
       "0        2015  69544350  2016-04-11      7178145         Rahel   \n",
       "1        2015  69990732  2016-04-15     41944715        Hannah   \n",
       "2        2015  71605267  2016-04-26     30048708        Victor   \n",
       "3        2015  73819566  2016-05-10     63697857          Judy   \n",
       "4        2015  74293504  2016-05-14     10414887        Romina   \n",
       "\n",
       "                                            comments  \n",
       "0  mein freund und ich hatten gute gemütliche vie...  \n",
       "1  jan was very friendly and welcoming host! the ...  \n",
       "2  un appartement tres bien situé dans un quartie...  \n",
       "3  it is really nice area, food, park, transport ...  \n",
       "4  buena ubicación, el departamento no está orden...  "
      ]
     },
     "execution_count": 8,
     "metadata": {},
     "output_type": "execute_result"
    }
   ],
   "source": [
    "dfReviews['comments'] = dfReviews.apply(lambda x: x['comments'].lower(), axis=1)\n",
    "dfReviews.head()"
   ]
  },
  {
   "cell_type": "markdown",
   "metadata": {},
   "source": [
    "### 2.3 Reviews' language detection\n",
    "\n",
    "Since the comments are written in many languages, it can be useful to detect the language\n",
    "of each comment.\n",
    "This operation allows the selection of the comments based on their language (and also an\n",
    "eventual translation of all the comments into a common language).\n",
    "\n",
    "In order to detect the language of the comments, the langdetect library is used.\n",
    "\n",
    "The first step of this operation concerns the definition of a method that"
   ]
  },
  {
   "cell_type": "code",
   "execution_count": 9,
   "metadata": {
    "pycharm": {
     "name": "#%%\n"
    }
   },
   "outputs": [],
   "source": [
    "def get_lang_from_comment(dataframe):\n",
    "    list_langs = []\n",
    "    for index, comment in dataframe['comments'].iteritems():\n",
    "        if index % 5000 == 0:\n",
    "            print(f'Processed {index} rows...')\n",
    "        try:\n",
    "            comment_lang = langdetect.detect(comment[:50])\n",
    "            list_langs.append(comment_lang)\n",
    "        except:\n",
    "            list_langs.append(\"None\")\n",
    "\n",
    "    return list_langs"
   ]
  },
  {
   "cell_type": "markdown",
   "metadata": {},
   "source": [
    "Once the language for each comment is detected, it is added as a new column to the already\n",
    "existing dataframe. Then the resulting dataframe is saved into a .csv file.\n",
    "\n",
    "Since this operation is very time-consuming, it is checked whether the operation has\n",
    "already been executed, and the results have been saved into a .csv file."
   ]
  },
  {
   "cell_type": "code",
   "execution_count": 10,
   "metadata": {
    "pycharm": {
     "name": "#%%\n"
    }
   },
   "outputs": [
    {
     "data": {
      "text/html": [
       "<div>\n",
       "<style scoped>\n",
       "    .dataframe tbody tr th:only-of-type {\n",
       "        vertical-align: middle;\n",
       "    }\n",
       "\n",
       "    .dataframe tbody tr th {\n",
       "        vertical-align: top;\n",
       "    }\n",
       "\n",
       "    .dataframe thead th {\n",
       "        text-align: right;\n",
       "    }\n",
       "</style>\n",
       "<table border=\"1\" class=\"dataframe\">\n",
       "  <thead>\n",
       "    <tr style=\"text-align: right;\">\n",
       "      <th></th>\n",
       "      <th>listing_id</th>\n",
       "      <th>id</th>\n",
       "      <th>date</th>\n",
       "      <th>reviewer_id</th>\n",
       "      <th>reviewer_name</th>\n",
       "      <th>comments</th>\n",
       "      <th>Lang</th>\n",
       "    </tr>\n",
       "  </thead>\n",
       "  <tbody>\n",
       "    <tr>\n",
       "      <th>0</th>\n",
       "      <td>2015</td>\n",
       "      <td>69544350</td>\n",
       "      <td>2016-04-11</td>\n",
       "      <td>7178145</td>\n",
       "      <td>Rahel</td>\n",
       "      <td>mein freund und ich hatten gute gemütliche vie...</td>\n",
       "      <td>de</td>\n",
       "    </tr>\n",
       "    <tr>\n",
       "      <th>1</th>\n",
       "      <td>2015</td>\n",
       "      <td>69990732</td>\n",
       "      <td>2016-04-15</td>\n",
       "      <td>41944715</td>\n",
       "      <td>Hannah</td>\n",
       "      <td>jan was very friendly and welcoming host! the ...</td>\n",
       "      <td>en</td>\n",
       "    </tr>\n",
       "    <tr>\n",
       "      <th>2</th>\n",
       "      <td>2015</td>\n",
       "      <td>71605267</td>\n",
       "      <td>2016-04-26</td>\n",
       "      <td>30048708</td>\n",
       "      <td>Victor</td>\n",
       "      <td>un appartement tres bien situé dans un quartie...</td>\n",
       "      <td>fr</td>\n",
       "    </tr>\n",
       "    <tr>\n",
       "      <th>3</th>\n",
       "      <td>2015</td>\n",
       "      <td>73819566</td>\n",
       "      <td>2016-05-10</td>\n",
       "      <td>63697857</td>\n",
       "      <td>Judy</td>\n",
       "      <td>it is really nice area, food, park, transport ...</td>\n",
       "      <td>en</td>\n",
       "    </tr>\n",
       "    <tr>\n",
       "      <th>4</th>\n",
       "      <td>2015</td>\n",
       "      <td>74293504</td>\n",
       "      <td>2016-05-14</td>\n",
       "      <td>10414887</td>\n",
       "      <td>Romina</td>\n",
       "      <td>buena ubicación, el departamento no está orden...</td>\n",
       "      <td>es</td>\n",
       "    </tr>\n",
       "  </tbody>\n",
       "</table>\n",
       "</div>"
      ],
      "text/plain": [
       "   listing_id        id        date  reviewer_id reviewer_name  \\\n",
       "0        2015  69544350  2016-04-11      7178145         Rahel   \n",
       "1        2015  69990732  2016-04-15     41944715        Hannah   \n",
       "2        2015  71605267  2016-04-26     30048708        Victor   \n",
       "3        2015  73819566  2016-05-10     63697857          Judy   \n",
       "4        2015  74293504  2016-05-14     10414887        Romina   \n",
       "\n",
       "                                            comments Lang  \n",
       "0  mein freund und ich hatten gute gemütliche vie...   de  \n",
       "1  jan was very friendly and welcoming host! the ...   en  \n",
       "2  un appartement tres bien situé dans un quartie...   fr  \n",
       "3  it is really nice area, food, park, transport ...   en  \n",
       "4  buena ubicación, el departamento no está orden...   es  "
      ]
     },
     "execution_count": 10,
     "metadata": {},
     "output_type": "execute_result"
    }
   ],
   "source": [
    "if os.path.exists('reviews_summary_langs.csv'):\n",
    "    dfReviews = pd.read_csv('reviews_summary_langs.csv')\n",
    "else:\n",
    "    dfReviews['Lang'] = get_lang_from_comment(dfReviews)\n",
    "    dfReviews.to_csv('reviews_summary_langs.csv', sep=\",\", index=False, header=True)\n",
    "\n",
    "dfReviews.head()"
   ]
  },
  {
   "cell_type": "code",
   "execution_count": 11,
   "metadata": {
    "pycharm": {
     "name": "#%%\n"
    }
   },
   "outputs": [
    {
     "data": {
      "text/plain": [
       "array(['de', 'en', 'fr', 'es', 'no', 'ro', 'ca', 'sv', 'pt', 'it', 'ko',\n",
       "       'nl', 'af', 'ru', 'zh-cn', 'fi', 'da', 'hu', 'None', 'vi', 'ja',\n",
       "       'pl', 'cy', 'id', 'cs', 'et', 'hr', 'el', 'tr', 'sl', 'so',\n",
       "       'zh-tw', 'tl', 'sk', 'sq', 'sw', 'uk', 'lv', 'mk', 'he', 'lt',\n",
       "       'bg', 'th', 'ar'], dtype=object)"
      ]
     },
     "execution_count": 11,
     "metadata": {},
     "output_type": "execute_result"
    }
   ],
   "source": [
    "dfReviews['Lang'].unique()"
   ]
  },
  {
   "cell_type": "markdown",
   "metadata": {},
   "source": [
    "The rows in which the 'Lang' column shows the value 'None' are the ones that in the previous\n",
    "step have thrown some problems.\n",
    "In particular, the possible problems are the inability of the used technique to detect\n",
    "their language or the too-narrow length of the review."
   ]
  },
  {
   "cell_type": "code",
   "execution_count": 12,
   "metadata": {
    "pycharm": {
     "name": "#%%\n"
    }
   },
   "outputs": [
    {
     "name": "stdout",
     "output_type": "stream",
     "text": [
      "Number of reviews with None language: 648\n",
      "Percentage of reviews with None language: 0.16%\n"
     ]
    }
   ],
   "source": [
    "dfNoneLangReviews = dfReviews[dfReviews['Lang'] == 'None']\n",
    "print(f'Number of reviews with None language: {dfNoneLangReviews.shape[0]}')\n",
    "print(f'Percentage of reviews with None language: '\n",
    "      f'{round(dfNoneLangReviews.shape[0] * 100 / dfReviews.shape[0],2)}%')"
   ]
  },
  {
   "cell_type": "markdown",
   "metadata": {},
   "source": [
    "#### 2.3.1 English reviews selection\n",
    "\n",
    "The reviews written in english language are the interesting ones for this analysis."
   ]
  },
  {
   "cell_type": "code",
   "execution_count": 13,
   "metadata": {
    "pycharm": {
     "name": "#%%\n"
    }
   },
   "outputs": [
    {
     "data": {
      "text/html": [
       "<div>\n",
       "<style scoped>\n",
       "    .dataframe tbody tr th:only-of-type {\n",
       "        vertical-align: middle;\n",
       "    }\n",
       "\n",
       "    .dataframe tbody tr th {\n",
       "        vertical-align: top;\n",
       "    }\n",
       "\n",
       "    .dataframe thead th {\n",
       "        text-align: right;\n",
       "    }\n",
       "</style>\n",
       "<table border=\"1\" class=\"dataframe\">\n",
       "  <thead>\n",
       "    <tr style=\"text-align: right;\">\n",
       "      <th></th>\n",
       "      <th>listing_id</th>\n",
       "      <th>id</th>\n",
       "      <th>date</th>\n",
       "      <th>reviewer_id</th>\n",
       "      <th>reviewer_name</th>\n",
       "      <th>comments</th>\n",
       "      <th>Lang</th>\n",
       "    </tr>\n",
       "  </thead>\n",
       "  <tbody>\n",
       "    <tr>\n",
       "      <th>1</th>\n",
       "      <td>2015</td>\n",
       "      <td>69990732</td>\n",
       "      <td>2016-04-15</td>\n",
       "      <td>41944715</td>\n",
       "      <td>Hannah</td>\n",
       "      <td>jan was very friendly and welcoming host! the ...</td>\n",
       "      <td>en</td>\n",
       "    </tr>\n",
       "    <tr>\n",
       "      <th>3</th>\n",
       "      <td>2015</td>\n",
       "      <td>73819566</td>\n",
       "      <td>2016-05-10</td>\n",
       "      <td>63697857</td>\n",
       "      <td>Judy</td>\n",
       "      <td>it is really nice area, food, park, transport ...</td>\n",
       "      <td>en</td>\n",
       "    </tr>\n",
       "    <tr>\n",
       "      <th>6</th>\n",
       "      <td>2015</td>\n",
       "      <td>76603178</td>\n",
       "      <td>2016-05-28</td>\n",
       "      <td>29323516</td>\n",
       "      <td>Laurent</td>\n",
       "      <td>we had a very nice stay in berlin, thanks to j...</td>\n",
       "      <td>en</td>\n",
       "    </tr>\n",
       "    <tr>\n",
       "      <th>7</th>\n",
       "      <td>2015</td>\n",
       "      <td>77296201</td>\n",
       "      <td>2016-05-31</td>\n",
       "      <td>9025122</td>\n",
       "      <td>Rasmus</td>\n",
       "      <td>great location close to mauerpark, kastanienal...</td>\n",
       "      <td>en</td>\n",
       "    </tr>\n",
       "    <tr>\n",
       "      <th>9</th>\n",
       "      <td>2015</td>\n",
       "      <td>82322683</td>\n",
       "      <td>2016-06-27</td>\n",
       "      <td>73902920</td>\n",
       "      <td>Mag</td>\n",
       "      <td>apartment very well located, close to everythi...</td>\n",
       "      <td>en</td>\n",
       "    </tr>\n",
       "  </tbody>\n",
       "</table>\n",
       "</div>"
      ],
      "text/plain": [
       "   listing_id        id        date  reviewer_id reviewer_name  \\\n",
       "1        2015  69990732  2016-04-15     41944715        Hannah   \n",
       "3        2015  73819566  2016-05-10     63697857          Judy   \n",
       "6        2015  76603178  2016-05-28     29323516       Laurent   \n",
       "7        2015  77296201  2016-05-31      9025122        Rasmus   \n",
       "9        2015  82322683  2016-06-27     73902920           Mag   \n",
       "\n",
       "                                            comments Lang  \n",
       "1  jan was very friendly and welcoming host! the ...   en  \n",
       "3  it is really nice area, food, park, transport ...   en  \n",
       "6  we had a very nice stay in berlin, thanks to j...   en  \n",
       "7  great location close to mauerpark, kastanienal...   en  \n",
       "9  apartment very well located, close to everythi...   en  "
      ]
     },
     "execution_count": 13,
     "metadata": {},
     "output_type": "execute_result"
    }
   ],
   "source": [
    "dfEnglishReviews = dfReviews[dfReviews['Lang'] == 'en']\n",
    "dfEnglishReviews.head()"
   ]
  },
  {
   "cell_type": "code",
   "execution_count": 14,
   "metadata": {
    "pycharm": {
     "name": "#%%\n"
    }
   },
   "outputs": [
    {
     "name": "stdout",
     "output_type": "stream",
     "text": [
      "<class 'pandas.core.frame.DataFrame'>\n",
      "Int64Index: 268508 entries, 1 to 401466\n",
      "Data columns (total 7 columns):\n",
      " #   Column         Non-Null Count   Dtype \n",
      "---  ------         --------------   ----- \n",
      " 0   listing_id     268508 non-null  int64 \n",
      " 1   id             268508 non-null  int64 \n",
      " 2   date           268508 non-null  object\n",
      " 3   reviewer_id    268508 non-null  int64 \n",
      " 4   reviewer_name  268508 non-null  object\n",
      " 5   comments       268508 non-null  object\n",
      " 6   Lang           268508 non-null  object\n",
      "dtypes: int64(3), object(4)\n",
      "memory usage: 16.4+ MB\n"
     ]
    }
   ],
   "source": [
    "dfEnglishReviews.info()"
   ]
  },
  {
   "cell_type": "markdown",
   "metadata": {},
   "source": [
    "### 2.4 Duplicates removal\n",
    "\n",
    "Another required step is the removal of the duplicated reviews."
   ]
  },
  {
   "cell_type": "code",
   "execution_count": 15,
   "metadata": {
    "pycharm": {
     "name": "#%%\n"
    }
   },
   "outputs": [
    {
     "name": "stdout",
     "output_type": "stream",
     "text": [
      "Number of English reviews: 268508\n",
      "Number of unique English reviews: 258767\n"
     ]
    }
   ],
   "source": [
    "print('Number of English reviews: {}'.format(dfEnglishReviews.shape[0]))\n",
    "print('Number of unique English reviews: {}'.format(len(dfEnglishReviews['comments'].unique())))"
   ]
  },
  {
   "cell_type": "code",
   "execution_count": 16,
   "metadata": {
    "pycharm": {
     "name": "#%%\n"
    }
   },
   "outputs": [
    {
     "name": "stdout",
     "output_type": "stream",
     "text": [
      "Number of reviews after the duplicated removal: 258767\n"
     ]
    }
   ],
   "source": [
    "dfEnglishReviews = dfEnglishReviews.drop_duplicates(subset='comments')\n",
    "print(f'Number of reviews after the duplicated removal: {dfEnglishReviews.shape[0]}')"
   ]
  },
  {
   "cell_type": "markdown",
   "metadata": {},
   "source": [
    "### 2.5 Non-English words removal"
   ]
  },
  {
   "cell_type": "code",
   "execution_count": 17,
   "metadata": {
    "pycharm": {
     "name": "#%%\n"
    }
   },
   "outputs": [
    {
     "data": {
      "text/plain": [
       "\"britta’s apartment is perfect! clean, bright, fully-appointed , cozy. there is very convenience area, many cafes and restaurant around but quiet. it is situated few minutes from train and tram station. it made us perfect stay in berlin. we didn't have chance to meet britta but she is very kindness and has strong sense of responsibility, prepared  many tips and information for us. thanks a lot.\\r\\nとても便利な場所にあり､ﾄﾗﾑや駅から数分で､きれいで明るく､設備の整った､居心地の良い完璧な部屋です｡周辺には沢山のｶﾌｪやﾚｽﾄﾗﾝがあり､暮らすように旅する滞在にﾋﾟｯﾀﾘです｡brittaに会う機会はありませんでしたが､周辺情報などをまとめたものを用意してくれていて､大変親切にして頂きました｡\""
      ]
     },
     "execution_count": 17,
     "metadata": {},
     "output_type": "execute_result"
    }
   ],
   "source": [
    "dfEnglishReviews['comments'].iloc[172]"
   ]
  },
  {
   "cell_type": "code",
   "execution_count": 18,
   "metadata": {
    "pycharm": {
     "name": "#%%\n"
    }
   },
   "outputs": [
    {
     "data": {
      "text/plain": [
       "'britta s apartment is perfect  clean  bright  fully appointed   cozy  there is very convenience area  many cafes and restaurant around but quiet  it is situated few minutes from train and tram station  it made us perfect stay in berlin  we didn t have chance to meet britta but she is very kindness and has strong sense of responsibility  prepared  many tips and information for us  thanks a lot                                                                                               britta                                                     '"
      ]
     },
     "execution_count": 18,
     "metadata": {},
     "output_type": "execute_result"
    }
   ],
   "source": [
    "from re import sub\n",
    "\n",
    "dfEnglishReviews['comments'] = dfEnglishReviews.apply(\n",
    "    lambda x: sub(r\"[^A-Za-z]\", \" \", x['comments']), axis=1)\n",
    "dfEnglishReviews['comments'].iloc[172]"
   ]
  },
  {
   "cell_type": "markdown",
   "metadata": {},
   "source": [
    "### 2.6 Tokenization\n",
    "\n",
    "In order to prepare the data for the analysis model, it is needed to perform a tokenization\n",
    "operation.\n",
    "For this purpose, the 'gensim' library is used."
   ]
  },
  {
   "cell_type": "code",
   "execution_count": 19,
   "metadata": {
    "pycharm": {
     "name": "#%%\n"
    }
   },
   "outputs": [
    {
     "data": {
      "text/plain": [
       "1         [jan, was, very, friendly, and, welcoming, hos...\n",
       "3         [it, is, really, nice, area, food, park, trans...\n",
       "6         [we, had, very, nice, stay, in, berlin, thanks...\n",
       "7         [great, location, close, to, mauerpark, kastan...\n",
       "9         [apartment, very, well, located, close, to, ev...\n",
       "                                ...                        \n",
       "401442    [great, place, to, stay, and, bit, far, though...\n",
       "401443    [the, place, is, great, very, spacey, and, cle...\n",
       "401445    [this, appartment, is, super, comfortable, and...\n",
       "401453          [nice, quite, close, to, the, center, walk]\n",
       "401462    [the, host, canceled, this, reservation, days,...\n",
       "Length: 258767, dtype: object"
      ]
     },
     "execution_count": 19,
     "metadata": {},
     "output_type": "execute_result"
    }
   ],
   "source": [
    "tokenizedEnglishReviews = dfEnglishReviews.apply(\n",
    "    lambda x: gensim.utils.simple_preprocess(str(x['comments'])), axis=1)\n",
    "tokenizedEnglishReviews"
   ]
  },
  {
   "cell_type": "markdown",
   "metadata": {},
   "source": [
    "### 2.7 Normalization\n",
    "\n",
    "Another important step concerns the normalization of the reviews.\n",
    "For this purpose, the 'nltk' library is used.\n",
    "\n",
    "In particular, the 'wordnet' and 'average_perceptron_tagger' packages are downloaded from\n",
    "the 'nltk' resources.\n",
    "The first package provides a 'Lemmatizer' that, given a word, converts it into its base form.\n",
    "The second package provides a method that, given a word, returns a tag representing its\n",
    "grammatical type."
   ]
  },
  {
   "cell_type": "code",
   "execution_count": 20,
   "metadata": {
    "pycharm": {
     "name": "#%%\n"
    }
   },
   "outputs": [
    {
     "name": "stderr",
     "output_type": "stream",
     "text": [
      "[nltk_data] Downloading package wordnet to\n",
      "[nltk_data]     C:\\Users\\Marco\\AppData\\Roaming\\nltk_data...\n",
      "[nltk_data]   Package wordnet is already up-to-date!\n",
      "[nltk_data] Downloading package averaged_perceptron_tagger to\n",
      "[nltk_data]     C:\\Users\\Marco\\AppData\\Roaming\\nltk_data...\n",
      "[nltk_data]   Package averaged_perceptron_tagger is already up-to-\n",
      "[nltk_data]       date!\n"
     ]
    },
    {
     "data": {
      "text/plain": [
       "True"
      ]
     },
     "execution_count": 20,
     "metadata": {},
     "output_type": "execute_result"
    }
   ],
   "source": [
    "nltk.download('wordnet')\n",
    "nltk.download('averaged_perceptron_tagger')"
   ]
  },
  {
   "cell_type": "code",
   "execution_count": 21,
   "metadata": {
    "pycharm": {
     "name": "#%%\n"
    }
   },
   "outputs": [],
   "source": [
    "from nltk.stem.wordnet import WordNetLemmatizer\n",
    "from nltk.tag import pos_tag\n",
    "\n",
    "def lemmatize_reviews(tokenized_reviews):\n",
    "    lemmatizer = WordNetLemmatizer()\n",
    "    lemmatized_reviews = []\n",
    "    for tokens_review in tokenized_reviews:\n",
    "        lemmatized_review = []\n",
    "        for word, tag in pos_tag(tokens_review):\n",
    "            if tag.startswith('NN'):\n",
    "                pos = 'n'\n",
    "            elif tag.startswith('VB'):\n",
    "                pos = 'v'\n",
    "            else:\n",
    "                pos = 'a'\n",
    "            lemmatized_review.append(lemmatizer.lemmatize(word, pos))\n",
    "        lemmatized_reviews.append(lemmatized_review)\n",
    "\n",
    "    return lemmatized_reviews"
   ]
  },
  {
   "cell_type": "code",
   "execution_count": 22,
   "metadata": {
    "pycharm": {
     "name": "#%%\n"
    }
   },
   "outputs": [
    {
     "data": {
      "text/plain": [
       "[['jan',\n",
       "  'be',\n",
       "  'very',\n",
       "  'friendly',\n",
       "  'and',\n",
       "  'welcome',\n",
       "  'host',\n",
       "  'the',\n",
       "  'apartment',\n",
       "  'be',\n",
       "  'great',\n",
       "  'and',\n",
       "  'the',\n",
       "  'area',\n",
       "  'be',\n",
       "  'sooo',\n",
       "  'amaze',\n",
       "  'lot',\n",
       "  'of',\n",
       "  'nice',\n",
       "  'cafe',\n",
       "  'and',\n",
       "  'shop',\n",
       "  'enjoy',\n",
       "  'my',\n",
       "  'time',\n",
       "  'there',\n",
       "  'lot'],\n",
       " ['it',\n",
       "  'be',\n",
       "  'really',\n",
       "  'nice',\n",
       "  'area',\n",
       "  'food',\n",
       "  'park',\n",
       "  'transport',\n",
       "  'be',\n",
       "  'perfect'],\n",
       " ['we',\n",
       "  'have',\n",
       "  'very',\n",
       "  'nice',\n",
       "  'stay',\n",
       "  'in',\n",
       "  'berlin',\n",
       "  'thanks',\n",
       "  'to',\n",
       "  'jan',\n",
       "  'premium',\n",
       "  'situate',\n",
       "  'apartment',\n",
       "  'the',\n",
       "  'place',\n",
       "  'isn',\n",
       "  'big',\n",
       "  'but',\n",
       "  'be',\n",
       "  'quiet',\n",
       "  'and',\n",
       "  'functional',\n",
       "  'also',\n",
       "  'it',\n",
       "  'situate',\n",
       "  'in',\n",
       "  'perfect',\n",
       "  'neighbourhood',\n",
       "  'jan',\n",
       "  'be',\n",
       "  'very',\n",
       "  'welcome',\n",
       "  'host',\n",
       "  'eager',\n",
       "  'to',\n",
       "  'help',\n",
       "  'you',\n",
       "  'if',\n",
       "  'need',\n",
       "  'or',\n",
       "  'to',\n",
       "  'provide',\n",
       "  'you',\n",
       "  'any',\n",
       "  'kind',\n",
       "  'of',\n",
       "  'information',\n",
       "  'he',\n",
       "  'also',\n",
       "  'have',\n",
       "  'very',\n",
       "  'good',\n",
       "  'advice',\n",
       "  'on',\n",
       "  'biergarten'],\n",
       " ['great',\n",
       "  'location',\n",
       "  'close',\n",
       "  'to',\n",
       "  'mauerpark',\n",
       "  'kastanienallee',\n",
       "  'and',\n",
       "  'rosenthaler',\n",
       "  'platz',\n",
       "  'with',\n",
       "  'lot',\n",
       "  'of',\n",
       "  'bar',\n",
       "  'and',\n",
       "  'restaurant',\n",
       "  'nearby',\n",
       "  'jan',\n",
       "  'be',\n",
       "  'very',\n",
       "  'friendly',\n",
       "  'and',\n",
       "  'service',\n",
       "  'mind'],\n",
       " ['apartment',\n",
       "  'very',\n",
       "  'well',\n",
       "  'locate',\n",
       "  'close',\n",
       "  'to',\n",
       "  'everything',\n",
       "  'supermarket',\n",
       "  'transport',\n",
       "  'city',\n",
       "  'center',\n",
       "  'very',\n",
       "  'quiet',\n",
       "  'night',\n",
       "  'because',\n",
       "  'the',\n",
       "  'apartment',\n",
       "  'be',\n",
       "  'locate',\n",
       "  'on',\n",
       "  'the',\n",
       "  'inside',\n",
       "  'of',\n",
       "  'the',\n",
       "  'building',\n",
       "  'it',\n",
       "  'have',\n",
       "  'the',\n",
       "  'basic',\n",
       "  'equipment',\n",
       "  'for',\n",
       "  'one',\n",
       "  'week',\n",
       "  'stay',\n",
       "  'jan',\n",
       "  'be',\n",
       "  'super',\n",
       "  'accessible',\n",
       "  'nice',\n",
       "  'and',\n",
       "  'always',\n",
       "  'available']]"
      ]
     },
     "execution_count": 22,
     "metadata": {},
     "output_type": "execute_result"
    }
   ],
   "source": [
    "lemmatizedTokenizedEnglishReviews = lemmatize_reviews(tokenizedEnglishReviews)\n",
    "lemmatizedTokenizedEnglishReviews[:5]"
   ]
  },
  {
   "cell_type": "markdown",
   "metadata": {},
   "source": [
    "## 3. Sentiment Analysis"
   ]
  },
  {
   "cell_type": "markdown",
   "metadata": {},
   "source": [
    "The idea of the sentiment analysis is to determine whether reviews, of Airbnb activity in Berlin, are positive or negative."
   ]
  },
  {
   "cell_type": "markdown",
   "metadata": {},
   "source": [
    "### 3.1 Bigrams generation"
   ]
  },
  {
   "cell_type": "markdown",
   "metadata": {},
   "source": [
    "In order to take into account some small sequences of words the bigrams are introduced. The Gensim Phrases package is used to automatically detect bigrams from a list of sentences."
   ]
  },
  {
   "cell_type": "code",
   "execution_count": 23,
   "metadata": {
    "pycharm": {
     "name": "#%%\n"
    }
   },
   "outputs": [
    {
     "data": {
      "text/plain": [
       "['jan',\n",
       " 'be',\n",
       " 'very',\n",
       " 'friendly',\n",
       " 'and',\n",
       " 'welcome',\n",
       " 'host',\n",
       " 'the',\n",
       " 'apartment',\n",
       " 'be',\n",
       " 'great',\n",
       " 'and',\n",
       " 'the',\n",
       " 'area',\n",
       " 'be',\n",
       " 'sooo',\n",
       " 'amaze',\n",
       " 'lot',\n",
       " 'of',\n",
       " 'nice',\n",
       " 'cafe',\n",
       " 'and',\n",
       " 'shop',\n",
       " 'enjoy',\n",
       " 'my',\n",
       " 'time',\n",
       " 'there',\n",
       " 'lot']"
      ]
     },
     "execution_count": 23,
     "metadata": {},
     "output_type": "execute_result"
    }
   ],
   "source": [
    "from gensim.models.phrases import Phrases, Phraser\n",
    "\n",
    "phrases = Phrases(lemmatizedTokenizedEnglishReviews, min_count=3, progress_per=50000)\n",
    "\n",
    "bigram = Phraser(phrases)\n",
    "\n",
    "bigramReviews = bigram[lemmatizedTokenizedEnglishReviews]\n",
    "\n",
    "bigramReviews[0]"
   ]
  },
  {
   "cell_type": "code",
   "execution_count": 24,
   "metadata": {
    "pycharm": {
     "name": "#%%\n"
    }
   },
   "outputs": [
    {
     "data": {
      "text/plain": [
       "61035"
      ]
     },
     "execution_count": 24,
     "metadata": {},
     "output_type": "execute_result"
    }
   ],
   "source": [
    "from collections import defaultdict\n",
    "\n",
    "dictWordFreq = defaultdict(int)\n",
    "for review in bigramReviews:\n",
    "    for i in review:\n",
    "        dictWordFreq[i] += 1\n",
    "\n",
    "len(dictWordFreq)"
   ]
  },
  {
   "cell_type": "code",
   "execution_count": 25,
   "metadata": {
    "pycharm": {
     "name": "#%%\n"
    }
   },
   "outputs": [],
   "source": [
    "# Eventually, show an example of item in word_freq"
   ]
  },
  {
   "cell_type": "code",
   "execution_count": 26,
   "metadata": {
    "pycharm": {
     "name": "#%%\n"
    }
   },
   "outputs": [
    {
     "data": {
      "text/plain": [
       "['be', 'and', 'the', 'to', 'in', 'very', 'we', 'of', 'great', 'it']"
      ]
     },
     "execution_count": 26,
     "metadata": {},
     "output_type": "execute_result"
    }
   ],
   "source": [
    "sorted(dictWordFreq, key=dictWordFreq.get, reverse=True)[:10]"
   ]
  },
  {
   "cell_type": "markdown",
   "metadata": {},
   "source": [
    "### 3.2 Word2Vec model"
   ]
  },
  {
   "cell_type": "markdown",
   "metadata": {},
   "source": [
    "Word2Vec is a group of models that tries to represent each word in a large text as a vector in a space of N dimensions (which we will call features) making similar words also be close to each other. In this particular case the CBOW architecture is used. In this way, each word in the corpus is predicted by its given context."
   ]
  },
  {
   "cell_type": "code",
   "execution_count": 27,
   "metadata": {
    "pycharm": {
     "name": "#%%\n"
    }
   },
   "outputs": [],
   "source": [
    "from gensim.models import Word2Vec\n",
    "from time import time\n",
    "\n",
    "if os.path.exists('word2vec.model'):\n",
    "    w2vModel = Word2Vec.load('word2vec.model')\n",
    "else:\n",
    "    w2vModel = Word2Vec(min_count=20,\n",
    "                        window=4,\n",
    "                        vector_size=300,\n",
    "                        sample=6e-5,\n",
    "                        alpha=0.03,\n",
    "                        min_alpha=0.0007,\n",
    "                        negative=20,\n",
    "                        workers=4)\n",
    "\n",
    "    t = time()\n",
    "    w2vModel.build_vocab(bigramReviews, progress_per=10000)\n",
    "    print('Time to build vocab: {} mins'.format(round((time() - t) / 60, 2)))\n",
    "\n",
    "    t = time()\n",
    "    w2vModel.train(bigramReviews,\n",
    "                   total_examples=w2vModel.corpus_count,\n",
    "                   epochs=30,\n",
    "                   report_delay=1)\n",
    "    print('Time to train the model: {} mins'.format(round((time() - t) / 60, 2)))\n",
    "\n",
    "    w2vModel.save(\"word2vec.model\")"
   ]
  },
  {
   "cell_type": "markdown",
   "metadata": {},
   "source": [
    "As an example, it is possible to show the most similar words to a given word.\n",
    "This step allows to have a first look at the goodness of the Word2Vec model."
   ]
  },
  {
   "cell_type": "code",
   "execution_count": 28,
   "metadata": {
    "pycharm": {
     "name": "#%%\n"
    }
   },
   "outputs": [
    {
     "data": {
      "text/plain": [
       "[('flat', 0.8009026646614075),\n",
       " ('studio', 0.518069326877594),\n",
       " ('spacious', 0.5130087733268738),\n",
       " ('appartment', 0.5026397705078125),\n",
       " ('modern', 0.4899463653564453),\n",
       " ('clean', 0.4715781509876251),\n",
       " ('bright', 0.4463174343109131),\n",
       " ('itself', 0.43371134996414185),\n",
       " ('beautifully_appoint', 0.43370521068573),\n",
       " ('apt', 0.4198237657546997)]"
      ]
     },
     "execution_count": 28,
     "metadata": {},
     "output_type": "execute_result"
    }
   ],
   "source": [
    "w2vModel.wv.most_similar(positive=[\"apartment\"])"
   ]
  },
  {
   "cell_type": "markdown",
   "metadata": {},
   "source": [
    "### 3.3 Clustering model"
   ]
  },
  {
   "cell_type": "markdown",
   "metadata": {},
   "source": [
    "The clustering model is make throught a basic technique called K-means clustering."
   ]
  },
  {
   "cell_type": "code",
   "execution_count": 29,
   "metadata": {
    "pycharm": {
     "name": "#%%\n"
    }
   },
   "outputs": [
    {
     "data": {
      "text/plain": [
       "KMeans(max_iter=1000, n_clusters=2, n_init=50, random_state=42)"
      ]
     },
     "execution_count": 29,
     "metadata": {},
     "output_type": "execute_result"
    }
   ],
   "source": [
    "from sklearn.cluster import KMeans\n",
    "import numpy as np\n",
    "\n",
    "kmeansModel2Clusters = KMeans(n_clusters=2, max_iter=1000, random_state=42, n_init=50)\n",
    "kmeansModel2Clusters.fit(X=w2vModel.wv.vectors.astype('double'))"
   ]
  },
  {
   "cell_type": "markdown",
   "metadata": {},
   "source": [
    "Next, to check which cluster is relatively positive, and which negative, with use of gensim’s most_similar method is checked what word vectors are most similar in terms of cosine similarity to coordinates of first cluster."
   ]
  },
  {
   "cell_type": "code",
   "execution_count": 30,
   "metadata": {
    "pycharm": {
     "name": "#%%\n"
    }
   },
   "outputs": [
    {
     "data": {
      "text/plain": [
       "[('metal', 0.615938127040863),\n",
       " ('the', 0.5556254982948303),\n",
       " ('leather', 0.5335462689399719),\n",
       " ('mount', 0.5305850505828857),\n",
       " ('small', 0.5226483345031738),\n",
       " ('which', 0.521062970161438),\n",
       " ('plastic', 0.519399106502533),\n",
       " ('rug', 0.5112375020980835),\n",
       " ('chain', 0.5095422267913818),\n",
       " ('stone', 0.5034341216087341)]"
      ]
     },
     "execution_count": 30,
     "metadata": {},
     "output_type": "execute_result"
    }
   ],
   "source": [
    "w2vModel.wv.similar_by_vector(kmeansModel2Clusters.cluster_centers_[0],\n",
    "                              topn=10,\n",
    "                              restrict_vocab=None)"
   ]
  },
  {
   "cell_type": "markdown",
   "metadata": {},
   "source": [
    "It shows the 10 closest words to cluster number 0 in terms of cosine distance. Looking at these words we can state that the cluster 0 is the cluster for the negative words."
   ]
  },
  {
   "cell_type": "code",
   "execution_count": 31,
   "metadata": {
    "pycharm": {
     "name": "#%%\n"
    }
   },
   "outputs": [],
   "source": [
    "negativeClusterIndex = 0"
   ]
  },
  {
   "cell_type": "markdown",
   "metadata": {},
   "source": [
    "Next step is to assign each world sentiment score, negative (-1) or positive (1) value based on the cluster to which they belong."
   ]
  },
  {
   "cell_type": "code",
   "execution_count": 32,
   "metadata": {
    "pycharm": {
     "name": "#%%\n"
    },
    "scrolled": true
   },
   "outputs": [
    {
     "data": {
      "text/html": [
       "<div>\n",
       "<style scoped>\n",
       "    .dataframe tbody tr th:only-of-type {\n",
       "        vertical-align: middle;\n",
       "    }\n",
       "\n",
       "    .dataframe tbody tr th {\n",
       "        vertical-align: top;\n",
       "    }\n",
       "\n",
       "    .dataframe thead th {\n",
       "        text-align: right;\n",
       "    }\n",
       "</style>\n",
       "<table border=\"1\" class=\"dataframe\">\n",
       "  <thead>\n",
       "    <tr style=\"text-align: right;\">\n",
       "      <th></th>\n",
       "      <th>words</th>\n",
       "      <th>vectors</th>\n",
       "      <th>cluster</th>\n",
       "    </tr>\n",
       "  </thead>\n",
       "  <tbody>\n",
       "    <tr>\n",
       "      <th>0</th>\n",
       "      <td>be</td>\n",
       "      <td>[0.09045758, 0.07613618, 0.12171817, -0.439189...</td>\n",
       "      <td>0</td>\n",
       "    </tr>\n",
       "    <tr>\n",
       "      <th>1</th>\n",
       "      <td>and</td>\n",
       "      <td>[-0.15569599, -0.20120987, 0.14106072, -0.4791...</td>\n",
       "      <td>1</td>\n",
       "    </tr>\n",
       "    <tr>\n",
       "      <th>2</th>\n",
       "      <td>the</td>\n",
       "      <td>[0.25615907, -0.26640812, 0.87123454, -0.50165...</td>\n",
       "      <td>0</td>\n",
       "    </tr>\n",
       "    <tr>\n",
       "      <th>3</th>\n",
       "      <td>to</td>\n",
       "      <td>[0.18882069, -0.59700924, -0.07487969, 0.04525...</td>\n",
       "      <td>0</td>\n",
       "    </tr>\n",
       "    <tr>\n",
       "      <th>4</th>\n",
       "      <td>in</td>\n",
       "      <td>[-0.20123443, -0.25175768, -0.03475116, -0.870...</td>\n",
       "      <td>0</td>\n",
       "    </tr>\n",
       "  </tbody>\n",
       "</table>\n",
       "</div>"
      ],
      "text/plain": [
       "  words                                            vectors  cluster\n",
       "0    be  [0.09045758, 0.07613618, 0.12171817, -0.439189...        0\n",
       "1   and  [-0.15569599, -0.20120987, 0.14106072, -0.4791...        1\n",
       "2   the  [0.25615907, -0.26640812, 0.87123454, -0.50165...        0\n",
       "3    to  [0.18882069, -0.59700924, -0.07487969, 0.04525...        0\n",
       "4    in  [-0.20123443, -0.25175768, -0.03475116, -0.870...        0"
      ]
     },
     "execution_count": 32,
     "metadata": {},
     "output_type": "execute_result"
    }
   ],
   "source": [
    "dfWords2Clusters = pd.DataFrame(\n",
    "    w2vModel.wv.key_to_index.keys())\n",
    "\n",
    "dfWords2Clusters.columns = ['words']\n",
    "\n",
    "dfWords2Clusters['vectors'] = \\\n",
    "    dfWords2Clusters['words'].apply(\n",
    "        lambda x: w2vModel.wv[f'{x}'])\n",
    "\n",
    "dfWords2Clusters['cluster'] = \\\n",
    "    dfWords2Clusters['vectors'].apply(\n",
    "        lambda x: kmeansModel2Clusters.predict([np.array(x)]))\n",
    "\n",
    "dfWords2Clusters['cluster'] = \\\n",
    "    dfWords2Clusters['cluster'].apply(\n",
    "        lambda x: x[0])\n",
    "\n",
    "dfWords2Clusters.head()"
   ]
  },
  {
   "cell_type": "code",
   "execution_count": 33,
   "metadata": {
    "pycharm": {
     "name": "#%%\n"
    }
   },
   "outputs": [
    {
     "data": {
      "text/html": [
       "<div>\n",
       "<style scoped>\n",
       "    .dataframe tbody tr th:only-of-type {\n",
       "        vertical-align: middle;\n",
       "    }\n",
       "\n",
       "    .dataframe tbody tr th {\n",
       "        vertical-align: top;\n",
       "    }\n",
       "\n",
       "    .dataframe thead th {\n",
       "        text-align: right;\n",
       "    }\n",
       "</style>\n",
       "<table border=\"1\" class=\"dataframe\">\n",
       "  <thead>\n",
       "    <tr style=\"text-align: right;\">\n",
       "      <th></th>\n",
       "      <th>words</th>\n",
       "      <th>vectors</th>\n",
       "      <th>cluster</th>\n",
       "      <th>cluster_value</th>\n",
       "      <th>closeness_score</th>\n",
       "      <th>sentiment_coeff</th>\n",
       "    </tr>\n",
       "  </thead>\n",
       "  <tbody>\n",
       "    <tr>\n",
       "      <th>0</th>\n",
       "      <td>be</td>\n",
       "      <td>[0.09045758, 0.07613618, 0.12171817, -0.439189...</td>\n",
       "      <td>0</td>\n",
       "      <td>-1</td>\n",
       "      <td>0.188084</td>\n",
       "      <td>-0.188084</td>\n",
       "    </tr>\n",
       "    <tr>\n",
       "      <th>2</th>\n",
       "      <td>the</td>\n",
       "      <td>[0.25615907, -0.26640812, 0.87123454, -0.50165...</td>\n",
       "      <td>0</td>\n",
       "      <td>-1</td>\n",
       "      <td>0.156822</td>\n",
       "      <td>-0.156822</td>\n",
       "    </tr>\n",
       "    <tr>\n",
       "      <th>3</th>\n",
       "      <td>to</td>\n",
       "      <td>[0.18882069, -0.59700924, -0.07487969, 0.04525...</td>\n",
       "      <td>0</td>\n",
       "      <td>-1</td>\n",
       "      <td>0.112688</td>\n",
       "      <td>-0.112688</td>\n",
       "    </tr>\n",
       "    <tr>\n",
       "      <th>4</th>\n",
       "      <td>in</td>\n",
       "      <td>[-0.20123443, -0.25175768, -0.03475116, -0.870...</td>\n",
       "      <td>0</td>\n",
       "      <td>-1</td>\n",
       "      <td>0.144052</td>\n",
       "      <td>-0.144052</td>\n",
       "    </tr>\n",
       "    <tr>\n",
       "      <th>7</th>\n",
       "      <td>of</td>\n",
       "      <td>[0.47129914, -0.24029101, 0.18664457, -0.86250...</td>\n",
       "      <td>0</td>\n",
       "      <td>-1</td>\n",
       "      <td>0.099256</td>\n",
       "      <td>-0.099256</td>\n",
       "    </tr>\n",
       "  </tbody>\n",
       "</table>\n",
       "</div>"
      ],
      "text/plain": [
       "  words                                            vectors  cluster  \\\n",
       "0    be  [0.09045758, 0.07613618, 0.12171817, -0.439189...        0   \n",
       "2   the  [0.25615907, -0.26640812, 0.87123454, -0.50165...        0   \n",
       "3    to  [0.18882069, -0.59700924, -0.07487969, 0.04525...        0   \n",
       "4    in  [-0.20123443, -0.25175768, -0.03475116, -0.870...        0   \n",
       "7    of  [0.47129914, -0.24029101, 0.18664457, -0.86250...        0   \n",
       "\n",
       "   cluster_value  closeness_score  sentiment_coeff  \n",
       "0             -1         0.188084        -0.188084  \n",
       "2             -1         0.156822        -0.156822  \n",
       "3             -1         0.112688        -0.112688  \n",
       "4             -1         0.144052        -0.144052  \n",
       "7             -1         0.099256        -0.099256  "
      ]
     },
     "execution_count": 33,
     "metadata": {},
     "output_type": "execute_result"
    }
   ],
   "source": [
    "dfWords2Clusters['cluster_value'] = [\n",
    "    -1 if i==negativeClusterIndex else 1\n",
    "    for i in dfWords2Clusters['cluster']]\n",
    "\n",
    "dfWords2Clusters['closeness_score'] = \\\n",
    "    dfWords2Clusters.apply(\n",
    "        lambda x: 1/(kmeansModel2Clusters.transform([x.vectors]).min()),\n",
    "        axis=1)\n",
    "\n",
    "dfWords2Clusters['sentiment_coeff'] = \\\n",
    "    dfWords2Clusters['closeness_score'] * \\\n",
    "    dfWords2Clusters['cluster_value']\n",
    "\n",
    "dfWords2Clusters[\n",
    "    dfWords2Clusters['cluster_value'] == -1].head()"
   ]
  },
  {
   "cell_type": "markdown",
   "metadata": {},
   "source": [
    "With the above steps a full dictionary is created in form of a pandas DataFrame where each word had it's own weighted cluster value, closeness score and sentiment score."
   ]
  },
  {
   "cell_type": "markdown",
   "metadata": {},
   "source": [
    "### 3.4 TF-IDF"
   ]
  },
  {
   "cell_type": "markdown",
   "metadata": {},
   "source": [
    "TF-IDF is used to show how important a word is to a review."
   ]
  },
  {
   "cell_type": "code",
   "execution_count": 34,
   "metadata": {
    "pycharm": {
     "name": "#%%\n"
    }
   },
   "outputs": [
    {
     "data": {
      "text/html": [
       "<div>\n",
       "<style scoped>\n",
       "    .dataframe tbody tr th:only-of-type {\n",
       "        vertical-align: middle;\n",
       "    }\n",
       "\n",
       "    .dataframe tbody tr th {\n",
       "        vertical-align: top;\n",
       "    }\n",
       "\n",
       "    .dataframe thead th {\n",
       "        text-align: right;\n",
       "    }\n",
       "</style>\n",
       "<table border=\"1\" class=\"dataframe\">\n",
       "  <thead>\n",
       "    <tr style=\"text-align: right;\">\n",
       "      <th></th>\n",
       "      <th>comments</th>\n",
       "    </tr>\n",
       "  </thead>\n",
       "  <tbody>\n",
       "    <tr>\n",
       "      <th>0</th>\n",
       "      <td>jan be very friendly and welcome host the apar...</td>\n",
       "    </tr>\n",
       "    <tr>\n",
       "      <th>1</th>\n",
       "      <td>it be really nice area food park transport be ...</td>\n",
       "    </tr>\n",
       "    <tr>\n",
       "      <th>2</th>\n",
       "      <td>we have very nice stay in berlin thanks to jan...</td>\n",
       "    </tr>\n",
       "    <tr>\n",
       "      <th>3</th>\n",
       "      <td>great location close to mauerpark kastanienall...</td>\n",
       "    </tr>\n",
       "    <tr>\n",
       "      <th>4</th>\n",
       "      <td>apartment very well locate close to everything...</td>\n",
       "    </tr>\n",
       "  </tbody>\n",
       "</table>\n",
       "</div>"
      ],
      "text/plain": [
       "                                            comments\n",
       "0  jan be very friendly and welcome host the apar...\n",
       "1  it be really nice area food park transport be ...\n",
       "2  we have very nice stay in berlin thanks to jan...\n",
       "3  great location close to mauerpark kastanienall...\n",
       "4  apartment very well locate close to everything..."
      ]
     },
     "execution_count": 34,
     "metadata": {},
     "output_type": "execute_result"
    }
   ],
   "source": [
    "dfCleanedReviews = pd.DataFrame(\n",
    "    [' '.join(review) for review in lemmatizedTokenizedEnglishReviews],\n",
    "    columns=['comments'])\n",
    "\n",
    "dfCleanedReviews.head()"
   ]
  },
  {
   "cell_type": "markdown",
   "metadata": {},
   "source": [
    "To calculate the tfidf score of each words in each review is used sklearn's TfidfVectorizer. This step was conducted to consider how unique every word was for every sentence, and increase positive/negative signal associated with words that are highly specific for given sentence in comparison to whole corpus."
   ]
  },
  {
   "cell_type": "code",
   "execution_count": 35,
   "metadata": {
    "pycharm": {
     "name": "#%%\n"
    }
   },
   "outputs": [],
   "source": [
    "from sklearn.feature_extraction.text import TfidfVectorizer\n",
    "\n",
    "tfidf = TfidfVectorizer(norm=None)\n",
    "transformed = tfidf.fit_transform(\n",
    "    dfCleanedReviews['comments'].tolist())\n",
    "features = pd.Series(tfidf.get_feature_names())"
   ]
  },
  {
   "cell_type": "markdown",
   "metadata": {},
   "source": [
    "Finally, all words in every sentence were on one hand replaced with their tfidf scores, and on the other with their corresponding weighted sentiment scores."
   ]
  },
  {
   "cell_type": "code",
   "execution_count": 36,
   "metadata": {
    "pycharm": {
     "name": "#%%\n"
    }
   },
   "outputs": [],
   "source": [
    "def create_tfidf_dictionary(x, transformed_file, features_file):\n",
    "    \"\"\"\n",
    "    create dictionary for each input sentence x, where each word has assigned its tfidf score\n",
    "\n",
    "    inspired  by function from this wonderful article:\n",
    "    https://medium.com/analytics-vidhya/automated-keyword-extraction-from-articles-using-nlp-bfd864f41b34\n",
    "\n",
    "    x - row of dataframe, containing sentences, and their indexes,\n",
    "    transformed_file - all sentences transformed with TfidfVectorizer\n",
    "    features - names of all words in corpus used in TfidfVectorizer\n",
    "    \"\"\"\n",
    "    vector_coo = transformed_file[x.name].tocoo()\n",
    "    vector_coo.col = features_file.iloc[vector_coo.col].values\n",
    "    dict_from_coo = dict(zip(vector_coo.col, vector_coo.data))\n",
    "    return dict_from_coo\n",
    "\n",
    "def replace_tfidf_words(x, transformed_file, features_file):\n",
    "    \"\"\"\n",
    "    replacing each word with it's calculated tfidf dictionary with scores of each word\n",
    "    x - row of dataframe, containing sentences, and their indexes,\n",
    "    transformed_file - all sentences transformed with TfidfVectorizer\n",
    "    features - names of all words in corpus used in TfidfVectorizer\n",
    "    \"\"\"\n",
    "    dictionary = create_tfidf_dictionary(x, transformed_file, features_file)\n",
    "    try:\n",
    "        res = list(map(lambda y:dictionary[f'{y}'], x['comments'].split()))\n",
    "    except KeyError:\n",
    "        res = [0 for i in x['comments'].split()]\n",
    "    return res"
   ]
  },
  {
   "cell_type": "code",
   "execution_count": 37,
   "metadata": {
    "pycharm": {
     "name": "#%%\n"
    }
   },
   "outputs": [],
   "source": [
    "tfidfScores = dfCleanedReviews.apply(\n",
    "    lambda x: replace_tfidf_words(x, transformed, features), axis=1)"
   ]
  },
  {
   "cell_type": "markdown",
   "metadata": {},
   "source": [
    "### 3.5 Closeness score"
   ]
  },
  {
   "cell_type": "markdown",
   "metadata": {},
   "source": [
    "As the TF-IDF score all words in every sentence are replaced by its own closeness score.\n",
    "The closeness score simply represents the closeness of a word to its cluster center."
   ]
  },
  {
   "cell_type": "code",
   "execution_count": 38,
   "metadata": {
    "pycharm": {
     "name": "#%%\n"
    }
   },
   "outputs": [],
   "source": [
    "dictSentiment2Clusters = dict(zip(\n",
    "    dfWords2Clusters['words'].values,\n",
    "    dfWords2Clusters['sentiment_coeff'].values))"
   ]
  },
  {
   "cell_type": "code",
   "execution_count": 39,
   "metadata": {
    "pycharm": {
     "name": "#%%\n"
    }
   },
   "outputs": [],
   "source": [
    "def replace_sentiment_words(word, sentiment_dict):\n",
    "    \"\"\"\n",
    "    replacing each word with its associated sentiment score from sentiment dict\n",
    "    \"\"\"\n",
    "    try:\n",
    "        out = sentiment_dict[word]\n",
    "    except KeyError:\n",
    "        out = 0\n",
    "    return out"
   ]
  },
  {
   "cell_type": "code",
   "execution_count": 40,
   "metadata": {
    "pycharm": {
     "name": "#%%\n"
    }
   },
   "outputs": [],
   "source": [
    "closenessScores2Clusters = \\\n",
    "    dfCleanedReviews['comments'].apply(\n",
    "        lambda x: list(map(\n",
    "            lambda y: replace_sentiment_words(y, dictSentiment2Clusters),\n",
    "            x.split())))"
   ]
  },
  {
   "cell_type": "markdown",
   "metadata": {},
   "source": [
    "### 3.6 Sentiment score computation"
   ]
  },
  {
   "cell_type": "markdown",
   "metadata": {},
   "source": [
    "Creating a new dataframe with all the values obtained associated to each review."
   ]
  },
  {
   "cell_type": "code",
   "execution_count": 41,
   "metadata": {
    "pycharm": {
     "name": "#%%\n"
    }
   },
   "outputs": [
    {
     "data": {
      "text/html": [
       "<div>\n",
       "<style scoped>\n",
       "    .dataframe tbody tr th:only-of-type {\n",
       "        vertical-align: middle;\n",
       "    }\n",
       "\n",
       "    .dataframe tbody tr th {\n",
       "        vertical-align: top;\n",
       "    }\n",
       "\n",
       "    .dataframe thead th {\n",
       "        text-align: right;\n",
       "    }\n",
       "</style>\n",
       "<table border=\"1\" class=\"dataframe\">\n",
       "  <thead>\n",
       "    <tr style=\"text-align: right;\">\n",
       "      <th></th>\n",
       "      <th>sentiment_coeff</th>\n",
       "      <th>tfidf_scores</th>\n",
       "      <th>review</th>\n",
       "      <th>sentiment_rate</th>\n",
       "      <th>prediction</th>\n",
       "    </tr>\n",
       "  </thead>\n",
       "  <tbody>\n",
       "    <tr>\n",
       "      <th>0</th>\n",
       "      <td>[0.07985111004577553, -0.18808361904308693, 0....</td>\n",
       "      <td>[6.45518200427728, 3.6108140688773807, 1.62336...</td>\n",
       "      <td>jan be very friendly and welcome host the apar...</td>\n",
       "      <td>-0.036251</td>\n",
       "      <td>0</td>\n",
       "    </tr>\n",
       "    <tr>\n",
       "      <th>1</th>\n",
       "      <td>[-0.1478535472173197, -0.18808361904308693, 0....</td>\n",
       "      <td>[2.034512963851828, 2.407209379251587, 2.64191...</td>\n",
       "      <td>it be really nice area food park transport be ...</td>\n",
       "      <td>-1.837079</td>\n",
       "      <td>0</td>\n",
       "    </tr>\n",
       "    <tr>\n",
       "      <th>2</th>\n",
       "      <td>[0.11543748268633972, -0.13276076032773343, 0....</td>\n",
       "      <td>[2.091150860411193, 4.119858950780223, 4.87009...</td>\n",
       "      <td>we have very nice stay in berlin thanks to jan...</td>\n",
       "      <td>-7.055429</td>\n",
       "      <td>0</td>\n",
       "    </tr>\n",
       "    <tr>\n",
       "      <th>3</th>\n",
       "      <td>[0.1381656620939012, -0.11938607074241883, -0....</td>\n",
       "      <td>[1.8501655371557688, 2.159718877149754, 2.7123...</td>\n",
       "      <td>great location close to mauerpark kastanienall...</td>\n",
       "      <td>-2.506551</td>\n",
       "      <td>0</td>\n",
       "    </tr>\n",
       "    <tr>\n",
       "      <th>4</th>\n",
       "      <td>[-0.13562855624442288, 0.13688366219516676, -0...</td>\n",
       "      <td>[3.927308953862587, 3.246732537406179, 2.84084...</td>\n",
       "      <td>apartment very well locate close to everything...</td>\n",
       "      <td>-9.388832</td>\n",
       "      <td>0</td>\n",
       "    </tr>\n",
       "  </tbody>\n",
       "</table>\n",
       "</div>"
      ],
      "text/plain": [
       "                                     sentiment_coeff  \\\n",
       "0  [0.07985111004577553, -0.18808361904308693, 0....   \n",
       "1  [-0.1478535472173197, -0.18808361904308693, 0....   \n",
       "2  [0.11543748268633972, -0.13276076032773343, 0....   \n",
       "3  [0.1381656620939012, -0.11938607074241883, -0....   \n",
       "4  [-0.13562855624442288, 0.13688366219516676, -0...   \n",
       "\n",
       "                                        tfidf_scores  \\\n",
       "0  [6.45518200427728, 3.6108140688773807, 1.62336...   \n",
       "1  [2.034512963851828, 2.407209379251587, 2.64191...   \n",
       "2  [2.091150860411193, 4.119858950780223, 4.87009...   \n",
       "3  [1.8501655371557688, 2.159718877149754, 2.7123...   \n",
       "4  [3.927308953862587, 3.246732537406179, 2.84084...   \n",
       "\n",
       "                                              review  sentiment_rate  \\\n",
       "0  jan be very friendly and welcome host the apar...       -0.036251   \n",
       "1  it be really nice area food park transport be ...       -1.837079   \n",
       "2  we have very nice stay in berlin thanks to jan...       -7.055429   \n",
       "3  great location close to mauerpark kastanienall...       -2.506551   \n",
       "4  apartment very well locate close to everything...       -9.388832   \n",
       "\n",
       "   prediction  \n",
       "0           0  \n",
       "1           0  \n",
       "2           0  \n",
       "3           0  \n",
       "4           0  "
      ]
     },
     "execution_count": 41,
     "metadata": {},
     "output_type": "execute_result"
    }
   ],
   "source": [
    "dfSentiment2ClustersTfidfReviews = \\\n",
    "    pd.DataFrame([closenessScores2Clusters,\n",
    "                  tfidfScores,\n",
    "                  dfCleanedReviews['comments']]).T\n",
    "\n",
    "dfSentiment2ClustersTfidfReviews.columns = \\\n",
    "    ['sentiment_coeff', 'tfidf_scores', 'review']\n",
    "\n",
    "dfSentiment2ClustersTfidfReviews['sentiment_rate'] = \\\n",
    "    dfSentiment2ClustersTfidfReviews.apply(\n",
    "        lambda x: np.array(x.loc['sentiment_coeff']) @ np.array(x.loc['tfidf_scores']),\n",
    "        axis=1)\n",
    "\n",
    "dfSentiment2ClustersTfidfReviews['prediction'] =\\\n",
    "    (dfSentiment2ClustersTfidfReviews['sentiment_rate'] > 0)\\\n",
    "        .astype('int8')\n",
    "\n",
    "dfSentiment2ClustersTfidfReviews.head()"
   ]
  },
  {
   "cell_type": "markdown",
   "metadata": {},
   "source": [
    "It is also possible to show as an example the top-5 negative reviews, according to our\n",
    "sentiment prediction."
   ]
  },
  {
   "cell_type": "code",
   "execution_count": 42,
   "metadata": {
    "pycharm": {
     "name": "#%%\n"
    }
   },
   "outputs": [
    {
     "name": "stdout",
     "output_type": "stream",
     "text": [
      "Top-5 negative reviews:\n"
     ]
    },
    {
     "data": {
      "text/plain": [
       "['accuracy pretty sure this place be low income housing the building be super sketchy the lobby area be disgust dark and full of graffiti tags the elevator be the same way the wall and floor of hallway lead into the apartment look like they ve never be clean the neighbor have their possession scatter about the hallway it say it have three bedroom but there be two plus bed in the living room which be openly connect to the rest of the residence every electrical socket and light fixture be hang out of the wall or ceiling the stove have be disable and be connect to propane tank there be piece of raw plywood hang randomly attach to wall jet out into area of traffic the nicer furniture in the photo have be remove check in from the street it be difficult to see the building we be suppose to enter there be very little lighting in the area and there aren easily visible sign with marking everything around the entrance look be dirty and cover in graffiti tag have make plan to meet chadi between at he be message me ask where be and that he have be wait for me arrive at exactly excite the elevator on the floor all of the light be off and it be extremely eerie enter the residence it be extremely cold and all of the heat be off on top of this during check in the door to the balcony be open letting in draft and an unexpected man be out there on the phone and be never introduce with the lack of heat there be little bedding include pretty sure would have freeze if have stay there cleanliness wouldn be able to guess how long it have be since the place have be clean the wall and floor be filthy there be residue leave in the toilet and filmy stain in the bathtub shower and sink not all of the bed have bedding and appear to be very old the bedding be tattered and didn look clean the kitchen be mess it contain shop cart full of empty bottle there be rot vegetable in the refrigerator that have terrible odor there be also pot inside contain pasta sit in liquid there be also another container cover in tinfoil which do not examine communication have make plan to meet chadi between at he be message me ask where be and that he have be wait for me arrive at exactly location other than be in low income housing area the location didn seem terrible from the min be there at night value the value be insanely terrible after see the residence cancel my reservation at over and find great hotel room at the sheraton grand for under',\n",
       " 'late in june we stay at rebecca appartment which be locate in ostkreuz berlin first the area be very convenient since you re immediately close to railway station which take you to the famous alexanderplatz for instance in minute or you can reach the airport in less than minute it be friendly neighborhood with lot of place to eat or drink and many sp ttis which sell snack beverage etc at almost any time of the day night the people be friendly and not that much tourist lot of young people artists indie kid etc very nice two of the nice record store be nearby bi aufs messer and hhv and as usual with berlin there be many park and green space around where you can meet people walk their dog the apartment itself be very very cool if you want to be in berlin and just leave stress behind this apartment be super quiet do not think it due to the insulation it just that people here be very respectful of their neighbor tranquility it be really great so maybe if you travel with young kid or if you re the kind of person who be not into this kind of behaviour maybe you ought not choose this place the apartment be locate inside courtyard therefore there be no noise from the street in the meantime it be not very noisy area okay there be no elevator and you re on the rd floor so be prepare to lift your luggage the place be ancient but very charm the building date from the early th century and survive the communist era the inside have be refurnish repaint etc there be two big room one be the living room the other be sunbathe bedroom you can use cupboard to store your clothes etc the kitchen be small but it be okay to cook or prepare meal beware the fridge be mini one so it kind of hard to have lot of stuff veggie fit inside of it big bottle as well the sofa in the living room be incredibly cosy and can be use as spare bed think also spot mattress for extra bed the decoration be very nyc influence with many many frame pic on the wall and the bedroom be more influenced by sea and sailing beware if you be allergic to feather be the duvet and pillow be ikea classic geese feather fill otherwise it perfect to sleep the usual in germany one duvet per person instead of large big one for two finally the bathroom be the less convenient room but it logical since the apartment be in an old building it be long and narrow room with toilet and shower and it can be bit moist at time you good leave the door open when you re out so that some air may come in but it be fine enough for',\n",
       " 'terrible experience this be my first time use airbnb be book for group of people for night fri sun in february when make the initial booking request the airbnb rate be include the service fee clean fee and surcharge for additional guest however this be decline by the owner and instead be send pre approve special offer which come to when check the price almost increase when sent message to the host use the airbnb mail to determine why they do not respond our alternative apartment be book at this stage so we decide to go through with our book for this apt when make my way through the book the price have again inexplicably increase to incl all fee without any explanation and without an increase in the list rate couldn work this price out from the rate quote on the listing even take into account the extra people very unsatisfactory to make matter bad on the day of departure the host son call me to inform me that the new berlin city tax be not include in the agreed price and that would have to leave an additional on the table in cash before we leave our agreement through airbnb have no mention of any additional charge so inform them that consider that it be include in the total fee that have pay and refuse to pay any more note that airbnb policy in this regard be that the tax should be add to the rate list on the website the whole experience leave bad taste in my mouth and spoil what be otherwise an enjoyable weekend with my wife and good friend in fantastic city would also note that it take two mail and text message on the day lead up to the visit to get the host to send me direction on where to pick up the key also never meet the host communication be ridiculously poor and see that other people have note this the apartment be on the st floor and there be noisy bar on the ground floor of the adjacent building that open late the bar have side door that lead directly into the stairwell of the apartment which be poor security on the friday night of our visit there be an incident in the early hour where some people be smash bottle on the pavement below our apartment which wake everyone up street traffic include the passing tram also make the main front bedroom in the apartment noisy the lighting in the apartment be seriously poor and most of the bulb in the main bedroom be not work the curtain be also flimsy only offer partial privacy in the apartment will not be return to his apartment or host',\n",
       " 'stay at andreas apartment be wonderful experience the apartment have very hipster feel with antique item and furniture all around the place along with modern feel the place itself be rather old with squeak floor we do once receive complaint from the downstairs neighbor state that our footstep could be hear during the entire night but be nevertheless comfort for me there be two main issue of the apartment the first be that it be too small for group of four grant we be aware of the size of the apartment beforehand in my opinion the apartment would be best suit for two people the second issue be the cleanliness of the apartment when we arrive in berlin andreas have be away for over three week and his friend have take care of the apartment and its guest this would have normally not be an issue have the apartment be clean the first day that we arrive the fridge be full of food which have go bad and smell terribly there be clothe all around the apartment the main table as well as the chair be quite dusty and the bathroom do not look very hygienic grant the bathroom didn look all that appeal when it be clean as well my only complaint about the apartment itself as the shower head face the shower curtain directly and could not be orient to face the ground make take shower very non pleasant experience furthermore the bathroom itself be very old and quite honestly discomforted me during my stay this have nothing to do with the way andreas have keep the bathroom but be rather about the age of the building but nevertheless this issue of cleanliness all across the bathroom create the need for us to personally clean the apartment which take two day the location of the apartment be ideal the neighborhood be the famous prenzlauer berg and be very relax there be plenty of place around to sit down and have bite or drink as for public transportation the tram and night bus stop be right in front of the apartment and the bahn and bahn be at walk distance as group that tend to go out at night very often we have absolutely no difficulty get around andreas himself be extremely easy to reach even though he be away and help us with any problem he could resolve all in all would say that be pleased with my stay in andreas apartment but would recommend you to travel there with maximum of three people as it be quite small',\n",
       " 'would give this place star review but since there be no half round up luke be an accommodate host but his place be less so have stay in many airbnb but this be my first experience in private room with the host so want to accurately reflect my experience luke be kind and offer tip and extend invite to spend time with his friend that be say the place wasn quite as picture he be spring cleaning so the kitchen and entry way be clutter laundry on floor in kitchen vacuum and mop in front of doorway box and book take up large corner of the house we be there for night he start spring clean before we arrive and be still go at it slowly as we leave at first glance the room be very welcome but little inconvenience pile up the third night as we lay on the bed it break we look under the bed to find that the bed be already broken and be hold up by stack of book also under the bed lot of dust cigarette butt candy wrapper etc we notify him and he come in quickly and tell us he hat the bed and have be mean to get rid of it but keep forget he give it temporary fix and address it with more book the next day the garbage under the bed remain the bed hold up for the rest of the trip also the bed linen have small hole in them after that we notice thing keep fall apart the doorknob to the bedroom fell off twice the knob of the kitchen sink would fall off at almost every use the dryer be break the front door didn have knob the upulstry on the couch be tear the clothes rack need to be constantly repropped up because the hanger would slide off them and this be the only place to store your clothing no dresser or drawer we notice the beautiful bedroom table in the photo be replace with two small rickety pressboard table the apartment building door be old and janky to use and take numerous try to get in because the key be so finicky any of these would be minor issue but all together it start to get frustrating some of the more positive attribute of the stay and there be many the bathtub be phenomenal and the water pressure be perfect the bedroom be large the location be central luke offer headache medicine to my girlfriend when she be sick and make us breakfast one morning and be always quick to respond to message overall the experience be not bad and the host be kind but there be many bump in the road that be surprise didn get highlight in past review so want to give an accurate depiction of the place']"
      ]
     },
     "execution_count": 42,
     "metadata": {},
     "output_type": "execute_result"
    }
   ],
   "source": [
    "dfNegativeSentiment = dfSentiment2ClustersTfidfReviews[\n",
    "    dfSentiment2ClustersTfidfReviews['prediction'] == 0].sort_values(\n",
    "        by=['sentiment_rate'])\n",
    "\n",
    "print('Top-5 negative reviews:')\n",
    "dfNegativeSentiment['review'].head().tolist()"
   ]
  },
  {
   "cell_type": "markdown",
   "metadata": {},
   "source": [
    "Finally, the dataset is saved into a .csv file."
   ]
  },
  {
   "cell_type": "code",
   "execution_count": 43,
   "metadata": {
    "pycharm": {
     "name": "#%%\n"
    }
   },
   "outputs": [],
   "source": [
    "# dfSentiment2ClustersTfidfReviews.to_csv(\n",
    "#     'sentiment_dataset_2_clusters.csv',\n",
    "#     sep=',', index=False, header=True)"
   ]
  },
  {
   "cell_type": "markdown",
   "metadata": {},
   "source": [
    "### 3.7 TextBlob"
   ]
  },
  {
   "cell_type": "markdown",
   "metadata": {},
   "source": [
    "In order to understand if the obtained results are good is usefull to compare the previes results with the results obained using an external library. In particular the TextBlob library is used, which is built on the shoulders of NLTK."
   ]
  },
  {
   "cell_type": "code",
   "execution_count": 44,
   "metadata": {
    "pycharm": {
     "name": "#%%\n"
    }
   },
   "outputs": [],
   "source": [
    "from textblob import TextBlob"
   ]
  },
  {
   "cell_type": "markdown",
   "metadata": {},
   "source": [
    "For each review the sentiment score is computed by TextBlob."
   ]
  },
  {
   "cell_type": "code",
   "execution_count": 45,
   "metadata": {
    "pycharm": {
     "name": "#%%\n"
    }
   },
   "outputs": [
    {
     "data": {
      "text/plain": [
       "0    0.617500\n",
       "1    0.800000\n",
       "2    0.561250\n",
       "3    0.643750\n",
       "4    0.226042\n",
       "Name: comments, dtype: float64"
      ]
     },
     "execution_count": 45,
     "metadata": {},
     "output_type": "execute_result"
    }
   ],
   "source": [
    "textblobSentiment = dfCleanedReviews['comments'].apply(\n",
    "    lambda x: TextBlob(x).sentiment.polarity)\n",
    "\n",
    "textblobSentiment.head()"
   ]
  },
  {
   "cell_type": "code",
   "execution_count": 46,
   "metadata": {
    "pycharm": {
     "name": "#%%\n"
    }
   },
   "outputs": [
    {
     "data": {
      "text/html": [
       "<div>\n",
       "<style scoped>\n",
       "    .dataframe tbody tr th:only-of-type {\n",
       "        vertical-align: middle;\n",
       "    }\n",
       "\n",
       "    .dataframe tbody tr th {\n",
       "        vertical-align: top;\n",
       "    }\n",
       "\n",
       "    .dataframe thead th {\n",
       "        text-align: right;\n",
       "    }\n",
       "</style>\n",
       "<table border=\"1\" class=\"dataframe\">\n",
       "  <thead>\n",
       "    <tr style=\"text-align: right;\">\n",
       "      <th></th>\n",
       "      <th>sentiment_coeff</th>\n",
       "      <th>tfidf_scores</th>\n",
       "      <th>review</th>\n",
       "      <th>sentiment_rate</th>\n",
       "      <th>prediction</th>\n",
       "      <th>textblob_sentiment</th>\n",
       "      <th>textblob_prediction</th>\n",
       "    </tr>\n",
       "  </thead>\n",
       "  <tbody>\n",
       "    <tr>\n",
       "      <th>0</th>\n",
       "      <td>[0.07985111004577553, -0.18808361904308693, 0....</td>\n",
       "      <td>[6.45518200427728, 3.6108140688773807, 1.62336...</td>\n",
       "      <td>jan be very friendly and welcome host the apar...</td>\n",
       "      <td>-0.036251</td>\n",
       "      <td>0</td>\n",
       "      <td>0.617500</td>\n",
       "      <td>1</td>\n",
       "    </tr>\n",
       "    <tr>\n",
       "      <th>1</th>\n",
       "      <td>[-0.1478535472173197, -0.18808361904308693, 0....</td>\n",
       "      <td>[2.034512963851828, 2.407209379251587, 2.64191...</td>\n",
       "      <td>it be really nice area food park transport be ...</td>\n",
       "      <td>-1.837079</td>\n",
       "      <td>0</td>\n",
       "      <td>0.800000</td>\n",
       "      <td>1</td>\n",
       "    </tr>\n",
       "    <tr>\n",
       "      <th>2</th>\n",
       "      <td>[0.11543748268633972, -0.13276076032773343, 0....</td>\n",
       "      <td>[2.091150860411193, 4.119858950780223, 4.87009...</td>\n",
       "      <td>we have very nice stay in berlin thanks to jan...</td>\n",
       "      <td>-7.055429</td>\n",
       "      <td>0</td>\n",
       "      <td>0.561250</td>\n",
       "      <td>1</td>\n",
       "    </tr>\n",
       "    <tr>\n",
       "      <th>3</th>\n",
       "      <td>[0.1381656620939012, -0.11938607074241883, -0....</td>\n",
       "      <td>[1.8501655371557688, 2.159718877149754, 2.7123...</td>\n",
       "      <td>great location close to mauerpark kastanienall...</td>\n",
       "      <td>-2.506551</td>\n",
       "      <td>0</td>\n",
       "      <td>0.643750</td>\n",
       "      <td>1</td>\n",
       "    </tr>\n",
       "    <tr>\n",
       "      <th>4</th>\n",
       "      <td>[-0.13562855624442288, 0.13688366219516676, -0...</td>\n",
       "      <td>[3.927308953862587, 3.246732537406179, 2.84084...</td>\n",
       "      <td>apartment very well locate close to everything...</td>\n",
       "      <td>-9.388832</td>\n",
       "      <td>0</td>\n",
       "      <td>0.226042</td>\n",
       "      <td>1</td>\n",
       "    </tr>\n",
       "  </tbody>\n",
       "</table>\n",
       "</div>"
      ],
      "text/plain": [
       "                                     sentiment_coeff  \\\n",
       "0  [0.07985111004577553, -0.18808361904308693, 0....   \n",
       "1  [-0.1478535472173197, -0.18808361904308693, 0....   \n",
       "2  [0.11543748268633972, -0.13276076032773343, 0....   \n",
       "3  [0.1381656620939012, -0.11938607074241883, -0....   \n",
       "4  [-0.13562855624442288, 0.13688366219516676, -0...   \n",
       "\n",
       "                                        tfidf_scores  \\\n",
       "0  [6.45518200427728, 3.6108140688773807, 1.62336...   \n",
       "1  [2.034512963851828, 2.407209379251587, 2.64191...   \n",
       "2  [2.091150860411193, 4.119858950780223, 4.87009...   \n",
       "3  [1.8501655371557688, 2.159718877149754, 2.7123...   \n",
       "4  [3.927308953862587, 3.246732537406179, 2.84084...   \n",
       "\n",
       "                                              review  sentiment_rate  \\\n",
       "0  jan be very friendly and welcome host the apar...       -0.036251   \n",
       "1  it be really nice area food park transport be ...       -1.837079   \n",
       "2  we have very nice stay in berlin thanks to jan...       -7.055429   \n",
       "3  great location close to mauerpark kastanienall...       -2.506551   \n",
       "4  apartment very well locate close to everything...       -9.388832   \n",
       "\n",
       "   prediction  textblob_sentiment  textblob_prediction  \n",
       "0           0            0.617500                    1  \n",
       "1           0            0.800000                    1  \n",
       "2           0            0.561250                    1  \n",
       "3           0            0.643750                    1  \n",
       "4           0            0.226042                    1  "
      ]
     },
     "execution_count": 46,
     "metadata": {},
     "output_type": "execute_result"
    }
   ],
   "source": [
    "dfSentiment2ClustersTfidfReviews['textblob_sentiment'] = \\\n",
    "    textblobSentiment\n",
    "\n",
    "dfSentiment2ClustersTfidfReviews['textblob_prediction'] = \\\n",
    "    (dfSentiment2ClustersTfidfReviews['textblob_sentiment'] > 0)\\\n",
    "        .astype('int8')\n",
    "\n",
    "dfSentiment2ClustersTfidfReviews.head()"
   ]
  },
  {
   "cell_type": "markdown",
   "metadata": {},
   "source": [
    "### 3.8 Sentiment Analysis Evaluation"
   ]
  },
  {
   "cell_type": "markdown",
   "metadata": {},
   "source": [
    "At the end is possible to compare the value obtained with these two different techniques using the accuracy metrics. Even in this case the Scikit-learn library is used."
   ]
  },
  {
   "cell_type": "code",
   "execution_count": 47,
   "metadata": {
    "pycharm": {
     "name": "#%%\n"
    }
   },
   "outputs": [],
   "source": [
    "from sklearn.metrics import accuracy_score, confusion_matrix, precision_score, recall_score, f1_score\n",
    "\n",
    "def compute_test_scores(predictions, labels):\n",
    "\n",
    "    df_conf_matrix = pd.DataFrame(confusion_matrix(labels, predictions))\n",
    "\n",
    "    print(df_conf_matrix)\n",
    "\n",
    "    test_scores = accuracy_score(labels, predictions), \\\n",
    "                  precision_score(labels, predictions), \\\n",
    "                  recall_score(labels, predictions), \\\n",
    "                  f1_score(labels, predictions)\n",
    "\n",
    "    return test_scores"
   ]
  },
  {
   "cell_type": "code",
   "execution_count": 48,
   "metadata": {
    "pycharm": {
     "name": "#%%\n"
    }
   },
   "outputs": [
    {
     "name": "stdout",
     "output_type": "stream",
     "text": [
      "        0      1\n",
      "0    2861   1062\n",
      "1  166563  88281\n",
      "Scores for sentiment analysis with 2 clusters and no stopwords: \n"
     ]
    },
    {
     "data": {
      "text/html": [
       "<div>\n",
       "<style scoped>\n",
       "    .dataframe tbody tr th:only-of-type {\n",
       "        vertical-align: middle;\n",
       "    }\n",
       "\n",
       "    .dataframe tbody tr th {\n",
       "        vertical-align: top;\n",
       "    }\n",
       "\n",
       "    .dataframe thead th {\n",
       "        text-align: right;\n",
       "    }\n",
       "</style>\n",
       "<table border=\"1\" class=\"dataframe\">\n",
       "  <thead>\n",
       "    <tr style=\"text-align: right;\">\n",
       "      <th></th>\n",
       "      <th>scores</th>\n",
       "    </tr>\n",
       "  </thead>\n",
       "  <tbody>\n",
       "    <tr>\n",
       "      <th>accuracy</th>\n",
       "      <td>0.352216</td>\n",
       "    </tr>\n",
       "    <tr>\n",
       "      <th>precision</th>\n",
       "      <td>0.988113</td>\n",
       "    </tr>\n",
       "    <tr>\n",
       "      <th>recall</th>\n",
       "      <td>0.346412</td>\n",
       "    </tr>\n",
       "    <tr>\n",
       "      <th>f1</th>\n",
       "      <td>0.512983</td>\n",
       "    </tr>\n",
       "  </tbody>\n",
       "</table>\n",
       "</div>"
      ],
      "text/plain": [
       "             scores\n",
       "accuracy   0.352216\n",
       "precision  0.988113\n",
       "recall     0.346412\n",
       "f1         0.512983"
      ]
     },
     "execution_count": 48,
     "metadata": {},
     "output_type": "execute_result"
    }
   ],
   "source": [
    "testScores2ClustersSentiment = compute_test_scores(\n",
    "    dfSentiment2ClustersTfidfReviews['prediction'],\n",
    "    dfSentiment2ClustersTfidfReviews['textblob_prediction'])\n",
    "\n",
    "dfTestScores2ClustersSentiment = pd.DataFrame([testScores2ClustersSentiment])\n",
    "dfTestScores2ClustersSentiment.columns = ['accuracy', 'precision', 'recall', 'f1']\n",
    "dfTestScores2ClustersSentiment = dfTestScores2ClustersSentiment.T\n",
    "dfTestScores2ClustersSentiment.columns = ['scores']\n",
    "\n",
    "print('Scores for sentiment analysis with 2 clusters and no stopwords: ')\n",
    "dfTestScores2ClustersSentiment"
   ]
  },
  {
   "cell_type": "markdown",
   "metadata": {},
   "source": [
    "The sentiment analysis with 2 clusters shows bad results.\n",
    "So, we try to compute both the elbow and the silhouette methods in order to check\n",
    "whether the clustering of the words can be performed with better results."
   ]
  },
  {
   "cell_type": "markdown",
   "metadata": {},
   "source": [
    "### 3.9 Clustering evaluation"
   ]
  },
  {
   "cell_type": "markdown",
   "metadata": {},
   "source": [
    "The Elbow Method is used to find the best value of the number of cluster."
   ]
  },
  {
   "cell_type": "code",
   "execution_count": 49,
   "metadata": {
    "pycharm": {
     "name": "#%%\n"
    }
   },
   "outputs": [],
   "source": [
    "def kmeans_elbow_method(vectors):\n",
    "    wcss = []\n",
    "    for i in range(1, 11):\n",
    "        kmeans = KMeans(n_clusters = i, init = 'k-means++', random_state = 42)\n",
    "        kmeans.fit(X=vectors)\n",
    "\n",
    "        # inertia_ is sum of squared distance of samples to its closest cluster centers.\n",
    "        wcss.append(kmeans.inertia_)\n",
    "        print(\"inertia_\", kmeans.inertia_)\n",
    "\n",
    "    plt.plot(range(1, 11), wcss)\n",
    "    plt.title('Elbow Method')\n",
    "    plt.xlabel('Number of clusters')\n",
    "    plt.ylabel('WCSS')\n",
    "    plt.show()"
   ]
  },
  {
   "cell_type": "code",
   "execution_count": 50,
   "metadata": {
    "pycharm": {
     "name": "#%%\n"
    }
   },
   "outputs": [
    {
     "name": "stdout",
     "output_type": "stream",
     "text": [
      "inertia_ 1197053.6588201409\n",
      "inertia_ 1151659.558594202\n",
      "inertia_ 1115347.3522519232\n",
      "inertia_ 1096038.177538068\n",
      "inertia_ 1082101.1616705076\n",
      "inertia_ 1069213.9233989643\n",
      "inertia_ 1058186.253886657\n",
      "inertia_ 1049101.2196385877\n",
      "inertia_ 1041654.2658165627\n",
      "inertia_ 1034365.4848706825\n"
     ]
    },
    {
     "data": {
      "image/png": "[encoded data removed]",
      "text/plain": [
       "<Figure size 432x288 with 1 Axes>"
      ]
     },
     "metadata": {
      "needs_background": "light"
     },
     "output_type": "display_data"
    }
   ],
   "source": [
    "kmeans_elbow_method(w2vModel.wv.vectors.astype('double'))"
   ]
  },
  {
   "cell_type": "markdown",
   "metadata": {},
   "source": [
    "From the above Elbow method plot is not easy to establish a definitive value of number of clusters. So, in order to be more precise, a Silhouette method could be usefull to undestand the right number of cluster."
   ]
  },
  {
   "cell_type": "code",
   "execution_count": 51,
   "metadata": {
    "pycharm": {
     "name": "#%%\n"
    }
   },
   "outputs": [],
   "source": [
    "from sklearn.metrics import silhouette_score\n",
    "\n",
    "def kmeans_silhouette(x,range_clusters):\n",
    "    for i, k in range_clusters :\n",
    "\n",
    "        # Run the Kmeans algorithm\n",
    "        km = KMeans(n_clusters = k, init = 'k-means++', random_state = 42)\n",
    "\n",
    "        km.fit(x)\n",
    "        labels = km.predict(x)\n",
    "\n",
    "        print(\"For n_clusters =\", k,\n",
    "                  \"The computed average silhouette_score is :\",\n",
    "              silhouette_score(x, labels, metric='euclidean'))"
   ]
  },
  {
   "cell_type": "code",
   "execution_count": 52,
   "metadata": {
    "pycharm": {
     "name": "#%%\n"
    }
   },
   "outputs": [],
   "source": [
    "rangeClusters = enumerate([2,3,4,5,6,7,8,9,10])\n",
    "kmeans_silhouette(w2vModel.wv.vectors.astype('double'), rangeClusters)"
   ]
  },
  {
   "cell_type": "markdown",
   "metadata": {},
   "source": [
    "The obtained value show that the clustering with n_clusters = 3 could perform better results."
   ]
  },
  {
   "cell_type": "markdown",
   "metadata": {},
   "source": [
    "## 4. Sentiment analysis with 3 clusters"
   ]
  },
  {
   "cell_type": "markdown",
   "metadata": {},
   "source": [
    "The performed steps are the same of the previous analysis. The steps concerning Word2Vec, TF-IDF and TextBlob are not applied because the results would be the same with respect to the previous ones."
   ]
  },
  {
   "cell_type": "markdown",
   "metadata": {},
   "source": [
    "### 4.1 Clustering model"
   ]
  },
  {
   "cell_type": "code",
   "execution_count": 53,
   "metadata": {
    "pycharm": {
     "name": "#%%\n"
    }
   },
   "outputs": [
    {
     "data": {
      "text/plain": [
       "KMeans(max_iter=1000, n_clusters=3, n_init=50, random_state=42)"
      ]
     },
     "execution_count": 53,
     "metadata": {},
     "output_type": "execute_result"
    }
   ],
   "source": [
    "kmeansModel3Clusters = KMeans(n_clusters=3, max_iter=1000, random_state=42, n_init=50)\n",
    "kmeansModel3Clusters.fit(X=w2vModel.wv.vectors.astype('double'))"
   ]
  },
  {
   "cell_type": "code",
   "execution_count": 54,
   "metadata": {
    "pycharm": {
     "name": "#%%\n"
    }
   },
   "outputs": [
    {
     "data": {
      "text/plain": [
       "[('shop', 0.7630400061607361),\n",
       " ('bahn', 0.7551607489585876),\n",
       " ('restaurant', 0.7389747500419617),\n",
       " ('bar', 0.7280189394950867),\n",
       " ('cafe', 0.7133153080940247),\n",
       " ('supermarket', 0.7072442173957825),\n",
       " ('nearby', 0.7017354965209961),\n",
       " ('tram', 0.6940931677818298),\n",
       " ('station', 0.6876291036605835),\n",
       " ('metro', 0.6812832951545715)]"
      ]
     },
     "execution_count": 54,
     "metadata": {},
     "output_type": "execute_result"
    }
   ],
   "source": [
    "w2vModel.wv.similar_by_vector(\n",
    "    kmeansModel3Clusters.cluster_centers_[2], topn=10, restrict_vocab=None)"
   ]
  },
  {
   "cell_type": "code",
   "execution_count": 55,
   "metadata": {
    "pycharm": {
     "name": "#%%\n"
    }
   },
   "outputs": [],
   "source": [
    "negativeClusterIndex = 2\n",
    "positiveClusterIndex = 0"
   ]
  },
  {
   "cell_type": "code",
   "execution_count": 56,
   "metadata": {
    "pycharm": {
     "name": "#%%\n"
    }
   },
   "outputs": [
    {
     "data": {
      "text/html": [
       "<div>\n",
       "<style scoped>\n",
       "    .dataframe tbody tr th:only-of-type {\n",
       "        vertical-align: middle;\n",
       "    }\n",
       "\n",
       "    .dataframe tbody tr th {\n",
       "        vertical-align: top;\n",
       "    }\n",
       "\n",
       "    .dataframe thead th {\n",
       "        text-align: right;\n",
       "    }\n",
       "</style>\n",
       "<table border=\"1\" class=\"dataframe\">\n",
       "  <thead>\n",
       "    <tr style=\"text-align: right;\">\n",
       "      <th></th>\n",
       "      <th>words</th>\n",
       "      <th>vectors</th>\n",
       "      <th>cluster</th>\n",
       "    </tr>\n",
       "  </thead>\n",
       "  <tbody>\n",
       "    <tr>\n",
       "      <th>0</th>\n",
       "      <td>be</td>\n",
       "      <td>[0.09045758, 0.07613618, 0.12171817, -0.439189...</td>\n",
       "      <td>0</td>\n",
       "    </tr>\n",
       "    <tr>\n",
       "      <th>1</th>\n",
       "      <td>and</td>\n",
       "      <td>[-0.15569599, -0.20120987, 0.14106072, -0.4791...</td>\n",
       "      <td>1</td>\n",
       "    </tr>\n",
       "    <tr>\n",
       "      <th>2</th>\n",
       "      <td>the</td>\n",
       "      <td>[0.25615907, -0.26640812, 0.87123454, -0.50165...</td>\n",
       "      <td>2</td>\n",
       "    </tr>\n",
       "    <tr>\n",
       "      <th>3</th>\n",
       "      <td>to</td>\n",
       "      <td>[0.18882069, -0.59700924, -0.07487969, 0.04525...</td>\n",
       "      <td>2</td>\n",
       "    </tr>\n",
       "    <tr>\n",
       "      <th>4</th>\n",
       "      <td>in</td>\n",
       "      <td>[-0.20123443, -0.25175768, -0.03475116, -0.870...</td>\n",
       "      <td>0</td>\n",
       "    </tr>\n",
       "  </tbody>\n",
       "</table>\n",
       "</div>"
      ],
      "text/plain": [
       "  words                                            vectors  cluster\n",
       "0    be  [0.09045758, 0.07613618, 0.12171817, -0.439189...        0\n",
       "1   and  [-0.15569599, -0.20120987, 0.14106072, -0.4791...        1\n",
       "2   the  [0.25615907, -0.26640812, 0.87123454, -0.50165...        2\n",
       "3    to  [0.18882069, -0.59700924, -0.07487969, 0.04525...        2\n",
       "4    in  [-0.20123443, -0.25175768, -0.03475116, -0.870...        0"
      ]
     },
     "execution_count": 56,
     "metadata": {},
     "output_type": "execute_result"
    }
   ],
   "source": [
    "dfWords3Clusters = pd.DataFrame(\n",
    "    w2vModel.wv.key_to_index.keys())\n",
    "\n",
    "dfWords3Clusters.columns = ['words']\n",
    "\n",
    "dfWords3Clusters['vectors'] = \\\n",
    "    dfWords3Clusters['words'].apply(\n",
    "        lambda x: w2vModel.wv[f'{x}'])\n",
    "\n",
    "dfWords3Clusters['cluster'] = \\\n",
    "    dfWords3Clusters['vectors'].apply(\n",
    "        lambda x: kmeansModel3Clusters.predict([np.array(x)]))\n",
    "\n",
    "dfWords3Clusters.cluster = \\\n",
    "    dfWords3Clusters['cluster'].apply(\n",
    "        lambda x: x[0])\n",
    "\n",
    "dfWords3Clusters.head()"
   ]
  },
  {
   "cell_type": "code",
   "execution_count": 57,
   "metadata": {
    "pycharm": {
     "name": "#%%\n"
    }
   },
   "outputs": [
    {
     "data": {
      "text/html": [
       "<div>\n",
       "<style scoped>\n",
       "    .dataframe tbody tr th:only-of-type {\n",
       "        vertical-align: middle;\n",
       "    }\n",
       "\n",
       "    .dataframe tbody tr th {\n",
       "        vertical-align: top;\n",
       "    }\n",
       "\n",
       "    .dataframe thead th {\n",
       "        text-align: right;\n",
       "    }\n",
       "</style>\n",
       "<table border=\"1\" class=\"dataframe\">\n",
       "  <thead>\n",
       "    <tr style=\"text-align: right;\">\n",
       "      <th></th>\n",
       "      <th>words</th>\n",
       "      <th>vectors</th>\n",
       "      <th>cluster</th>\n",
       "      <th>cluster_value</th>\n",
       "      <th>closeness_score</th>\n",
       "      <th>sentiment_coeff</th>\n",
       "    </tr>\n",
       "  </thead>\n",
       "  <tbody>\n",
       "    <tr>\n",
       "      <th>2</th>\n",
       "      <td>the</td>\n",
       "      <td>[0.25615907, -0.26640812, 0.87123454, -0.50165...</td>\n",
       "      <td>2</td>\n",
       "      <td>-1</td>\n",
       "      <td>0.142319</td>\n",
       "      <td>-0.142319</td>\n",
       "    </tr>\n",
       "    <tr>\n",
       "      <th>3</th>\n",
       "      <td>to</td>\n",
       "      <td>[0.18882069, -0.59700924, -0.07487969, 0.04525...</td>\n",
       "      <td>2</td>\n",
       "      <td>-1</td>\n",
       "      <td>0.117026</td>\n",
       "      <td>-0.117026</td>\n",
       "    </tr>\n",
       "    <tr>\n",
       "      <th>7</th>\n",
       "      <td>of</td>\n",
       "      <td>[0.47129914, -0.24029101, 0.18664457, -0.86250...</td>\n",
       "      <td>2</td>\n",
       "      <td>-1</td>\n",
       "      <td>0.102677</td>\n",
       "      <td>-0.102677</td>\n",
       "    </tr>\n",
       "    <tr>\n",
       "      <th>17</th>\n",
       "      <td>berlin</td>\n",
       "      <td>[0.14385328, 0.4931988, 0.5186288, -0.27703884...</td>\n",
       "      <td>2</td>\n",
       "      <td>-1</td>\n",
       "      <td>0.097882</td>\n",
       "      <td>-0.097882</td>\n",
       "    </tr>\n",
       "    <tr>\n",
       "      <th>19</th>\n",
       "      <td>location</td>\n",
       "      <td>[-0.15372258, 0.7725808, 0.6690001, 0.15646437...</td>\n",
       "      <td>2</td>\n",
       "      <td>-1</td>\n",
       "      <td>0.143531</td>\n",
       "      <td>-0.143531</td>\n",
       "    </tr>\n",
       "  </tbody>\n",
       "</table>\n",
       "</div>"
      ],
      "text/plain": [
       "       words                                            vectors  cluster  \\\n",
       "2        the  [0.25615907, -0.26640812, 0.87123454, -0.50165...        2   \n",
       "3         to  [0.18882069, -0.59700924, -0.07487969, 0.04525...        2   \n",
       "7         of  [0.47129914, -0.24029101, 0.18664457, -0.86250...        2   \n",
       "17    berlin  [0.14385328, 0.4931988, 0.5186288, -0.27703884...        2   \n",
       "19  location  [-0.15372258, 0.7725808, 0.6690001, 0.15646437...        2   \n",
       "\n",
       "    cluster_value  closeness_score  sentiment_coeff  \n",
       "2              -1         0.142319        -0.142319  \n",
       "3              -1         0.117026        -0.117026  \n",
       "7              -1         0.102677        -0.102677  \n",
       "17             -1         0.097882        -0.097882  \n",
       "19             -1         0.143531        -0.143531  "
      ]
     },
     "execution_count": 57,
     "metadata": {},
     "output_type": "execute_result"
    }
   ],
   "source": [
    "dfWords3Clusters['cluster_value'] = \\\n",
    "    [-1 if i==negativeClusterIndex\n",
    "     else 1 if i==positiveClusterIndex else 0\n",
    "     for i in dfWords3Clusters['cluster']]\n",
    "\n",
    "dfWords3Clusters['closeness_score'] = \\\n",
    "    dfWords3Clusters.apply(\n",
    "        lambda x: 1/(kmeansModel3Clusters.transform([x.vectors]).min()),\n",
    "        axis=1)\n",
    "\n",
    "dfWords3Clusters['sentiment_coeff'] = \\\n",
    "    dfWords3Clusters['closeness_score'] * \\\n",
    "    dfWords3Clusters['cluster_value']\n",
    "\n",
    "dfWords3Clusters[\n",
    "    dfWords3Clusters['cluster_value'] == -1].head()"
   ]
  },
  {
   "cell_type": "markdown",
   "metadata": {},
   "source": [
    "### 4.2 Closeness score\n"
   ]
  },
  {
   "cell_type": "code",
   "execution_count": 58,
   "metadata": {
    "pycharm": {
     "name": "#%%\n"
    }
   },
   "outputs": [],
   "source": [
    "dictSentiment3Clusters = dict(zip(\n",
    "    dfWords3Clusters['words'].values,\n",
    "    dfWords3Clusters['sentiment_coeff'].values))"
   ]
  },
  {
   "cell_type": "code",
   "execution_count": 59,
   "metadata": {
    "pycharm": {
     "name": "#%%\n"
    }
   },
   "outputs": [],
   "source": [
    "closenessScores3Clusters = \\\n",
    "    dfCleanedReviews['comments'].apply(\n",
    "        lambda x: list(map(\n",
    "            lambda y: replace_sentiment_words(y, dictSentiment3Clusters),\n",
    "            x.split())))"
   ]
  },
  {
   "cell_type": "markdown",
   "metadata": {},
   "source": [
    "### 4.3 Sentiment score computation"
   ]
  },
  {
   "cell_type": "code",
   "execution_count": 60,
   "metadata": {
    "pycharm": {
     "name": "#%%\n"
    }
   },
   "outputs": [
    {
     "data": {
      "text/html": [
       "<div>\n",
       "<style scoped>\n",
       "    .dataframe tbody tr th:only-of-type {\n",
       "        vertical-align: middle;\n",
       "    }\n",
       "\n",
       "    .dataframe tbody tr th {\n",
       "        vertical-align: top;\n",
       "    }\n",
       "\n",
       "    .dataframe thead th {\n",
       "        text-align: right;\n",
       "    }\n",
       "</style>\n",
       "<table border=\"1\" class=\"dataframe\">\n",
       "  <thead>\n",
       "    <tr style=\"text-align: right;\">\n",
       "      <th></th>\n",
       "      <th>sentiment_coeff</th>\n",
       "      <th>tfidf_scores</th>\n",
       "      <th>review</th>\n",
       "      <th>sentiment_rate</th>\n",
       "      <th>prediction</th>\n",
       "    </tr>\n",
       "  </thead>\n",
       "  <tbody>\n",
       "    <tr>\n",
       "      <th>0</th>\n",
       "      <td>[0.0, 0.1798011283274767, 0.0, 0.0, 0.0, 0.0, ...</td>\n",
       "      <td>[6.45518200427728, 3.6108140688773807, 1.62336...</td>\n",
       "      <td>jan be very friendly and welcome host the apar...</td>\n",
       "      <td>-0.873900</td>\n",
       "      <td>0</td>\n",
       "    </tr>\n",
       "    <tr>\n",
       "      <th>1</th>\n",
       "      <td>[0.14073132621331927, 0.1798011283274767, 0.0,...</td>\n",
       "      <td>[2.034512963851828, 2.407209379251587, 2.64191...</td>\n",
       "      <td>it be really nice area food park transport be ...</td>\n",
       "      <td>-0.147324</td>\n",
       "      <td>0</td>\n",
       "    </tr>\n",
       "    <tr>\n",
       "      <th>2</th>\n",
       "      <td>[0.0, 0.1447761464322067, 0.0, 0.0, 0.0, 0.135...</td>\n",
       "      <td>[2.091150860411193, 4.119858950780223, 4.87009...</td>\n",
       "      <td>we have very nice stay in berlin thanks to jan...</td>\n",
       "      <td>0.364683</td>\n",
       "      <td>1</td>\n",
       "    </tr>\n",
       "    <tr>\n",
       "      <th>3</th>\n",
       "      <td>[0.0, -0.14353125369217165, -0.099881655919928...</td>\n",
       "      <td>[1.8501655371557688, 2.159718877149754, 2.7123...</td>\n",
       "      <td>great location close to mauerpark kastanienall...</td>\n",
       "      <td>-4.636182</td>\n",
       "      <td>0</td>\n",
       "    </tr>\n",
       "    <tr>\n",
       "      <th>4</th>\n",
       "      <td>[0.0, 0.0, -0.0845358454151889, -0.10166596849...</td>\n",
       "      <td>[3.927308953862587, 3.246732537406179, 2.84084...</td>\n",
       "      <td>apartment very well locate close to everything...</td>\n",
       "      <td>-3.231733</td>\n",
       "      <td>0</td>\n",
       "    </tr>\n",
       "  </tbody>\n",
       "</table>\n",
       "</div>"
      ],
      "text/plain": [
       "                                     sentiment_coeff  \\\n",
       "0  [0.0, 0.1798011283274767, 0.0, 0.0, 0.0, 0.0, ...   \n",
       "1  [0.14073132621331927, 0.1798011283274767, 0.0,...   \n",
       "2  [0.0, 0.1447761464322067, 0.0, 0.0, 0.0, 0.135...   \n",
       "3  [0.0, -0.14353125369217165, -0.099881655919928...   \n",
       "4  [0.0, 0.0, -0.0845358454151889, -0.10166596849...   \n",
       "\n",
       "                                        tfidf_scores  \\\n",
       "0  [6.45518200427728, 3.6108140688773807, 1.62336...   \n",
       "1  [2.034512963851828, 2.407209379251587, 2.64191...   \n",
       "2  [2.091150860411193, 4.119858950780223, 4.87009...   \n",
       "3  [1.8501655371557688, 2.159718877149754, 2.7123...   \n",
       "4  [3.927308953862587, 3.246732537406179, 2.84084...   \n",
       "\n",
       "                                              review  sentiment_rate  \\\n",
       "0  jan be very friendly and welcome host the apar...       -0.873900   \n",
       "1  it be really nice area food park transport be ...       -0.147324   \n",
       "2  we have very nice stay in berlin thanks to jan...        0.364683   \n",
       "3  great location close to mauerpark kastanienall...       -4.636182   \n",
       "4  apartment very well locate close to everything...       -3.231733   \n",
       "\n",
       "   prediction  \n",
       "0           0  \n",
       "1           0  \n",
       "2           1  \n",
       "3           0  \n",
       "4           0  "
      ]
     },
     "execution_count": 60,
     "metadata": {},
     "output_type": "execute_result"
    }
   ],
   "source": [
    "dfSentiment3ClustersTfidfReviews = pd.DataFrame(\n",
    "    [closenessScores3Clusters,\n",
    "     tfidfScores,\n",
    "     dfCleanedReviews['comments']]).T\n",
    "\n",
    "dfSentiment3ClustersTfidfReviews.columns = \\\n",
    "    ['sentiment_coeff', 'tfidf_scores', 'review']\n",
    "\n",
    "dfSentiment3ClustersTfidfReviews['sentiment_rate'] = \\\n",
    "    dfSentiment3ClustersTfidfReviews.apply(\n",
    "        lambda x: np.array(x.loc['sentiment_coeff']) @ np.array(x.loc['tfidf_scores']),\n",
    "        axis=1)\n",
    "\n",
    "dfSentiment3ClustersTfidfReviews['prediction'] = \\\n",
    "    (dfSentiment3ClustersTfidfReviews['sentiment_rate']>0)\\\n",
    "        .astype('int8')\n",
    "\n",
    "dfSentiment3ClustersTfidfReviews.head()"
   ]
  },
  {
   "cell_type": "code",
   "execution_count": 61,
   "metadata": {
    "pycharm": {
     "name": "#%%\n"
    }
   },
   "outputs": [],
   "source": [
    "# dfSentiment3ClustersTfidfReviews.to_csv(\n",
    "#     'sentiment_dataset_3_clusters.csv',\n",
    "#     sep=',', index=False, header=True)"
   ]
  },
  {
   "cell_type": "code",
   "execution_count": 62,
   "metadata": {
    "pycharm": {
     "name": "#%%\n"
    }
   },
   "outputs": [
    {
     "data": {
      "text/plain": [
       "['for be my first experience alone in an airbnb elke and tami prove to be great at welcome guest very warm and friendly the place be cozy clean and full of character situate in nice and upcoming part of town surround by nice coffeeshops restaurant and bar they also give some really good tip to venture within the vicinity and further into berlin would recommend their place and their kindness for be my first experience alone in an airbnb elke and tami prove to be great at welcome guest very warm and friendly the place be cozy clean and full of character situate in nice and upcoming part of town surround by nice coffeeshops restaurant and bar they also give some really good tip to venture within the vicinity and further into berlin would recommend their place and their kindness for be my first experience alone in an airbnb elke and tami prove to be great at welcome guest very warm and friendly the place be cozy clean and full of character situate in nice and upcoming part of town surround by nice coffeeshops restaurant and bar they also give some really good tip to venture within the vicinity and further into berlin would recommend their place and their kindness for be my first experience alone in an airbnb elke and tami prove to be great at welcome guest very warm and friendly the place be cozy clean and full of character situate in nice and upcoming part of town surround by nice coffeeshops restaurant and bar they also give some really good tip to venture within the vicinity and further into berlin would recommend their place and their kindness for be my first experience alone in an airbnb elke and tami prove to be great at welcome guest very warm and friendly the place be cozy clean and full of character situate in nice and upcoming part of town surround by nice coffeeshops restaurant and bar they also give some really good tip to venture within the vicinity and further into berlin would recommend their place and their kindness for be my first experience alone in an airbnb elke and tami prove to be great at welcome guest very warm and friendly the place be cozy clean and full of character situate in nice and upcoming part of town surround by nice coffeeshops restaurant and bar they also give some really good tip to venture within the vicinity and further into berlin would recommend their place and their kindness for be my first experience alone in an airbnb elke and tami prove to be great at welcome guest very warm and friendly the place be cozy clean and full of character situate in nice and upcoming part of town surround by nice coffeeshops restaurant and bar they also give some really good tip to venture within the vicinity and further into berlin would recommend their',\n",
       " 'caution you may have issue on your vacation the host do not respond our message at the appropriate time to combine our check in day before the check in we insist on the message and call him by the way to our surprise we receive rude response we receive the instruction to our arrival that we would be welcome at we inform the host that we didn have wifi access on the street and that we would be on the apartment at the combined time we request early check in in an hour but the host be inflexible on the check in day we arrive on the time and the host hasn arrive we wait an hour and thirty minute in the door of the building we try free wifi in the region in some cafe and unfortunately we don have success we speak with the neighbor mr john who try help us he call the host by phone three time but message inform that the number be wrong the only solution we find be go back the station berlin hbf about minute and access the internet to send message to our surprise we receive message from the host after the combined time that the key would be under the carpet in front of the door of the apartment inside the building in the apartment there wasn guide with orientation about the facility this practice be usual in all the apartment that we stay by airbnb we ask basic information about how to use the cooktop and again we receive rude reply the host say us to look the hidden by airbnb we understand that the client always must be well attended and with attention in my work the client be always in the first place but this isn the perception of this host use airbnb for many year and be the first time that be face coarse and impersonal treatment definitely don recommend this apartment',\n",
       " 'while we never get to meet our host alex communication be always helpful and pretty fast we have be give direction to place nearby where we find the key and have to insert code this be actually pretty funny felt bit like mcgyver the location on the map of berlin work well for our purpose as there be convenient bus line stop just across the street the actual location of the house and in particular of the flat however be at least not for the faint of heart the house be right next to pretty busy crossroad and the flat be on the ground floor with the bed living room face the street this be say we felt very much expose to the urban life of berlin which may not bother you if you plan to spend all the time outside and just be home for sleep however if you look for more intimate place where you can withdraw from the big city life outside when you feel like it then you will be disappoint the host do good job mount curtain in front of the window towards the street so you can block out the sunlight at least however the noise from the street in the morning from neighbour above and the pub next door right on the other side of the wall where the bed be can be block out the neighbour be super noisy conversation argument video game summer hit of the on their stereo on and off until be on tuesday night to the point where we couldn get sleep but gladly only during the first night out of the three night we stay there tell our host about it anyway and he promise to talk to them while the flat be equip with all the useful thing that you would expect it lack charm blame it to the big room high ceiling lack of furniture etc the host hang several painting to create some atmosphere but at least the one with the lady who look like ozzy osbourne make creepy impression on us all this mean it be good place for people who just want to crash at place and hit the city life it be certainly not the right pick if you happen to be on your honey moon also solo or female traveller in particular when arrive late in the evening may feel little uncomfortable in this setting',\n",
       " 'tammy give me surreal experience you will not find more perfect host be still on cloud maybe even cloud tammy be very easy go attentive appreciative and fun love live in great comfort and be able to experience jazz club beach volleyball bicycle rid and jog within the tiergarten the schloss chalottenburg and along the spree and its canal from the hauptbahnhof to the ruhwald small gardening community tammy anticipate your need and ensure your stay in berlin be more than you expect the apartment be clean well kept and stay with tammy be worth far more than pay hope to return soon the apartment be adjacent to the einsteinufer ufer shore or bank of river or canal where you will find pleasant walk jog path you may walk to ernst reuter platz for the bahn station to get on the subway or to get on the bus or to the university tu berlin in minute you may walk to the zoologischer garten station or to kurf rstendamm main west berlin shopping and restaurant street in about minute you may take the bus from outside the apartment dovebr cke to the zoo station this take just minute or in the opposite direction to the hauptbahnhof minute or walk or ride the to the zoo and then take east bound bahn fast train to the hauptbahnhof from ernst reuter platz take the bus to the txl airport flughafen tegel or vice versa this take about minute',\n",
       " 'we didn get to stay at this airbnb we be suppose to pick up the key on our arrival but the restaurant sarah leave them at be close on our arrival and then she end up cancel our stay on the second day at the time of the booking we communicate the time of our arrival into berlin to ensure it be ok with the host for check in the host confirm that it be lead up to the day of the stay we attempt several more time to get the detail of the restaurant where the key would be leave so we could check opening hour call from the airport to confirm that we be on our way and also find the right place on arrival the host initially respond say she didn see the reason why we need the name of the restaurant and after we explain didn respond to any further message or phone call until we get there and the restuarant be close we make several attempt to avoid this type of situation before arrival to no avail with the host so we have to check into hotel last minute the host be quite irate and aggressive with us despite our effort to resolve the situation with calm reason the next day sarah apologise and offer to refund half of the hotel night we ask to be refund the full amount which be the same price as one night in her place think it be fair after not be able to check in and have to look for and pay for hotel last minute sarah refuse and then ask us not to stay in her place at all we get in touch with airbnb luckily they be able to see the full transcript of message from start to finish with all the swearing and hostile message from sarah after review the entire conversation from the time of book to be ask not to check in they be very empathetic and apologetic they refund us the full amount for our experience with this host and even help us to find alternative accomodation great customer support from them in the end we have great time in berlin despite the first hour']"
      ]
     },
     "execution_count": 62,
     "metadata": {},
     "output_type": "execute_result"
    }
   ],
   "source": [
    "dfNegativeSentiment = dfSentiment3ClustersTfidfReviews[\n",
    "    dfSentiment3ClustersTfidfReviews['prediction'] == 0].sort_values(\n",
    "        by=['sentiment_rate'])\n",
    "\n",
    "dfNegativeSentiment['review'].head().tolist()"
   ]
  },
  {
   "cell_type": "markdown",
   "metadata": {},
   "source": [
    "### 4.4 TextBlob\n"
   ]
  },
  {
   "cell_type": "code",
   "execution_count": 63,
   "metadata": {
    "pycharm": {
     "name": "#%%\n"
    }
   },
   "outputs": [
    {
     "data": {
      "text/html": [
       "<div>\n",
       "<style scoped>\n",
       "    .dataframe tbody tr th:only-of-type {\n",
       "        vertical-align: middle;\n",
       "    }\n",
       "\n",
       "    .dataframe tbody tr th {\n",
       "        vertical-align: top;\n",
       "    }\n",
       "\n",
       "    .dataframe thead th {\n",
       "        text-align: right;\n",
       "    }\n",
       "</style>\n",
       "<table border=\"1\" class=\"dataframe\">\n",
       "  <thead>\n",
       "    <tr style=\"text-align: right;\">\n",
       "      <th></th>\n",
       "      <th>sentiment_coeff</th>\n",
       "      <th>tfidf_scores</th>\n",
       "      <th>review</th>\n",
       "      <th>sentiment_rate</th>\n",
       "      <th>prediction</th>\n",
       "      <th>textblob_sentiment</th>\n",
       "      <th>textblob_prediction</th>\n",
       "    </tr>\n",
       "  </thead>\n",
       "  <tbody>\n",
       "    <tr>\n",
       "      <th>0</th>\n",
       "      <td>[0.0, 0.1798011283274767, 0.0, 0.0, 0.0, 0.0, ...</td>\n",
       "      <td>[6.45518200427728, 3.6108140688773807, 1.62336...</td>\n",
       "      <td>jan be very friendly and welcome host the apar...</td>\n",
       "      <td>-0.873900</td>\n",
       "      <td>0</td>\n",
       "      <td>0.617500</td>\n",
       "      <td>1</td>\n",
       "    </tr>\n",
       "    <tr>\n",
       "      <th>1</th>\n",
       "      <td>[0.14073132621331927, 0.1798011283274767, 0.0,...</td>\n",
       "      <td>[2.034512963851828, 2.407209379251587, 2.64191...</td>\n",
       "      <td>it be really nice area food park transport be ...</td>\n",
       "      <td>-0.147324</td>\n",
       "      <td>0</td>\n",
       "      <td>0.800000</td>\n",
       "      <td>1</td>\n",
       "    </tr>\n",
       "    <tr>\n",
       "      <th>2</th>\n",
       "      <td>[0.0, 0.1447761464322067, 0.0, 0.0, 0.0, 0.135...</td>\n",
       "      <td>[2.091150860411193, 4.119858950780223, 4.87009...</td>\n",
       "      <td>we have very nice stay in berlin thanks to jan...</td>\n",
       "      <td>0.364683</td>\n",
       "      <td>1</td>\n",
       "      <td>0.561250</td>\n",
       "      <td>1</td>\n",
       "    </tr>\n",
       "    <tr>\n",
       "      <th>3</th>\n",
       "      <td>[0.0, -0.14353125369217165, -0.099881655919928...</td>\n",
       "      <td>[1.8501655371557688, 2.159718877149754, 2.7123...</td>\n",
       "      <td>great location close to mauerpark kastanienall...</td>\n",
       "      <td>-4.636182</td>\n",
       "      <td>0</td>\n",
       "      <td>0.643750</td>\n",
       "      <td>1</td>\n",
       "    </tr>\n",
       "    <tr>\n",
       "      <th>4</th>\n",
       "      <td>[0.0, 0.0, -0.0845358454151889, -0.10166596849...</td>\n",
       "      <td>[3.927308953862587, 3.246732537406179, 2.84084...</td>\n",
       "      <td>apartment very well locate close to everything...</td>\n",
       "      <td>-3.231733</td>\n",
       "      <td>0</td>\n",
       "      <td>0.226042</td>\n",
       "      <td>1</td>\n",
       "    </tr>\n",
       "  </tbody>\n",
       "</table>\n",
       "</div>"
      ],
      "text/plain": [
       "                                     sentiment_coeff  \\\n",
       "0  [0.0, 0.1798011283274767, 0.0, 0.0, 0.0, 0.0, ...   \n",
       "1  [0.14073132621331927, 0.1798011283274767, 0.0,...   \n",
       "2  [0.0, 0.1447761464322067, 0.0, 0.0, 0.0, 0.135...   \n",
       "3  [0.0, -0.14353125369217165, -0.099881655919928...   \n",
       "4  [0.0, 0.0, -0.0845358454151889, -0.10166596849...   \n",
       "\n",
       "                                        tfidf_scores  \\\n",
       "0  [6.45518200427728, 3.6108140688773807, 1.62336...   \n",
       "1  [2.034512963851828, 2.407209379251587, 2.64191...   \n",
       "2  [2.091150860411193, 4.119858950780223, 4.87009...   \n",
       "3  [1.8501655371557688, 2.159718877149754, 2.7123...   \n",
       "4  [3.927308953862587, 3.246732537406179, 2.84084...   \n",
       "\n",
       "                                              review  sentiment_rate  \\\n",
       "0  jan be very friendly and welcome host the apar...       -0.873900   \n",
       "1  it be really nice area food park transport be ...       -0.147324   \n",
       "2  we have very nice stay in berlin thanks to jan...        0.364683   \n",
       "3  great location close to mauerpark kastanienall...       -4.636182   \n",
       "4  apartment very well locate close to everything...       -3.231733   \n",
       "\n",
       "   prediction  textblob_sentiment  textblob_prediction  \n",
       "0           0            0.617500                    1  \n",
       "1           0            0.800000                    1  \n",
       "2           1            0.561250                    1  \n",
       "3           0            0.643750                    1  \n",
       "4           0            0.226042                    1  "
      ]
     },
     "execution_count": 63,
     "metadata": {},
     "output_type": "execute_result"
    }
   ],
   "source": [
    "dfSentiment3ClustersTfidfReviews['textblob_sentiment'] = \\\n",
    "    textblobSentiment\n",
    "\n",
    "dfSentiment3ClustersTfidfReviews['textblob_prediction'] = \\\n",
    "    (dfSentiment3ClustersTfidfReviews['textblob_sentiment'] > 0)\\\n",
    "        .astype('int8')\n",
    "\n",
    "dfSentiment3ClustersTfidfReviews.head()"
   ]
  },
  {
   "cell_type": "markdown",
   "metadata": {},
   "source": [
    "### 4.5 Sentiment analysis evaluation"
   ]
  },
  {
   "cell_type": "code",
   "execution_count": 64,
   "metadata": {
    "pycharm": {
     "name": "#%%\n"
    },
    "scrolled": true
   },
   "outputs": [
    {
     "name": "stdout",
     "output_type": "stream",
     "text": [
      "       0       1\n",
      "0    947    2976\n",
      "1  85726  169118\n",
      "Scores for sentiment analysis with 3 clusters and no stopwords: \n"
     ]
    },
    {
     "data": {
      "text/html": [
       "<div>\n",
       "<style scoped>\n",
       "    .dataframe tbody tr th:only-of-type {\n",
       "        vertical-align: middle;\n",
       "    }\n",
       "\n",
       "    .dataframe tbody tr th {\n",
       "        vertical-align: top;\n",
       "    }\n",
       "\n",
       "    .dataframe thead th {\n",
       "        text-align: right;\n",
       "    }\n",
       "</style>\n",
       "<table border=\"1\" class=\"dataframe\">\n",
       "  <thead>\n",
       "    <tr style=\"text-align: right;\">\n",
       "      <th></th>\n",
       "      <th>scores</th>\n",
       "    </tr>\n",
       "  </thead>\n",
       "  <tbody>\n",
       "    <tr>\n",
       "      <th>accuracy</th>\n",
       "      <td>0.657213</td>\n",
       "    </tr>\n",
       "    <tr>\n",
       "      <th>precision</th>\n",
       "      <td>0.982707</td>\n",
       "    </tr>\n",
       "    <tr>\n",
       "      <th>recall</th>\n",
       "      <td>0.663614</td>\n",
       "    </tr>\n",
       "    <tr>\n",
       "      <th>f1</th>\n",
       "      <td>0.792237</td>\n",
       "    </tr>\n",
       "  </tbody>\n",
       "</table>\n",
       "</div>"
      ],
      "text/plain": [
       "             scores\n",
       "accuracy   0.657213\n",
       "precision  0.982707\n",
       "recall     0.663614\n",
       "f1         0.792237"
      ]
     },
     "execution_count": 64,
     "metadata": {},
     "output_type": "execute_result"
    }
   ],
   "source": [
    "testScores3ClustersSentiment = compute_test_scores(\n",
    "    dfSentiment3ClustersTfidfReviews['prediction'],\n",
    "    dfSentiment3ClustersTfidfReviews['textblob_prediction'])\n",
    "\n",
    "dfTestScores3ClustersSentiment = pd.DataFrame([testScores3ClustersSentiment])\n",
    "dfTestScores3ClustersSentiment.columns = ['accuracy', 'precision', 'recall', 'f1']\n",
    "dfTestScores3ClustersSentiment = dfTestScores3ClustersSentiment.T\n",
    "dfTestScores3ClustersSentiment.columns = ['scores']\n",
    "\n",
    "print('Scores for sentiment analysis with 3 clusters and no stopwords: ')\n",
    "dfTestScores3ClustersSentiment"
   ]
  },
  {
   "cell_type": "markdown",
   "metadata": {},
   "source": [
    "The sentiment anlysis with 3 clusters show better results compared to the sentiment analysis with 2 clusters.\n",
    "However could be interesting to investigate the results that can be obtained by removing the stop words. "
   ]
  },
  {
   "cell_type": "markdown",
   "metadata": {},
   "source": [
    "## 5. Sentiment Analysis without stop words"
   ]
  },
  {
   "cell_type": "markdown",
   "metadata": {},
   "source": [
    "The performed steps are the same as before."
   ]
  },
  {
   "cell_type": "markdown",
   "metadata": {},
   "source": [
    "### 5.1 Stop words removal\n",
    "\n",
    "In order to remove the stop words, the 'stopwords' package of the 'nltk' library is used."
   ]
  },
  {
   "cell_type": "code",
   "execution_count": 65,
   "metadata": {
    "pycharm": {
     "name": "#%%\n"
    }
   },
   "outputs": [
    {
     "name": "stderr",
     "output_type": "stream",
     "text": [
      "[nltk_data] Downloading package stopwords to\n",
      "[nltk_data]     C:\\Users\\Marco\\AppData\\Roaming\\nltk_data...\n",
      "[nltk_data]   Package stopwords is already up-to-date!\n"
     ]
    },
    {
     "data": {
      "text/plain": [
       "True"
      ]
     },
     "execution_count": 65,
     "metadata": {},
     "output_type": "execute_result"
    }
   ],
   "source": [
    "nltk.download('stopwords')"
   ]
  },
  {
   "cell_type": "code",
   "execution_count": 66,
   "metadata": {
    "pycharm": {
     "name": "#%%\n"
    }
   },
   "outputs": [
    {
     "data": {
      "text/plain": [
       "['i', 'me', 'my', 'myself', 'we', 'our', 'ours', 'ourselves', 'you', \"you're\"]"
      ]
     },
     "execution_count": 66,
     "metadata": {},
     "output_type": "execute_result"
    }
   ],
   "source": [
    "from nltk.corpus import stopwords\n",
    "\n",
    "stopWords = stopwords.words('english')\n",
    "stopWords[:10]"
   ]
  },
  {
   "cell_type": "code",
   "execution_count": 67,
   "metadata": {
    "pycharm": {
     "name": "#%%\n"
    }
   },
   "outputs": [],
   "source": [
    "def remove_stop_words(tokenized_reviews, stop_words):\n",
    "    tokenized_reviews_without_stopwords = []\n",
    "    for tokenized_review in tokenized_reviews:\n",
    "        tokenized_reviews_without_stopwords.append(\n",
    "            [word for word in tokenized_review if not word in stop_words]\n",
    "        )\n",
    "    return tokenized_reviews_without_stopwords"
   ]
  },
  {
   "cell_type": "code",
   "execution_count": 68,
   "metadata": {
    "pycharm": {
     "name": "#%%\n"
    }
   },
   "outputs": [
    {
     "data": {
      "text/plain": [
       "[['jan',\n",
       "  'friendly',\n",
       "  'welcome',\n",
       "  'host',\n",
       "  'apartment',\n",
       "  'great',\n",
       "  'area',\n",
       "  'sooo',\n",
       "  'amaze',\n",
       "  'lot',\n",
       "  'nice',\n",
       "  'cafe',\n",
       "  'shop',\n",
       "  'enjoy',\n",
       "  'time',\n",
       "  'lot'],\n",
       " ['really', 'nice', 'area', 'food', 'park', 'transport', 'perfect'],\n",
       " ['nice',\n",
       "  'stay',\n",
       "  'berlin',\n",
       "  'thanks',\n",
       "  'jan',\n",
       "  'premium',\n",
       "  'situate',\n",
       "  'apartment',\n",
       "  'place',\n",
       "  'big',\n",
       "  'quiet',\n",
       "  'functional',\n",
       "  'also',\n",
       "  'situate',\n",
       "  'perfect',\n",
       "  'neighbourhood',\n",
       "  'jan',\n",
       "  'welcome',\n",
       "  'host',\n",
       "  'eager',\n",
       "  'help',\n",
       "  'need',\n",
       "  'provide',\n",
       "  'kind',\n",
       "  'information',\n",
       "  'also',\n",
       "  'good',\n",
       "  'advice',\n",
       "  'biergarten'],\n",
       " ['great',\n",
       "  'location',\n",
       "  'close',\n",
       "  'mauerpark',\n",
       "  'kastanienallee',\n",
       "  'rosenthaler',\n",
       "  'platz',\n",
       "  'lot',\n",
       "  'bar',\n",
       "  'restaurant',\n",
       "  'nearby',\n",
       "  'jan',\n",
       "  'friendly',\n",
       "  'service',\n",
       "  'mind'],\n",
       " ['apartment',\n",
       "  'well',\n",
       "  'locate',\n",
       "  'close',\n",
       "  'everything',\n",
       "  'supermarket',\n",
       "  'transport',\n",
       "  'city',\n",
       "  'center',\n",
       "  'quiet',\n",
       "  'night',\n",
       "  'apartment',\n",
       "  'locate',\n",
       "  'inside',\n",
       "  'building',\n",
       "  'basic',\n",
       "  'equipment',\n",
       "  'one',\n",
       "  'week',\n",
       "  'stay',\n",
       "  'jan',\n",
       "  'super',\n",
       "  'accessible',\n",
       "  'nice',\n",
       "  'always',\n",
       "  'available']]"
      ]
     },
     "execution_count": 68,
     "metadata": {},
     "output_type": "execute_result"
    }
   ],
   "source": [
    "lemmatizedTokenizedEnglishReviewsWithoutStopWords = remove_stop_words(\n",
    "    lemmatizedTokenizedEnglishReviews, stopWords)\n",
    "lemmatizedTokenizedEnglishReviewsWithoutStopWords[:5]"
   ]
  },
  {
   "cell_type": "markdown",
   "metadata": {},
   "source": [
    "### 5.2 Bigrams generation"
   ]
  },
  {
   "cell_type": "code",
   "execution_count": 69,
   "metadata": {
    "pycharm": {
     "name": "#%%\n"
    }
   },
   "outputs": [
    {
     "data": {
      "text/plain": [
       "['jan',\n",
       " 'friendly',\n",
       " 'welcome',\n",
       " 'host',\n",
       " 'apartment',\n",
       " 'great',\n",
       " 'area',\n",
       " 'sooo',\n",
       " 'amaze',\n",
       " 'lot',\n",
       " 'nice',\n",
       " 'cafe',\n",
       " 'shop',\n",
       " 'enjoy',\n",
       " 'time',\n",
       " 'lot']"
      ]
     },
     "execution_count": 69,
     "metadata": {},
     "output_type": "execute_result"
    }
   ],
   "source": [
    "phrasesWithoutStopWords = Phrases(lemmatizedTokenizedEnglishReviewsWithoutStopWords,\n",
    "                                  min_count=3,\n",
    "                                  progress_per=50000)\n",
    "\n",
    "bigramWithoutStopWords = Phraser(phrasesWithoutStopWords)\n",
    "\n",
    "bigramReviewsWithoutStopWords = bigramWithoutStopWords[\n",
    "    lemmatizedTokenizedEnglishReviewsWithoutStopWords]\n",
    "\n",
    "bigramReviewsWithoutStopWords[0]"
   ]
  },
  {
   "cell_type": "code",
   "execution_count": 70,
   "metadata": {
    "pycharm": {
     "name": "#%%\n"
    }
   },
   "outputs": [
    {
     "data": {
      "text/plain": [
       "64487"
      ]
     },
     "execution_count": 70,
     "metadata": {},
     "output_type": "execute_result"
    }
   ],
   "source": [
    "dictWordFreq = defaultdict(int)\n",
    "for review in bigramReviewsWithoutStopWords:\n",
    "    for i in review:\n",
    "        dictWordFreq[i] += 1\n",
    "\n",
    "len(dictWordFreq)"
   ]
  },
  {
   "cell_type": "code",
   "execution_count": 71,
   "metadata": {
    "pycharm": {
     "name": "#%%\n"
    }
   },
   "outputs": [
    {
     "data": {
      "text/plain": [
       "['great',\n",
       " 'apartment',\n",
       " 'stay',\n",
       " 'place',\n",
       " 'berlin',\n",
       " 'nice',\n",
       " 'location',\n",
       " 'host',\n",
       " 'clean',\n",
       " 'good']"
      ]
     },
     "execution_count": 71,
     "metadata": {},
     "output_type": "execute_result"
    }
   ],
   "source": [
    "sorted(dictWordFreq, key=dictWordFreq.get, reverse=True)[:10]"
   ]
  },
  {
   "cell_type": "markdown",
   "metadata": {},
   "source": [
    "### 5.3 Word2Vec model"
   ]
  },
  {
   "cell_type": "code",
   "execution_count": 72,
   "metadata": {
    "pycharm": {
     "name": "#%%\n"
    }
   },
   "outputs": [],
   "source": [
    "if os.path.exists('word2vec_no_stopwords.model'):\n",
    "    w2vModelWithoutStopWords = Word2Vec.load('word2vec_no_stopwords.model')\n",
    "else:\n",
    "    w2vModelWithoutStopWords = Word2Vec(min_count=20,\n",
    "                                 window=4,\n",
    "                                 vector_size=300,\n",
    "                                 sample=6e-5,\n",
    "                                 alpha=0.03,\n",
    "                                 min_alpha=0.0007,\n",
    "                                 negative=20,\n",
    "                                 workers=4)\n",
    "\n",
    "    t = time()\n",
    "    w2vModelWithoutStopWords.build_vocab(bigramReviewsWithoutStopWords, progress_per=10000)\n",
    "    print('Time to build vocab: {} mins'.format(round((time() - t) / 60, 2)))\n",
    "\n",
    "    t = time()\n",
    "    w2vModelWithoutStopWords.train(bigramReviewsWithoutStopWords,\n",
    "                                   total_examples=w2vModelWithoutStopWords.corpus_count,\n",
    "                                   epochs=30,\n",
    "                                   report_delay=1)\n",
    "    print('Time to train the model: {} mins'.format(round((time() - t) / 60, 2)))\n",
    "\n",
    "    w2vModelWithoutStopWords.save(\"word2vec_no_stopwords.model\")"
   ]
  },
  {
   "cell_type": "code",
   "execution_count": 73,
   "metadata": {
    "pycharm": {
     "name": "#%%\n"
    }
   },
   "outputs": [
    {
     "data": {
      "text/plain": [
       "[('flat', 0.6878382563591003),\n",
       " ('spacious', 0.4964258074760437),\n",
       " ('modern', 0.48108017444610596),\n",
       " ('studio', 0.4650469124317169),\n",
       " ('clean', 0.4501889944076538),\n",
       " ('comfortably_furnish', 0.38306912779808044),\n",
       " ('building', 0.3798222839832306),\n",
       " ('bright', 0.377280056476593),\n",
       " ('modern_furnishing', 0.37452903389930725),\n",
       " ('beautifully_appoint', 0.37319716811180115)]"
      ]
     },
     "execution_count": 73,
     "metadata": {},
     "output_type": "execute_result"
    }
   ],
   "source": [
    "w2vModelWithoutStopWords.wv.most_similar(positive=[\"apartment\"])"
   ]
  },
  {
   "cell_type": "markdown",
   "metadata": {},
   "source": [
    "### 5.4 Clustering model"
   ]
  },
  {
   "cell_type": "code",
   "execution_count": 74,
   "metadata": {
    "pycharm": {
     "name": "#%%\n"
    }
   },
   "outputs": [
    {
     "data": {
      "text/plain": [
       "KMeans(max_iter=1000, n_clusters=2, n_init=50, random_state=42)"
      ]
     },
     "execution_count": 74,
     "metadata": {},
     "output_type": "execute_result"
    }
   ],
   "source": [
    "kmeansModel2Clusters = KMeans(n_clusters=2, max_iter=1000, random_state=42, n_init=50)\n",
    "kmeansModel2Clusters.fit(X=w2vModelWithoutStopWords.wv.vectors.astype('double'))"
   ]
  },
  {
   "cell_type": "code",
   "execution_count": 75,
   "metadata": {
    "pycharm": {
     "name": "#%%\n"
    }
   },
   "outputs": [
    {
     "data": {
      "text/plain": [
       "[('due_lack', 0.6634340882301331),\n",
       " ('wire', 0.660079300403595),\n",
       " ('useless', 0.636574387550354),\n",
       " ('unacceptable', 0.6353410482406616),\n",
       " ('rug', 0.6306374073028564),\n",
       " ('take_trash', 0.6300591826438904),\n",
       " ('filthy', 0.6290209293365479),\n",
       " ('leak', 0.6218292117118835),\n",
       " ('trap', 0.6210276484489441),\n",
       " ('smelly', 0.6185833811759949)]"
      ]
     },
     "execution_count": 75,
     "metadata": {},
     "output_type": "execute_result"
    }
   ],
   "source": [
    "w2vModelWithoutStopWords.wv.similar_by_vector(kmeansModel2Clusters.cluster_centers_[0],\n",
    "                                              topn=10,\n",
    "                                              restrict_vocab=None)"
   ]
  },
  {
   "cell_type": "code",
   "execution_count": 76,
   "metadata": {
    "pycharm": {
     "name": "#%%\n"
    }
   },
   "outputs": [],
   "source": [
    "negativeClusterIndex = 0"
   ]
  },
  {
   "cell_type": "code",
   "execution_count": 77,
   "metadata": {
    "pycharm": {
     "name": "#%%\n"
    }
   },
   "outputs": [
    {
     "data": {
      "text/html": [
       "<div>\n",
       "<style scoped>\n",
       "    .dataframe tbody tr th:only-of-type {\n",
       "        vertical-align: middle;\n",
       "    }\n",
       "\n",
       "    .dataframe tbody tr th {\n",
       "        vertical-align: top;\n",
       "    }\n",
       "\n",
       "    .dataframe thead th {\n",
       "        text-align: right;\n",
       "    }\n",
       "</style>\n",
       "<table border=\"1\" class=\"dataframe\">\n",
       "  <thead>\n",
       "    <tr style=\"text-align: right;\">\n",
       "      <th></th>\n",
       "      <th>words</th>\n",
       "      <th>vectors</th>\n",
       "      <th>cluster</th>\n",
       "    </tr>\n",
       "  </thead>\n",
       "  <tbody>\n",
       "    <tr>\n",
       "      <th>0</th>\n",
       "      <td>great</td>\n",
       "      <td>[0.021736015, -0.09696648, -0.20334733, 0.3184...</td>\n",
       "      <td>1</td>\n",
       "    </tr>\n",
       "    <tr>\n",
       "      <th>1</th>\n",
       "      <td>apartment</td>\n",
       "      <td>[0.09413033, -0.20562932, -0.09986646, -0.0815...</td>\n",
       "      <td>1</td>\n",
       "    </tr>\n",
       "    <tr>\n",
       "      <th>2</th>\n",
       "      <td>stay</td>\n",
       "      <td>[-0.04194155, 0.27263644, -0.30879694, -0.4886...</td>\n",
       "      <td>1</td>\n",
       "    </tr>\n",
       "    <tr>\n",
       "      <th>3</th>\n",
       "      <td>place</td>\n",
       "      <td>[0.1171688, -0.45740342, -0.18468466, 0.219762...</td>\n",
       "      <td>1</td>\n",
       "    </tr>\n",
       "    <tr>\n",
       "      <th>4</th>\n",
       "      <td>berlin</td>\n",
       "      <td>[-0.062057998, 0.043246496, -0.19278, -0.67646...</td>\n",
       "      <td>1</td>\n",
       "    </tr>\n",
       "  </tbody>\n",
       "</table>\n",
       "</div>"
      ],
      "text/plain": [
       "       words                                            vectors  cluster\n",
       "0      great  [0.021736015, -0.09696648, -0.20334733, 0.3184...        1\n",
       "1  apartment  [0.09413033, -0.20562932, -0.09986646, -0.0815...        1\n",
       "2       stay  [-0.04194155, 0.27263644, -0.30879694, -0.4886...        1\n",
       "3      place  [0.1171688, -0.45740342, -0.18468466, 0.219762...        1\n",
       "4     berlin  [-0.062057998, 0.043246496, -0.19278, -0.67646...        1"
      ]
     },
     "execution_count": 77,
     "metadata": {},
     "output_type": "execute_result"
    }
   ],
   "source": [
    "dfWords2ClustersWithoutStopWords = pd.DataFrame(\n",
    "    w2vModelWithoutStopWords.wv.key_to_index.keys())\n",
    "\n",
    "dfWords2ClustersWithoutStopWords.columns = ['words']\n",
    "\n",
    "dfWords2ClustersWithoutStopWords['vectors'] = \\\n",
    "    dfWords2ClustersWithoutStopWords['words'].apply(\n",
    "        lambda x: w2vModelWithoutStopWords.wv[f'{x}'])\n",
    "\n",
    "dfWords2ClustersWithoutStopWords['cluster'] = \\\n",
    "    dfWords2ClustersWithoutStopWords['vectors'].apply(\n",
    "        lambda x: kmeansModel2Clusters.predict([np.array(x)]))\n",
    "\n",
    "dfWords2ClustersWithoutStopWords['cluster'] = \\\n",
    "    dfWords2ClustersWithoutStopWords['cluster'].apply(\n",
    "        lambda x: x[0])\n",
    "\n",
    "dfWords2ClustersWithoutStopWords.head()"
   ]
  },
  {
   "cell_type": "code",
   "execution_count": 78,
   "metadata": {
    "pycharm": {
     "name": "#%%\n"
    }
   },
   "outputs": [
    {
     "data": {
      "text/html": [
       "<div>\n",
       "<style scoped>\n",
       "    .dataframe tbody tr th:only-of-type {\n",
       "        vertical-align: middle;\n",
       "    }\n",
       "\n",
       "    .dataframe tbody tr th {\n",
       "        vertical-align: top;\n",
       "    }\n",
       "\n",
       "    .dataframe thead th {\n",
       "        text-align: right;\n",
       "    }\n",
       "</style>\n",
       "<table border=\"1\" class=\"dataframe\">\n",
       "  <thead>\n",
       "    <tr style=\"text-align: right;\">\n",
       "      <th></th>\n",
       "      <th>words</th>\n",
       "      <th>vectors</th>\n",
       "      <th>cluster</th>\n",
       "      <th>cluster_value</th>\n",
       "      <th>closeness_score</th>\n",
       "      <th>sentiment_coeff</th>\n",
       "    </tr>\n",
       "  </thead>\n",
       "  <tbody>\n",
       "    <tr>\n",
       "      <th>11</th>\n",
       "      <td>room</td>\n",
       "      <td>[-0.1289804, -0.47577977, 0.45509025, 0.071285...</td>\n",
       "      <td>0</td>\n",
       "      <td>-1</td>\n",
       "      <td>0.135719</td>\n",
       "      <td>-0.135719</td>\n",
       "    </tr>\n",
       "    <tr>\n",
       "      <th>18</th>\n",
       "      <td>comfortable</td>\n",
       "      <td>[-0.105109595, -0.28582796, 0.23227535, -0.098...</td>\n",
       "      <td>0</td>\n",
       "      <td>-1</td>\n",
       "      <td>0.139571</td>\n",
       "      <td>-0.139571</td>\n",
       "    </tr>\n",
       "    <tr>\n",
       "      <th>40</th>\n",
       "      <td>like</td>\n",
       "      <td>[0.2838839, -0.5819455, 0.27681106, -0.0084737...</td>\n",
       "      <td>0</td>\n",
       "      <td>-1</td>\n",
       "      <td>0.132852</td>\n",
       "      <td>-0.132852</td>\n",
       "    </tr>\n",
       "    <tr>\n",
       "      <th>45</th>\n",
       "      <td>one</td>\n",
       "      <td>[-0.7768008, -0.64739054, 0.637206, -0.629718,...</td>\n",
       "      <td>0</td>\n",
       "      <td>-1</td>\n",
       "      <td>0.162380</td>\n",
       "      <td>-0.162380</td>\n",
       "    </tr>\n",
       "    <tr>\n",
       "      <th>46</th>\n",
       "      <td>bed</td>\n",
       "      <td>[-0.37433314, -0.19291034, 0.44292012, -0.3003...</td>\n",
       "      <td>0</td>\n",
       "      <td>-1</td>\n",
       "      <td>0.107758</td>\n",
       "      <td>-0.107758</td>\n",
       "    </tr>\n",
       "  </tbody>\n",
       "</table>\n",
       "</div>"
      ],
      "text/plain": [
       "          words                                            vectors  cluster  \\\n",
       "11         room  [-0.1289804, -0.47577977, 0.45509025, 0.071285...        0   \n",
       "18  comfortable  [-0.105109595, -0.28582796, 0.23227535, -0.098...        0   \n",
       "40         like  [0.2838839, -0.5819455, 0.27681106, -0.0084737...        0   \n",
       "45          one  [-0.7768008, -0.64739054, 0.637206, -0.629718,...        0   \n",
       "46          bed  [-0.37433314, -0.19291034, 0.44292012, -0.3003...        0   \n",
       "\n",
       "    cluster_value  closeness_score  sentiment_coeff  \n",
       "11             -1         0.135719        -0.135719  \n",
       "18             -1         0.139571        -0.139571  \n",
       "40             -1         0.132852        -0.132852  \n",
       "45             -1         0.162380        -0.162380  \n",
       "46             -1         0.107758        -0.107758  "
      ]
     },
     "execution_count": 78,
     "metadata": {},
     "output_type": "execute_result"
    }
   ],
   "source": [
    "dfWords2ClustersWithoutStopWords['cluster_value'] = [\n",
    "    -1 if i==negativeClusterIndex else 1\n",
    "    for i in dfWords2ClustersWithoutStopWords['cluster']]\n",
    "\n",
    "dfWords2ClustersWithoutStopWords['closeness_score'] = \\\n",
    "    dfWords2ClustersWithoutStopWords.apply(\n",
    "        lambda x: 1/(kmeansModel2Clusters.transform([x.vectors]).min()),\n",
    "        axis=1)\n",
    "\n",
    "dfWords2ClustersWithoutStopWords['sentiment_coeff'] = \\\n",
    "    dfWords2ClustersWithoutStopWords['closeness_score'] * \\\n",
    "    dfWords2ClustersWithoutStopWords['cluster_value']\n",
    "\n",
    "dfWords2ClustersWithoutStopWords[\n",
    "    dfWords2ClustersWithoutStopWords['cluster_value'] == -1].head()"
   ]
  },
  {
   "cell_type": "markdown",
   "metadata": {},
   "source": [
    "### 5.5 TF-IDF"
   ]
  },
  {
   "cell_type": "code",
   "execution_count": 79,
   "metadata": {
    "pycharm": {
     "name": "#%%\n"
    }
   },
   "outputs": [
    {
     "data": {
      "text/html": [
       "<div>\n",
       "<style scoped>\n",
       "    .dataframe tbody tr th:only-of-type {\n",
       "        vertical-align: middle;\n",
       "    }\n",
       "\n",
       "    .dataframe tbody tr th {\n",
       "        vertical-align: top;\n",
       "    }\n",
       "\n",
       "    .dataframe thead th {\n",
       "        text-align: right;\n",
       "    }\n",
       "</style>\n",
       "<table border=\"1\" class=\"dataframe\">\n",
       "  <thead>\n",
       "    <tr style=\"text-align: right;\">\n",
       "      <th></th>\n",
       "      <th>comments</th>\n",
       "    </tr>\n",
       "  </thead>\n",
       "  <tbody>\n",
       "    <tr>\n",
       "      <th>0</th>\n",
       "      <td>jan friendly welcome host apartment great area...</td>\n",
       "    </tr>\n",
       "    <tr>\n",
       "      <th>1</th>\n",
       "      <td>really nice area food park transport perfect</td>\n",
       "    </tr>\n",
       "    <tr>\n",
       "      <th>2</th>\n",
       "      <td>nice stay berlin thanks jan premium situate ap...</td>\n",
       "    </tr>\n",
       "    <tr>\n",
       "      <th>3</th>\n",
       "      <td>great location close mauerpark kastanienallee ...</td>\n",
       "    </tr>\n",
       "    <tr>\n",
       "      <th>4</th>\n",
       "      <td>apartment well locate close everything superma...</td>\n",
       "    </tr>\n",
       "  </tbody>\n",
       "</table>\n",
       "</div>"
      ],
      "text/plain": [
       "                                            comments\n",
       "0  jan friendly welcome host apartment great area...\n",
       "1       really nice area food park transport perfect\n",
       "2  nice stay berlin thanks jan premium situate ap...\n",
       "3  great location close mauerpark kastanienallee ...\n",
       "4  apartment well locate close everything superma..."
      ]
     },
     "execution_count": 79,
     "metadata": {},
     "output_type": "execute_result"
    }
   ],
   "source": [
    "dfCleanedReviewsWithoutStopWords = pd.DataFrame(\n",
    "    [' '.join(review) for review in lemmatizedTokenizedEnglishReviewsWithoutStopWords],\n",
    "    columns=['comments'])\n",
    "\n",
    "dfCleanedReviewsWithoutStopWords.head()"
   ]
  },
  {
   "cell_type": "code",
   "execution_count": 80,
   "metadata": {
    "pycharm": {
     "name": "#%%\n"
    }
   },
   "outputs": [],
   "source": [
    "tfidfWithoutStopWords = TfidfVectorizer(norm=None)\n",
    "transformed = tfidfWithoutStopWords.fit_transform(\n",
    "    dfCleanedReviewsWithoutStopWords['comments'].tolist())\n",
    "features = pd.Series(tfidfWithoutStopWords.get_feature_names())"
   ]
  },
  {
   "cell_type": "code",
   "execution_count": 81,
   "metadata": {
    "pycharm": {
     "name": "#%%\n"
    }
   },
   "outputs": [],
   "source": [
    "tfidfScoresWithoutStopWords = dfCleanedReviewsWithoutStopWords.apply(\n",
    "    lambda x: replace_tfidf_words(x, transformed, features), axis=1)"
   ]
  },
  {
   "cell_type": "markdown",
   "metadata": {
    "pycharm": {
     "name": "#%% md\n"
    }
   },
   "source": [
    "### 5.6 Closeness score"
   ]
  },
  {
   "cell_type": "code",
   "execution_count": 82,
   "metadata": {
    "pycharm": {
     "name": "#%%\n"
    }
   },
   "outputs": [],
   "source": [
    "dictSentiment2ClustersWithoutStopWords = dict(zip(\n",
    "    dfWords2ClustersWithoutStopWords['words'].values,\n",
    "    dfWords2ClustersWithoutStopWords['sentiment_coeff'].values))"
   ]
  },
  {
   "cell_type": "code",
   "execution_count": 83,
   "metadata": {
    "pycharm": {
     "name": "#%%\n"
    }
   },
   "outputs": [],
   "source": [
    "closenessScores2ClustersWithoutStopWords = \\\n",
    "    dfCleanedReviewsWithoutStopWords['comments'].apply(\n",
    "        lambda x: list(map(\n",
    "            lambda y: replace_sentiment_words(y, dictSentiment2ClustersWithoutStopWords),\n",
    "            x.split())))"
   ]
  },
  {
   "cell_type": "markdown",
   "metadata": {
    "pycharm": {
     "name": "#%% md\n"
    }
   },
   "source": [
    "### 5.7 Sentiment score computation"
   ]
  },
  {
   "cell_type": "code",
   "execution_count": 84,
   "metadata": {
    "pycharm": {
     "name": "#%%\n"
    }
   },
   "outputs": [
    {
     "data": {
      "text/html": [
       "<div>\n",
       "<style scoped>\n",
       "    .dataframe tbody tr th:only-of-type {\n",
       "        vertical-align: middle;\n",
       "    }\n",
       "\n",
       "    .dataframe tbody tr th {\n",
       "        vertical-align: top;\n",
       "    }\n",
       "\n",
       "    .dataframe thead th {\n",
       "        text-align: right;\n",
       "    }\n",
       "</style>\n",
       "<table border=\"1\" class=\"dataframe\">\n",
       "  <thead>\n",
       "    <tr style=\"text-align: right;\">\n",
       "      <th></th>\n",
       "      <th>sentiment_coeff</th>\n",
       "      <th>tfidf_scores</th>\n",
       "      <th>review</th>\n",
       "      <th>sentiment_rate</th>\n",
       "      <th>prediction</th>\n",
       "    </tr>\n",
       "  </thead>\n",
       "  <tbody>\n",
       "    <tr>\n",
       "      <th>0</th>\n",
       "      <td>[0.08274272026931886, 0.14438650901133268, 0.1...</td>\n",
       "      <td>[6.45518200427728, 3.112217967778944, 3.555659...</td>\n",
       "      <td>jan friendly welcome host apartment great area...</td>\n",
       "      <td>8.102213</td>\n",
       "      <td>1</td>\n",
       "    </tr>\n",
       "    <tr>\n",
       "      <th>1</th>\n",
       "      <td>[0.21196840433660452, 0.17771365086007282, 0.1...</td>\n",
       "      <td>[2.6419108992866036, 2.1582410989662106, 3.154...</td>\n",
       "      <td>really nice area food park transport perfect</td>\n",
       "      <td>2.926502</td>\n",
       "      <td>1</td>\n",
       "    </tr>\n",
       "    <tr>\n",
       "      <th>2</th>\n",
       "      <td>[0.17771365086007282, 0.17679454909616302, 0.1...</td>\n",
       "      <td>[2.1582410989662106, 1.8573260246038177, 2.148...</td>\n",
       "      <td>nice stay berlin thanks jan premium situate ap...</td>\n",
       "      <td>15.925815</td>\n",
       "      <td>1</td>\n",
       "    </tr>\n",
       "    <tr>\n",
       "      <th>3</th>\n",
       "      <td>[0.2001186764725056, 0.16337263418936798, 0.10...</td>\n",
       "      <td>[1.8501655371557688, 2.159718877149754, 2.7123...</td>\n",
       "      <td>great location close mauerpark kastanienallee ...</td>\n",
       "      <td>4.887016</td>\n",
       "      <td>1</td>\n",
       "    </tr>\n",
       "    <tr>\n",
       "      <th>4</th>\n",
       "      <td>[0.18721176816409277, 0.1347721306573096, 0.11...</td>\n",
       "      <td>[3.927308953862587, 2.8408487877668502, 6.4401...</td>\n",
       "      <td>apartment well locate close everything superma...</td>\n",
       "      <td>5.763220</td>\n",
       "      <td>1</td>\n",
       "    </tr>\n",
       "  </tbody>\n",
       "</table>\n",
       "</div>"
      ],
      "text/plain": [
       "                                     sentiment_coeff  \\\n",
       "0  [0.08274272026931886, 0.14438650901133268, 0.1...   \n",
       "1  [0.21196840433660452, 0.17771365086007282, 0.1...   \n",
       "2  [0.17771365086007282, 0.17679454909616302, 0.1...   \n",
       "3  [0.2001186764725056, 0.16337263418936798, 0.10...   \n",
       "4  [0.18721176816409277, 0.1347721306573096, 0.11...   \n",
       "\n",
       "                                        tfidf_scores  \\\n",
       "0  [6.45518200427728, 3.112217967778944, 3.555659...   \n",
       "1  [2.6419108992866036, 2.1582410989662106, 3.154...   \n",
       "2  [2.1582410989662106, 1.8573260246038177, 2.148...   \n",
       "3  [1.8501655371557688, 2.159718877149754, 2.7123...   \n",
       "4  [3.927308953862587, 2.8408487877668502, 6.4401...   \n",
       "\n",
       "                                              review  sentiment_rate  \\\n",
       "0  jan friendly welcome host apartment great area...        8.102213   \n",
       "1       really nice area food park transport perfect        2.926502   \n",
       "2  nice stay berlin thanks jan premium situate ap...       15.925815   \n",
       "3  great location close mauerpark kastanienallee ...        4.887016   \n",
       "4  apartment well locate close everything superma...        5.763220   \n",
       "\n",
       "   prediction  \n",
       "0           1  \n",
       "1           1  \n",
       "2           1  \n",
       "3           1  \n",
       "4           1  "
      ]
     },
     "execution_count": 84,
     "metadata": {},
     "output_type": "execute_result"
    }
   ],
   "source": [
    "dfSentiment2ClustersTfidfReviewsWithoutStopWords = \\\n",
    "    pd.DataFrame([closenessScores2ClustersWithoutStopWords,\n",
    "                  tfidfScoresWithoutStopWords,\n",
    "                  dfCleanedReviewsWithoutStopWords['comments']]).T\n",
    "\n",
    "dfSentiment2ClustersTfidfReviewsWithoutStopWords.columns = \\\n",
    "    ['sentiment_coeff', 'tfidf_scores', 'review']\n",
    "\n",
    "dfSentiment2ClustersTfidfReviewsWithoutStopWords['sentiment_rate'] = \\\n",
    "    dfSentiment2ClustersTfidfReviewsWithoutStopWords.apply(\n",
    "        lambda x: np.array(x.loc['sentiment_coeff']) @ np.array(x.loc['tfidf_scores']),\n",
    "        axis=1)\n",
    "\n",
    "dfSentiment2ClustersTfidfReviewsWithoutStopWords['prediction'] =\\\n",
    "    (dfSentiment2ClustersTfidfReviewsWithoutStopWords['sentiment_rate'] > 0)\\\n",
    "        .astype('int8')\n",
    "\n",
    "dfSentiment2ClustersTfidfReviewsWithoutStopWords.head()"
   ]
  },
  {
   "cell_type": "code",
   "execution_count": 85,
   "metadata": {
    "pycharm": {
     "name": "#%%\n"
    }
   },
   "outputs": [
    {
     "name": "stdout",
     "output_type": "stream",
     "text": [
      "Top-5 negative reviews:\n"
     ]
    },
    {
     "data": {
      "text/plain": [
       "['big flat heart neuk lln min station nice flatmate amazing room day everything fine flat mate nice reccomend every website hide airbnb sure like thanks benjamin sonia luca website hide airbnb website hide airbnb website hide airbnb website hide airbnb website hide airbnb website hide airbnb website hide airbnb website hide airbnb website hide airbnb website hide airbnb website hide airbnb website hide airbnb website hide airbnb website hide airbnb website hide airbnb website hide airbnb website hide airbnb website hide airbnb website hide airbnb website hide airbnb website hide airbnb website hide airbnb website hide airbnb website hide airbnb',\n",
       " 'one word mouse get apartment find mice run living room bedroom hysteria contact host benjamin respond right away tell us sunday know could nothing could check problem really mice problem tell family small child berlin high season would go tell would contact airbnb change apartment look hotel back forth say would borrow cat friend seem like good idea terrible problem lend pet stranger felt like short story bring two cat apartment dealt immediate emergency mouse run around tell cat ingenious idea okay untenable situation handle mouse cat one cat actually actively go mouse cat well behave pleasant mean need care get fee incessant nudging feed vacation benjamin home rental apartment business fair mouse feces remain unabated benjamin evidently come apartment without knowledge except alert us bring exterminator exterminator say apparently entire building contaminate mouse set poison traps host exterminator discuss mouse entry point observed location mouse droppings throughout apartment disgust contact site move immediately nothing available could find available airbnb site hotel space explain host see mouse contact airbnb ask new apartment hop could help us slow respond get offer help us find something midnight day leave nd day send picture mouse droppings next trap reveal fact apartment clean disinfect locate mouse since stick mouse airbnb suggest refund two night accept offer pay one night suggestion tell would strongly prefer different apartment disgust experience come home find threaten note host attack complain mouse stay like choice note contain incendiary language normally associate middle th century overwhelm',\n",
       " 'good apartment good location unfortunately leave key inside room leave pay euro week also pay euro extra open door bil live berlin neighbor take care apartment check ask return key face face leave tell day would leave must put key mailbox bil leave nobody mention us one key berlin one week forget put key send message ask bil half hour leave first mistake ask early half hour reply catch flight leave key table every time rent apartment airbnb second mistake bang door appear angry first time tell us one key would pay lot company help open door moment feel guilty promise pay fee open door leave way airport get message bil really annoy give great deal leave key inside cost lot thank guilty go immediately even complain make feel uncomfortable still try understand situation sent message explain reason promise pay open door second day get bill bil cost us euro get door open please transfer amount account phone number hide airbnb hi bil agree trouble begin us still pay euro complain annoy us think mr one key annoy thing happen lucky leave key indoor leave package key together room pay euro lose package flight still rent apartment airbnb mention risk never ever forget key door lose key otherwise promise back room pay euro open door last barcelona hide airbnb account transfer euro immediately otherwise please wait till june back home go bank transfer money',\n",
       " 'find marcos unit less expect airbnb reason front door complex lock front door unit break makeshift repair make door jamb could look door jamb door close make party comfortable night bed spread inside unit like flop house living room real bedroom room recently split half new wall last bed end hall adult couple stay night good thing family two room door outlet work second room split room half floor lamp light switch light living room bed kitchen table ceiling light work till play bite flicker night extension cord plug together run along floor across door way real room unit power tv tv extension cord hang floor foot reach tv plug little dangerous plus year old guest sit except kitchen table bed hook hang coat dresser couch luggage rack nothing except twin bed kitchen table seated people provide fitted mattress sheet blanket pillow cover one towel per guest would recommend cover mattress pillow see stain uncover one hand towel would order wash cloth bring house shoe walk around also floor cover fine grit shower leak bathroom floor puddle sink first shower morning stand puddle find unit uncomfortable group people people would fine stomach condition super host resort city united state year would embarrass call airbnb create many airbnb unit people california take pride unit place remind aunt grow ddr sorry marco get zero',\n",
       " 'stay berlin fantastic city dynamic alot offer especially christopher street day stay rosina place ok price fair berlin guess though apartment bit far important sight also issue awkward exchange worth mention communication book place week advance message never respond message day arrival make sure nothing finally respond call day ok checking check time flexible hang around city luggage able enter appartment apartment door super challenging unlock apartment door neighbour try help even couldnt minute key fidget finally open rosina could mention hand key fine guess learn hard way use toilet rosina show around appartment request use toilet pee pee sit thought bit extra since usually messy always clean know kind experience past say ok late day remind come room ask use toilet say yes ask sit instruct say yes awkward go explain ask everyone culture like us china normal men pee stand germany pee sit know sound strange apparently go germany lol think inquire pee bit intrusive perhaps unecessary maybe dude pee floor past try extra careful get get annoyed little bit education germany thing differently bear raise germany live year travell alot fair say know thing civilized culture know pee clean respectful airbnb host like common sense hey common sense sometimes alwasy common cat amaze make feel good']"
      ]
     },
     "execution_count": 85,
     "metadata": {},
     "output_type": "execute_result"
    }
   ],
   "source": [
    "dfNegativeSentiment = dfSentiment2ClustersTfidfReviewsWithoutStopWords[\n",
    "    dfSentiment2ClustersTfidfReviewsWithoutStopWords['prediction'] == 0].sort_values(\n",
    "        by=['sentiment_rate'])\n",
    "\n",
    "print('Top-5 negative reviews:')\n",
    "dfNegativeSentiment['review'].head().tolist()"
   ]
  },
  {
   "cell_type": "code",
   "execution_count": 86,
   "metadata": {
    "pycharm": {
     "name": "#%%\n"
    }
   },
   "outputs": [],
   "source": [
    "# dfSentiment2ClustersTfidfReviewsWithoutStopWords.to_csv(\n",
    "#     'sentiment_dataset_2_clusters_no_stopwords.csv',\n",
    "#     sep=',', index=False, header=True)"
   ]
  },
  {
   "cell_type": "markdown",
   "metadata": {
    "pycharm": {
     "name": "#%% md\n"
    }
   },
   "source": [
    "### 5.8 TextBlob"
   ]
  },
  {
   "cell_type": "code",
   "execution_count": 87,
   "metadata": {
    "pycharm": {
     "name": "#%%\n"
    }
   },
   "outputs": [
    {
     "data": {
      "text/plain": [
       "0    0.595000\n",
       "1    0.800000\n",
       "2    0.487500\n",
       "3    0.587500\n",
       "4    0.229762\n",
       "Name: comments, dtype: float64"
      ]
     },
     "execution_count": 87,
     "metadata": {},
     "output_type": "execute_result"
    }
   ],
   "source": [
    "textblobSentimentWithoutStopWords = dfCleanedReviewsWithoutStopWords['comments'].apply(\n",
    "    lambda x: TextBlob(x).sentiment.polarity)\n",
    "\n",
    "textblobSentimentWithoutStopWords.head()"
   ]
  },
  {
   "cell_type": "code",
   "execution_count": 88,
   "metadata": {
    "pycharm": {
     "name": "#%%\n"
    }
   },
   "outputs": [
    {
     "data": {
      "text/html": [
       "<div>\n",
       "<style scoped>\n",
       "    .dataframe tbody tr th:only-of-type {\n",
       "        vertical-align: middle;\n",
       "    }\n",
       "\n",
       "    .dataframe tbody tr th {\n",
       "        vertical-align: top;\n",
       "    }\n",
       "\n",
       "    .dataframe thead th {\n",
       "        text-align: right;\n",
       "    }\n",
       "</style>\n",
       "<table border=\"1\" class=\"dataframe\">\n",
       "  <thead>\n",
       "    <tr style=\"text-align: right;\">\n",
       "      <th></th>\n",
       "      <th>sentiment_coeff</th>\n",
       "      <th>tfidf_scores</th>\n",
       "      <th>review</th>\n",
       "      <th>sentiment_rate</th>\n",
       "      <th>prediction</th>\n",
       "      <th>textblob_sentiment</th>\n",
       "      <th>textblob_prediction</th>\n",
       "    </tr>\n",
       "  </thead>\n",
       "  <tbody>\n",
       "    <tr>\n",
       "      <th>0</th>\n",
       "      <td>[0.08274272026931886, 0.14438650901133268, 0.1...</td>\n",
       "      <td>[6.45518200427728, 3.112217967778944, 3.555659...</td>\n",
       "      <td>jan friendly welcome host apartment great area...</td>\n",
       "      <td>8.102213</td>\n",
       "      <td>1</td>\n",
       "      <td>0.595000</td>\n",
       "      <td>1</td>\n",
       "    </tr>\n",
       "    <tr>\n",
       "      <th>1</th>\n",
       "      <td>[0.21196840433660452, 0.17771365086007282, 0.1...</td>\n",
       "      <td>[2.6419108992866036, 2.1582410989662106, 3.154...</td>\n",
       "      <td>really nice area food park transport perfect</td>\n",
       "      <td>2.926502</td>\n",
       "      <td>1</td>\n",
       "      <td>0.800000</td>\n",
       "      <td>1</td>\n",
       "    </tr>\n",
       "    <tr>\n",
       "      <th>2</th>\n",
       "      <td>[0.17771365086007282, 0.17679454909616302, 0.1...</td>\n",
       "      <td>[2.1582410989662106, 1.8573260246038177, 2.148...</td>\n",
       "      <td>nice stay berlin thanks jan premium situate ap...</td>\n",
       "      <td>15.925815</td>\n",
       "      <td>1</td>\n",
       "      <td>0.487500</td>\n",
       "      <td>1</td>\n",
       "    </tr>\n",
       "    <tr>\n",
       "      <th>3</th>\n",
       "      <td>[0.2001186764725056, 0.16337263418936798, 0.10...</td>\n",
       "      <td>[1.8501655371557688, 2.159718877149754, 2.7123...</td>\n",
       "      <td>great location close mauerpark kastanienallee ...</td>\n",
       "      <td>4.887016</td>\n",
       "      <td>1</td>\n",
       "      <td>0.587500</td>\n",
       "      <td>1</td>\n",
       "    </tr>\n",
       "    <tr>\n",
       "      <th>4</th>\n",
       "      <td>[0.18721176816409277, 0.1347721306573096, 0.11...</td>\n",
       "      <td>[3.927308953862587, 2.8408487877668502, 6.4401...</td>\n",
       "      <td>apartment well locate close everything superma...</td>\n",
       "      <td>5.763220</td>\n",
       "      <td>1</td>\n",
       "      <td>0.229762</td>\n",
       "      <td>1</td>\n",
       "    </tr>\n",
       "  </tbody>\n",
       "</table>\n",
       "</div>"
      ],
      "text/plain": [
       "                                     sentiment_coeff  \\\n",
       "0  [0.08274272026931886, 0.14438650901133268, 0.1...   \n",
       "1  [0.21196840433660452, 0.17771365086007282, 0.1...   \n",
       "2  [0.17771365086007282, 0.17679454909616302, 0.1...   \n",
       "3  [0.2001186764725056, 0.16337263418936798, 0.10...   \n",
       "4  [0.18721176816409277, 0.1347721306573096, 0.11...   \n",
       "\n",
       "                                        tfidf_scores  \\\n",
       "0  [6.45518200427728, 3.112217967778944, 3.555659...   \n",
       "1  [2.6419108992866036, 2.1582410989662106, 3.154...   \n",
       "2  [2.1582410989662106, 1.8573260246038177, 2.148...   \n",
       "3  [1.8501655371557688, 2.159718877149754, 2.7123...   \n",
       "4  [3.927308953862587, 2.8408487877668502, 6.4401...   \n",
       "\n",
       "                                              review  sentiment_rate  \\\n",
       "0  jan friendly welcome host apartment great area...        8.102213   \n",
       "1       really nice area food park transport perfect        2.926502   \n",
       "2  nice stay berlin thanks jan premium situate ap...       15.925815   \n",
       "3  great location close mauerpark kastanienallee ...        4.887016   \n",
       "4  apartment well locate close everything superma...        5.763220   \n",
       "\n",
       "   prediction  textblob_sentiment  textblob_prediction  \n",
       "0           1            0.595000                    1  \n",
       "1           1            0.800000                    1  \n",
       "2           1            0.487500                    1  \n",
       "3           1            0.587500                    1  \n",
       "4           1            0.229762                    1  "
      ]
     },
     "execution_count": 88,
     "metadata": {},
     "output_type": "execute_result"
    }
   ],
   "source": [
    "dfSentiment2ClustersTfidfReviewsWithoutStopWords['textblob_sentiment'] = \\\n",
    "    textblobSentimentWithoutStopWords\n",
    "\n",
    "dfSentiment2ClustersTfidfReviewsWithoutStopWords['textblob_prediction'] = \\\n",
    "    (dfSentiment2ClustersTfidfReviewsWithoutStopWords['textblob_sentiment'] > 0)\\\n",
    "        .astype('int8')\n",
    "\n",
    "dfSentiment2ClustersTfidfReviewsWithoutStopWords.head()"
   ]
  },
  {
   "cell_type": "markdown",
   "metadata": {
    "pycharm": {
     "name": "#%% md\n"
    }
   },
   "source": [
    "### 5.9 Sentiment analysis evaluation"
   ]
  },
  {
   "cell_type": "code",
   "execution_count": 89,
   "metadata": {
    "pycharm": {
     "name": "#%%\n"
    }
   },
   "outputs": [
    {
     "name": "stdout",
     "output_type": "stream",
     "text": [
      "       0       1\n",
      "0   1425    3100\n",
      "1  13517  240725\n",
      "Scores for sentiment analysis with 2 clusters and no stopwords: \n"
     ]
    },
    {
     "data": {
      "text/html": [
       "<div>\n",
       "<style scoped>\n",
       "    .dataframe tbody tr th:only-of-type {\n",
       "        vertical-align: middle;\n",
       "    }\n",
       "\n",
       "    .dataframe tbody tr th {\n",
       "        vertical-align: top;\n",
       "    }\n",
       "\n",
       "    .dataframe thead th {\n",
       "        text-align: right;\n",
       "    }\n",
       "</style>\n",
       "<table border=\"1\" class=\"dataframe\">\n",
       "  <thead>\n",
       "    <tr style=\"text-align: right;\">\n",
       "      <th></th>\n",
       "      <th>scores</th>\n",
       "    </tr>\n",
       "  </thead>\n",
       "  <tbody>\n",
       "    <tr>\n",
       "      <th>accuracy</th>\n",
       "      <td>0.935784</td>\n",
       "    </tr>\n",
       "    <tr>\n",
       "      <th>precision</th>\n",
       "      <td>0.987286</td>\n",
       "    </tr>\n",
       "    <tr>\n",
       "      <th>recall</th>\n",
       "      <td>0.946834</td>\n",
       "    </tr>\n",
       "    <tr>\n",
       "      <th>f1</th>\n",
       "      <td>0.966637</td>\n",
       "    </tr>\n",
       "  </tbody>\n",
       "</table>\n",
       "</div>"
      ],
      "text/plain": [
       "             scores\n",
       "accuracy   0.935784\n",
       "precision  0.987286\n",
       "recall     0.946834\n",
       "f1         0.966637"
      ]
     },
     "execution_count": 89,
     "metadata": {},
     "output_type": "execute_result"
    }
   ],
   "source": [
    "testScores2ClustersWithoutStopWordsSentiment = compute_test_scores(\n",
    "    dfSentiment2ClustersTfidfReviewsWithoutStopWords['prediction'],\n",
    "    dfSentiment2ClustersTfidfReviewsWithoutStopWords['textblob_prediction'])\n",
    "\n",
    "dfTestScores2ClustersWithoutStopWordsSentiment = pd.DataFrame(\n",
    "    [testScores2ClustersWithoutStopWordsSentiment])\n",
    "\n",
    "dfTestScores2ClustersWithoutStopWordsSentiment.columns = \\\n",
    "    ['accuracy', 'precision', 'recall', 'f1']\n",
    "\n",
    "dfTestScores2ClustersWithoutStopWordsSentiment = \\\n",
    "    dfTestScores2ClustersWithoutStopWordsSentiment.T\n",
    "\n",
    "dfTestScores2ClustersWithoutStopWordsSentiment.columns = ['scores']\n",
    "\n",
    "print('Scores for sentiment analysis with 2 clusters and no stopwords: ')\n",
    "dfTestScores2ClustersWithoutStopWordsSentiment"
   ]
  },
  {
   "cell_type": "markdown",
   "metadata": {},
   "source": [
    "The obtained results seem to be very good. Even in this case it is possible to check whether there exists a better value for the number of cluster."
   ]
  },
  {
   "cell_type": "markdown",
   "metadata": {
    "pycharm": {
     "name": "#%% md\n"
    }
   },
   "source": [
    "### 5.10 Clustering evaluation"
   ]
  },
  {
   "cell_type": "code",
   "execution_count": 90,
   "metadata": {
    "pycharm": {
     "name": "#%%\n"
    }
   },
   "outputs": [
    {
     "name": "stdout",
     "output_type": "stream",
     "text": [
      "inertia_ 1019374.8914507161\n",
      "inertia_ 979036.4512069453\n",
      "inertia_ 945731.9965046742\n",
      "inertia_ 928825.8544302889\n",
      "inertia_ 916296.311814165\n",
      "inertia_ 903468.412742547\n",
      "inertia_ 893577.2260768566\n",
      "inertia_ 886675.7141103031\n",
      "inertia_ 879206.5099118422\n",
      "inertia_ 872744.2123647004\n"
     ]
    },
    {
     "data": {
      "image/png": "[encoded data removed]",
      "text/plain": [
       "<Figure size 432x288 with 1 Axes>"
      ]
     },
     "metadata": {
      "needs_background": "light"
     },
     "output_type": "display_data"
    }
   ],
   "source": [
    "kmeans_elbow_method(w2vModelWithoutStopWords.wv.vectors.astype('double'))"
   ]
  },
  {
   "cell_type": "code",
   "execution_count": 91,
   "metadata": {
    "pycharm": {
     "name": "#%%\n"
    }
   },
   "outputs": [
    {
     "name": "stdout",
     "output_type": "stream",
     "text": [
      "For n_clusters = 2 The computed average silhouette_score is : 0.06882298045419695\n",
      "For n_clusters = 3 The computed average silhouette_score is : 0.05184578923038232\n",
      "For n_clusters = 4 The computed average silhouette_score is : 0.0489808665742103\n",
      "For n_clusters = 5 The computed average silhouette_score is : 0.004672535626036191\n",
      "For n_clusters = 6 The computed average silhouette_score is : -0.0008970731786193938\n",
      "For n_clusters = 7 The computed average silhouette_score is : -0.007605956063358059\n",
      "For n_clusters = 8 The computed average silhouette_score is : -0.04694576278840496\n",
      "For n_clusters = 9 The computed average silhouette_score is : -0.04297953670725326\n",
      "For n_clusters = 10 The computed average silhouette_score is : -0.04051978810825676\n"
     ]
    }
   ],
   "source": [
    "rangeClusters = enumerate([2,3,4,5,6,7,8,9,10])\n",
    "kmeans_silhouette(w2vModelWithoutStopWords.wv.vectors.astype('double'), rangeClusters)"
   ]
  },
  {
   "cell_type": "markdown",
   "metadata": {},
   "source": [
    "Even if the Silhouette method shows a worse score with n_clusters = 3 it can be intersting to check how much the model accuracy changes."
   ]
  },
  {
   "cell_type": "markdown",
   "metadata": {},
   "source": [
    "## 6. Sentiment analysis without stop words with 3 clusters"
   ]
  },
  {
   "cell_type": "markdown",
   "metadata": {},
   "source": [
    "The performed steps are the same as before."
   ]
  },
  {
   "cell_type": "markdown",
   "metadata": {
    "pycharm": {
     "name": "#%% md\n"
    }
   },
   "source": [
    "### 6.1 Clustering model"
   ]
  },
  {
   "cell_type": "code",
   "execution_count": 92,
   "metadata": {
    "pycharm": {
     "name": "#%%\n"
    }
   },
   "outputs": [
    {
     "data": {
      "text/plain": [
       "KMeans(max_iter=1000, n_clusters=3, n_init=50, random_state=42)"
      ]
     },
     "execution_count": 92,
     "metadata": {},
     "output_type": "execute_result"
    }
   ],
   "source": [
    "kmeansModel3Clusters = KMeans(n_clusters=3, max_iter=1000, random_state=42, n_init=50)\n",
    "kmeansModel3Clusters.fit(X=w2vModelWithoutStopWords.wv.vectors.astype('double'))"
   ]
  },
  {
   "cell_type": "code",
   "execution_count": 93,
   "metadata": {
    "pycharm": {
     "name": "#%%\n"
    }
   },
   "outputs": [
    {
     "data": {
      "text/plain": [
       "[('wire', 0.6604833006858826),\n",
       " ('due_lack', 0.6506068110466003),\n",
       " ('rug', 0.6456260085105896),\n",
       " ('useless', 0.6366190314292908),\n",
       " ('filthy', 0.6263508796691895),\n",
       " ('smelly', 0.6249639987945557),\n",
       " ('bathroom', 0.6226907968521118),\n",
       " ('leak', 0.6207293272018433),\n",
       " ('unacceptable', 0.6182073950767517),\n",
       " ('tape', 0.6162527203559875)]"
      ]
     },
     "execution_count": 93,
     "metadata": {},
     "output_type": "execute_result"
    }
   ],
   "source": [
    "w2vModelWithoutStopWords.wv.similar_by_vector(\n",
    "    kmeansModel3Clusters.cluster_centers_[2], topn=10, restrict_vocab=None)"
   ]
  },
  {
   "cell_type": "code",
   "execution_count": 94,
   "metadata": {
    "pycharm": {
     "name": "#%%\n"
    }
   },
   "outputs": [],
   "source": [
    "negativeClusterIndex = 2\n",
    "positiveClusterIndex = 0"
   ]
  },
  {
   "cell_type": "code",
   "execution_count": 95,
   "metadata": {
    "pycharm": {
     "name": "#%%\n"
    }
   },
   "outputs": [
    {
     "data": {
      "text/html": [
       "<div>\n",
       "<style scoped>\n",
       "    .dataframe tbody tr th:only-of-type {\n",
       "        vertical-align: middle;\n",
       "    }\n",
       "\n",
       "    .dataframe tbody tr th {\n",
       "        vertical-align: top;\n",
       "    }\n",
       "\n",
       "    .dataframe thead th {\n",
       "        text-align: right;\n",
       "    }\n",
       "</style>\n",
       "<table border=\"1\" class=\"dataframe\">\n",
       "  <thead>\n",
       "    <tr style=\"text-align: right;\">\n",
       "      <th></th>\n",
       "      <th>words</th>\n",
       "      <th>vectors</th>\n",
       "      <th>cluster</th>\n",
       "    </tr>\n",
       "  </thead>\n",
       "  <tbody>\n",
       "    <tr>\n",
       "      <th>0</th>\n",
       "      <td>great</td>\n",
       "      <td>[0.021736015, -0.09696648, -0.20334733, 0.3184...</td>\n",
       "      <td>1</td>\n",
       "    </tr>\n",
       "    <tr>\n",
       "      <th>1</th>\n",
       "      <td>apartment</td>\n",
       "      <td>[0.09413033, -0.20562932, -0.09986646, -0.0815...</td>\n",
       "      <td>1</td>\n",
       "    </tr>\n",
       "    <tr>\n",
       "      <th>2</th>\n",
       "      <td>stay</td>\n",
       "      <td>[-0.04194155, 0.27263644, -0.30879694, -0.4886...</td>\n",
       "      <td>1</td>\n",
       "    </tr>\n",
       "    <tr>\n",
       "      <th>3</th>\n",
       "      <td>place</td>\n",
       "      <td>[0.1171688, -0.45740342, -0.18468466, 0.219762...</td>\n",
       "      <td>1</td>\n",
       "    </tr>\n",
       "    <tr>\n",
       "      <th>4</th>\n",
       "      <td>berlin</td>\n",
       "      <td>[-0.062057998, 0.043246496, -0.19278, -0.67646...</td>\n",
       "      <td>0</td>\n",
       "    </tr>\n",
       "  </tbody>\n",
       "</table>\n",
       "</div>"
      ],
      "text/plain": [
       "       words                                            vectors  cluster\n",
       "0      great  [0.021736015, -0.09696648, -0.20334733, 0.3184...        1\n",
       "1  apartment  [0.09413033, -0.20562932, -0.09986646, -0.0815...        1\n",
       "2       stay  [-0.04194155, 0.27263644, -0.30879694, -0.4886...        1\n",
       "3      place  [0.1171688, -0.45740342, -0.18468466, 0.219762...        1\n",
       "4     berlin  [-0.062057998, 0.043246496, -0.19278, -0.67646...        0"
      ]
     },
     "execution_count": 95,
     "metadata": {},
     "output_type": "execute_result"
    }
   ],
   "source": [
    "dfWords3ClustersWithoutStopWords = pd.DataFrame(\n",
    "    w2vModelWithoutStopWords.wv.key_to_index.keys())\n",
    "\n",
    "dfWords3ClustersWithoutStopWords.columns = ['words']\n",
    "\n",
    "dfWords3ClustersWithoutStopWords['vectors'] = \\\n",
    "    dfWords3ClustersWithoutStopWords['words'].apply(\n",
    "        lambda x: w2vModelWithoutStopWords.wv[f'{x}'])\n",
    "\n",
    "dfWords3ClustersWithoutStopWords['cluster'] = \\\n",
    "    dfWords3ClustersWithoutStopWords['vectors'].apply(\n",
    "        lambda x: kmeansModel3Clusters.predict([np.array(x)]))\n",
    "\n",
    "dfWords3ClustersWithoutStopWords.cluster = \\\n",
    "    dfWords3ClustersWithoutStopWords['cluster'].apply(\n",
    "        lambda x: x[0])\n",
    "\n",
    "dfWords3ClustersWithoutStopWords.head()"
   ]
  },
  {
   "cell_type": "code",
   "execution_count": 96,
   "metadata": {
    "pycharm": {
     "name": "#%%\n"
    }
   },
   "outputs": [
    {
     "data": {
      "text/html": [
       "<div>\n",
       "<style scoped>\n",
       "    .dataframe tbody tr th:only-of-type {\n",
       "        vertical-align: middle;\n",
       "    }\n",
       "\n",
       "    .dataframe tbody tr th {\n",
       "        vertical-align: top;\n",
       "    }\n",
       "\n",
       "    .dataframe thead th {\n",
       "        text-align: right;\n",
       "    }\n",
       "</style>\n",
       "<table border=\"1\" class=\"dataframe\">\n",
       "  <thead>\n",
       "    <tr style=\"text-align: right;\">\n",
       "      <th></th>\n",
       "      <th>words</th>\n",
       "      <th>vectors</th>\n",
       "      <th>cluster</th>\n",
       "      <th>cluster_value</th>\n",
       "      <th>closeness_score</th>\n",
       "      <th>sentiment_coeff</th>\n",
       "    </tr>\n",
       "  </thead>\n",
       "  <tbody>\n",
       "    <tr>\n",
       "      <th>11</th>\n",
       "      <td>room</td>\n",
       "      <td>[-0.1289804, -0.47577977, 0.45509025, 0.071285...</td>\n",
       "      <td>2</td>\n",
       "      <td>-1</td>\n",
       "      <td>0.137974</td>\n",
       "      <td>-0.137974</td>\n",
       "    </tr>\n",
       "    <tr>\n",
       "      <th>18</th>\n",
       "      <td>comfortable</td>\n",
       "      <td>[-0.105109595, -0.28582796, 0.23227535, -0.098...</td>\n",
       "      <td>2</td>\n",
       "      <td>-1</td>\n",
       "      <td>0.142628</td>\n",
       "      <td>-0.142628</td>\n",
       "    </tr>\n",
       "    <tr>\n",
       "      <th>40</th>\n",
       "      <td>like</td>\n",
       "      <td>[0.2838839, -0.5819455, 0.27681106, -0.0084737...</td>\n",
       "      <td>2</td>\n",
       "      <td>-1</td>\n",
       "      <td>0.133966</td>\n",
       "      <td>-0.133966</td>\n",
       "    </tr>\n",
       "    <tr>\n",
       "      <th>45</th>\n",
       "      <td>one</td>\n",
       "      <td>[-0.7768008, -0.64739054, 0.637206, -0.629718,...</td>\n",
       "      <td>2</td>\n",
       "      <td>-1</td>\n",
       "      <td>0.161954</td>\n",
       "      <td>-0.161954</td>\n",
       "    </tr>\n",
       "    <tr>\n",
       "      <th>46</th>\n",
       "      <td>bed</td>\n",
       "      <td>[-0.37433314, -0.19291034, 0.44292012, -0.3003...</td>\n",
       "      <td>2</td>\n",
       "      <td>-1</td>\n",
       "      <td>0.109352</td>\n",
       "      <td>-0.109352</td>\n",
       "    </tr>\n",
       "  </tbody>\n",
       "</table>\n",
       "</div>"
      ],
      "text/plain": [
       "          words                                            vectors  cluster  \\\n",
       "11         room  [-0.1289804, -0.47577977, 0.45509025, 0.071285...        2   \n",
       "18  comfortable  [-0.105109595, -0.28582796, 0.23227535, -0.098...        2   \n",
       "40         like  [0.2838839, -0.5819455, 0.27681106, -0.0084737...        2   \n",
       "45          one  [-0.7768008, -0.64739054, 0.637206, -0.629718,...        2   \n",
       "46          bed  [-0.37433314, -0.19291034, 0.44292012, -0.3003...        2   \n",
       "\n",
       "    cluster_value  closeness_score  sentiment_coeff  \n",
       "11             -1         0.137974        -0.137974  \n",
       "18             -1         0.142628        -0.142628  \n",
       "40             -1         0.133966        -0.133966  \n",
       "45             -1         0.161954        -0.161954  \n",
       "46             -1         0.109352        -0.109352  "
      ]
     },
     "execution_count": 96,
     "metadata": {},
     "output_type": "execute_result"
    }
   ],
   "source": [
    "dfWords3ClustersWithoutStopWords['cluster_value'] = \\\n",
    "    [-1 if i==negativeClusterIndex\n",
    "     else 1 if i==positiveClusterIndex else 0\n",
    "     for i in dfWords3ClustersWithoutStopWords['cluster']]\n",
    "\n",
    "dfWords3ClustersWithoutStopWords['closeness_score'] = \\\n",
    "    dfWords3ClustersWithoutStopWords.apply(\n",
    "        lambda x: 1/(kmeansModel3Clusters.transform([x.vectors]).min()),\n",
    "        axis=1)\n",
    "\n",
    "dfWords3ClustersWithoutStopWords['sentiment_coeff'] = \\\n",
    "    dfWords3ClustersWithoutStopWords['closeness_score'] * \\\n",
    "    dfWords3ClustersWithoutStopWords['cluster_value']\n",
    "\n",
    "dfWords3ClustersWithoutStopWords[\n",
    "    dfWords3ClustersWithoutStopWords['cluster_value'] == -1].head()"
   ]
  },
  {
   "cell_type": "markdown",
   "metadata": {
    "pycharm": {
     "name": "#%% md\n"
    }
   },
   "source": [
    "### 6.2 Closeness score"
   ]
  },
  {
   "cell_type": "code",
   "execution_count": 97,
   "metadata": {
    "pycharm": {
     "name": "#%%\n"
    }
   },
   "outputs": [],
   "source": [
    "dictSentiment3ClustersWithoutStopWords = dict(zip(\n",
    "    dfWords3ClustersWithoutStopWords['words'].values,\n",
    "    dfWords3ClustersWithoutStopWords['sentiment_coeff'].values))"
   ]
  },
  {
   "cell_type": "code",
   "execution_count": 98,
   "metadata": {
    "pycharm": {
     "name": "#%%\n"
    }
   },
   "outputs": [],
   "source": [
    "closenessScores3ClustersWithoutStopWords = \\\n",
    "    dfCleanedReviewsWithoutStopWords['comments'].apply(\n",
    "        lambda x: list(map(\n",
    "            lambda y: replace_sentiment_words(y, dictSentiment3ClustersWithoutStopWords),\n",
    "            x.split())))"
   ]
  },
  {
   "cell_type": "markdown",
   "metadata": {
    "pycharm": {
     "name": "#%% md\n"
    }
   },
   "source": [
    "### 6.3 Sentiment score computation"
   ]
  },
  {
   "cell_type": "code",
   "execution_count": 99,
   "metadata": {
    "pycharm": {
     "name": "#%%\n"
    }
   },
   "outputs": [
    {
     "data": {
      "text/html": [
       "<div>\n",
       "<style scoped>\n",
       "    .dataframe tbody tr th:only-of-type {\n",
       "        vertical-align: middle;\n",
       "    }\n",
       "\n",
       "    .dataframe tbody tr th {\n",
       "        vertical-align: top;\n",
       "    }\n",
       "\n",
       "    .dataframe thead th {\n",
       "        text-align: right;\n",
       "    }\n",
       "</style>\n",
       "<table border=\"1\" class=\"dataframe\">\n",
       "  <thead>\n",
       "    <tr style=\"text-align: right;\">\n",
       "      <th></th>\n",
       "      <th>sentiment_coeff</th>\n",
       "      <th>tfidf_scores</th>\n",
       "      <th>review</th>\n",
       "      <th>sentiment_rate</th>\n",
       "      <th>prediction</th>\n",
       "    </tr>\n",
       "  </thead>\n",
       "  <tbody>\n",
       "    <tr>\n",
       "      <th>0</th>\n",
       "      <td>[0.0, 0.0, 0.0, 0.0, 0.0, 0.0, 0.1530401787107...</td>\n",
       "      <td>[6.45518200427728, 3.112217967778944, 3.555659...</td>\n",
       "      <td>jan friendly welcome host apartment great area...</td>\n",
       "      <td>3.171116</td>\n",
       "      <td>1</td>\n",
       "    </tr>\n",
       "    <tr>\n",
       "      <th>1</th>\n",
       "      <td>[0.0, 0.0, 0.1530401787107593, 0.0962295034379...</td>\n",
       "      <td>[2.6419108992866036, 2.1582410989662106, 3.154...</td>\n",
       "      <td>really nice area food park transport perfect</td>\n",
       "      <td>1.725799</td>\n",
       "      <td>1</td>\n",
       "    </tr>\n",
       "    <tr>\n",
       "      <th>2</th>\n",
       "      <td>[0.0, 0.0, 0.1417771922395551, 0.0, 0.0, -0.14...</td>\n",
       "      <td>[2.1582410989662106, 1.8573260246038177, 2.148...</td>\n",
       "      <td>nice stay berlin thanks jan premium situate ap...</td>\n",
       "      <td>4.913388</td>\n",
       "      <td>1</td>\n",
       "    </tr>\n",
       "    <tr>\n",
       "      <th>3</th>\n",
       "      <td>[0.0, 0.1948514168094835, 0.14606870725559232,...</td>\n",
       "      <td>[1.8501655371557688, 2.159718877149754, 2.7123...</td>\n",
       "      <td>great location close mauerpark kastanienallee ...</td>\n",
       "      <td>3.140077</td>\n",
       "      <td>1</td>\n",
       "    </tr>\n",
       "    <tr>\n",
       "      <th>4</th>\n",
       "      <td>[0.0, 0.12948971833364556, 0.14316824211234594...</td>\n",
       "      <td>[3.927308953862587, 2.8408487877668502, 6.4401...</td>\n",
       "      <td>apartment well locate close everything superma...</td>\n",
       "      <td>2.336270</td>\n",
       "      <td>1</td>\n",
       "    </tr>\n",
       "  </tbody>\n",
       "</table>\n",
       "</div>"
      ],
      "text/plain": [
       "                                     sentiment_coeff  \\\n",
       "0  [0.0, 0.0, 0.0, 0.0, 0.0, 0.0, 0.1530401787107...   \n",
       "1  [0.0, 0.0, 0.1530401787107593, 0.0962295034379...   \n",
       "2  [0.0, 0.0, 0.1417771922395551, 0.0, 0.0, -0.14...   \n",
       "3  [0.0, 0.1948514168094835, 0.14606870725559232,...   \n",
       "4  [0.0, 0.12948971833364556, 0.14316824211234594...   \n",
       "\n",
       "                                        tfidf_scores  \\\n",
       "0  [6.45518200427728, 3.112217967778944, 3.555659...   \n",
       "1  [2.6419108992866036, 2.1582410989662106, 3.154...   \n",
       "2  [2.1582410989662106, 1.8573260246038177, 2.148...   \n",
       "3  [1.8501655371557688, 2.159718877149754, 2.7123...   \n",
       "4  [3.927308953862587, 2.8408487877668502, 6.4401...   \n",
       "\n",
       "                                              review  sentiment_rate  \\\n",
       "0  jan friendly welcome host apartment great area...        3.171116   \n",
       "1       really nice area food park transport perfect        1.725799   \n",
       "2  nice stay berlin thanks jan premium situate ap...        4.913388   \n",
       "3  great location close mauerpark kastanienallee ...        3.140077   \n",
       "4  apartment well locate close everything superma...        2.336270   \n",
       "\n",
       "   prediction  \n",
       "0           1  \n",
       "1           1  \n",
       "2           1  \n",
       "3           1  \n",
       "4           1  "
      ]
     },
     "execution_count": 99,
     "metadata": {},
     "output_type": "execute_result"
    }
   ],
   "source": [
    "dfSentiment3ClustersTfidfReviewsWithoutStopWords = pd.DataFrame(\n",
    "    [closenessScores3ClustersWithoutStopWords,\n",
    "     tfidfScoresWithoutStopWords,\n",
    "     dfCleanedReviewsWithoutStopWords['comments']]).T\n",
    "\n",
    "dfSentiment3ClustersTfidfReviewsWithoutStopWords.columns = \\\n",
    "    ['sentiment_coeff', 'tfidf_scores', 'review']\n",
    "\n",
    "dfSentiment3ClustersTfidfReviewsWithoutStopWords['sentiment_rate'] = \\\n",
    "    dfSentiment3ClustersTfidfReviewsWithoutStopWords.apply(\n",
    "        lambda x: np.array(x.loc['sentiment_coeff']) @ np.array(x.loc['tfidf_scores']),\n",
    "        axis=1)\n",
    "\n",
    "dfSentiment3ClustersTfidfReviewsWithoutStopWords['prediction'] = \\\n",
    "    (dfSentiment3ClustersTfidfReviewsWithoutStopWords['sentiment_rate']>0)\\\n",
    "        .astype('int8')\n",
    "\n",
    "dfSentiment3ClustersTfidfReviewsWithoutStopWords.head()"
   ]
  },
  {
   "cell_type": "code",
   "execution_count": 100,
   "metadata": {
    "pycharm": {
     "name": "#%%\n"
    }
   },
   "outputs": [],
   "source": [
    "# dfSentiment3ClustersTfidfReviewsWithoutStopWords.to_csv(\n",
    "#     'sentiment_dataset_3_clusters_no_stopwords.csv',\n",
    "#     sep=',', index=False, header=True)"
   ]
  },
  {
   "cell_type": "code",
   "execution_count": 101,
   "metadata": {
    "pycharm": {
     "name": "#%%\n"
    }
   },
   "outputs": [
    {
     "data": {
      "text/plain": [
       "['one word mouse get apartment find mice run living room bedroom hysteria contact host benjamin respond right away tell us sunday know could nothing could check problem really mice problem tell family small child berlin high season would go tell would contact airbnb change apartment look hotel back forth say would borrow cat friend seem like good idea terrible problem lend pet stranger felt like short story bring two cat apartment dealt immediate emergency mouse run around tell cat ingenious idea okay untenable situation handle mouse cat one cat actually actively go mouse cat well behave pleasant mean need care get fee incessant nudging feed vacation benjamin home rental apartment business fair mouse feces remain unabated benjamin evidently come apartment without knowledge except alert us bring exterminator exterminator say apparently entire building contaminate mouse set poison traps host exterminator discuss mouse entry point observed location mouse droppings throughout apartment disgust contact site move immediately nothing available could find available airbnb site hotel space explain host see mouse contact airbnb ask new apartment hop could help us slow respond get offer help us find something midnight day leave nd day send picture mouse droppings next trap reveal fact apartment clean disinfect locate mouse since stick mouse airbnb suggest refund two night accept offer pay one night suggestion tell would strongly prefer different apartment disgust experience come home find threaten note host attack complain mouse stay like choice note contain incendiary language normally associate middle th century overwhelm',\n",
       " 'big flat heart neuk lln min station nice flatmate amazing room day everything fine flat mate nice reccomend every website hide airbnb sure like thanks benjamin sonia luca website hide airbnb website hide airbnb website hide airbnb website hide airbnb website hide airbnb website hide airbnb website hide airbnb website hide airbnb website hide airbnb website hide airbnb website hide airbnb website hide airbnb website hide airbnb website hide airbnb website hide airbnb website hide airbnb website hide airbnb website hide airbnb website hide airbnb website hide airbnb website hide airbnb website hide airbnb website hide airbnb website hide airbnb',\n",
       " 'good apartment good location unfortunately leave key inside room leave pay euro week also pay euro extra open door bil live berlin neighbor take care apartment check ask return key face face leave tell day would leave must put key mailbox bil leave nobody mention us one key berlin one week forget put key send message ask bil half hour leave first mistake ask early half hour reply catch flight leave key table every time rent apartment airbnb second mistake bang door appear angry first time tell us one key would pay lot company help open door moment feel guilty promise pay fee open door leave way airport get message bil really annoy give great deal leave key inside cost lot thank guilty go immediately even complain make feel uncomfortable still try understand situation sent message explain reason promise pay open door second day get bill bil cost us euro get door open please transfer amount account phone number hide airbnb hi bil agree trouble begin us still pay euro complain annoy us think mr one key annoy thing happen lucky leave key indoor leave package key together room pay euro lose package flight still rent apartment airbnb mention risk never ever forget key door lose key otherwise promise back room pay euro open door last barcelona hide airbnb account transfer euro immediately otherwise please wait till june back home go bank transfer money',\n",
       " 'expect bait switch profile proudly state one apartment berlin air condition even fan let alone ac room describe king size bed perfect son sleep comfortably one person bed big twin nowhere near big enough two people sleep wanted leave soon got respond finally say give money back afford pay two place choice stay though continue miserable experience especially son never travel eddy try blame want ac place hot enough also try blame airbnb admin helpful btw even refund money try sleep eddy place bad part otherwise lovely time berlin eddy express anger airbnb folk give hard time ac since falsely claim profile book place base nr preference travel especially jet lag place ac say kid lie ac sorry wrong bed size either bad host airbnb rightfully express dissatisfaction airbnb customer service get involved know say make eddy go buy mobile ac unit half way one week stay refuse attach properly even though assure work plug hang pipe window use hardware seal material include ac leave pipe fall ac unit side pipe fall room several time night either nothing blow hot air room keep try attach end postal tape give postal tape make stay put fight keep ac sort attach night restful would happy attach material say want keep part pristine unused shape possible could return store leave thanks nothing many thing could say place tire arrive back home want put nightmare eddie',\n",
       " 'find marcos unit less expect airbnb reason front door complex lock front door unit break makeshift repair make door jamb could look door jamb door close make party comfortable night bed spread inside unit like flop house living room real bedroom room recently split half new wall last bed end hall adult couple stay night good thing family two room door outlet work second room split room half floor lamp light switch light living room bed kitchen table ceiling light work till play bite flicker night extension cord plug together run along floor across door way real room unit power tv tv extension cord hang floor foot reach tv plug little dangerous plus year old guest sit except kitchen table bed hook hang coat dresser couch luggage rack nothing except twin bed kitchen table seated people provide fitted mattress sheet blanket pillow cover one towel per guest would recommend cover mattress pillow see stain uncover one hand towel would order wash cloth bring house shoe walk around also floor cover fine grit shower leak bathroom floor puddle sink first shower morning stand puddle find unit uncomfortable group people people would fine stomach condition super host resort city united state year would embarrass call airbnb create many airbnb unit people california take pride unit place remind aunt grow ddr sorry marco get zero']"
      ]
     },
     "execution_count": 101,
     "metadata": {},
     "output_type": "execute_result"
    }
   ],
   "source": [
    "dfNegativeSentiment = dfSentiment3ClustersTfidfReviewsWithoutStopWords[\n",
    "    dfSentiment3ClustersTfidfReviewsWithoutStopWords['prediction'] == 0].sort_values(\n",
    "        by=['sentiment_rate'])\n",
    "\n",
    "dfNegativeSentiment['review'].head().tolist()"
   ]
  },
  {
   "cell_type": "markdown",
   "metadata": {},
   "source": [
    "### 6.4 TextBlob"
   ]
  },
  {
   "cell_type": "code",
   "execution_count": 102,
   "metadata": {
    "pycharm": {
     "name": "#%%\n"
    }
   },
   "outputs": [
    {
     "data": {
      "text/html": [
       "<div>\n",
       "<style scoped>\n",
       "    .dataframe tbody tr th:only-of-type {\n",
       "        vertical-align: middle;\n",
       "    }\n",
       "\n",
       "    .dataframe tbody tr th {\n",
       "        vertical-align: top;\n",
       "    }\n",
       "\n",
       "    .dataframe thead th {\n",
       "        text-align: right;\n",
       "    }\n",
       "</style>\n",
       "<table border=\"1\" class=\"dataframe\">\n",
       "  <thead>\n",
       "    <tr style=\"text-align: right;\">\n",
       "      <th></th>\n",
       "      <th>sentiment_coeff</th>\n",
       "      <th>tfidf_scores</th>\n",
       "      <th>review</th>\n",
       "      <th>sentiment_rate</th>\n",
       "      <th>prediction</th>\n",
       "      <th>textblob_sentiment</th>\n",
       "      <th>textblob_prediction</th>\n",
       "    </tr>\n",
       "  </thead>\n",
       "  <tbody>\n",
       "    <tr>\n",
       "      <th>0</th>\n",
       "      <td>[0.0, 0.0, 0.0, 0.0, 0.0, 0.0, 0.1530401787107...</td>\n",
       "      <td>[6.45518200427728, 3.112217967778944, 3.555659...</td>\n",
       "      <td>jan friendly welcome host apartment great area...</td>\n",
       "      <td>3.171116</td>\n",
       "      <td>1</td>\n",
       "      <td>0.595000</td>\n",
       "      <td>1</td>\n",
       "    </tr>\n",
       "    <tr>\n",
       "      <th>1</th>\n",
       "      <td>[0.0, 0.0, 0.1530401787107593, 0.0962295034379...</td>\n",
       "      <td>[2.6419108992866036, 2.1582410989662106, 3.154...</td>\n",
       "      <td>really nice area food park transport perfect</td>\n",
       "      <td>1.725799</td>\n",
       "      <td>1</td>\n",
       "      <td>0.800000</td>\n",
       "      <td>1</td>\n",
       "    </tr>\n",
       "    <tr>\n",
       "      <th>2</th>\n",
       "      <td>[0.0, 0.0, 0.1417771922395551, 0.0, 0.0, -0.14...</td>\n",
       "      <td>[2.1582410989662106, 1.8573260246038177, 2.148...</td>\n",
       "      <td>nice stay berlin thanks jan premium situate ap...</td>\n",
       "      <td>4.913388</td>\n",
       "      <td>1</td>\n",
       "      <td>0.487500</td>\n",
       "      <td>1</td>\n",
       "    </tr>\n",
       "    <tr>\n",
       "      <th>3</th>\n",
       "      <td>[0.0, 0.1948514168094835, 0.14606870725559232,...</td>\n",
       "      <td>[1.8501655371557688, 2.159718877149754, 2.7123...</td>\n",
       "      <td>great location close mauerpark kastanienallee ...</td>\n",
       "      <td>3.140077</td>\n",
       "      <td>1</td>\n",
       "      <td>0.587500</td>\n",
       "      <td>1</td>\n",
       "    </tr>\n",
       "    <tr>\n",
       "      <th>4</th>\n",
       "      <td>[0.0, 0.12948971833364556, 0.14316824211234594...</td>\n",
       "      <td>[3.927308953862587, 2.8408487877668502, 6.4401...</td>\n",
       "      <td>apartment well locate close everything superma...</td>\n",
       "      <td>2.336270</td>\n",
       "      <td>1</td>\n",
       "      <td>0.229762</td>\n",
       "      <td>1</td>\n",
       "    </tr>\n",
       "  </tbody>\n",
       "</table>\n",
       "</div>"
      ],
      "text/plain": [
       "                                     sentiment_coeff  \\\n",
       "0  [0.0, 0.0, 0.0, 0.0, 0.0, 0.0, 0.1530401787107...   \n",
       "1  [0.0, 0.0, 0.1530401787107593, 0.0962295034379...   \n",
       "2  [0.0, 0.0, 0.1417771922395551, 0.0, 0.0, -0.14...   \n",
       "3  [0.0, 0.1948514168094835, 0.14606870725559232,...   \n",
       "4  [0.0, 0.12948971833364556, 0.14316824211234594...   \n",
       "\n",
       "                                        tfidf_scores  \\\n",
       "0  [6.45518200427728, 3.112217967778944, 3.555659...   \n",
       "1  [2.6419108992866036, 2.1582410989662106, 3.154...   \n",
       "2  [2.1582410989662106, 1.8573260246038177, 2.148...   \n",
       "3  [1.8501655371557688, 2.159718877149754, 2.7123...   \n",
       "4  [3.927308953862587, 2.8408487877668502, 6.4401...   \n",
       "\n",
       "                                              review  sentiment_rate  \\\n",
       "0  jan friendly welcome host apartment great area...        3.171116   \n",
       "1       really nice area food park transport perfect        1.725799   \n",
       "2  nice stay berlin thanks jan premium situate ap...        4.913388   \n",
       "3  great location close mauerpark kastanienallee ...        3.140077   \n",
       "4  apartment well locate close everything superma...        2.336270   \n",
       "\n",
       "   prediction  textblob_sentiment  textblob_prediction  \n",
       "0           1            0.595000                    1  \n",
       "1           1            0.800000                    1  \n",
       "2           1            0.487500                    1  \n",
       "3           1            0.587500                    1  \n",
       "4           1            0.229762                    1  "
      ]
     },
     "execution_count": 102,
     "metadata": {},
     "output_type": "execute_result"
    }
   ],
   "source": [
    "dfSentiment3ClustersTfidfReviewsWithoutStopWords['textblob_sentiment'] = \\\n",
    "    textblobSentimentWithoutStopWords\n",
    "\n",
    "dfSentiment3ClustersTfidfReviewsWithoutStopWords['textblob_prediction'] = \\\n",
    "    (dfSentiment3ClustersTfidfReviewsWithoutStopWords['textblob_sentiment'] > 0)\\\n",
    "        .astype('int8')\n",
    "\n",
    "dfSentiment3ClustersTfidfReviewsWithoutStopWords.head()"
   ]
  },
  {
   "cell_type": "markdown",
   "metadata": {},
   "source": [
    "### 6.5 Sentiment analysis evaluation"
   ]
  },
  {
   "cell_type": "code",
   "execution_count": 103,
   "metadata": {
    "pycharm": {
     "name": "#%%\n"
    }
   },
   "outputs": [
    {
     "name": "stdout",
     "output_type": "stream",
     "text": [
      "        0       1\n",
      "0    3263    1262\n",
      "1  108395  145847\n",
      "Scores for sentiment analysis with 3 clusters and no stopwords: \n"
     ]
    },
    {
     "data": {
      "text/html": [
       "<div>\n",
       "<style scoped>\n",
       "    .dataframe tbody tr th:only-of-type {\n",
       "        vertical-align: middle;\n",
       "    }\n",
       "\n",
       "    .dataframe tbody tr th {\n",
       "        vertical-align: top;\n",
       "    }\n",
       "\n",
       "    .dataframe thead th {\n",
       "        text-align: right;\n",
       "    }\n",
       "</style>\n",
       "<table border=\"1\" class=\"dataframe\">\n",
       "  <thead>\n",
       "    <tr style=\"text-align: right;\">\n",
       "      <th></th>\n",
       "      <th>scores</th>\n",
       "    </tr>\n",
       "  </thead>\n",
       "  <tbody>\n",
       "    <tr>\n",
       "      <th>accuracy</th>\n",
       "      <td>0.576233</td>\n",
       "    </tr>\n",
       "    <tr>\n",
       "      <th>precision</th>\n",
       "      <td>0.991421</td>\n",
       "    </tr>\n",
       "    <tr>\n",
       "      <th>recall</th>\n",
       "      <td>0.573654</td>\n",
       "    </tr>\n",
       "    <tr>\n",
       "      <th>f1</th>\n",
       "      <td>0.726780</td>\n",
       "    </tr>\n",
       "  </tbody>\n",
       "</table>\n",
       "</div>"
      ],
      "text/plain": [
       "             scores\n",
       "accuracy   0.576233\n",
       "precision  0.991421\n",
       "recall     0.573654\n",
       "f1         0.726780"
      ]
     },
     "execution_count": 103,
     "metadata": {},
     "output_type": "execute_result"
    }
   ],
   "source": [
    "testScores3ClustersWithoutStopWordsSentiment = compute_test_scores(\n",
    "    dfSentiment3ClustersTfidfReviewsWithoutStopWords['prediction'],\n",
    "    dfSentiment3ClustersTfidfReviewsWithoutStopWords['textblob_prediction'])\n",
    "\n",
    "dfTestScores3ClustersWithoutStopWordsSentiment = pd.DataFrame(\n",
    "    [testScores3ClustersWithoutStopWordsSentiment])\n",
    "\n",
    "dfTestScores3ClustersWithoutStopWordsSentiment.columns = \\\n",
    "    ['accuracy', 'precision', 'recall', 'f1']\n",
    "\n",
    "dfTestScores3ClustersWithoutStopWordsSentiment = \\\n",
    "    dfTestScores3ClustersWithoutStopWordsSentiment.T\n",
    "\n",
    "dfTestScores3ClustersWithoutStopWordsSentiment.columns = ['scores']\n",
    "\n",
    "print('Scores for sentiment analysis with 3 clusters and no stopwords: ')\n",
    "dfTestScores3ClustersWithoutStopWordsSentiment\n"
   ]
  },
  {
   "cell_type": "markdown",
   "metadata": {},
   "source": [
    "The obtained results are strongly worse with respect to the ones that could be expected. It was reasonable to expect a decrease in the accuracy score but not so marked."
   ]
  }
 ],
 "metadata": {
  "kernelspec": {
   "display_name": "Python 3",
   "language": "python",
   "name": "python3"
  },
  "language_info": {
   "codemirror_mode": {
    "name": "ipython",
    "version": 3
   },
   "file_extension": ".py",
   "mimetype": "text/x-python",
   "name": "python",
   "nbconvert_exporter": "python",
   "pygments_lexer": "ipython3",
   "version": "3.6.10"
  }
 },
 "nbformat": 4,
 "nbformat_minor": 4
}
