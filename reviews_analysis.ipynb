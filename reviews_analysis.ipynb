{
 "cells": [
  {
   "cell_type": "code",
   "execution_count": 1,
   "outputs": [],
   "source": [
    "import pandas as pd\n",
    "import matplotlib.pyplot as plt"
   ],
   "metadata": {
    "collapsed": false,
    "pycharm": {
     "name": "#%%\n"
    }
   }
  },
  {
   "cell_type": "code",
   "execution_count": 2,
   "outputs": [
    {
     "data": {
      "text/plain": "\"['jan', 'be', 'very', 'friendly', 'and', 'welcome', 'host', 'the', 'apartment', 'be', 'great', 'and', 'the', 'area', 'be', 'sooo', 'amaze', 'lot', 'of', 'nice', 'cafe', 'and', 'shop', 'enjoy', 'my', 'time', 'there', 'lot']\""
     },
     "execution_count": 2,
     "metadata": {},
     "output_type": "execute_result"
    }
   ],
   "source": [
    "with open('lemmatized.txt') as f:\n",
    "    reviews = f.read().splitlines()\n",
    "\n",
    "reviews[0]"
   ],
   "metadata": {
    "collapsed": false,
    "pycharm": {
     "name": "#%%\n"
    }
   }
  },
  {
   "cell_type": "code",
   "execution_count": 3,
   "outputs": [
    {
     "data": {
      "text/plain": "['jan',\n 'be',\n 'very',\n 'friendly',\n 'and',\n 'welcome',\n 'host',\n 'the',\n 'apartment',\n 'be',\n 'great',\n 'and',\n 'the',\n 'area',\n 'be',\n 'sooo',\n 'amaze',\n 'lot',\n 'of',\n 'nice',\n 'cafe',\n 'and',\n 'shop',\n 'enjoy',\n 'my',\n 'time',\n 'there',\n 'lot']"
     },
     "execution_count": 3,
     "metadata": {},
     "output_type": "execute_result"
    }
   ],
   "source": [
    "reviews = [review.replace('\\'', '').strip('][').split(', ')\n",
    "                           for review in reviews]\n",
    "\n",
    "reviews[0]"
   ],
   "metadata": {
    "collapsed": false,
    "pycharm": {
     "name": "#%%\n"
    }
   }
  },
  {
   "cell_type": "markdown",
   "source": [
    "## Bigrams generation"
   ],
   "metadata": {
    "collapsed": false
   }
  },
  {
   "cell_type": "code",
   "execution_count": 4,
   "outputs": [
    {
     "name": "stderr",
     "output_type": "stream",
     "text": [
      "d:\\utenti\\marco\\desktop\\insubria\\laurea magistrale\\data mining\\airbnb-sentiment\\venv\\lib\\site-packages\\gensim\\similarities\\__init__.py:15: UserWarning: The gensim.similarities.levenshtein submodule is disabled, because the optional Levenshtein package <https://pypi.org/project/python-Levenshtein/> is unavailable. Install Levenhstein (e.g. `pip install python-Levenshtein`) to suppress this warning.\n",
      "  warnings.warn(msg)\n"
     ]
    },
    {
     "data": {
      "text/plain": "['jan',\n 'be',\n 'very',\n 'friendly',\n 'and',\n 'welcome',\n 'host',\n 'the',\n 'apartment',\n 'be',\n 'great',\n 'and',\n 'the',\n 'area',\n 'be',\n 'sooo',\n 'amaze',\n 'lot',\n 'of',\n 'nice',\n 'cafe',\n 'and',\n 'shop',\n 'enjoy',\n 'my',\n 'time',\n 'there',\n 'lot']"
     },
     "execution_count": 4,
     "metadata": {},
     "output_type": "execute_result"
    }
   ],
   "source": [
    "from gensim.models.phrases import Phrases, Phraser\n",
    "\n",
    "phrases = Phrases(reviews, min_count=3, progress_per=50000)\n",
    "\n",
    "bigram = Phraser(phrases)\n",
    "\n",
    "bigramReviews = bigram[reviews]\n",
    "\n",
    "bigramReviews[0]"
   ],
   "metadata": {
    "collapsed": false,
    "pycharm": {
     "name": "#%%\n"
    }
   }
  },
  {
   "cell_type": "code",
   "execution_count": 5,
   "outputs": [
    {
     "data": {
      "text/plain": "61035"
     },
     "execution_count": 5,
     "metadata": {},
     "output_type": "execute_result"
    }
   ],
   "source": [
    "from collections import defaultdict\n",
    "\n",
    "dictWordFreq = defaultdict(int)\n",
    "for review in bigramReviews:\n",
    "    for i in review:\n",
    "        dictWordFreq[i] += 1\n",
    "\n",
    "len(dictWordFreq)"
   ],
   "metadata": {
    "collapsed": false,
    "pycharm": {
     "name": "#%%\n"
    }
   }
  },
  {
   "cell_type": "code",
   "execution_count": 6,
   "outputs": [],
   "source": [
    "# Eventually, show an example of item in word_freq"
   ],
   "metadata": {
    "collapsed": false,
    "pycharm": {
     "name": "#%%\n"
    }
   }
  },
  {
   "cell_type": "code",
   "execution_count": 7,
   "outputs": [
    {
     "data": {
      "text/plain": "['be', 'and', 'the', 'to', 'in', 'very', 'we', 'of', 'great', 'it']"
     },
     "execution_count": 7,
     "metadata": {},
     "output_type": "execute_result"
    }
   ],
   "source": [
    "sorted(dictWordFreq, key=dictWordFreq.get, reverse=True)[:10]"
   ],
   "metadata": {
    "collapsed": false,
    "pycharm": {
     "name": "#%%\n"
    }
   }
  },
  {
   "cell_type": "markdown",
   "source": [
    "## Word2Vec model"
   ],
   "metadata": {
    "collapsed": false
   }
  },
  {
   "cell_type": "code",
   "execution_count": 8,
   "outputs": [],
   "source": [
    "from gensim.models import Word2Vec\n",
    "\n",
    "w2vModel = Word2Vec(min_count=20,\n",
    "                    window=4,\n",
    "                    vector_size=300,\n",
    "                    sample=6e-5,\n",
    "                    alpha=0.03,\n",
    "                    min_alpha=0.0007,\n",
    "                    negative=20,\n",
    "                    workers=4)"
   ],
   "metadata": {
    "collapsed": false,
    "pycharm": {
     "name": "#%%\n"
    }
   }
  },
  {
   "cell_type": "code",
   "execution_count": 9,
   "outputs": [
    {
     "name": "stdout",
     "output_type": "stream",
     "text": [
      "Time to build vocab: 0.23 mins\n"
     ]
    }
   ],
   "source": [
    "from time import time\n",
    "\n",
    "t = time()\n",
    "\n",
    "w2vModel.build_vocab(bigramReviews, progress_per=10000)\n",
    "\n",
    "print('Time to build vocab: {} mins'.format(round((time() - t) / 60, 2)))"
   ],
   "metadata": {
    "collapsed": false,
    "pycharm": {
     "name": "#%%\n"
    }
   }
  },
  {
   "cell_type": "code",
   "execution_count": 10,
   "outputs": [
    {
     "name": "stdout",
     "output_type": "stream",
     "text": [
      "Time to train the model: 9.34 mins\n"
     ]
    }
   ],
   "source": [
    "t = time()\n",
    "\n",
    "w2vModel.train(bigramReviews,\n",
    "               total_examples=w2vModel.corpus_count,\n",
    "               epochs=30,\n",
    "               report_delay=1)\n",
    "\n",
    "print('Time to train the model: {} mins'.format(round((time() - t) / 60, 2)))"
   ],
   "metadata": {
    "collapsed": false,
    "pycharm": {
     "name": "#%%\n"
    }
   }
  },
  {
   "cell_type": "code",
   "execution_count": 48,
   "outputs": [],
   "source": [
    "# w2vModel.save(\"word2vec.model\")"
   ],
   "metadata": {
    "collapsed": false,
    "pycharm": {
     "name": "#%%\n"
    }
   }
  },
  {
   "cell_type": "markdown",
   "source": [
    "## Exploring the model"
   ],
   "metadata": {
    "collapsed": false
   }
  },
  {
   "cell_type": "code",
   "execution_count": 12,
   "outputs": [
    {
     "data": {
      "text/plain": "[('flat', 0.8009026646614075),\n ('studio', 0.518069326877594),\n ('spacious', 0.5130087733268738),\n ('appartment', 0.5026397705078125),\n ('modern', 0.4899463653564453),\n ('clean', 0.4715781509876251),\n ('bright', 0.4463174343109131),\n ('itself', 0.43371134996414185),\n ('beautifully_appoint', 0.43370521068573),\n ('apt', 0.4198237657546997)]"
     },
     "execution_count": 12,
     "metadata": {},
     "output_type": "execute_result"
    }
   ],
   "source": [
    "w2vModel.wv.most_similar(positive=[\"apartment\"])"
   ],
   "metadata": {
    "collapsed": false,
    "pycharm": {
     "name": "#%%\n"
    }
   }
  },
  {
   "cell_type": "markdown",
   "source": [
    "## Clustering model"
   ],
   "metadata": {
    "collapsed": false
   }
  },
  {
   "cell_type": "code",
   "execution_count": 13,
   "outputs": [
    {
     "data": {
      "text/plain": "KMeans(max_iter=1000, n_clusters=2, n_init=50, random_state=42)"
     },
     "execution_count": 13,
     "metadata": {},
     "output_type": "execute_result"
    }
   ],
   "source": [
    "from sklearn.cluster import KMeans\n",
    "import numpy as np\n",
    "\n",
    "kmeansModel2Clusters = KMeans(n_clusters=2, max_iter=1000, random_state=42, n_init=50)\n",
    "kmeansModel2Clusters.fit(X=w2vModel.wv.vectors.astype('double'))"
   ],
   "metadata": {
    "collapsed": false,
    "pycharm": {
     "name": "#%%\n"
    }
   }
  },
  {
   "cell_type": "code",
   "execution_count": 14,
   "outputs": [
    {
     "data": {
      "text/plain": "[('metal', 0.615938127040863),\n ('the', 0.5556254982948303),\n ('leather', 0.5335462689399719),\n ('mount', 0.5305850505828857),\n ('small', 0.5226483345031738),\n ('which', 0.521062970161438),\n ('plastic', 0.519399106502533),\n ('rug', 0.5112375020980835),\n ('chain', 0.5095422267913818),\n ('stone', 0.5034341216087341)]"
     },
     "execution_count": 14,
     "metadata": {},
     "output_type": "execute_result"
    }
   ],
   "source": [
    "w2vModel.wv.similar_by_vector(kmeansModel2Clusters.cluster_centers_[0],\n",
    "                              topn=10,\n",
    "                              restrict_vocab=None)"
   ],
   "metadata": {
    "collapsed": false,
    "pycharm": {
     "name": "#%%\n"
    }
   }
  },
  {
   "cell_type": "code",
   "execution_count": 15,
   "outputs": [],
   "source": [
    "negativeClusterIndex = 0"
   ],
   "metadata": {
    "collapsed": false,
    "pycharm": {
     "name": "#%%\n"
    }
   }
  },
  {
   "cell_type": "code",
   "execution_count": 16,
   "outputs": [
    {
     "data": {
      "text/plain": "  words                                            vectors  cluster\n0    be  [0.09045758, 0.07613618, 0.12171817, -0.439189...        0\n1   and  [-0.15569599, -0.20120987, 0.14106072, -0.4791...        1\n2   the  [0.25615907, -0.26640812, 0.87123454, -0.50165...        0\n3    to  [0.18882069, -0.59700924, -0.07487969, 0.04525...        0\n4    in  [-0.20123443, -0.25175768, -0.03475116, -0.870...        0",
      "text/html": "<div>\n<style scoped>\n    .dataframe tbody tr th:only-of-type {\n        vertical-align: middle;\n    }\n\n    .dataframe tbody tr th {\n        vertical-align: top;\n    }\n\n    .dataframe thead th {\n        text-align: right;\n    }\n</style>\n<table border=\"1\" class=\"dataframe\">\n  <thead>\n    <tr style=\"text-align: right;\">\n      <th></th>\n      <th>words</th>\n      <th>vectors</th>\n      <th>cluster</th>\n    </tr>\n  </thead>\n  <tbody>\n    <tr>\n      <th>0</th>\n      <td>be</td>\n      <td>[0.09045758, 0.07613618, 0.12171817, -0.439189...</td>\n      <td>0</td>\n    </tr>\n    <tr>\n      <th>1</th>\n      <td>and</td>\n      <td>[-0.15569599, -0.20120987, 0.14106072, -0.4791...</td>\n      <td>1</td>\n    </tr>\n    <tr>\n      <th>2</th>\n      <td>the</td>\n      <td>[0.25615907, -0.26640812, 0.87123454, -0.50165...</td>\n      <td>0</td>\n    </tr>\n    <tr>\n      <th>3</th>\n      <td>to</td>\n      <td>[0.18882069, -0.59700924, -0.07487969, 0.04525...</td>\n      <td>0</td>\n    </tr>\n    <tr>\n      <th>4</th>\n      <td>in</td>\n      <td>[-0.20123443, -0.25175768, -0.03475116, -0.870...</td>\n      <td>0</td>\n    </tr>\n  </tbody>\n</table>\n</div>"
     },
     "execution_count": 16,
     "metadata": {},
     "output_type": "execute_result"
    }
   ],
   "source": [
    "dfWords2Clusters = pd.DataFrame(\n",
    "    w2vModel.wv.key_to_index.keys())\n",
    "\n",
    "dfWords2Clusters.columns = ['words']\n",
    "\n",
    "dfWords2Clusters['vectors'] = \\\n",
    "    dfWords2Clusters['words'].apply(\n",
    "        lambda x: w2vModel.wv[f'{x}'])\n",
    "\n",
    "dfWords2Clusters['cluster'] = \\\n",
    "    dfWords2Clusters['vectors'].apply(\n",
    "        lambda x: kmeansModel2Clusters.predict([np.array(x)]))\n",
    "\n",
    "dfWords2Clusters['cluster'] = \\\n",
    "    dfWords2Clusters['cluster'].apply(\n",
    "        lambda x: x[0])\n",
    "\n",
    "dfWords2Clusters.head()"
   ],
   "metadata": {
    "collapsed": false,
    "pycharm": {
     "name": "#%%\n"
    }
   }
  },
  {
   "cell_type": "code",
   "execution_count": 17,
   "outputs": [
    {
     "data": {
      "text/plain": "  words                                            vectors  cluster  \\\n0    be  [0.09045758, 0.07613618, 0.12171817, -0.439189...        0   \n2   the  [0.25615907, -0.26640812, 0.87123454, -0.50165...        0   \n3    to  [0.18882069, -0.59700924, -0.07487969, 0.04525...        0   \n4    in  [-0.20123443, -0.25175768, -0.03475116, -0.870...        0   \n7    of  [0.47129914, -0.24029101, 0.18664457, -0.86250...        0   \n\n   cluster_value  closeness_score  sentiment_coeff  \n0             -1         0.188084        -0.188084  \n2             -1         0.156822        -0.156822  \n3             -1         0.112688        -0.112688  \n4             -1         0.144052        -0.144052  \n7             -1         0.099256        -0.099256  ",
      "text/html": "<div>\n<style scoped>\n    .dataframe tbody tr th:only-of-type {\n        vertical-align: middle;\n    }\n\n    .dataframe tbody tr th {\n        vertical-align: top;\n    }\n\n    .dataframe thead th {\n        text-align: right;\n    }\n</style>\n<table border=\"1\" class=\"dataframe\">\n  <thead>\n    <tr style=\"text-align: right;\">\n      <th></th>\n      <th>words</th>\n      <th>vectors</th>\n      <th>cluster</th>\n      <th>cluster_value</th>\n      <th>closeness_score</th>\n      <th>sentiment_coeff</th>\n    </tr>\n  </thead>\n  <tbody>\n    <tr>\n      <th>0</th>\n      <td>be</td>\n      <td>[0.09045758, 0.07613618, 0.12171817, -0.439189...</td>\n      <td>0</td>\n      <td>-1</td>\n      <td>0.188084</td>\n      <td>-0.188084</td>\n    </tr>\n    <tr>\n      <th>2</th>\n      <td>the</td>\n      <td>[0.25615907, -0.26640812, 0.87123454, -0.50165...</td>\n      <td>0</td>\n      <td>-1</td>\n      <td>0.156822</td>\n      <td>-0.156822</td>\n    </tr>\n    <tr>\n      <th>3</th>\n      <td>to</td>\n      <td>[0.18882069, -0.59700924, -0.07487969, 0.04525...</td>\n      <td>0</td>\n      <td>-1</td>\n      <td>0.112688</td>\n      <td>-0.112688</td>\n    </tr>\n    <tr>\n      <th>4</th>\n      <td>in</td>\n      <td>[-0.20123443, -0.25175768, -0.03475116, -0.870...</td>\n      <td>0</td>\n      <td>-1</td>\n      <td>0.144052</td>\n      <td>-0.144052</td>\n    </tr>\n    <tr>\n      <th>7</th>\n      <td>of</td>\n      <td>[0.47129914, -0.24029101, 0.18664457, -0.86250...</td>\n      <td>0</td>\n      <td>-1</td>\n      <td>0.099256</td>\n      <td>-0.099256</td>\n    </tr>\n  </tbody>\n</table>\n</div>"
     },
     "execution_count": 17,
     "metadata": {},
     "output_type": "execute_result"
    }
   ],
   "source": [
    "dfWords2Clusters['cluster_value'] = [\n",
    "    -1 if i==negativeClusterIndex else 1\n",
    "    for i in dfWords2Clusters['cluster']]\n",
    "\n",
    "dfWords2Clusters['closeness_score'] = \\\n",
    "    dfWords2Clusters.apply(\n",
    "        lambda x: 1/(kmeansModel2Clusters.transform([x.vectors]).min()),\n",
    "        axis=1)\n",
    "\n",
    "dfWords2Clusters['sentiment_coeff'] = \\\n",
    "    dfWords2Clusters['closeness_score'] * \\\n",
    "    dfWords2Clusters['cluster_value']\n",
    "\n",
    "dfWords2Clusters[\n",
    "    dfWords2Clusters['cluster_value'] == -1].head()"
   ],
   "metadata": {
    "collapsed": false,
    "pycharm": {
     "name": "#%%\n"
    }
   }
  },
  {
   "cell_type": "markdown",
   "source": [
    "## TF-IDF"
   ],
   "metadata": {
    "collapsed": false
   }
  },
  {
   "cell_type": "code",
   "execution_count": 18,
   "outputs": [
    {
     "data": {
      "text/plain": "                                            comments\n0  jan be very friendly and welcome host the apar...\n1  it be really nice area food park transport be ...\n2  we have very nice stay in berlin thanks to jan...\n3  great location close to mauerpark kastanienall...\n4  apartment very well locate close to everything...",
      "text/html": "<div>\n<style scoped>\n    .dataframe tbody tr th:only-of-type {\n        vertical-align: middle;\n    }\n\n    .dataframe tbody tr th {\n        vertical-align: top;\n    }\n\n    .dataframe thead th {\n        text-align: right;\n    }\n</style>\n<table border=\"1\" class=\"dataframe\">\n  <thead>\n    <tr style=\"text-align: right;\">\n      <th></th>\n      <th>comments</th>\n    </tr>\n  </thead>\n  <tbody>\n    <tr>\n      <th>0</th>\n      <td>jan be very friendly and welcome host the apar...</td>\n    </tr>\n    <tr>\n      <th>1</th>\n      <td>it be really nice area food park transport be ...</td>\n    </tr>\n    <tr>\n      <th>2</th>\n      <td>we have very nice stay in berlin thanks to jan...</td>\n    </tr>\n    <tr>\n      <th>3</th>\n      <td>great location close to mauerpark kastanienall...</td>\n    </tr>\n    <tr>\n      <th>4</th>\n      <td>apartment very well locate close to everything...</td>\n    </tr>\n  </tbody>\n</table>\n</div>"
     },
     "execution_count": 18,
     "metadata": {},
     "output_type": "execute_result"
    }
   ],
   "source": [
    "dfCleanedReviews = pd.DataFrame(\n",
    "    [' '.join(review) for review in reviews],\n",
    "    columns=['comments'])\n",
    "\n",
    "dfCleanedReviews.head()"
   ],
   "metadata": {
    "collapsed": false,
    "pycharm": {
     "name": "#%%\n"
    }
   }
  },
  {
   "cell_type": "code",
   "execution_count": 19,
   "outputs": [],
   "source": [
    "from sklearn.feature_extraction.text import TfidfVectorizer\n",
    "\n",
    "tfidf = TfidfVectorizer(norm=None)\n",
    "transformed = tfidf.fit_transform(\n",
    "    dfCleanedReviews['comments'].tolist())\n",
    "features = pd.Series(tfidf.get_feature_names())"
   ],
   "metadata": {
    "collapsed": false,
    "pycharm": {
     "name": "#%%\n"
    }
   }
  },
  {
   "cell_type": "code",
   "execution_count": 20,
   "outputs": [],
   "source": [
    "def create_tfidf_dictionary(x, transformed_file, features_file):\n",
    "    \"\"\"\n",
    "    create dictionary for each input sentence x, where each word has assigned its tfidf score\n",
    "\n",
    "    inspired  by function from this wonderful article:\n",
    "    https://medium.com/analytics-vidhya/automated-keyword-extraction-from-articles-using-nlp-bfd864f41b34\n",
    "\n",
    "    x - row of dataframe, containing sentences, and their indexes,\n",
    "    transformed_file - all sentences transformed with TfidfVectorizer\n",
    "    features - names of all words in corpus used in TfidfVectorizer\n",
    "    \"\"\"\n",
    "    vector_coo = transformed_file[x.name].tocoo()\n",
    "    vector_coo.col = features_file.iloc[vector_coo.col].values\n",
    "    dict_from_coo = dict(zip(vector_coo.col, vector_coo.data))\n",
    "    return dict_from_coo\n",
    "\n",
    "def replace_tfidf_words(x, transformed_file, features_file):\n",
    "    \"\"\"\n",
    "    replacing each word with it's calculated tfidf dictionary with scores of each word\n",
    "    x - row of dataframe, containing sentences, and their indexes,\n",
    "    transformed_file - all sentences transformed with TfidfVectorizer\n",
    "    features - names of all words in corpus used in TfidfVectorizer\n",
    "    \"\"\"\n",
    "    dictionary = create_tfidf_dictionary(x, transformed_file, features_file)\n",
    "    try:\n",
    "        res = list(map(lambda y:dictionary[f'{y}'], x['comments'].split()))\n",
    "    except KeyError:\n",
    "        res = [0 for i in x['comments'].split()]\n",
    "    return res"
   ],
   "metadata": {
    "collapsed": false,
    "pycharm": {
     "name": "#%%\n"
    }
   }
  },
  {
   "cell_type": "code",
   "execution_count": 21,
   "outputs": [],
   "source": [
    "tfidfScoresWithoutStopWords = dfCleanedReviews.apply(\n",
    "    lambda x: replace_tfidf_words(x, transformed, features), axis=1)"
   ],
   "metadata": {
    "collapsed": false,
    "pycharm": {
     "name": "#%%\n"
    }
   }
  },
  {
   "cell_type": "code",
   "execution_count": 22,
   "outputs": [],
   "source": [
    "dictSentiment2Clusters = dict(zip(\n",
    "    dfWords2Clusters['words'].values,\n",
    "    dfWords2Clusters['sentiment_coeff'].values))"
   ],
   "metadata": {
    "collapsed": false,
    "pycharm": {
     "name": "#%%\n"
    }
   }
  },
  {
   "cell_type": "code",
   "execution_count": 23,
   "outputs": [],
   "source": [
    "def replace_sentiment_words(word, sentiment_dict):\n",
    "    \"\"\"\n",
    "    replacing each word with its associated sentiment score from sentiment dict\n",
    "    \"\"\"\n",
    "    try:\n",
    "        out = sentiment_dict[word]\n",
    "    except KeyError:\n",
    "        out = 0\n",
    "    return out"
   ],
   "metadata": {
    "collapsed": false,
    "pycharm": {
     "name": "#%%\n"
    }
   }
  },
  {
   "cell_type": "code",
   "execution_count": 24,
   "outputs": [],
   "source": [
    "closenessScores2Clusters = \\\n",
    "    dfCleanedReviews['comments'].apply(\n",
    "        lambda x: list(map(\n",
    "            lambda y: replace_sentiment_words(y, dictSentiment2Clusters),\n",
    "            x.split())))"
   ],
   "metadata": {
    "collapsed": false,
    "pycharm": {
     "name": "#%%\n"
    }
   }
  },
  {
   "cell_type": "code",
   "execution_count": 25,
   "outputs": [
    {
     "data": {
      "text/plain": "                                     sentiment_coeff  \\\n0  [0.07985111004577553, -0.18808361904308693, 0....   \n1  [-0.1478535472173197, -0.18808361904308693, 0....   \n2  [0.11543748268633972, -0.13276076032773343, 0....   \n3  [0.1381656620939012, -0.11938607074241883, -0....   \n4  [-0.13562855624442288, 0.1368836621951668, -0....   \n\n                                        tfidf_scores  \\\n0  [6.45518200427728, 3.6108140688773807, 1.62336...   \n1  [2.034512963851828, 2.407209379251587, 2.64191...   \n2  [2.091150860411193, 4.119858950780223, 4.87009...   \n3  [1.8501655371557688, 2.159718877149754, 2.7123...   \n4  [3.927308953862587, 3.246732537406179, 2.84084...   \n\n                                              review  sentiment_rate  \\\n0  jan be very friendly and welcome host the apar...       -0.036251   \n1  it be really nice area food park transport be ...       -1.837079   \n2  we have very nice stay in berlin thanks to jan...       -7.055429   \n3  great location close to mauerpark kastanienall...       -2.506551   \n4  apartment very well locate close to everything...       -9.388832   \n\n   prediction  \n0           0  \n1           0  \n2           0  \n3           0  \n4           0  ",
      "text/html": "<div>\n<style scoped>\n    .dataframe tbody tr th:only-of-type {\n        vertical-align: middle;\n    }\n\n    .dataframe tbody tr th {\n        vertical-align: top;\n    }\n\n    .dataframe thead th {\n        text-align: right;\n    }\n</style>\n<table border=\"1\" class=\"dataframe\">\n  <thead>\n    <tr style=\"text-align: right;\">\n      <th></th>\n      <th>sentiment_coeff</th>\n      <th>tfidf_scores</th>\n      <th>review</th>\n      <th>sentiment_rate</th>\n      <th>prediction</th>\n    </tr>\n  </thead>\n  <tbody>\n    <tr>\n      <th>0</th>\n      <td>[0.07985111004577553, -0.18808361904308693, 0....</td>\n      <td>[6.45518200427728, 3.6108140688773807, 1.62336...</td>\n      <td>jan be very friendly and welcome host the apar...</td>\n      <td>-0.036251</td>\n      <td>0</td>\n    </tr>\n    <tr>\n      <th>1</th>\n      <td>[-0.1478535472173197, -0.18808361904308693, 0....</td>\n      <td>[2.034512963851828, 2.407209379251587, 2.64191...</td>\n      <td>it be really nice area food park transport be ...</td>\n      <td>-1.837079</td>\n      <td>0</td>\n    </tr>\n    <tr>\n      <th>2</th>\n      <td>[0.11543748268633972, -0.13276076032773343, 0....</td>\n      <td>[2.091150860411193, 4.119858950780223, 4.87009...</td>\n      <td>we have very nice stay in berlin thanks to jan...</td>\n      <td>-7.055429</td>\n      <td>0</td>\n    </tr>\n    <tr>\n      <th>3</th>\n      <td>[0.1381656620939012, -0.11938607074241883, -0....</td>\n      <td>[1.8501655371557688, 2.159718877149754, 2.7123...</td>\n      <td>great location close to mauerpark kastanienall...</td>\n      <td>-2.506551</td>\n      <td>0</td>\n    </tr>\n    <tr>\n      <th>4</th>\n      <td>[-0.13562855624442288, 0.1368836621951668, -0....</td>\n      <td>[3.927308953862587, 3.246732537406179, 2.84084...</td>\n      <td>apartment very well locate close to everything...</td>\n      <td>-9.388832</td>\n      <td>0</td>\n    </tr>\n  </tbody>\n</table>\n</div>"
     },
     "execution_count": 25,
     "metadata": {},
     "output_type": "execute_result"
    }
   ],
   "source": [
    "dfSentiment2ClustersTfidfReviews = \\\n",
    "    pd.DataFrame([closenessScores2Clusters,\n",
    "                  tfidfScoresWithoutStopWords,\n",
    "                  dfCleanedReviews['comments']]).T\n",
    "\n",
    "dfSentiment2ClustersTfidfReviews.columns = \\\n",
    "    ['sentiment_coeff', 'tfidf_scores', 'review']\n",
    "\n",
    "dfSentiment2ClustersTfidfReviews['sentiment_rate'] = \\\n",
    "    dfSentiment2ClustersTfidfReviews.apply(\n",
    "        lambda x: np.array(x.loc['sentiment_coeff']) @ np.array(x.loc['tfidf_scores']),\n",
    "        axis=1)\n",
    "\n",
    "dfSentiment2ClustersTfidfReviews['prediction'] =\\\n",
    "    (dfSentiment2ClustersTfidfReviews['sentiment_rate'] > 0)\\\n",
    "        .astype('int8')\n",
    "\n",
    "dfSentiment2ClustersTfidfReviews.head()"
   ],
   "metadata": {
    "collapsed": false,
    "pycharm": {
     "name": "#%%\n"
    }
   }
  },
  {
   "cell_type": "code",
   "execution_count": 26,
   "outputs": [
    {
     "name": "stdout",
     "output_type": "stream",
     "text": [
      "Top-5 negative reviews:\n"
     ]
    },
    {
     "data": {
      "text/plain": "['accuracy pretty sure this place be low income housing the building be super sketchy the lobby area be disgust dark and full of graffiti tags the elevator be the same way the wall and floor of hallway lead into the apartment look like they ve never be clean the neighbor have their possession scatter about the hallway it say it have three bedroom but there be two plus bed in the living room which be openly connect to the rest of the residence every electrical socket and light fixture be hang out of the wall or ceiling the stove have be disable and be connect to propane tank there be piece of raw plywood hang randomly attach to wall jet out into area of traffic the nicer furniture in the photo have be remove check in from the street it be difficult to see the building we be suppose to enter there be very little lighting in the area and there aren easily visible sign with marking everything around the entrance look be dirty and cover in graffiti tag have make plan to meet chadi between at he be message me ask where be and that he have be wait for me arrive at exactly excite the elevator on the floor all of the light be off and it be extremely eerie enter the residence it be extremely cold and all of the heat be off on top of this during check in the door to the balcony be open letting in draft and an unexpected man be out there on the phone and be never introduce with the lack of heat there be little bedding include pretty sure would have freeze if have stay there cleanliness wouldn be able to guess how long it have be since the place have be clean the wall and floor be filthy there be residue leave in the toilet and filmy stain in the bathtub shower and sink not all of the bed have bedding and appear to be very old the bedding be tattered and didn look clean the kitchen be mess it contain shop cart full of empty bottle there be rot vegetable in the refrigerator that have terrible odor there be also pot inside contain pasta sit in liquid there be also another container cover in tinfoil which do not examine communication have make plan to meet chadi between at he be message me ask where be and that he have be wait for me arrive at exactly location other than be in low income housing area the location didn seem terrible from the min be there at night value the value be insanely terrible after see the residence cancel my reservation at over and find great hotel room at the sheraton grand for under',\n 'late in june we stay at rebecca appartment which be locate in ostkreuz berlin first the area be very convenient since you re immediately close to railway station which take you to the famous alexanderplatz for instance in minute or you can reach the airport in less than minute it be friendly neighborhood with lot of place to eat or drink and many sp ttis which sell snack beverage etc at almost any time of the day night the people be friendly and not that much tourist lot of young people artists indie kid etc very nice two of the nice record store be nearby bi aufs messer and hhv and as usual with berlin there be many park and green space around where you can meet people walk their dog the apartment itself be very very cool if you want to be in berlin and just leave stress behind this apartment be super quiet do not think it due to the insulation it just that people here be very respectful of their neighbor tranquility it be really great so maybe if you travel with young kid or if you re the kind of person who be not into this kind of behaviour maybe you ought not choose this place the apartment be locate inside courtyard therefore there be no noise from the street in the meantime it be not very noisy area okay there be no elevator and you re on the rd floor so be prepare to lift your luggage the place be ancient but very charm the building date from the early th century and survive the communist era the inside have be refurnish repaint etc there be two big room one be the living room the other be sunbathe bedroom you can use cupboard to store your clothes etc the kitchen be small but it be okay to cook or prepare meal beware the fridge be mini one so it kind of hard to have lot of stuff veggie fit inside of it big bottle as well the sofa in the living room be incredibly cosy and can be use as spare bed think also spot mattress for extra bed the decoration be very nyc influence with many many frame pic on the wall and the bedroom be more influenced by sea and sailing beware if you be allergic to feather be the duvet and pillow be ikea classic geese feather fill otherwise it perfect to sleep the usual in germany one duvet per person instead of large big one for two finally the bathroom be the less convenient room but it logical since the apartment be in an old building it be long and narrow room with toilet and shower and it can be bit moist at time you good leave the door open when you re out so that some air may come in but it be fine enough for',\n 'terrible experience this be my first time use airbnb be book for group of people for night fri sun in february when make the initial booking request the airbnb rate be include the service fee clean fee and surcharge for additional guest however this be decline by the owner and instead be send pre approve special offer which come to when check the price almost increase when sent message to the host use the airbnb mail to determine why they do not respond our alternative apartment be book at this stage so we decide to go through with our book for this apt when make my way through the book the price have again inexplicably increase to incl all fee without any explanation and without an increase in the list rate couldn work this price out from the rate quote on the listing even take into account the extra people very unsatisfactory to make matter bad on the day of departure the host son call me to inform me that the new berlin city tax be not include in the agreed price and that would have to leave an additional on the table in cash before we leave our agreement through airbnb have no mention of any additional charge so inform them that consider that it be include in the total fee that have pay and refuse to pay any more note that airbnb policy in this regard be that the tax should be add to the rate list on the website the whole experience leave bad taste in my mouth and spoil what be otherwise an enjoyable weekend with my wife and good friend in fantastic city would also note that it take two mail and text message on the day lead up to the visit to get the host to send me direction on where to pick up the key also never meet the host communication be ridiculously poor and see that other people have note this the apartment be on the st floor and there be noisy bar on the ground floor of the adjacent building that open late the bar have side door that lead directly into the stairwell of the apartment which be poor security on the friday night of our visit there be an incident in the early hour where some people be smash bottle on the pavement below our apartment which wake everyone up street traffic include the passing tram also make the main front bedroom in the apartment noisy the lighting in the apartment be seriously poor and most of the bulb in the main bedroom be not work the curtain be also flimsy only offer partial privacy in the apartment will not be return to his apartment or host',\n 'stay at andreas apartment be wonderful experience the apartment have very hipster feel with antique item and furniture all around the place along with modern feel the place itself be rather old with squeak floor we do once receive complaint from the downstairs neighbor state that our footstep could be hear during the entire night but be nevertheless comfort for me there be two main issue of the apartment the first be that it be too small for group of four grant we be aware of the size of the apartment beforehand in my opinion the apartment would be best suit for two people the second issue be the cleanliness of the apartment when we arrive in berlin andreas have be away for over three week and his friend have take care of the apartment and its guest this would have normally not be an issue have the apartment be clean the first day that we arrive the fridge be full of food which have go bad and smell terribly there be clothe all around the apartment the main table as well as the chair be quite dusty and the bathroom do not look very hygienic grant the bathroom didn look all that appeal when it be clean as well my only complaint about the apartment itself as the shower head face the shower curtain directly and could not be orient to face the ground make take shower very non pleasant experience furthermore the bathroom itself be very old and quite honestly discomforted me during my stay this have nothing to do with the way andreas have keep the bathroom but be rather about the age of the building but nevertheless this issue of cleanliness all across the bathroom create the need for us to personally clean the apartment which take two day the location of the apartment be ideal the neighborhood be the famous prenzlauer berg and be very relax there be plenty of place around to sit down and have bite or drink as for public transportation the tram and night bus stop be right in front of the apartment and the bahn and bahn be at walk distance as group that tend to go out at night very often we have absolutely no difficulty get around andreas himself be extremely easy to reach even though he be away and help us with any problem he could resolve all in all would say that be pleased with my stay in andreas apartment but would recommend you to travel there with maximum of three people as it be quite small',\n 'would give this place star review but since there be no half round up luke be an accommodate host but his place be less so have stay in many airbnb but this be my first experience in private room with the host so want to accurately reflect my experience luke be kind and offer tip and extend invite to spend time with his friend that be say the place wasn quite as picture he be spring cleaning so the kitchen and entry way be clutter laundry on floor in kitchen vacuum and mop in front of doorway box and book take up large corner of the house we be there for night he start spring clean before we arrive and be still go at it slowly as we leave at first glance the room be very welcome but little inconvenience pile up the third night as we lay on the bed it break we look under the bed to find that the bed be already broken and be hold up by stack of book also under the bed lot of dust cigarette butt candy wrapper etc we notify him and he come in quickly and tell us he hat the bed and have be mean to get rid of it but keep forget he give it temporary fix and address it with more book the next day the garbage under the bed remain the bed hold up for the rest of the trip also the bed linen have small hole in them after that we notice thing keep fall apart the doorknob to the bedroom fell off twice the knob of the kitchen sink would fall off at almost every use the dryer be break the front door didn have knob the upulstry on the couch be tear the clothes rack need to be constantly repropped up because the hanger would slide off them and this be the only place to store your clothing no dresser or drawer we notice the beautiful bedroom table in the photo be replace with two small rickety pressboard table the apartment building door be old and janky to use and take numerous try to get in because the key be so finicky any of these would be minor issue but all together it start to get frustrating some of the more positive attribute of the stay and there be many the bathtub be phenomenal and the water pressure be perfect the bedroom be large the location be central luke offer headache medicine to my girlfriend when she be sick and make us breakfast one morning and be always quick to respond to message overall the experience be not bad and the host be kind but there be many bump in the road that be surprise didn get highlight in past review so want to give an accurate depiction of the place']"
     },
     "execution_count": 26,
     "metadata": {},
     "output_type": "execute_result"
    }
   ],
   "source": [
    "dfNegativeSentiment = dfSentiment2ClustersTfidfReviews[\n",
    "    dfSentiment2ClustersTfidfReviews['prediction'] == 0].sort_values(\n",
    "        by=['sentiment_rate'])\n",
    "\n",
    "print('Top-5 negative reviews:')\n",
    "dfNegativeSentiment['review'].head().tolist()"
   ],
   "metadata": {
    "collapsed": false,
    "pycharm": {
     "name": "#%%\n"
    }
   }
  },
  {
   "cell_type": "code",
   "execution_count": 49,
   "outputs": [],
   "source": [
    "# dfSentiment2ClustersTfidfReviews.to_csv(\n",
    "#     'sentiment_dataset_2_clusters.csv',\n",
    "#     sep=',', index=False, header=True)"
   ],
   "metadata": {
    "collapsed": false,
    "pycharm": {
     "name": "#%%\n"
    }
   }
  },
  {
   "cell_type": "code",
   "execution_count": 28,
   "outputs": [
    {
     "name": "stdout",
     "output_type": "stream",
     "text": [
      "inertia_ 1197053.6588201409\n",
      "inertia_ 1151659.558594202\n",
      "inertia_ 1115347.3522519232\n",
      "inertia_ 1096038.177538068\n",
      "inertia_ 1082101.1616705076\n",
      "inertia_ 1069213.9233989643\n",
      "inertia_ 1058186.253886657\n",
      "inertia_ 1049101.2196385877\n",
      "inertia_ 1041654.2658165627\n",
      "inertia_ 1034365.4848706825\n"
     ]
    },
    {
     "data": {
      "text/plain": "<Figure size 432x288 with 1 Axes>",
      "image/png": "[encoded data removed]"
     },
     "metadata": {
      "needs_background": "light"
     },
     "output_type": "display_data"
    }
   ],
   "source": [
    "wcss = []\n",
    "for i in range(1, 11):\n",
    "    kmeans = KMeans(n_clusters = i, init = 'k-means++', random_state = 42)\n",
    "    kmeans.fit(X=w2vModel.wv.vectors.astype('double'))\n",
    "    # inertia_ is sum of squared distance of samples to its closest cluster centers.\n",
    "    wcss.append(kmeans.inertia_)\n",
    "    print(\"inertia_\", kmeans.inertia_)\n",
    "    # print(\"wcss\", within_css(kmeans))\n",
    "\n",
    "plt.plot(range(1, 11), wcss)\n",
    "plt.title('Elbow Method')\n",
    "plt.xlabel('Number of clusters')\n",
    "plt.ylabel('WCSS')\n",
    "plt.show()"
   ],
   "metadata": {
    "collapsed": false,
    "pycharm": {
     "name": "#%%\n"
    }
   }
  },
  {
   "cell_type": "code",
   "execution_count": 29,
   "outputs": [],
   "source": [
    "from sklearn.metrics import silhouette_score\n",
    "\n",
    "def kmeans_silhouette(X,range_clusters):\n",
    "    for i, k in range_clusters :\n",
    "\n",
    "        # Run the Kmeans algorithm\n",
    "        km = KMeans(n_clusters = k, init = 'k-means++', random_state = 42)\n",
    "\n",
    "        km.fit(X)\n",
    "        labels = km.predict(X)\n",
    "\n",
    "        print(\"For n_clusters =\", k,\n",
    "                  \"The computed average silhouette_score is :\",\n",
    "              silhouette_score(X, labels, metric='euclidean'))"
   ],
   "metadata": {
    "collapsed": false,
    "pycharm": {
     "name": "#%%\n"
    }
   }
  },
  {
   "cell_type": "code",
   "execution_count": 30,
   "outputs": [],
   "source": [
    "# rangeClusters = enumerate([2,3,4,5,6,7,8,9,10])\n",
    "# kmeans_silhouette(w2vModel.wv.vectors.astype('double'), rangeClusters)"
   ],
   "metadata": {
    "collapsed": false,
    "pycharm": {
     "name": "#%%\n"
    }
   }
  },
  {
   "cell_type": "markdown",
   "source": [
    "## 3-clusters"
   ],
   "metadata": {
    "collapsed": false
   }
  },
  {
   "cell_type": "code",
   "execution_count": 31,
   "outputs": [
    {
     "data": {
      "text/plain": "KMeans(max_iter=1000, n_clusters=3, n_init=50, random_state=42)"
     },
     "execution_count": 31,
     "metadata": {},
     "output_type": "execute_result"
    }
   ],
   "source": [
    "kmeansModel3Clusters = KMeans(n_clusters=3, max_iter=1000, random_state=42, n_init=50)\n",
    "kmeansModel3Clusters.fit(X=w2vModel.wv.vectors.astype('double'))"
   ],
   "metadata": {
    "collapsed": false,
    "pycharm": {
     "name": "#%%\n"
    }
   }
  },
  {
   "cell_type": "code",
   "execution_count": 32,
   "outputs": [
    {
     "data": {
      "text/plain": "[('shop', 0.7630400061607361),\n ('bahn', 0.7551607489585876),\n ('restaurant', 0.7389747500419617),\n ('bar', 0.7280189394950867),\n ('cafe', 0.7133153080940247),\n ('supermarket', 0.7072442173957825),\n ('nearby', 0.7017354965209961),\n ('tram', 0.6940931677818298),\n ('station', 0.6876291036605835),\n ('metro', 0.6812832951545715)]"
     },
     "execution_count": 32,
     "metadata": {},
     "output_type": "execute_result"
    }
   ],
   "source": [
    "w2vModel.wv.similar_by_vector(\n",
    "    kmeansModel3Clusters.cluster_centers_[2], topn=10, restrict_vocab=None)"
   ],
   "metadata": {
    "collapsed": false,
    "pycharm": {
     "name": "#%%\n"
    }
   }
  },
  {
   "cell_type": "code",
   "execution_count": 33,
   "outputs": [],
   "source": [
    "negativeClusterIndex = 2\n",
    "positiveClusterIndex = 0"
   ],
   "metadata": {
    "collapsed": false,
    "pycharm": {
     "name": "#%%\n"
    }
   }
  },
  {
   "cell_type": "code",
   "execution_count": 34,
   "outputs": [
    {
     "data": {
      "text/plain": "  words                                            vectors  cluster\n0    be  [0.09045758, 0.07613618, 0.12171817, -0.439189...        0\n1   and  [-0.15569599, -0.20120987, 0.14106072, -0.4791...        1\n2   the  [0.25615907, -0.26640812, 0.87123454, -0.50165...        2\n3    to  [0.18882069, -0.59700924, -0.07487969, 0.04525...        2\n4    in  [-0.20123443, -0.25175768, -0.03475116, -0.870...        0",
      "text/html": "<div>\n<style scoped>\n    .dataframe tbody tr th:only-of-type {\n        vertical-align: middle;\n    }\n\n    .dataframe tbody tr th {\n        vertical-align: top;\n    }\n\n    .dataframe thead th {\n        text-align: right;\n    }\n</style>\n<table border=\"1\" class=\"dataframe\">\n  <thead>\n    <tr style=\"text-align: right;\">\n      <th></th>\n      <th>words</th>\n      <th>vectors</th>\n      <th>cluster</th>\n    </tr>\n  </thead>\n  <tbody>\n    <tr>\n      <th>0</th>\n      <td>be</td>\n      <td>[0.09045758, 0.07613618, 0.12171817, -0.439189...</td>\n      <td>0</td>\n    </tr>\n    <tr>\n      <th>1</th>\n      <td>and</td>\n      <td>[-0.15569599, -0.20120987, 0.14106072, -0.4791...</td>\n      <td>1</td>\n    </tr>\n    <tr>\n      <th>2</th>\n      <td>the</td>\n      <td>[0.25615907, -0.26640812, 0.87123454, -0.50165...</td>\n      <td>2</td>\n    </tr>\n    <tr>\n      <th>3</th>\n      <td>to</td>\n      <td>[0.18882069, -0.59700924, -0.07487969, 0.04525...</td>\n      <td>2</td>\n    </tr>\n    <tr>\n      <th>4</th>\n      <td>in</td>\n      <td>[-0.20123443, -0.25175768, -0.03475116, -0.870...</td>\n      <td>0</td>\n    </tr>\n  </tbody>\n</table>\n</div>"
     },
     "execution_count": 34,
     "metadata": {},
     "output_type": "execute_result"
    }
   ],
   "source": [
    "dfWords3Clusters = pd.DataFrame(\n",
    "    w2vModel.wv.key_to_index.keys())\n",
    "\n",
    "dfWords3Clusters.columns = ['words']\n",
    "\n",
    "dfWords3Clusters['vectors'] = \\\n",
    "    dfWords3Clusters['words'].apply(\n",
    "        lambda x: w2vModel.wv[f'{x}'])\n",
    "\n",
    "dfWords3Clusters['cluster'] = \\\n",
    "    dfWords3Clusters['vectors'].apply(\n",
    "        lambda x: kmeansModel3Clusters.predict([np.array(x)]))\n",
    "\n",
    "dfWords3Clusters.cluster = \\\n",
    "    dfWords3Clusters['cluster'].apply(\n",
    "        lambda x: x[0])\n",
    "\n",
    "dfWords3Clusters.head()"
   ],
   "metadata": {
    "collapsed": false,
    "pycharm": {
     "name": "#%%\n"
    }
   }
  },
  {
   "cell_type": "code",
   "execution_count": 35,
   "outputs": [
    {
     "data": {
      "text/plain": "       words                                            vectors  cluster  \\\n2        the  [0.25615907, -0.26640812, 0.87123454, -0.50165...        2   \n3         to  [0.18882069, -0.59700924, -0.07487969, 0.04525...        2   \n7         of  [0.47129914, -0.24029101, 0.18664457, -0.86250...        2   \n17    berlin  [0.14385328, 0.4931988, 0.5186288, -0.27703884...        2   \n19  location  [-0.15372258, 0.7725808, 0.6690001, 0.15646437...        2   \n\n    cluster_value  closeness_score  sentiment_coeff  \n2              -1         0.142319        -0.142319  \n3              -1         0.117026        -0.117026  \n7              -1         0.102677        -0.102677  \n17             -1         0.097882        -0.097882  \n19             -1         0.143531        -0.143531  ",
      "text/html": "<div>\n<style scoped>\n    .dataframe tbody tr th:only-of-type {\n        vertical-align: middle;\n    }\n\n    .dataframe tbody tr th {\n        vertical-align: top;\n    }\n\n    .dataframe thead th {\n        text-align: right;\n    }\n</style>\n<table border=\"1\" class=\"dataframe\">\n  <thead>\n    <tr style=\"text-align: right;\">\n      <th></th>\n      <th>words</th>\n      <th>vectors</th>\n      <th>cluster</th>\n      <th>cluster_value</th>\n      <th>closeness_score</th>\n      <th>sentiment_coeff</th>\n    </tr>\n  </thead>\n  <tbody>\n    <tr>\n      <th>2</th>\n      <td>the</td>\n      <td>[0.25615907, -0.26640812, 0.87123454, -0.50165...</td>\n      <td>2</td>\n      <td>-1</td>\n      <td>0.142319</td>\n      <td>-0.142319</td>\n    </tr>\n    <tr>\n      <th>3</th>\n      <td>to</td>\n      <td>[0.18882069, -0.59700924, -0.07487969, 0.04525...</td>\n      <td>2</td>\n      <td>-1</td>\n      <td>0.117026</td>\n      <td>-0.117026</td>\n    </tr>\n    <tr>\n      <th>7</th>\n      <td>of</td>\n      <td>[0.47129914, -0.24029101, 0.18664457, -0.86250...</td>\n      <td>2</td>\n      <td>-1</td>\n      <td>0.102677</td>\n      <td>-0.102677</td>\n    </tr>\n    <tr>\n      <th>17</th>\n      <td>berlin</td>\n      <td>[0.14385328, 0.4931988, 0.5186288, -0.27703884...</td>\n      <td>2</td>\n      <td>-1</td>\n      <td>0.097882</td>\n      <td>-0.097882</td>\n    </tr>\n    <tr>\n      <th>19</th>\n      <td>location</td>\n      <td>[-0.15372258, 0.7725808, 0.6690001, 0.15646437...</td>\n      <td>2</td>\n      <td>-1</td>\n      <td>0.143531</td>\n      <td>-0.143531</td>\n    </tr>\n  </tbody>\n</table>\n</div>"
     },
     "execution_count": 35,
     "metadata": {},
     "output_type": "execute_result"
    }
   ],
   "source": [
    "dfWords3Clusters['cluster_value'] = \\\n",
    "    [-1 if i==negativeClusterIndex\n",
    "     else 1 if i==positiveClusterIndex else 0\n",
    "     for i in dfWords3Clusters['cluster']]\n",
    "\n",
    "dfWords3Clusters['closeness_score'] = \\\n",
    "    dfWords3Clusters.apply(\n",
    "        lambda x: 1/(kmeansModel3Clusters.transform([x.vectors]).min()),\n",
    "        axis=1)\n",
    "\n",
    "dfWords3Clusters['sentiment_coeff'] = \\\n",
    "    dfWords3Clusters['closeness_score'] * \\\n",
    "    dfWords3Clusters['cluster_value']\n",
    "\n",
    "dfWords3Clusters[\n",
    "    dfWords3Clusters['cluster_value'] == -1].head()"
   ],
   "metadata": {
    "collapsed": false,
    "pycharm": {
     "name": "#%%\n"
    }
   }
  },
  {
   "cell_type": "code",
   "execution_count": 36,
   "outputs": [],
   "source": [
    "dictSentiment3Clusters = dict(zip(\n",
    "    dfWords3Clusters['words'].values,\n",
    "    dfWords3Clusters['sentiment_coeff'].values))"
   ],
   "metadata": {
    "collapsed": false,
    "pycharm": {
     "name": "#%%\n"
    }
   }
  },
  {
   "cell_type": "code",
   "execution_count": 37,
   "outputs": [],
   "source": [
    "closenessScores3Clusters = \\\n",
    "    dfCleanedReviews['comments'].apply(\n",
    "        lambda x: list(map(\n",
    "            lambda y: replace_sentiment_words(y, dictSentiment3Clusters),\n",
    "            x.split())))"
   ],
   "metadata": {
    "collapsed": false,
    "pycharm": {
     "name": "#%%\n"
    }
   }
  },
  {
   "cell_type": "code",
   "execution_count": 38,
   "outputs": [
    {
     "data": {
      "text/plain": "                                     sentiment_coeff  \\\n0  [0.0, 0.1798011283274767, 0.0, 0.0, 0.0, 0.0, ...   \n1  [0.14073132621331927, 0.1798011283274767, 0.0,...   \n2  [0.0, 0.1447761464322067, 0.0, 0.0, 0.0, 0.135...   \n3  [0.0, -0.14353125369217165, -0.099881655919928...   \n4  [0.0, 0.0, -0.0845358454151889, -0.10166596849...   \n\n                                        tfidf_scores  \\\n0  [6.45518200427728, 3.6108140688773807, 1.62336...   \n1  [2.034512963851828, 2.407209379251587, 2.64191...   \n2  [2.091150860411193, 4.119858950780223, 4.87009...   \n3  [1.8501655371557688, 2.159718877149754, 2.7123...   \n4  [3.927308953862587, 3.246732537406179, 2.84084...   \n\n                                              review  sentiment_rate  \\\n0  jan be very friendly and welcome host the apar...       -0.873900   \n1  it be really nice area food park transport be ...       -0.147324   \n2  we have very nice stay in berlin thanks to jan...        0.364683   \n3  great location close to mauerpark kastanienall...       -4.636182   \n4  apartment very well locate close to everything...       -3.231733   \n\n   prediction  \n0           0  \n1           0  \n2           1  \n3           0  \n4           0  ",
      "text/html": "<div>\n<style scoped>\n    .dataframe tbody tr th:only-of-type {\n        vertical-align: middle;\n    }\n\n    .dataframe tbody tr th {\n        vertical-align: top;\n    }\n\n    .dataframe thead th {\n        text-align: right;\n    }\n</style>\n<table border=\"1\" class=\"dataframe\">\n  <thead>\n    <tr style=\"text-align: right;\">\n      <th></th>\n      <th>sentiment_coeff</th>\n      <th>tfidf_scores</th>\n      <th>review</th>\n      <th>sentiment_rate</th>\n      <th>prediction</th>\n    </tr>\n  </thead>\n  <tbody>\n    <tr>\n      <th>0</th>\n      <td>[0.0, 0.1798011283274767, 0.0, 0.0, 0.0, 0.0, ...</td>\n      <td>[6.45518200427728, 3.6108140688773807, 1.62336...</td>\n      <td>jan be very friendly and welcome host the apar...</td>\n      <td>-0.873900</td>\n      <td>0</td>\n    </tr>\n    <tr>\n      <th>1</th>\n      <td>[0.14073132621331927, 0.1798011283274767, 0.0,...</td>\n      <td>[2.034512963851828, 2.407209379251587, 2.64191...</td>\n      <td>it be really nice area food park transport be ...</td>\n      <td>-0.147324</td>\n      <td>0</td>\n    </tr>\n    <tr>\n      <th>2</th>\n      <td>[0.0, 0.1447761464322067, 0.0, 0.0, 0.0, 0.135...</td>\n      <td>[2.091150860411193, 4.119858950780223, 4.87009...</td>\n      <td>we have very nice stay in berlin thanks to jan...</td>\n      <td>0.364683</td>\n      <td>1</td>\n    </tr>\n    <tr>\n      <th>3</th>\n      <td>[0.0, -0.14353125369217165, -0.099881655919928...</td>\n      <td>[1.8501655371557688, 2.159718877149754, 2.7123...</td>\n      <td>great location close to mauerpark kastanienall...</td>\n      <td>-4.636182</td>\n      <td>0</td>\n    </tr>\n    <tr>\n      <th>4</th>\n      <td>[0.0, 0.0, -0.0845358454151889, -0.10166596849...</td>\n      <td>[3.927308953862587, 3.246732537406179, 2.84084...</td>\n      <td>apartment very well locate close to everything...</td>\n      <td>-3.231733</td>\n      <td>0</td>\n    </tr>\n  </tbody>\n</table>\n</div>"
     },
     "execution_count": 38,
     "metadata": {},
     "output_type": "execute_result"
    }
   ],
   "source": [
    "dfSentiment3ClustersTfidfReviews = pd.DataFrame(\n",
    "    [closenessScores3Clusters,\n",
    "     tfidfScoresWithoutStopWords,\n",
    "     dfCleanedReviews['comments']]).T\n",
    "\n",
    "dfSentiment3ClustersTfidfReviews.columns = \\\n",
    "    ['sentiment_coeff', 'tfidf_scores', 'review']\n",
    "\n",
    "dfSentiment3ClustersTfidfReviews['sentiment_rate'] = \\\n",
    "    dfSentiment3ClustersTfidfReviews.apply(\n",
    "        lambda x: np.array(x.loc['sentiment_coeff']) @ np.array(x.loc['tfidf_scores']),\n",
    "        axis=1)\n",
    "\n",
    "dfSentiment3ClustersTfidfReviews['prediction'] = \\\n",
    "    (dfSentiment3ClustersTfidfReviews['sentiment_rate']>0)\\\n",
    "        .astype('int8')\n",
    "\n",
    "dfSentiment3ClustersTfidfReviews.head()"
   ],
   "metadata": {
    "collapsed": false,
    "pycharm": {
     "name": "#%%\n"
    }
   }
  },
  {
   "cell_type": "code",
   "execution_count": 50,
   "outputs": [],
   "source": [
    "# dfSentiment3ClustersTfidfReviews.to_csv(\n",
    "#     'sentiment_dataset_3_clusters.csv',\n",
    "#     sep=',', index=False, header=True)"
   ],
   "metadata": {
    "collapsed": false,
    "pycharm": {
     "name": "#%%\n"
    }
   }
  },
  {
   "cell_type": "code",
   "execution_count": 40,
   "outputs": [
    {
     "data": {
      "text/plain": "['for be my first experience alone in an airbnb elke and tami prove to be great at welcome guest very warm and friendly the place be cozy clean and full of character situate in nice and upcoming part of town surround by nice coffeeshops restaurant and bar they also give some really good tip to venture within the vicinity and further into berlin would recommend their place and their kindness for be my first experience alone in an airbnb elke and tami prove to be great at welcome guest very warm and friendly the place be cozy clean and full of character situate in nice and upcoming part of town surround by nice coffeeshops restaurant and bar they also give some really good tip to venture within the vicinity and further into berlin would recommend their place and their kindness for be my first experience alone in an airbnb elke and tami prove to be great at welcome guest very warm and friendly the place be cozy clean and full of character situate in nice and upcoming part of town surround by nice coffeeshops restaurant and bar they also give some really good tip to venture within the vicinity and further into berlin would recommend their place and their kindness for be my first experience alone in an airbnb elke and tami prove to be great at welcome guest very warm and friendly the place be cozy clean and full of character situate in nice and upcoming part of town surround by nice coffeeshops restaurant and bar they also give some really good tip to venture within the vicinity and further into berlin would recommend their place and their kindness for be my first experience alone in an airbnb elke and tami prove to be great at welcome guest very warm and friendly the place be cozy clean and full of character situate in nice and upcoming part of town surround by nice coffeeshops restaurant and bar they also give some really good tip to venture within the vicinity and further into berlin would recommend their place and their kindness for be my first experience alone in an airbnb elke and tami prove to be great at welcome guest very warm and friendly the place be cozy clean and full of character situate in nice and upcoming part of town surround by nice coffeeshops restaurant and bar they also give some really good tip to venture within the vicinity and further into berlin would recommend their place and their kindness for be my first experience alone in an airbnb elke and tami prove to be great at welcome guest very warm and friendly the place be cozy clean and full of character situate in nice and upcoming part of town surround by nice coffeeshops restaurant and bar they also give some really good tip to venture within the vicinity and further into berlin would recommend their',\n 'caution you may have issue on your vacation the host do not respond our message at the appropriate time to combine our check in day before the check in we insist on the message and call him by the way to our surprise we receive rude response we receive the instruction to our arrival that we would be welcome at we inform the host that we didn have wifi access on the street and that we would be on the apartment at the combined time we request early check in in an hour but the host be inflexible on the check in day we arrive on the time and the host hasn arrive we wait an hour and thirty minute in the door of the building we try free wifi in the region in some cafe and unfortunately we don have success we speak with the neighbor mr john who try help us he call the host by phone three time but message inform that the number be wrong the only solution we find be go back the station berlin hbf about minute and access the internet to send message to our surprise we receive message from the host after the combined time that the key would be under the carpet in front of the door of the apartment inside the building in the apartment there wasn guide with orientation about the facility this practice be usual in all the apartment that we stay by airbnb we ask basic information about how to use the cooktop and again we receive rude reply the host say us to look the hidden by airbnb we understand that the client always must be well attended and with attention in my work the client be always in the first place but this isn the perception of this host use airbnb for many year and be the first time that be face coarse and impersonal treatment definitely don recommend this apartment',\n 'while we never get to meet our host alex communication be always helpful and pretty fast we have be give direction to place nearby where we find the key and have to insert code this be actually pretty funny felt bit like mcgyver the location on the map of berlin work well for our purpose as there be convenient bus line stop just across the street the actual location of the house and in particular of the flat however be at least not for the faint of heart the house be right next to pretty busy crossroad and the flat be on the ground floor with the bed living room face the street this be say we felt very much expose to the urban life of berlin which may not bother you if you plan to spend all the time outside and just be home for sleep however if you look for more intimate place where you can withdraw from the big city life outside when you feel like it then you will be disappoint the host do good job mount curtain in front of the window towards the street so you can block out the sunlight at least however the noise from the street in the morning from neighbour above and the pub next door right on the other side of the wall where the bed be can be block out the neighbour be super noisy conversation argument video game summer hit of the on their stereo on and off until be on tuesday night to the point where we couldn get sleep but gladly only during the first night out of the three night we stay there tell our host about it anyway and he promise to talk to them while the flat be equip with all the useful thing that you would expect it lack charm blame it to the big room high ceiling lack of furniture etc the host hang several painting to create some atmosphere but at least the one with the lady who look like ozzy osbourne make creepy impression on us all this mean it be good place for people who just want to crash at place and hit the city life it be certainly not the right pick if you happen to be on your honey moon also solo or female traveller in particular when arrive late in the evening may feel little uncomfortable in this setting',\n 'tammy give me surreal experience you will not find more perfect host be still on cloud maybe even cloud tammy be very easy go attentive appreciative and fun love live in great comfort and be able to experience jazz club beach volleyball bicycle rid and jog within the tiergarten the schloss chalottenburg and along the spree and its canal from the hauptbahnhof to the ruhwald small gardening community tammy anticipate your need and ensure your stay in berlin be more than you expect the apartment be clean well kept and stay with tammy be worth far more than pay hope to return soon the apartment be adjacent to the einsteinufer ufer shore or bank of river or canal where you will find pleasant walk jog path you may walk to ernst reuter platz for the bahn station to get on the subway or to get on the bus or to the university tu berlin in minute you may walk to the zoologischer garten station or to kurf rstendamm main west berlin shopping and restaurant street in about minute you may take the bus from outside the apartment dovebr cke to the zoo station this take just minute or in the opposite direction to the hauptbahnhof minute or walk or ride the to the zoo and then take east bound bahn fast train to the hauptbahnhof from ernst reuter platz take the bus to the txl airport flughafen tegel or vice versa this take about minute',\n 'we didn get to stay at this airbnb we be suppose to pick up the key on our arrival but the restaurant sarah leave them at be close on our arrival and then she end up cancel our stay on the second day at the time of the booking we communicate the time of our arrival into berlin to ensure it be ok with the host for check in the host confirm that it be lead up to the day of the stay we attempt several more time to get the detail of the restaurant where the key would be leave so we could check opening hour call from the airport to confirm that we be on our way and also find the right place on arrival the host initially respond say she didn see the reason why we need the name of the restaurant and after we explain didn respond to any further message or phone call until we get there and the restuarant be close we make several attempt to avoid this type of situation before arrival to no avail with the host so we have to check into hotel last minute the host be quite irate and aggressive with us despite our effort to resolve the situation with calm reason the next day sarah apologise and offer to refund half of the hotel night we ask to be refund the full amount which be the same price as one night in her place think it be fair after not be able to check in and have to look for and pay for hotel last minute sarah refuse and then ask us not to stay in her place at all we get in touch with airbnb luckily they be able to see the full transcript of message from start to finish with all the swearing and hostile message from sarah after review the entire conversation from the time of book to be ask not to check in they be very empathetic and apologetic they refund us the full amount for our experience with this host and even help us to find alternative accomodation great customer support from them in the end we have great time in berlin despite the first hour']"
     },
     "execution_count": 40,
     "metadata": {},
     "output_type": "execute_result"
    }
   ],
   "source": [
    "dfNegativeSentiment = dfSentiment3ClustersTfidfReviews[\n",
    "    dfSentiment3ClustersTfidfReviews['prediction'] == 0].sort_values(\n",
    "        by=['sentiment_rate'])\n",
    "\n",
    "dfNegativeSentiment['review'].head().tolist()"
   ],
   "metadata": {
    "collapsed": false,
    "pycharm": {
     "name": "#%%\n"
    }
   }
  },
  {
   "cell_type": "markdown",
   "source": [
    "## TextBlob"
   ],
   "metadata": {
    "collapsed": false
   }
  },
  {
   "cell_type": "code",
   "execution_count": 41,
   "outputs": [],
   "source": [
    "from textblob import TextBlob"
   ],
   "metadata": {
    "collapsed": false,
    "pycharm": {
     "name": "#%%\n"
    }
   }
  },
  {
   "cell_type": "code",
   "execution_count": 42,
   "outputs": [
    {
     "data": {
      "text/plain": "0    0.617500\n1    0.800000\n2    0.561250\n3    0.643750\n4    0.226042\nName: comments, dtype: float64"
     },
     "execution_count": 42,
     "metadata": {},
     "output_type": "execute_result"
    }
   ],
   "source": [
    "textblobSentiment = dfCleanedReviews['comments'].apply(\n",
    "    lambda x: TextBlob(x).sentiment.polarity)\n",
    "\n",
    "textblobSentiment.head()"
   ],
   "metadata": {
    "collapsed": false,
    "pycharm": {
     "name": "#%%\n"
    }
   }
  },
  {
   "cell_type": "code",
   "execution_count": 43,
   "outputs": [
    {
     "data": {
      "text/plain": "                                     sentiment_coeff  \\\n0  [0.07985111004577553, -0.18808361904308693, 0....   \n1  [-0.1478535472173197, -0.18808361904308693, 0....   \n2  [0.11543748268633972, -0.13276076032773343, 0....   \n3  [0.1381656620939012, -0.11938607074241883, -0....   \n4  [-0.13562855624442288, 0.1368836621951668, -0....   \n\n                                        tfidf_scores  \\\n0  [6.45518200427728, 3.6108140688773807, 1.62336...   \n1  [2.034512963851828, 2.407209379251587, 2.64191...   \n2  [2.091150860411193, 4.119858950780223, 4.87009...   \n3  [1.8501655371557688, 2.159718877149754, 2.7123...   \n4  [3.927308953862587, 3.246732537406179, 2.84084...   \n\n                                              review  sentiment_rate  \\\n0  jan be very friendly and welcome host the apar...       -0.036251   \n1  it be really nice area food park transport be ...       -1.837079   \n2  we have very nice stay in berlin thanks to jan...       -7.055429   \n3  great location close to mauerpark kastanienall...       -2.506551   \n4  apartment very well locate close to everything...       -9.388832   \n\n   prediction  textblob_sentiment  textblob_prediction  \n0           0            0.617500                    1  \n1           0            0.800000                    1  \n2           0            0.561250                    1  \n3           0            0.643750                    1  \n4           0            0.226042                    1  ",
      "text/html": "<div>\n<style scoped>\n    .dataframe tbody tr th:only-of-type {\n        vertical-align: middle;\n    }\n\n    .dataframe tbody tr th {\n        vertical-align: top;\n    }\n\n    .dataframe thead th {\n        text-align: right;\n    }\n</style>\n<table border=\"1\" class=\"dataframe\">\n  <thead>\n    <tr style=\"text-align: right;\">\n      <th></th>\n      <th>sentiment_coeff</th>\n      <th>tfidf_scores</th>\n      <th>review</th>\n      <th>sentiment_rate</th>\n      <th>prediction</th>\n      <th>textblob_sentiment</th>\n      <th>textblob_prediction</th>\n    </tr>\n  </thead>\n  <tbody>\n    <tr>\n      <th>0</th>\n      <td>[0.07985111004577553, -0.18808361904308693, 0....</td>\n      <td>[6.45518200427728, 3.6108140688773807, 1.62336...</td>\n      <td>jan be very friendly and welcome host the apar...</td>\n      <td>-0.036251</td>\n      <td>0</td>\n      <td>0.617500</td>\n      <td>1</td>\n    </tr>\n    <tr>\n      <th>1</th>\n      <td>[-0.1478535472173197, -0.18808361904308693, 0....</td>\n      <td>[2.034512963851828, 2.407209379251587, 2.64191...</td>\n      <td>it be really nice area food park transport be ...</td>\n      <td>-1.837079</td>\n      <td>0</td>\n      <td>0.800000</td>\n      <td>1</td>\n    </tr>\n    <tr>\n      <th>2</th>\n      <td>[0.11543748268633972, -0.13276076032773343, 0....</td>\n      <td>[2.091150860411193, 4.119858950780223, 4.87009...</td>\n      <td>we have very nice stay in berlin thanks to jan...</td>\n      <td>-7.055429</td>\n      <td>0</td>\n      <td>0.561250</td>\n      <td>1</td>\n    </tr>\n    <tr>\n      <th>3</th>\n      <td>[0.1381656620939012, -0.11938607074241883, -0....</td>\n      <td>[1.8501655371557688, 2.159718877149754, 2.7123...</td>\n      <td>great location close to mauerpark kastanienall...</td>\n      <td>-2.506551</td>\n      <td>0</td>\n      <td>0.643750</td>\n      <td>1</td>\n    </tr>\n    <tr>\n      <th>4</th>\n      <td>[-0.13562855624442288, 0.1368836621951668, -0....</td>\n      <td>[3.927308953862587, 3.246732537406179, 2.84084...</td>\n      <td>apartment very well locate close to everything...</td>\n      <td>-9.388832</td>\n      <td>0</td>\n      <td>0.226042</td>\n      <td>1</td>\n    </tr>\n  </tbody>\n</table>\n</div>"
     },
     "execution_count": 43,
     "metadata": {},
     "output_type": "execute_result"
    }
   ],
   "source": [
    "dfSentiment2ClustersTfidfReviews['textblob_sentiment'] = \\\n",
    "    textblobSentiment\n",
    "\n",
    "dfSentiment2ClustersTfidfReviews['textblob_prediction'] = \\\n",
    "    (dfSentiment2ClustersTfidfReviews['textblob_sentiment'] > 0)\\\n",
    "        .astype('int8')\n",
    "\n",
    "dfSentiment2ClustersTfidfReviews.head()"
   ],
   "metadata": {
    "collapsed": false,
    "pycharm": {
     "name": "#%%\n"
    }
   }
  },
  {
   "cell_type": "code",
   "execution_count": 44,
   "outputs": [
    {
     "data": {
      "text/plain": "                                     sentiment_coeff  \\\n0  [0.0, 0.1798011283274767, 0.0, 0.0, 0.0, 0.0, ...   \n1  [0.14073132621331927, 0.1798011283274767, 0.0,...   \n2  [0.0, 0.1447761464322067, 0.0, 0.0, 0.0, 0.135...   \n3  [0.0, -0.14353125369217165, -0.099881655919928...   \n4  [0.0, 0.0, -0.0845358454151889, -0.10166596849...   \n\n                                        tfidf_scores  \\\n0  [6.45518200427728, 3.6108140688773807, 1.62336...   \n1  [2.034512963851828, 2.407209379251587, 2.64191...   \n2  [2.091150860411193, 4.119858950780223, 4.87009...   \n3  [1.8501655371557688, 2.159718877149754, 2.7123...   \n4  [3.927308953862587, 3.246732537406179, 2.84084...   \n\n                                              review  sentiment_rate  \\\n0  jan be very friendly and welcome host the apar...       -0.873900   \n1  it be really nice area food park transport be ...       -0.147324   \n2  we have very nice stay in berlin thanks to jan...        0.364683   \n3  great location close to mauerpark kastanienall...       -4.636182   \n4  apartment very well locate close to everything...       -3.231733   \n\n   prediction  textblob_sentiment  textblob_prediction  \n0           0            0.617500                    1  \n1           0            0.800000                    1  \n2           1            0.561250                    1  \n3           0            0.643750                    1  \n4           0            0.226042                    1  ",
      "text/html": "<div>\n<style scoped>\n    .dataframe tbody tr th:only-of-type {\n        vertical-align: middle;\n    }\n\n    .dataframe tbody tr th {\n        vertical-align: top;\n    }\n\n    .dataframe thead th {\n        text-align: right;\n    }\n</style>\n<table border=\"1\" class=\"dataframe\">\n  <thead>\n    <tr style=\"text-align: right;\">\n      <th></th>\n      <th>sentiment_coeff</th>\n      <th>tfidf_scores</th>\n      <th>review</th>\n      <th>sentiment_rate</th>\n      <th>prediction</th>\n      <th>textblob_sentiment</th>\n      <th>textblob_prediction</th>\n    </tr>\n  </thead>\n  <tbody>\n    <tr>\n      <th>0</th>\n      <td>[0.0, 0.1798011283274767, 0.0, 0.0, 0.0, 0.0, ...</td>\n      <td>[6.45518200427728, 3.6108140688773807, 1.62336...</td>\n      <td>jan be very friendly and welcome host the apar...</td>\n      <td>-0.873900</td>\n      <td>0</td>\n      <td>0.617500</td>\n      <td>1</td>\n    </tr>\n    <tr>\n      <th>1</th>\n      <td>[0.14073132621331927, 0.1798011283274767, 0.0,...</td>\n      <td>[2.034512963851828, 2.407209379251587, 2.64191...</td>\n      <td>it be really nice area food park transport be ...</td>\n      <td>-0.147324</td>\n      <td>0</td>\n      <td>0.800000</td>\n      <td>1</td>\n    </tr>\n    <tr>\n      <th>2</th>\n      <td>[0.0, 0.1447761464322067, 0.0, 0.0, 0.0, 0.135...</td>\n      <td>[2.091150860411193, 4.119858950780223, 4.87009...</td>\n      <td>we have very nice stay in berlin thanks to jan...</td>\n      <td>0.364683</td>\n      <td>1</td>\n      <td>0.561250</td>\n      <td>1</td>\n    </tr>\n    <tr>\n      <th>3</th>\n      <td>[0.0, -0.14353125369217165, -0.099881655919928...</td>\n      <td>[1.8501655371557688, 2.159718877149754, 2.7123...</td>\n      <td>great location close to mauerpark kastanienall...</td>\n      <td>-4.636182</td>\n      <td>0</td>\n      <td>0.643750</td>\n      <td>1</td>\n    </tr>\n    <tr>\n      <th>4</th>\n      <td>[0.0, 0.0, -0.0845358454151889, -0.10166596849...</td>\n      <td>[3.927308953862587, 3.246732537406179, 2.84084...</td>\n      <td>apartment very well locate close to everything...</td>\n      <td>-3.231733</td>\n      <td>0</td>\n      <td>0.226042</td>\n      <td>1</td>\n    </tr>\n  </tbody>\n</table>\n</div>"
     },
     "execution_count": 44,
     "metadata": {},
     "output_type": "execute_result"
    }
   ],
   "source": [
    "dfSentiment3ClustersTfidfReviews['textblob_sentiment'] = \\\n",
    "    textblobSentiment\n",
    "\n",
    "dfSentiment3ClustersTfidfReviews['textblob_prediction'] = \\\n",
    "    (dfSentiment3ClustersTfidfReviews['textblob_sentiment'] > 0)\\\n",
    "        .astype('int8')\n",
    "\n",
    "dfSentiment3ClustersTfidfReviews.head()"
   ],
   "metadata": {
    "collapsed": false,
    "pycharm": {
     "name": "#%%\n"
    }
   }
  },
  {
   "cell_type": "markdown",
   "source": [
    "## Sentiment Analysis Evaluation"
   ],
   "metadata": {
    "collapsed": false
   }
  },
  {
   "cell_type": "code",
   "execution_count": 45,
   "outputs": [],
   "source": [
    "from sklearn.metrics import accuracy_score, confusion_matrix, precision_score, recall_score, f1_score\n",
    "\n",
    "def compute_test_scores(predictions, labels):\n",
    "\n",
    "    df_conf_matrix = pd.DataFrame(confusion_matrix(labels, predictions))\n",
    "\n",
    "    print(df_conf_matrix)\n",
    "\n",
    "    test_scores = accuracy_score(labels, predictions), \\\n",
    "                  precision_score(labels, predictions), \\\n",
    "                  recall_score(labels, predictions), \\\n",
    "                  f1_score(labels, predictions)\n",
    "\n",
    "    return test_scores"
   ],
   "metadata": {
    "collapsed": false,
    "pycharm": {
     "name": "#%%\n"
    }
   }
  },
  {
   "cell_type": "code",
   "execution_count": 46,
   "outputs": [
    {
     "name": "stdout",
     "output_type": "stream",
     "text": [
      "        0      1\n",
      "0    2861   1062\n",
      "1  166563  88281\n",
      "Scores for sentiment analysis with 2 clusters and no stopwords: \n"
     ]
    },
    {
     "data": {
      "text/plain": "             scores\naccuracy   0.352216\nprecision  0.988113\nrecall     0.346412\nf1         0.512983",
      "text/html": "<div>\n<style scoped>\n    .dataframe tbody tr th:only-of-type {\n        vertical-align: middle;\n    }\n\n    .dataframe tbody tr th {\n        vertical-align: top;\n    }\n\n    .dataframe thead th {\n        text-align: right;\n    }\n</style>\n<table border=\"1\" class=\"dataframe\">\n  <thead>\n    <tr style=\"text-align: right;\">\n      <th></th>\n      <th>scores</th>\n    </tr>\n  </thead>\n  <tbody>\n    <tr>\n      <th>accuracy</th>\n      <td>0.352216</td>\n    </tr>\n    <tr>\n      <th>precision</th>\n      <td>0.988113</td>\n    </tr>\n    <tr>\n      <th>recall</th>\n      <td>0.346412</td>\n    </tr>\n    <tr>\n      <th>f1</th>\n      <td>0.512983</td>\n    </tr>\n  </tbody>\n</table>\n</div>"
     },
     "execution_count": 46,
     "metadata": {},
     "output_type": "execute_result"
    }
   ],
   "source": [
    "testScores2ClustersSentiment = compute_test_scores(\n",
    "    dfSentiment2ClustersTfidfReviews['prediction'],\n",
    "    dfSentiment2ClustersTfidfReviews['textblob_prediction'])\n",
    "\n",
    "dfTestScores2ClustersSentiment = pd.DataFrame([testScores2ClustersSentiment])\n",
    "dfTestScores2ClustersSentiment.columns = ['accuracy', 'precision', 'recall', 'f1']\n",
    "dfTestScores2ClustersSentiment = dfTestScores2ClustersSentiment.T\n",
    "dfTestScores2ClustersSentiment.columns = ['scores']\n",
    "\n",
    "print('Scores for sentiment analysis with 2 clusters and no stopwords: ')\n",
    "dfTestScores2ClustersSentiment"
   ],
   "metadata": {
    "collapsed": false,
    "pycharm": {
     "name": "#%%\n"
    }
   }
  },
  {
   "cell_type": "code",
   "execution_count": 47,
   "outputs": [
    {
     "name": "stdout",
     "output_type": "stream",
     "text": [
      "       0       1\n",
      "0    947    2976\n",
      "1  85726  169118\n",
      "Scores for sentiment analysis with 3 clusters and no stopwords: \n"
     ]
    },
    {
     "data": {
      "text/plain": "             scores\naccuracy   0.657213\nprecision  0.982707\nrecall     0.663614\nf1         0.792237",
      "text/html": "<div>\n<style scoped>\n    .dataframe tbody tr th:only-of-type {\n        vertical-align: middle;\n    }\n\n    .dataframe tbody tr th {\n        vertical-align: top;\n    }\n\n    .dataframe thead th {\n        text-align: right;\n    }\n</style>\n<table border=\"1\" class=\"dataframe\">\n  <thead>\n    <tr style=\"text-align: right;\">\n      <th></th>\n      <th>scores</th>\n    </tr>\n  </thead>\n  <tbody>\n    <tr>\n      <th>accuracy</th>\n      <td>0.657213</td>\n    </tr>\n    <tr>\n      <th>precision</th>\n      <td>0.982707</td>\n    </tr>\n    <tr>\n      <th>recall</th>\n      <td>0.663614</td>\n    </tr>\n    <tr>\n      <th>f1</th>\n      <td>0.792237</td>\n    </tr>\n  </tbody>\n</table>\n</div>"
     },
     "execution_count": 47,
     "metadata": {},
     "output_type": "execute_result"
    }
   ],
   "source": [
    "testScores3ClustersSentiment = compute_test_scores(\n",
    "    dfSentiment3ClustersTfidfReviews['prediction'],\n",
    "    dfSentiment3ClustersTfidfReviews['textblob_prediction'])\n",
    "\n",
    "dfTestScores3ClustersSentiment = pd.DataFrame([testScores3ClustersSentiment])\n",
    "dfTestScores3ClustersSentiment.columns = ['accuracy', 'precision', 'recall', 'f1']\n",
    "dfTestScores3ClustersSentiment = dfTestScores3ClustersSentiment.T\n",
    "dfTestScores3ClustersSentiment.columns = ['scores']\n",
    "\n",
    "print('Scores for sentiment analysis with 3 clusters and no stopwords: ')\n",
    "dfTestScores3ClustersSentiment\n"
   ],
   "metadata": {
    "collapsed": false,
    "pycharm": {
     "name": "#%%\n"
    }
   }
  }
 ],
 "metadata": {
  "kernelspec": {
   "display_name": "Python 3",
   "language": "python",
   "name": "python3"
  },
  "language_info": {
   "codemirror_mode": {
    "name": "ipython",
    "version": 2
   },
   "file_extension": ".py",
   "mimetype": "text/x-python",
   "name": "python",
   "nbconvert_exporter": "python",
   "pygments_lexer": "ipython2",
   "version": "2.7.6"
  }
 },
 "nbformat": 4,
 "nbformat_minor": 0
}