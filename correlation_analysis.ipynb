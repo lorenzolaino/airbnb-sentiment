{
 "cells": [
  {
   "cell_type": "code",
   "execution_count": 42,
   "metadata": {
    "collapsed": true
   },
   "outputs": [],
   "source": [
    "import zipfile36 as zipfile\n",
    "import pandas as pd\n",
    "import calendar\n",
    "import matplotlib.pyplot as plt\n",
    "from datetime import date"
   ]
  },
  {
   "cell_type": "markdown",
   "source": [
    "## 7. Relationships' investigation between price and calendar features\n",
    "\n"
   ],
   "metadata": {
    "collapsed": false,
    "pycharm": {
     "name": "#%% md\n"
    }
   }
  },
  {
   "cell_type": "markdown",
   "source": [
    "### 7.1 Import of the dataset"
   ],
   "metadata": {
    "collapsed": false,
    "pycharm": {
     "name": "#%% md\n"
    }
   }
  },
  {
   "cell_type": "code",
   "execution_count": 31,
   "outputs": [
    {
     "data": {
      "text/plain": "   listing_id        date available price\n0        2015  2019-09-10         f   NaN\n1        2015  2019-09-09         f   NaN\n2        2015  2019-09-08         f   NaN\n3        2015  2019-09-07         f   NaN\n4        2015  2019-09-06         f   NaN",
      "text/html": "<div>\n<style scoped>\n    .dataframe tbody tr th:only-of-type {\n        vertical-align: middle;\n    }\n\n    .dataframe tbody tr th {\n        vertical-align: top;\n    }\n\n    .dataframe thead th {\n        text-align: right;\n    }\n</style>\n<table border=\"1\" class=\"dataframe\">\n  <thead>\n    <tr style=\"text-align: right;\">\n      <th></th>\n      <th>listing_id</th>\n      <th>date</th>\n      <th>available</th>\n      <th>price</th>\n    </tr>\n  </thead>\n  <tbody>\n    <tr>\n      <th>0</th>\n      <td>2015</td>\n      <td>2019-09-10</td>\n      <td>f</td>\n      <td>NaN</td>\n    </tr>\n    <tr>\n      <th>1</th>\n      <td>2015</td>\n      <td>2019-09-09</td>\n      <td>f</td>\n      <td>NaN</td>\n    </tr>\n    <tr>\n      <th>2</th>\n      <td>2015</td>\n      <td>2019-09-08</td>\n      <td>f</td>\n      <td>NaN</td>\n    </tr>\n    <tr>\n      <th>3</th>\n      <td>2015</td>\n      <td>2019-09-07</td>\n      <td>f</td>\n      <td>NaN</td>\n    </tr>\n    <tr>\n      <th>4</th>\n      <td>2015</td>\n      <td>2019-09-06</td>\n      <td>f</td>\n      <td>NaN</td>\n    </tr>\n  </tbody>\n</table>\n</div>"
     },
     "execution_count": 31,
     "metadata": {},
     "output_type": "execute_result"
    }
   ],
   "source": [
    "zf = zipfile.ZipFile('berlin-airbnb-data.zip')\n",
    "dfPricesDates = pd.read_csv(zf.open('calendar_summary.csv'))\n",
    "dfPricesDates.head()"
   ],
   "metadata": {
    "collapsed": false,
    "pycharm": {
     "name": "#%%\n"
    }
   }
  },
  {
   "cell_type": "markdown",
   "source": [
    "### 7.2 Columns exploration\n",
    "\n",
    "Once the dataset is imported, it is needed to explore its columns to check whether\n",
    "some data preprocessing technique should be applied.\n",
    "\n",
    "The first step concerns the removal of the null data-points."
   ],
   "metadata": {
    "collapsed": false,
    "pycharm": {
     "name": "#%% md\n"
    }
   }
  },
  {
   "cell_type": "code",
   "execution_count": 32,
   "outputs": [
    {
     "name": "stdout",
     "output_type": "stream",
     "text": [
      "<class 'pandas.core.frame.DataFrame'>\n",
      "RangeIndex: 8231480 entries, 0 to 8231479\n",
      "Data columns (total 4 columns):\n",
      " #   Column      Dtype \n",
      "---  ------      ----- \n",
      " 0   listing_id  int64 \n",
      " 1   date        object\n",
      " 2   available   object\n",
      " 3   price       object\n",
      "dtypes: int64(1), object(3)\n",
      "memory usage: 251.2+ MB\n"
     ]
    }
   ],
   "source": [
    "dfPricesDates.info()"
   ],
   "metadata": {
    "collapsed": false,
    "pycharm": {
     "name": "#%%\n"
    }
   }
  },
  {
   "cell_type": "code",
   "execution_count": 33,
   "outputs": [
    {
     "name": "stdout",
     "output_type": "stream",
     "text": [
      "Number of null rows: 6430639\n"
     ]
    }
   ],
   "source": [
    "print('Number of null rows:', dfPricesDates['price'].isnull().sum())"
   ],
   "metadata": {
    "collapsed": false,
    "pycharm": {
     "name": "#%%\n"
    }
   }
  },
  {
   "cell_type": "code",
   "execution_count": 34,
   "outputs": [
    {
     "name": "stdout",
     "output_type": "stream",
     "text": [
      "<class 'pandas.core.frame.DataFrame'>\n",
      "Int64Index: 1800841 entries, 128 to 8231474\n",
      "Data columns (total 4 columns):\n",
      " #   Column      Dtype \n",
      "---  ------      ----- \n",
      " 0   listing_id  int64 \n",
      " 1   date        object\n",
      " 2   available   object\n",
      " 3   price       object\n",
      "dtypes: int64(1), object(3)\n",
      "memory usage: 68.7+ MB\n"
     ]
    }
   ],
   "source": [
    "dfPricesDates.dropna(axis=0, how='any', inplace=True)\n",
    "dfPricesDates.info()"
   ],
   "metadata": {
    "collapsed": false,
    "pycharm": {
     "name": "#%%\n"
    }
   }
  },
  {
   "cell_type": "markdown",
   "source": [
    "Since the 'available' column only contains a single value, it can be dropped."
   ],
   "metadata": {
    "collapsed": false,
    "pycharm": {
     "name": "#%% md\n"
    }
   }
  },
  {
   "cell_type": "code",
   "execution_count": 35,
   "outputs": [
    {
     "data": {
      "text/plain": "array(['t'], dtype=object)"
     },
     "execution_count": 35,
     "metadata": {},
     "output_type": "execute_result"
    }
   ],
   "source": [
    "dfPricesDates['available'].unique()"
   ],
   "metadata": {
    "collapsed": false,
    "pycharm": {
     "name": "#%%\n"
    }
   }
  },
  {
   "cell_type": "code",
   "execution_count": 36,
   "outputs": [
    {
     "data": {
      "text/plain": "     listing_id        date   price\n128        2015  2019-05-05  $76.00\n129        2015  2019-05-04  $76.00\n130        2015  2019-05-03  $76.00\n131        2015  2019-05-02  $76.00\n132        2015  2019-05-01  $78.00",
      "text/html": "<div>\n<style scoped>\n    .dataframe tbody tr th:only-of-type {\n        vertical-align: middle;\n    }\n\n    .dataframe tbody tr th {\n        vertical-align: top;\n    }\n\n    .dataframe thead th {\n        text-align: right;\n    }\n</style>\n<table border=\"1\" class=\"dataframe\">\n  <thead>\n    <tr style=\"text-align: right;\">\n      <th></th>\n      <th>listing_id</th>\n      <th>date</th>\n      <th>price</th>\n    </tr>\n  </thead>\n  <tbody>\n    <tr>\n      <th>128</th>\n      <td>2015</td>\n      <td>2019-05-05</td>\n      <td>$76.00</td>\n    </tr>\n    <tr>\n      <th>129</th>\n      <td>2015</td>\n      <td>2019-05-04</td>\n      <td>$76.00</td>\n    </tr>\n    <tr>\n      <th>130</th>\n      <td>2015</td>\n      <td>2019-05-03</td>\n      <td>$76.00</td>\n    </tr>\n    <tr>\n      <th>131</th>\n      <td>2015</td>\n      <td>2019-05-02</td>\n      <td>$76.00</td>\n    </tr>\n    <tr>\n      <th>132</th>\n      <td>2015</td>\n      <td>2019-05-01</td>\n      <td>$78.00</td>\n    </tr>\n  </tbody>\n</table>\n</div>"
     },
     "execution_count": 36,
     "metadata": {},
     "output_type": "execute_result"
    }
   ],
   "source": [
    "dfPricesDates.drop(columns=['available'], inplace=True)\n",
    "dfPricesDates.head()"
   ],
   "metadata": {
    "collapsed": false,
    "pycharm": {
     "name": "#%%\n"
    }
   }
  },
  {
   "cell_type": "markdown",
   "source": [
    "In order to deal with the 'price' column, its values need to be converted into numeric."
   ],
   "metadata": {
    "collapsed": false,
    "pycharm": {
     "name": "#%% md\n"
    }
   }
  },
  {
   "cell_type": "code",
   "execution_count": 37,
   "outputs": [
    {
     "data": {
      "text/plain": "str"
     },
     "execution_count": 37,
     "metadata": {},
     "output_type": "execute_result"
    }
   ],
   "source": [
    "type(dfPricesDates['price'].iloc[0])"
   ],
   "metadata": {
    "collapsed": false,
    "pycharm": {
     "name": "#%%\n"
    }
   }
  },
  {
   "cell_type": "code",
   "execution_count": 38,
   "outputs": [
    {
     "name": "stdout",
     "output_type": "stream",
     "text": [
      "<class 'pandas.core.frame.DataFrame'>\n",
      "Int64Index: 1800841 entries, 128 to 8231474\n",
      "Data columns (total 3 columns):\n",
      " #   Column      Dtype  \n",
      "---  ------      -----  \n",
      " 0   listing_id  int64  \n",
      " 1   date        object \n",
      " 2   price       float64\n",
      "dtypes: float64(1), int64(1), object(1)\n",
      "memory usage: 55.0+ MB\n"
     ]
    }
   ],
   "source": [
    "dfPricesDates['price'] = dfPricesDates['price'].apply(\n",
    "    lambda x: x.replace(',', ''))\n",
    "\n",
    "dfPricesDates['price'] = dfPricesDates['price'].apply(\n",
    "    lambda x: float(x[1:]))\n",
    "\n",
    "dfPricesDates.info()"
   ],
   "metadata": {
    "collapsed": false,
    "pycharm": {
     "name": "#%%\n"
    }
   }
  },
  {
   "cell_type": "markdown",
   "source": [
    "Finally, also the type of the 'date' column is converted into datetime."
   ],
   "metadata": {
    "collapsed": false,
    "pycharm": {
     "name": "#%% md\n"
    }
   }
  },
  {
   "cell_type": "code",
   "execution_count": 39,
   "outputs": [
    {
     "name": "stdout",
     "output_type": "stream",
     "text": [
      "<class 'pandas.core.frame.DataFrame'>\n",
      "Int64Index: 1800841 entries, 128 to 8231474\n",
      "Data columns (total 3 columns):\n",
      " #   Column      Dtype  \n",
      "---  ------      -----  \n",
      " 0   listing_id  int64  \n",
      " 1   date        object \n",
      " 2   price       float64\n",
      "dtypes: float64(1), int64(1), object(1)\n",
      "memory usage: 55.0+ MB\n"
     ]
    }
   ],
   "source": [
    "dfPricesDates.info()"
   ],
   "metadata": {
    "collapsed": false,
    "pycharm": {
     "name": "#%%\n"
    }
   }
  },
  {
   "cell_type": "code",
   "execution_count": 40,
   "outputs": [
    {
     "name": "stdout",
     "output_type": "stream",
     "text": [
      "<class 'pandas.core.frame.DataFrame'>\n",
      "Int64Index: 1800841 entries, 128 to 8231474\n",
      "Data columns (total 3 columns):\n",
      " #   Column      Dtype         \n",
      "---  ------      -----         \n",
      " 0   listing_id  int64         \n",
      " 1   date        datetime64[ns]\n",
      " 2   price       float64       \n",
      "dtypes: datetime64[ns](1), float64(1), int64(1)\n",
      "memory usage: 55.0 MB\n"
     ]
    }
   ],
   "source": [
    "dfPricesDates['date'] = pd.to_datetime(dfPricesDates['date'])\n",
    "dfPricesDates.info()"
   ],
   "metadata": {
    "collapsed": false,
    "pycharm": {
     "name": "#%%\n"
    }
   }
  },
  {
   "cell_type": "code",
   "execution_count": 113,
   "outputs": [
    {
     "data": {
      "text/plain": "     listing_id       date  price    weekday  season  holidays\n128        2015 2019-05-05   76.0     Sunday  spring         0\n129        2015 2019-05-04   76.0   Saturday  spring         0\n130        2015 2019-05-03   76.0     Friday  spring         0\n131        2015 2019-05-02   76.0   Thursday  spring         0\n132        2015 2019-05-01   78.0  Wednesday  spring         1",
      "text/html": "<div>\n<style scoped>\n    .dataframe tbody tr th:only-of-type {\n        vertical-align: middle;\n    }\n\n    .dataframe tbody tr th {\n        vertical-align: top;\n    }\n\n    .dataframe thead th {\n        text-align: right;\n    }\n</style>\n<table border=\"1\" class=\"dataframe\">\n  <thead>\n    <tr style=\"text-align: right;\">\n      <th></th>\n      <th>listing_id</th>\n      <th>date</th>\n      <th>price</th>\n      <th>weekday</th>\n      <th>season</th>\n      <th>holidays</th>\n    </tr>\n  </thead>\n  <tbody>\n    <tr>\n      <th>128</th>\n      <td>2015</td>\n      <td>2019-05-05</td>\n      <td>76.0</td>\n      <td>Sunday</td>\n      <td>spring</td>\n      <td>0</td>\n    </tr>\n    <tr>\n      <th>129</th>\n      <td>2015</td>\n      <td>2019-05-04</td>\n      <td>76.0</td>\n      <td>Saturday</td>\n      <td>spring</td>\n      <td>0</td>\n    </tr>\n    <tr>\n      <th>130</th>\n      <td>2015</td>\n      <td>2019-05-03</td>\n      <td>76.0</td>\n      <td>Friday</td>\n      <td>spring</td>\n      <td>0</td>\n    </tr>\n    <tr>\n      <th>131</th>\n      <td>2015</td>\n      <td>2019-05-02</td>\n      <td>76.0</td>\n      <td>Thursday</td>\n      <td>spring</td>\n      <td>0</td>\n    </tr>\n    <tr>\n      <th>132</th>\n      <td>2015</td>\n      <td>2019-05-01</td>\n      <td>78.0</td>\n      <td>Wednesday</td>\n      <td>spring</td>\n      <td>1</td>\n    </tr>\n  </tbody>\n</table>\n</div>"
     },
     "execution_count": 113,
     "metadata": {},
     "output_type": "execute_result"
    }
   ],
   "source": [
    "dfPricesDates.head()"
   ],
   "metadata": {
    "collapsed": false,
    "pycharm": {
     "name": "#%%\n"
    }
   }
  },
  {
   "cell_type": "markdown",
   "source": [
    "### 7.3 Price vs Day of the week"
   ],
   "metadata": {
    "collapsed": false,
    "pycharm": {
     "name": "#%% md\n"
    }
   }
  },
  {
   "cell_type": "code",
   "execution_count": 41,
   "outputs": [
    {
     "data": {
      "text/plain": "     listing_id       date  price    weekday\n128        2015 2019-05-05   76.0     Sunday\n129        2015 2019-05-04   76.0   Saturday\n130        2015 2019-05-03   76.0     Friday\n131        2015 2019-05-02   76.0   Thursday\n132        2015 2019-05-01   78.0  Wednesday",
      "text/html": "<div>\n<style scoped>\n    .dataframe tbody tr th:only-of-type {\n        vertical-align: middle;\n    }\n\n    .dataframe tbody tr th {\n        vertical-align: top;\n    }\n\n    .dataframe thead th {\n        text-align: right;\n    }\n</style>\n<table border=\"1\" class=\"dataframe\">\n  <thead>\n    <tr style=\"text-align: right;\">\n      <th></th>\n      <th>listing_id</th>\n      <th>date</th>\n      <th>price</th>\n      <th>weekday</th>\n    </tr>\n  </thead>\n  <tbody>\n    <tr>\n      <th>128</th>\n      <td>2015</td>\n      <td>2019-05-05</td>\n      <td>76.0</td>\n      <td>Sunday</td>\n    </tr>\n    <tr>\n      <th>129</th>\n      <td>2015</td>\n      <td>2019-05-04</td>\n      <td>76.0</td>\n      <td>Saturday</td>\n    </tr>\n    <tr>\n      <th>130</th>\n      <td>2015</td>\n      <td>2019-05-03</td>\n      <td>76.0</td>\n      <td>Friday</td>\n    </tr>\n    <tr>\n      <th>131</th>\n      <td>2015</td>\n      <td>2019-05-02</td>\n      <td>76.0</td>\n      <td>Thursday</td>\n    </tr>\n    <tr>\n      <th>132</th>\n      <td>2015</td>\n      <td>2019-05-01</td>\n      <td>78.0</td>\n      <td>Wednesday</td>\n    </tr>\n  </tbody>\n</table>\n</div>"
     },
     "execution_count": 41,
     "metadata": {},
     "output_type": "execute_result"
    }
   ],
   "source": [
    "dfPricesDates['weekday'] = dfPricesDates.apply(\n",
    "    lambda x: calendar.day_name[x['date'].weekday()], axis=1)\n",
    "\n",
    "dfPricesDates.head()"
   ],
   "metadata": {
    "collapsed": false,
    "pycharm": {
     "name": "#%%\n"
    }
   }
  },
  {
   "cell_type": "code",
   "execution_count": 49,
   "outputs": [
    {
     "data": {
      "text/plain": "<BarContainer object of 7 artists>"
     },
     "execution_count": 49,
     "metadata": {},
     "output_type": "execute_result"
    },
    {
     "data": {
      "text/plain": "<Figure size 432x288 with 1 Axes>",
      "image/png": "[encoded data removed]"
     },
     "metadata": {
      "needs_background": "light"
     },
     "output_type": "display_data"
    }
   ],
   "source": [
    "weekdayMeans = dfPricesDates.groupby('weekday').price.mean()\n",
    "plt.bar(weekdayMeans.index, weekdayMeans)"
   ],
   "metadata": {
    "collapsed": false,
    "pycharm": {
     "name": "#%%\n"
    }
   }
  },
  {
   "cell_type": "code",
   "execution_count": 56,
   "outputs": [
    {
     "data": {
      "text/plain": "listing_id  weekday \n2015        Friday      82.050000\n            Monday      81.900000\n            Saturday    82.100000\n            Sunday      81.714286\n            Thursday    81.750000\nName: price, dtype: float64"
     },
     "execution_count": 56,
     "metadata": {},
     "output_type": "execute_result"
    }
   ],
   "source": [
    "listingWeekdayMeans = dfPricesDates.groupby(['listing_id', 'weekday']).price.mean()\n",
    "listingWeekdayMeans.head()"
   ],
   "metadata": {
    "collapsed": false,
    "pycharm": {
     "name": "#%%\n"
    }
   }
  },
  {
   "cell_type": "code",
   "execution_count": 70,
   "outputs": [
    {
     "data": {
      "text/plain": "weekday     Friday  Monday  Saturday      Sunday  Thursday  Tuesday  Wednesday\nlisting_id                                                                    \n2015         82.05    81.9      82.1   81.714286     81.75     81.9       81.9\n3176         90.00    90.0      90.0   90.000000     90.00     90.0       90.0\n3309         30.00    26.0      30.0   26.000000     26.00     26.0       26.0\n7071         44.50    44.4      44.0   44.250000     44.50     44.4       44.5\n9991        180.00   180.0     180.0  180.000000    180.00    180.0      180.0",
      "text/html": "<div>\n<style scoped>\n    .dataframe tbody tr th:only-of-type {\n        vertical-align: middle;\n    }\n\n    .dataframe tbody tr th {\n        vertical-align: top;\n    }\n\n    .dataframe thead th {\n        text-align: right;\n    }\n</style>\n<table border=\"1\" class=\"dataframe\">\n  <thead>\n    <tr style=\"text-align: right;\">\n      <th>weekday</th>\n      <th>Friday</th>\n      <th>Monday</th>\n      <th>Saturday</th>\n      <th>Sunday</th>\n      <th>Thursday</th>\n      <th>Tuesday</th>\n      <th>Wednesday</th>\n    </tr>\n    <tr>\n      <th>listing_id</th>\n      <th></th>\n      <th></th>\n      <th></th>\n      <th></th>\n      <th></th>\n      <th></th>\n      <th></th>\n    </tr>\n  </thead>\n  <tbody>\n    <tr>\n      <th>2015</th>\n      <td>82.05</td>\n      <td>81.9</td>\n      <td>82.1</td>\n      <td>81.714286</td>\n      <td>81.75</td>\n      <td>81.9</td>\n      <td>81.9</td>\n    </tr>\n    <tr>\n      <th>3176</th>\n      <td>90.00</td>\n      <td>90.0</td>\n      <td>90.0</td>\n      <td>90.000000</td>\n      <td>90.00</td>\n      <td>90.0</td>\n      <td>90.0</td>\n    </tr>\n    <tr>\n      <th>3309</th>\n      <td>30.00</td>\n      <td>26.0</td>\n      <td>30.0</td>\n      <td>26.000000</td>\n      <td>26.00</td>\n      <td>26.0</td>\n      <td>26.0</td>\n    </tr>\n    <tr>\n      <th>7071</th>\n      <td>44.50</td>\n      <td>44.4</td>\n      <td>44.0</td>\n      <td>44.250000</td>\n      <td>44.50</td>\n      <td>44.4</td>\n      <td>44.5</td>\n    </tr>\n    <tr>\n      <th>9991</th>\n      <td>180.00</td>\n      <td>180.0</td>\n      <td>180.0</td>\n      <td>180.000000</td>\n      <td>180.00</td>\n      <td>180.0</td>\n      <td>180.0</td>\n    </tr>\n  </tbody>\n</table>\n</div>"
     },
     "execution_count": 70,
     "metadata": {},
     "output_type": "execute_result"
    }
   ],
   "source": [
    "dfListingWeekdayMeans = listingWeekdayMeans.unstack(level=1)\n",
    "dfListingWeekdayMeans.head()"
   ],
   "metadata": {
    "collapsed": false,
    "pycharm": {
     "name": "#%%\n"
    }
   }
  },
  {
   "cell_type": "code",
   "execution_count": 77,
   "outputs": [
    {
     "data": {
      "text/plain": "weekday      Friday    Monday  Saturday    Sunday  Thursday   Tuesday  \\\nweekday                                                                 \nFriday     1.000000  0.940464  0.988121  0.946481  0.947083  0.940855   \nMonday     0.940464  1.000000  0.941439  0.978557  0.972232  0.985404   \nSaturday   0.988121  0.941439  1.000000  0.951268  0.942558  0.940675   \nSunday     0.946481  0.978557  0.951268  1.000000  0.973341  0.974599   \nThursday   0.947083  0.972232  0.942558  0.973341  1.000000  0.975663   \nTuesday    0.940855  0.985404  0.940675  0.974599  0.975663  1.000000   \nWednesday  0.943441  0.977170  0.941255  0.972011  0.983496  0.984663   \n\nweekday    Wednesday  \nweekday               \nFriday      0.943441  \nMonday      0.977170  \nSaturday    0.941255  \nSunday      0.972011  \nThursday    0.983496  \nTuesday     0.984663  \nWednesday   1.000000  ",
      "text/html": "<div>\n<style scoped>\n    .dataframe tbody tr th:only-of-type {\n        vertical-align: middle;\n    }\n\n    .dataframe tbody tr th {\n        vertical-align: top;\n    }\n\n    .dataframe thead th {\n        text-align: right;\n    }\n</style>\n<table border=\"1\" class=\"dataframe\">\n  <thead>\n    <tr style=\"text-align: right;\">\n      <th>weekday</th>\n      <th>Friday</th>\n      <th>Monday</th>\n      <th>Saturday</th>\n      <th>Sunday</th>\n      <th>Thursday</th>\n      <th>Tuesday</th>\n      <th>Wednesday</th>\n    </tr>\n    <tr>\n      <th>weekday</th>\n      <th></th>\n      <th></th>\n      <th></th>\n      <th></th>\n      <th></th>\n      <th></th>\n      <th></th>\n    </tr>\n  </thead>\n  <tbody>\n    <tr>\n      <th>Friday</th>\n      <td>1.000000</td>\n      <td>0.940464</td>\n      <td>0.988121</td>\n      <td>0.946481</td>\n      <td>0.947083</td>\n      <td>0.940855</td>\n      <td>0.943441</td>\n    </tr>\n    <tr>\n      <th>Monday</th>\n      <td>0.940464</td>\n      <td>1.000000</td>\n      <td>0.941439</td>\n      <td>0.978557</td>\n      <td>0.972232</td>\n      <td>0.985404</td>\n      <td>0.977170</td>\n    </tr>\n    <tr>\n      <th>Saturday</th>\n      <td>0.988121</td>\n      <td>0.941439</td>\n      <td>1.000000</td>\n      <td>0.951268</td>\n      <td>0.942558</td>\n      <td>0.940675</td>\n      <td>0.941255</td>\n    </tr>\n    <tr>\n      <th>Sunday</th>\n      <td>0.946481</td>\n      <td>0.978557</td>\n      <td>0.951268</td>\n      <td>1.000000</td>\n      <td>0.973341</td>\n      <td>0.974599</td>\n      <td>0.972011</td>\n    </tr>\n    <tr>\n      <th>Thursday</th>\n      <td>0.947083</td>\n      <td>0.972232</td>\n      <td>0.942558</td>\n      <td>0.973341</td>\n      <td>1.000000</td>\n      <td>0.975663</td>\n      <td>0.983496</td>\n    </tr>\n    <tr>\n      <th>Tuesday</th>\n      <td>0.940855</td>\n      <td>0.985404</td>\n      <td>0.940675</td>\n      <td>0.974599</td>\n      <td>0.975663</td>\n      <td>1.000000</td>\n      <td>0.984663</td>\n    </tr>\n    <tr>\n      <th>Wednesday</th>\n      <td>0.943441</td>\n      <td>0.977170</td>\n      <td>0.941255</td>\n      <td>0.972011</td>\n      <td>0.983496</td>\n      <td>0.984663</td>\n      <td>1.000000</td>\n    </tr>\n  </tbody>\n</table>\n</div>"
     },
     "execution_count": 77,
     "metadata": {},
     "output_type": "execute_result"
    }
   ],
   "source": [
    "dfListingWeekdayMeans.corr(method='kendall')"
   ],
   "metadata": {
    "collapsed": false,
    "pycharm": {
     "name": "#%%\n"
    }
   }
  },
  {
   "cell_type": "markdown",
   "source": [
    "The correlation matrix shows that all the features are very highly correlated.\n",
    "So, it is possible to state that there are, meanly, very slight differences between\n",
    "the prices of the listings in the different days of the week."
   ],
   "metadata": {
    "collapsed": false,
    "pycharm": {
     "name": "#%% md\n"
    }
   }
  },
  {
   "cell_type": "markdown",
   "source": [
    "### 7.4 Price vs Season"
   ],
   "metadata": {
    "collapsed": false,
    "pycharm": {
     "name": "#%% md\n"
    }
   }
  },
  {
   "cell_type": "code",
   "execution_count": 84,
   "outputs": [],
   "source": [
    "defaultYear = 2000\n",
    "seasons = [('winter', (date(defaultYear,  1,  1),  date(defaultYear,  3, 20))),\n",
    "           ('spring', (date(defaultYear,  3, 21),  date(defaultYear,  6, 20))),\n",
    "           ('summer', (date(defaultYear,  6, 21),  date(defaultYear,  9, 22))),\n",
    "           ('autumn', (date(defaultYear,  9, 23),  date(defaultYear, 12, 20))),\n",
    "           ('winter', (date(defaultYear, 12, 21),  date(defaultYear, 12, 31)))]\n",
    "\n",
    "def get_season(curr_date):\n",
    "    curr_date = curr_date.replace(year=defaultYear)\n",
    "    return next(season for season, (start, end) in seasons\n",
    "                if start <= curr_date <= end)"
   ],
   "metadata": {
    "collapsed": false,
    "pycharm": {
     "name": "#%%\n"
    }
   }
  },
  {
   "cell_type": "code",
   "execution_count": 85,
   "outputs": [
    {
     "data": {
      "text/plain": "     listing_id       date  price    weekday  season\n128        2015 2019-05-05   76.0     Sunday  spring\n129        2015 2019-05-04   76.0   Saturday  spring\n130        2015 2019-05-03   76.0     Friday  spring\n131        2015 2019-05-02   76.0   Thursday  spring\n132        2015 2019-05-01   78.0  Wednesday  spring",
      "text/html": "<div>\n<style scoped>\n    .dataframe tbody tr th:only-of-type {\n        vertical-align: middle;\n    }\n\n    .dataframe tbody tr th {\n        vertical-align: top;\n    }\n\n    .dataframe thead th {\n        text-align: right;\n    }\n</style>\n<table border=\"1\" class=\"dataframe\">\n  <thead>\n    <tr style=\"text-align: right;\">\n      <th></th>\n      <th>listing_id</th>\n      <th>date</th>\n      <th>price</th>\n      <th>weekday</th>\n      <th>season</th>\n    </tr>\n  </thead>\n  <tbody>\n    <tr>\n      <th>128</th>\n      <td>2015</td>\n      <td>2019-05-05</td>\n      <td>76.0</td>\n      <td>Sunday</td>\n      <td>spring</td>\n    </tr>\n    <tr>\n      <th>129</th>\n      <td>2015</td>\n      <td>2019-05-04</td>\n      <td>76.0</td>\n      <td>Saturday</td>\n      <td>spring</td>\n    </tr>\n    <tr>\n      <th>130</th>\n      <td>2015</td>\n      <td>2019-05-03</td>\n      <td>76.0</td>\n      <td>Friday</td>\n      <td>spring</td>\n    </tr>\n    <tr>\n      <th>131</th>\n      <td>2015</td>\n      <td>2019-05-02</td>\n      <td>76.0</td>\n      <td>Thursday</td>\n      <td>spring</td>\n    </tr>\n    <tr>\n      <th>132</th>\n      <td>2015</td>\n      <td>2019-05-01</td>\n      <td>78.0</td>\n      <td>Wednesday</td>\n      <td>spring</td>\n    </tr>\n  </tbody>\n</table>\n</div>"
     },
     "execution_count": 85,
     "metadata": {},
     "output_type": "execute_result"
    }
   ],
   "source": [
    "dfPricesDates['season'] = dfPricesDates['date'].apply(\n",
    "    lambda x: get_season(x))\n",
    "\n",
    "dfPricesDates.head()"
   ],
   "metadata": {
    "collapsed": false,
    "pycharm": {
     "name": "#%%\n"
    }
   }
  },
  {
   "cell_type": "code",
   "execution_count": 86,
   "outputs": [
    {
     "data": {
      "text/plain": "<BarContainer object of 4 artists>"
     },
     "execution_count": 86,
     "metadata": {},
     "output_type": "execute_result"
    },
    {
     "data": {
      "text/plain": "<Figure size 432x288 with 1 Axes>",
      "image/png": "[encoded data removed]"
     },
     "metadata": {
      "needs_background": "light"
     },
     "output_type": "display_data"
    }
   ],
   "source": [
    "seasonMeans = dfPricesDates.groupby('season').price.mean()\n",
    "plt.bar(seasonMeans.index, seasonMeans)"
   ],
   "metadata": {
    "collapsed": false,
    "pycharm": {
     "name": "#%%\n"
    }
   }
  },
  {
   "cell_type": "code",
   "execution_count": 87,
   "outputs": [
    {
     "data": {
      "text/plain": "listing_id  season\n2015        autumn    76.000000\n            spring    76.891304\n            winter    84.788889\n3176        autumn    90.000000\n            spring    90.000000\nName: price, dtype: float64"
     },
     "execution_count": 87,
     "metadata": {},
     "output_type": "execute_result"
    }
   ],
   "source": [
    "listingSeasonMeans = dfPricesDates.groupby(['listing_id', 'season']).price.mean()\n",
    "listingSeasonMeans.head()"
   ],
   "metadata": {
    "collapsed": false,
    "pycharm": {
     "name": "#%%\n"
    }
   }
  },
  {
   "cell_type": "code",
   "execution_count": 88,
   "outputs": [
    {
     "data": {
      "text/plain": "season          autumn     spring      summer      winter\nlisting_id                                               \n2015         76.000000  76.891304         NaN   84.788889\n3176         90.000000  90.000000   90.000000         NaN\n3309         27.066667  27.130435   27.191489   27.090909\n7071         44.384615        NaN         NaN         NaN\n9991        180.000000        NaN  180.000000  180.000000",
      "text/html": "<div>\n<style scoped>\n    .dataframe tbody tr th:only-of-type {\n        vertical-align: middle;\n    }\n\n    .dataframe tbody tr th {\n        vertical-align: top;\n    }\n\n    .dataframe thead th {\n        text-align: right;\n    }\n</style>\n<table border=\"1\" class=\"dataframe\">\n  <thead>\n    <tr style=\"text-align: right;\">\n      <th>season</th>\n      <th>autumn</th>\n      <th>spring</th>\n      <th>summer</th>\n      <th>winter</th>\n    </tr>\n    <tr>\n      <th>listing_id</th>\n      <th></th>\n      <th></th>\n      <th></th>\n      <th></th>\n    </tr>\n  </thead>\n  <tbody>\n    <tr>\n      <th>2015</th>\n      <td>76.000000</td>\n      <td>76.891304</td>\n      <td>NaN</td>\n      <td>84.788889</td>\n    </tr>\n    <tr>\n      <th>3176</th>\n      <td>90.000000</td>\n      <td>90.000000</td>\n      <td>90.000000</td>\n      <td>NaN</td>\n    </tr>\n    <tr>\n      <th>3309</th>\n      <td>27.066667</td>\n      <td>27.130435</td>\n      <td>27.191489</td>\n      <td>27.090909</td>\n    </tr>\n    <tr>\n      <th>7071</th>\n      <td>44.384615</td>\n      <td>NaN</td>\n      <td>NaN</td>\n      <td>NaN</td>\n    </tr>\n    <tr>\n      <th>9991</th>\n      <td>180.000000</td>\n      <td>NaN</td>\n      <td>180.000000</td>\n      <td>180.000000</td>\n    </tr>\n  </tbody>\n</table>\n</div>"
     },
     "execution_count": 88,
     "metadata": {},
     "output_type": "execute_result"
    }
   ],
   "source": [
    "dfListingSeasonMeans = listingSeasonMeans.unstack(level=1)\n",
    "dfListingSeasonMeans.head()"
   ],
   "metadata": {
    "collapsed": false,
    "pycharm": {
     "name": "#%%\n"
    }
   }
  },
  {
   "cell_type": "markdown",
   "source": [
    "Some listings show NaN values when the mean of the price for a season is considered.\n",
    "This may be caused by the unavailability of the listing during that considered period.\n",
    "So, these listings are not considered in the correlation analysis."
   ],
   "metadata": {
    "collapsed": false,
    "pycharm": {
     "name": "#%% md\n"
    }
   }
  },
  {
   "cell_type": "code",
   "execution_count": 90,
   "outputs": [
    {
     "name": "stdout",
     "output_type": "stream",
     "text": [
      "<class 'pandas.core.frame.DataFrame'>\n",
      "Int64Index: 11764 entries, 2015 to 29867352\n",
      "Data columns (total 4 columns):\n",
      " #   Column  Non-Null Count  Dtype  \n",
      "---  ------  --------------  -----  \n",
      " 0   autumn  10244 non-null  float64\n",
      " 1   spring  6603 non-null   float64\n",
      " 2   summer  5172 non-null   float64\n",
      " 3   winter  9896 non-null   float64\n",
      "dtypes: float64(4)\n",
      "memory usage: 459.5 KB\n"
     ]
    }
   ],
   "source": [
    "dfListingSeasonMeans.info()"
   ],
   "metadata": {
    "collapsed": false,
    "pycharm": {
     "name": "#%%\n"
    }
   }
  },
  {
   "cell_type": "code",
   "execution_count": 91,
   "outputs": [
    {
     "name": "stdout",
     "output_type": "stream",
     "text": [
      "<class 'pandas.core.frame.DataFrame'>\n",
      "Int64Index: 4364 entries, 3309 to 29856708\n",
      "Data columns (total 4 columns):\n",
      " #   Column  Non-Null Count  Dtype  \n",
      "---  ------  --------------  -----  \n",
      " 0   autumn  4364 non-null   float64\n",
      " 1   spring  4364 non-null   float64\n",
      " 2   summer  4364 non-null   float64\n",
      " 3   winter  4364 non-null   float64\n",
      "dtypes: float64(4)\n",
      "memory usage: 170.5 KB\n"
     ]
    }
   ],
   "source": [
    "dfListingSeasonNonNullMeans = dfListingSeasonMeans.dropna(axis=0, how='any')\n",
    "dfListingSeasonNonNullMeans.info()"
   ],
   "metadata": {
    "collapsed": false,
    "pycharm": {
     "name": "#%%\n"
    }
   }
  },
  {
   "cell_type": "code",
   "execution_count": 92,
   "outputs": [
    {
     "data": {
      "text/plain": "season    autumn    spring    summer    winter\nseason                                        \nautumn  1.000000  0.947105  0.946358  0.907222\nspring  0.947105  1.000000  0.964082  0.917361\nsummer  0.946358  0.964082  1.000000  0.892573\nwinter  0.907222  0.917361  0.892573  1.000000",
      "text/html": "<div>\n<style scoped>\n    .dataframe tbody tr th:only-of-type {\n        vertical-align: middle;\n    }\n\n    .dataframe tbody tr th {\n        vertical-align: top;\n    }\n\n    .dataframe thead th {\n        text-align: right;\n    }\n</style>\n<table border=\"1\" class=\"dataframe\">\n  <thead>\n    <tr style=\"text-align: right;\">\n      <th>season</th>\n      <th>autumn</th>\n      <th>spring</th>\n      <th>summer</th>\n      <th>winter</th>\n    </tr>\n    <tr>\n      <th>season</th>\n      <th></th>\n      <th></th>\n      <th></th>\n      <th></th>\n    </tr>\n  </thead>\n  <tbody>\n    <tr>\n      <th>autumn</th>\n      <td>1.000000</td>\n      <td>0.947105</td>\n      <td>0.946358</td>\n      <td>0.907222</td>\n    </tr>\n    <tr>\n      <th>spring</th>\n      <td>0.947105</td>\n      <td>1.000000</td>\n      <td>0.964082</td>\n      <td>0.917361</td>\n    </tr>\n    <tr>\n      <th>summer</th>\n      <td>0.946358</td>\n      <td>0.964082</td>\n      <td>1.000000</td>\n      <td>0.892573</td>\n    </tr>\n    <tr>\n      <th>winter</th>\n      <td>0.907222</td>\n      <td>0.917361</td>\n      <td>0.892573</td>\n      <td>1.000000</td>\n    </tr>\n  </tbody>\n</table>\n</div>"
     },
     "execution_count": 92,
     "metadata": {},
     "output_type": "execute_result"
    }
   ],
   "source": [
    "dfListingSeasonNonNullMeans.corr(method='kendall')"
   ],
   "metadata": {
    "collapsed": false,
    "pycharm": {
     "name": "#%%\n"
    }
   }
  },
  {
   "cell_type": "markdown",
   "source": [
    "Even in this case, the correlation matrix shows that all the features are very highly\n",
    "correlated.\n",
    "So, it is possible to state that there are, meanly, very slight differences between\n",
    "the prices of the listings in the different seasons."
   ],
   "metadata": {
    "collapsed": false,
    "pycharm": {
     "name": "#%% md\n"
    }
   }
  },
  {
   "cell_type": "markdown",
   "source": [
    "### 7.5 Price vs Holiday"
   ],
   "metadata": {
    "collapsed": false,
    "pycharm": {
     "name": "#%% md\n"
    }
   }
  },
  {
   "cell_type": "markdown",
   "source": [
    "In order to check whether a certain date is considered as holiday, the holidays\n",
    "library is used."
   ],
   "metadata": {
    "collapsed": false,
    "pycharm": {
     "name": "#%% md\n"
    }
   }
  },
  {
   "cell_type": "code",
   "execution_count": 102,
   "outputs": [],
   "source": [
    "import holidays\n",
    "\n",
    "germanHolidays = holidays.Germany()"
   ],
   "metadata": {
    "collapsed": false,
    "pycharm": {
     "name": "#%%\n"
    }
   }
  },
  {
   "cell_type": "code",
   "execution_count": 115,
   "outputs": [
    {
     "data": {
      "text/plain": "     listing_id       date  price    weekday  season  holidays\n128        2015 2019-05-05   76.0     Sunday  spring         1\n129        2015 2019-05-04   76.0   Saturday  spring         0\n130        2015 2019-05-03   76.0     Friday  spring         0\n131        2015 2019-05-02   76.0   Thursday  spring         0\n132        2015 2019-05-01   78.0  Wednesday  spring         1",
      "text/html": "<div>\n<style scoped>\n    .dataframe tbody tr th:only-of-type {\n        vertical-align: middle;\n    }\n\n    .dataframe tbody tr th {\n        vertical-align: top;\n    }\n\n    .dataframe thead th {\n        text-align: right;\n    }\n</style>\n<table border=\"1\" class=\"dataframe\">\n  <thead>\n    <tr style=\"text-align: right;\">\n      <th></th>\n      <th>listing_id</th>\n      <th>date</th>\n      <th>price</th>\n      <th>weekday</th>\n      <th>season</th>\n      <th>holidays</th>\n    </tr>\n  </thead>\n  <tbody>\n    <tr>\n      <th>128</th>\n      <td>2015</td>\n      <td>2019-05-05</td>\n      <td>76.0</td>\n      <td>Sunday</td>\n      <td>spring</td>\n      <td>1</td>\n    </tr>\n    <tr>\n      <th>129</th>\n      <td>2015</td>\n      <td>2019-05-04</td>\n      <td>76.0</td>\n      <td>Saturday</td>\n      <td>spring</td>\n      <td>0</td>\n    </tr>\n    <tr>\n      <th>130</th>\n      <td>2015</td>\n      <td>2019-05-03</td>\n      <td>76.0</td>\n      <td>Friday</td>\n      <td>spring</td>\n      <td>0</td>\n    </tr>\n    <tr>\n      <th>131</th>\n      <td>2015</td>\n      <td>2019-05-02</td>\n      <td>76.0</td>\n      <td>Thursday</td>\n      <td>spring</td>\n      <td>0</td>\n    </tr>\n    <tr>\n      <th>132</th>\n      <td>2015</td>\n      <td>2019-05-01</td>\n      <td>78.0</td>\n      <td>Wednesday</td>\n      <td>spring</td>\n      <td>1</td>\n    </tr>\n  </tbody>\n</table>\n</div>"
     },
     "execution_count": 115,
     "metadata": {},
     "output_type": "execute_result"
    }
   ],
   "source": [
    "dfPricesDates['holidays'] = dfPricesDates.apply(\n",
    "    lambda x: int(x['date'] in germanHolidays or x['weekday'] == 'Sunday'), axis=1)\n",
    "\n",
    "dfPricesDates.head()"
   ],
   "metadata": {
    "collapsed": false,
    "pycharm": {
     "name": "#%%\n"
    }
   }
  },
  {
   "cell_type": "code",
   "execution_count": 116,
   "outputs": [
    {
     "data": {
      "text/plain": "<BarContainer object of 2 artists>"
     },
     "execution_count": 116,
     "metadata": {},
     "output_type": "execute_result"
    },
    {
     "data": {
      "text/plain": "<Figure size 432x288 with 1 Axes>",
      "image/png": "[encoded data removed]"
     },
     "metadata": {
      "needs_background": "light"
     },
     "output_type": "display_data"
    }
   ],
   "source": [
    "holidaysMeans = dfPricesDates.groupby('holidays').price.mean()\n",
    "plt.bar(holidaysMeans.index, holidaysMeans)"
   ],
   "metadata": {
    "collapsed": false,
    "pycharm": {
     "name": "#%%\n"
    }
   }
  },
  {
   "cell_type": "code",
   "execution_count": 117,
   "outputs": [
    {
     "data": {
      "text/plain": "listing_id  holidays\n2015        0           81.210526\n            1           84.814815\n3176        0           90.000000\n            1           90.000000\n3309        0           27.333333\nName: price, dtype: float64"
     },
     "execution_count": 117,
     "metadata": {},
     "output_type": "execute_result"
    }
   ],
   "source": [
    "listingHolidaysMeans = dfPricesDates.groupby(['listing_id', 'holidays']).price.mean()\n",
    "listingHolidaysMeans.head()"
   ],
   "metadata": {
    "collapsed": false,
    "pycharm": {
     "name": "#%%\n"
    }
   }
  },
  {
   "cell_type": "code",
   "execution_count": 118,
   "outputs": [
    {
     "data": {
      "text/plain": "holidays             0           1\nlisting_id                        \n2015         81.210526   84.814815\n3176         90.000000   90.000000\n3309         27.333333   26.083333\n7071         44.409091   44.250000\n9991        180.000000  180.000000",
      "text/html": "<div>\n<style scoped>\n    .dataframe tbody tr th:only-of-type {\n        vertical-align: middle;\n    }\n\n    .dataframe tbody tr th {\n        vertical-align: top;\n    }\n\n    .dataframe thead th {\n        text-align: right;\n    }\n</style>\n<table border=\"1\" class=\"dataframe\">\n  <thead>\n    <tr style=\"text-align: right;\">\n      <th>holidays</th>\n      <th>0</th>\n      <th>1</th>\n    </tr>\n    <tr>\n      <th>listing_id</th>\n      <th></th>\n      <th></th>\n    </tr>\n  </thead>\n  <tbody>\n    <tr>\n      <th>2015</th>\n      <td>81.210526</td>\n      <td>84.814815</td>\n    </tr>\n    <tr>\n      <th>3176</th>\n      <td>90.000000</td>\n      <td>90.000000</td>\n    </tr>\n    <tr>\n      <th>3309</th>\n      <td>27.333333</td>\n      <td>26.083333</td>\n    </tr>\n    <tr>\n      <th>7071</th>\n      <td>44.409091</td>\n      <td>44.250000</td>\n    </tr>\n    <tr>\n      <th>9991</th>\n      <td>180.000000</td>\n      <td>180.000000</td>\n    </tr>\n  </tbody>\n</table>\n</div>"
     },
     "execution_count": 118,
     "metadata": {},
     "output_type": "execute_result"
    }
   ],
   "source": [
    "dfListingHolidaysMeans = listingHolidaysMeans.unstack(level=1)\n",
    "dfListingHolidaysMeans.head()"
   ],
   "metadata": {
    "collapsed": false,
    "pycharm": {
     "name": "#%%\n"
    }
   }
  },
  {
   "cell_type": "markdown",
   "source": [
    "Some listings show NaN values when the mean of the price for a season is considered.\n",
    "This may be caused by the unavailability of the listing during that considered period.\n",
    "So, these listings are not initially considered in the correlation analysis."
   ],
   "metadata": {
    "collapsed": false
   }
  },
  {
   "cell_type": "code",
   "execution_count": 119,
   "outputs": [
    {
     "name": "stdout",
     "output_type": "stream",
     "text": [
      "<class 'pandas.core.frame.DataFrame'>\n",
      "Int64Index: 11764 entries, 2015 to 29867352\n",
      "Data columns (total 2 columns):\n",
      " #   Column  Non-Null Count  Dtype  \n",
      "---  ------  --------------  -----  \n",
      " 0   0       11722 non-null  float64\n",
      " 1   1       11376 non-null  float64\n",
      "dtypes: float64(2)\n",
      "memory usage: 275.7 KB\n"
     ]
    }
   ],
   "source": [
    "dfListingHolidaysMeans.info()"
   ],
   "metadata": {
    "collapsed": false,
    "pycharm": {
     "name": "#%%\n"
    }
   }
  },
  {
   "cell_type": "code",
   "execution_count": 120,
   "outputs": [
    {
     "name": "stdout",
     "output_type": "stream",
     "text": [
      "<class 'pandas.core.frame.DataFrame'>\n",
      "Int64Index: 11334 entries, 2015 to 29867352\n",
      "Data columns (total 2 columns):\n",
      " #   Column  Non-Null Count  Dtype  \n",
      "---  ------  --------------  -----  \n",
      " 0   0       11334 non-null  float64\n",
      " 1   1       11334 non-null  float64\n",
      "dtypes: float64(2)\n",
      "memory usage: 265.6 KB\n"
     ]
    }
   ],
   "source": [
    "dfListingHolidaysNonNullMeans = dfListingHolidaysMeans.dropna(axis=0, how='any')\n",
    "dfListingHolidaysNonNullMeans.info()"
   ],
   "metadata": {
    "collapsed": false,
    "pycharm": {
     "name": "#%%\n"
    }
   }
  },
  {
   "cell_type": "code",
   "execution_count": 121,
   "outputs": [
    {
     "data": {
      "text/plain": "holidays         0         1\nholidays                    \n0         1.000000  0.961755\n1         0.961755  1.000000",
      "text/html": "<div>\n<style scoped>\n    .dataframe tbody tr th:only-of-type {\n        vertical-align: middle;\n    }\n\n    .dataframe tbody tr th {\n        vertical-align: top;\n    }\n\n    .dataframe thead th {\n        text-align: right;\n    }\n</style>\n<table border=\"1\" class=\"dataframe\">\n  <thead>\n    <tr style=\"text-align: right;\">\n      <th>holidays</th>\n      <th>0</th>\n      <th>1</th>\n    </tr>\n    <tr>\n      <th>holidays</th>\n      <th></th>\n      <th></th>\n    </tr>\n  </thead>\n  <tbody>\n    <tr>\n      <th>0</th>\n      <td>1.000000</td>\n      <td>0.961755</td>\n    </tr>\n    <tr>\n      <th>1</th>\n      <td>0.961755</td>\n      <td>1.000000</td>\n    </tr>\n  </tbody>\n</table>\n</div>"
     },
     "execution_count": 121,
     "metadata": {},
     "output_type": "execute_result"
    }
   ],
   "source": [
    "dfListingHolidaysNonNullMeans.corr(method='kendall')"
   ],
   "metadata": {
    "collapsed": false,
    "pycharm": {
     "name": "#%%\n"
    }
   }
  },
  {
   "cell_type": "markdown",
   "source": [
    "Even in this case, the correlation matrix shows that all the features are very highly\n",
    "correlated.\n",
    "So, it is possible to state that there are, meanly, very slight differences between\n",
    "the prices of the listings in the different days of the week."
   ],
   "metadata": {
    "collapsed": false
   }
  },
  {
   "cell_type": "markdown",
   "source": [
    "## 8. Relationships' investigation between price and rooms' characteristics"
   ],
   "metadata": {
    "collapsed": false,
    "pycharm": {
     "name": "#%% md\n"
    }
   }
  },
  {
   "cell_type": "markdown",
   "source": [
    "Join listing.csv and listing_summary.csv, compute sentiment on space, description\n",
    "and neighbourhood overall, take into account the room type, run PCA to check\n",
    "whether some of these features are highly correlated and then build a model\n",
    "(linear regression, ARIMA/SARIMA, decision tree) to try to make forecasting\n",
    "\n",
    "It is also possible to try to perform a bucketization on the price values and then\n",
    "train a decision tree model that tries to make predictions."
   ],
   "metadata": {
    "collapsed": false,
    "pycharm": {
     "name": "#%% md\n"
    }
   }
  },
  {
   "cell_type": "markdown",
   "source": [
    "### 8.1 Import of the datasets"
   ],
   "metadata": {
    "collapsed": false,
    "pycharm": {
     "name": "#%% md\n"
    }
   }
  },
  {
   "cell_type": "code",
   "execution_count": 312,
   "outputs": [
    {
     "data": {
      "text/plain": "     id                        listing_url       scrape_id last_scraped  \\\n0  2015  https://www.airbnb.com/rooms/2015  20181107122246   2018-11-07   \n1  2695  https://www.airbnb.com/rooms/2695  20181107122246   2018-11-07   \n2  3176  https://www.airbnb.com/rooms/3176  20181107122246   2018-11-07   \n3  3309  https://www.airbnb.com/rooms/3309  20181107122246   2018-11-07   \n4  7071  https://www.airbnb.com/rooms/7071  20181107122246   2018-11-07   \n\n                                               name  \\\n0  Berlin-Mitte Value! Quiet courtyard/very central   \n1                Prenzlauer Berg close to Mauerpark   \n2                   Fabulous Flat in great Location   \n3                 BerlinSpot Schöneberg near KaDeWe   \n4                  BrightRoom with sunny greenview!   \n\n                                             summary  \\\n0  Great location!  30 of 75 sq meters. This wood...   \n1                                                NaN   \n2  This beautiful first floor apartment  is situa...   \n3  First of all: I prefer short-notice bookings. ...   \n4  Cozy and large room in the beautiful district ...   \n\n                                               space  \\\n0  A+++ location! This „Einliegerwohnung“ is an e...   \n1  In the summertime we are spending most of our ...   \n2  1st floor (68m2) apartment on Kollwitzplatz/ P...   \n3  Your room is really big and has 26 sqm, is ver...   \n4  The BrightRoom is an approx. 20 sqm (215ft²), ...   \n\n                                         description experiences_offered  \\\n0  Great location!  30 of 75 sq meters. This wood...                none   \n1  In the summertime we are spending most of our ...                none   \n2  This beautiful first floor apartment  is situa...                none   \n3  First of all: I prefer short-notice bookings. ...                none   \n4  Cozy and large room in the beautiful district ...                none   \n\n                               neighborhood_overview  ... requires_license  \\\n0  It is located in the former East Berlin area o...  ...                t   \n1                                                NaN  ...                t   \n2  The neighbourhood is famous for its variety of...  ...                t   \n3  My flat is in the middle of West-Berlin, direc...  ...                t   \n4  Great neighborhood with plenty of Cafés, Baker...  ...                t   \n\n  license jurisdiction_names instant_bookable is_business_travel_ready  \\\n0     NaN                NaN                f                        f   \n1     NaN                NaN                f                        f   \n2     NaN                NaN                t                        f   \n3     NaN                NaN                f                        f   \n4     NaN                NaN                f                        f   \n\n           cancellation_policy  require_guest_profile_picture  \\\n0  strict_14_with_grace_period                              f   \n1                     flexible                              f   \n2  strict_14_with_grace_period                              f   \n3  strict_14_with_grace_period                              f   \n4                     moderate                              f   \n\n  require_guest_phone_verification  calculated_host_listings_count  \\\n0                                f                               4   \n1                                f                               1   \n2                                f                               1   \n3                                f                               1   \n4                                f                               1   \n\n   reviews_per_month  \n0               3.76  \n1               1.42  \n2               1.25  \n3               0.39  \n4               1.75  \n\n[5 rows x 96 columns]",
      "text/html": "<div>\n<style scoped>\n    .dataframe tbody tr th:only-of-type {\n        vertical-align: middle;\n    }\n\n    .dataframe tbody tr th {\n        vertical-align: top;\n    }\n\n    .dataframe thead th {\n        text-align: right;\n    }\n</style>\n<table border=\"1\" class=\"dataframe\">\n  <thead>\n    <tr style=\"text-align: right;\">\n      <th></th>\n      <th>id</th>\n      <th>listing_url</th>\n      <th>scrape_id</th>\n      <th>last_scraped</th>\n      <th>name</th>\n      <th>summary</th>\n      <th>space</th>\n      <th>description</th>\n      <th>experiences_offered</th>\n      <th>neighborhood_overview</th>\n      <th>...</th>\n      <th>requires_license</th>\n      <th>license</th>\n      <th>jurisdiction_names</th>\n      <th>instant_bookable</th>\n      <th>is_business_travel_ready</th>\n      <th>cancellation_policy</th>\n      <th>require_guest_profile_picture</th>\n      <th>require_guest_phone_verification</th>\n      <th>calculated_host_listings_count</th>\n      <th>reviews_per_month</th>\n    </tr>\n  </thead>\n  <tbody>\n    <tr>\n      <th>0</th>\n      <td>2015</td>\n      <td>https://www.airbnb.com/rooms/2015</td>\n      <td>20181107122246</td>\n      <td>2018-11-07</td>\n      <td>Berlin-Mitte Value! Quiet courtyard/very central</td>\n      <td>Great location!  30 of 75 sq meters. This wood...</td>\n      <td>A+++ location! This „Einliegerwohnung“ is an e...</td>\n      <td>Great location!  30 of 75 sq meters. This wood...</td>\n      <td>none</td>\n      <td>It is located in the former East Berlin area o...</td>\n      <td>...</td>\n      <td>t</td>\n      <td>NaN</td>\n      <td>NaN</td>\n      <td>f</td>\n      <td>f</td>\n      <td>strict_14_with_grace_period</td>\n      <td>f</td>\n      <td>f</td>\n      <td>4</td>\n      <td>3.76</td>\n    </tr>\n    <tr>\n      <th>1</th>\n      <td>2695</td>\n      <td>https://www.airbnb.com/rooms/2695</td>\n      <td>20181107122246</td>\n      <td>2018-11-07</td>\n      <td>Prenzlauer Berg close to Mauerpark</td>\n      <td>NaN</td>\n      <td>In the summertime we are spending most of our ...</td>\n      <td>In the summertime we are spending most of our ...</td>\n      <td>none</td>\n      <td>NaN</td>\n      <td>...</td>\n      <td>t</td>\n      <td>NaN</td>\n      <td>NaN</td>\n      <td>f</td>\n      <td>f</td>\n      <td>flexible</td>\n      <td>f</td>\n      <td>f</td>\n      <td>1</td>\n      <td>1.42</td>\n    </tr>\n    <tr>\n      <th>2</th>\n      <td>3176</td>\n      <td>https://www.airbnb.com/rooms/3176</td>\n      <td>20181107122246</td>\n      <td>2018-11-07</td>\n      <td>Fabulous Flat in great Location</td>\n      <td>This beautiful first floor apartment  is situa...</td>\n      <td>1st floor (68m2) apartment on Kollwitzplatz/ P...</td>\n      <td>This beautiful first floor apartment  is situa...</td>\n      <td>none</td>\n      <td>The neighbourhood is famous for its variety of...</td>\n      <td>...</td>\n      <td>t</td>\n      <td>NaN</td>\n      <td>NaN</td>\n      <td>t</td>\n      <td>f</td>\n      <td>strict_14_with_grace_period</td>\n      <td>f</td>\n      <td>f</td>\n      <td>1</td>\n      <td>1.25</td>\n    </tr>\n    <tr>\n      <th>3</th>\n      <td>3309</td>\n      <td>https://www.airbnb.com/rooms/3309</td>\n      <td>20181107122246</td>\n      <td>2018-11-07</td>\n      <td>BerlinSpot Schöneberg near KaDeWe</td>\n      <td>First of all: I prefer short-notice bookings. ...</td>\n      <td>Your room is really big and has 26 sqm, is ver...</td>\n      <td>First of all: I prefer short-notice bookings. ...</td>\n      <td>none</td>\n      <td>My flat is in the middle of West-Berlin, direc...</td>\n      <td>...</td>\n      <td>t</td>\n      <td>NaN</td>\n      <td>NaN</td>\n      <td>f</td>\n      <td>f</td>\n      <td>strict_14_with_grace_period</td>\n      <td>f</td>\n      <td>f</td>\n      <td>1</td>\n      <td>0.39</td>\n    </tr>\n    <tr>\n      <th>4</th>\n      <td>7071</td>\n      <td>https://www.airbnb.com/rooms/7071</td>\n      <td>20181107122246</td>\n      <td>2018-11-07</td>\n      <td>BrightRoom with sunny greenview!</td>\n      <td>Cozy and large room in the beautiful district ...</td>\n      <td>The BrightRoom is an approx. 20 sqm (215ft²), ...</td>\n      <td>Cozy and large room in the beautiful district ...</td>\n      <td>none</td>\n      <td>Great neighborhood with plenty of Cafés, Baker...</td>\n      <td>...</td>\n      <td>t</td>\n      <td>NaN</td>\n      <td>NaN</td>\n      <td>f</td>\n      <td>f</td>\n      <td>moderate</td>\n      <td>f</td>\n      <td>f</td>\n      <td>1</td>\n      <td>1.75</td>\n    </tr>\n  </tbody>\n</table>\n<p>5 rows × 96 columns</p>\n</div>"
     },
     "execution_count": 312,
     "metadata": {},
     "output_type": "execute_result"
    }
   ],
   "source": [
    "dfListingsSummary = pd.read_csv(zf.open('listings_summary.csv'))\n",
    "dfListingsSummary.head()"
   ],
   "metadata": {
    "collapsed": false,
    "pycharm": {
     "name": "#%%\n"
    }
   }
  },
  {
   "cell_type": "markdown",
   "source": [
    "### 8.2 Columns exploration"
   ],
   "metadata": {
    "collapsed": false,
    "pycharm": {
     "name": "#%% md\n"
    }
   }
  },
  {
   "cell_type": "code",
   "execution_count": 313,
   "outputs": [
    {
     "data": {
      "text/plain": "Index(['id', 'listing_url', 'scrape_id', 'last_scraped', 'name', 'summary',\n       'space', 'description', 'experiences_offered', 'neighborhood_overview',\n       'notes', 'transit', 'access', 'interaction', 'house_rules',\n       'thumbnail_url', 'medium_url', 'picture_url', 'xl_picture_url',\n       'host_id', 'host_url', 'host_name', 'host_since', 'host_location',\n       'host_about', 'host_response_time', 'host_response_rate',\n       'host_acceptance_rate', 'host_is_superhost', 'host_thumbnail_url',\n       'host_picture_url', 'host_neighbourhood', 'host_listings_count',\n       'host_total_listings_count', 'host_verifications',\n       'host_has_profile_pic', 'host_identity_verified', 'street',\n       'neighbourhood', 'neighbourhood_cleansed',\n       'neighbourhood_group_cleansed', 'city', 'state', 'zipcode', 'market',\n       'smart_location', 'country_code', 'country', 'latitude', 'longitude',\n       'is_location_exact', 'property_type', 'room_type', 'accommodates',\n       'bathrooms', 'bedrooms', 'beds', 'bed_type', 'amenities', 'square_feet',\n       'price', 'weekly_price', 'monthly_price', 'security_deposit',\n       'cleaning_fee', 'guests_included', 'extra_people', 'minimum_nights',\n       'maximum_nights', 'calendar_updated', 'has_availability',\n       'availability_30', 'availability_60', 'availability_90',\n       'availability_365', 'calendar_last_scraped', 'number_of_reviews',\n       'first_review', 'last_review', 'review_scores_rating',\n       'review_scores_accuracy', 'review_scores_cleanliness',\n       'review_scores_checkin', 'review_scores_communication',\n       'review_scores_location', 'review_scores_value', 'requires_license',\n       'license', 'jurisdiction_names', 'instant_bookable',\n       'is_business_travel_ready', 'cancellation_policy',\n       'require_guest_profile_picture', 'require_guest_phone_verification',\n       'calculated_host_listings_count', 'reviews_per_month'],\n      dtype='object')"
     },
     "execution_count": 313,
     "metadata": {},
     "output_type": "execute_result"
    }
   ],
   "source": [
    "dfListingsSummary.columns"
   ],
   "metadata": {
    "collapsed": false,
    "pycharm": {
     "name": "#%%\n"
    }
   }
  },
  {
   "cell_type": "markdown",
   "source": [
    "Firstly, the columns concerning the room characteristics and the prices are selected."
   ],
   "metadata": {
    "collapsed": false,
    "pycharm": {
     "name": "#%% md\n"
    }
   }
  },
  {
   "cell_type": "code",
   "execution_count": 314,
   "outputs": [
    {
     "data": {
      "text/plain": "     id        room_type  accommodates  bathrooms  bedrooms  beds  \\\n0  2015  Entire home/apt             3        1.0       1.0   2.0   \n1  2695     Private room             2        1.0       1.0   1.0   \n2  3176  Entire home/apt             4        1.0       1.0   2.0   \n3  3309     Private room             2        1.0       1.0   1.0   \n4  7071     Private room             2        1.0       1.0   2.0   \n\n        bed_type                                          amenities  \\\n0       Real Bed  {TV,\"Cable TV\",Wifi,Kitchen,Gym,Heating,\"Famil...   \n1       Real Bed  {Wifi,Kitchen,Elevator,Heating,Washer,Essentia...   \n2       Real Bed  {Internet,Wifi,Kitchen,\"Buzzer/wireless interc...   \n3  Pull-out Sofa  {Internet,Wifi,\"Pets allowed\",\"Pets live on th...   \n4       Real Bed  {Wifi,Heating,\"Family/kid friendly\",Essentials...   \n\n   square_feet   price weekly_price monthly_price security_deposit  \\\n0          NaN  $60.00          NaN           NaN          $200.00   \n1          NaN  $17.00          NaN           NaN            $0.00   \n2        720.0  $90.00      $520.00     $1,900.00          $200.00   \n3          0.0  $26.00      $175.00       $599.00          $250.00   \n4          NaN  $42.00          NaN           NaN            $0.00   \n\n  cleaning_fee  \n0       $30.00  \n1        $0.00  \n2       $50.00  \n3       $30.00  \n4        $0.00  ",
      "text/html": "<div>\n<style scoped>\n    .dataframe tbody tr th:only-of-type {\n        vertical-align: middle;\n    }\n\n    .dataframe tbody tr th {\n        vertical-align: top;\n    }\n\n    .dataframe thead th {\n        text-align: right;\n    }\n</style>\n<table border=\"1\" class=\"dataframe\">\n  <thead>\n    <tr style=\"text-align: right;\">\n      <th></th>\n      <th>id</th>\n      <th>room_type</th>\n      <th>accommodates</th>\n      <th>bathrooms</th>\n      <th>bedrooms</th>\n      <th>beds</th>\n      <th>bed_type</th>\n      <th>amenities</th>\n      <th>square_feet</th>\n      <th>price</th>\n      <th>weekly_price</th>\n      <th>monthly_price</th>\n      <th>security_deposit</th>\n      <th>cleaning_fee</th>\n    </tr>\n  </thead>\n  <tbody>\n    <tr>\n      <th>0</th>\n      <td>2015</td>\n      <td>Entire home/apt</td>\n      <td>3</td>\n      <td>1.0</td>\n      <td>1.0</td>\n      <td>2.0</td>\n      <td>Real Bed</td>\n      <td>{TV,\"Cable TV\",Wifi,Kitchen,Gym,Heating,\"Famil...</td>\n      <td>NaN</td>\n      <td>$60.00</td>\n      <td>NaN</td>\n      <td>NaN</td>\n      <td>$200.00</td>\n      <td>$30.00</td>\n    </tr>\n    <tr>\n      <th>1</th>\n      <td>2695</td>\n      <td>Private room</td>\n      <td>2</td>\n      <td>1.0</td>\n      <td>1.0</td>\n      <td>1.0</td>\n      <td>Real Bed</td>\n      <td>{Wifi,Kitchen,Elevator,Heating,Washer,Essentia...</td>\n      <td>NaN</td>\n      <td>$17.00</td>\n      <td>NaN</td>\n      <td>NaN</td>\n      <td>$0.00</td>\n      <td>$0.00</td>\n    </tr>\n    <tr>\n      <th>2</th>\n      <td>3176</td>\n      <td>Entire home/apt</td>\n      <td>4</td>\n      <td>1.0</td>\n      <td>1.0</td>\n      <td>2.0</td>\n      <td>Real Bed</td>\n      <td>{Internet,Wifi,Kitchen,\"Buzzer/wireless interc...</td>\n      <td>720.0</td>\n      <td>$90.00</td>\n      <td>$520.00</td>\n      <td>$1,900.00</td>\n      <td>$200.00</td>\n      <td>$50.00</td>\n    </tr>\n    <tr>\n      <th>3</th>\n      <td>3309</td>\n      <td>Private room</td>\n      <td>2</td>\n      <td>1.0</td>\n      <td>1.0</td>\n      <td>1.0</td>\n      <td>Pull-out Sofa</td>\n      <td>{Internet,Wifi,\"Pets allowed\",\"Pets live on th...</td>\n      <td>0.0</td>\n      <td>$26.00</td>\n      <td>$175.00</td>\n      <td>$599.00</td>\n      <td>$250.00</td>\n      <td>$30.00</td>\n    </tr>\n    <tr>\n      <th>4</th>\n      <td>7071</td>\n      <td>Private room</td>\n      <td>2</td>\n      <td>1.0</td>\n      <td>1.0</td>\n      <td>2.0</td>\n      <td>Real Bed</td>\n      <td>{Wifi,Heating,\"Family/kid friendly\",Essentials...</td>\n      <td>NaN</td>\n      <td>$42.00</td>\n      <td>NaN</td>\n      <td>NaN</td>\n      <td>$0.00</td>\n      <td>$0.00</td>\n    </tr>\n  </tbody>\n</table>\n</div>"
     },
     "execution_count": 314,
     "metadata": {},
     "output_type": "execute_result"
    }
   ],
   "source": [
    "dfPricesListingTypes = dfListingsSummary[['id', 'room_type', 'accommodates',\n",
    "                                          'bathrooms', 'bedrooms', 'beds', 'bed_type',\n",
    "                                          'amenities', 'square_feet', 'price',\n",
    "                                          'weekly_price', 'monthly_price',\n",
    "                                          'security_deposit', 'cleaning_fee']]\n",
    "\n",
    "dfPricesListingTypes.head()"
   ],
   "metadata": {
    "collapsed": false,
    "pycharm": {
     "name": "#%%\n"
    }
   }
  },
  {
   "cell_type": "code",
   "execution_count": 315,
   "outputs": [
    {
     "name": "stdout",
     "output_type": "stream",
     "text": [
      "<class 'pandas.core.frame.DataFrame'>\n",
      "RangeIndex: 22552 entries, 0 to 22551\n",
      "Data columns (total 14 columns):\n",
      " #   Column            Non-Null Count  Dtype  \n",
      "---  ------            --------------  -----  \n",
      " 0   id                22552 non-null  int64  \n",
      " 1   room_type         22552 non-null  object \n",
      " 2   accommodates      22552 non-null  int64  \n",
      " 3   bathrooms         22520 non-null  float64\n",
      " 4   bedrooms          22534 non-null  float64\n",
      " 5   beds              22512 non-null  float64\n",
      " 6   bed_type          22552 non-null  object \n",
      " 7   amenities         22552 non-null  object \n",
      " 8   square_feet       446 non-null    float64\n",
      " 9   price             22552 non-null  object \n",
      " 10  weekly_price      3681 non-null   object \n",
      " 11  monthly_price     2659 non-null   object \n",
      " 12  security_deposit  13191 non-null  object \n",
      " 13  cleaning_fee      15406 non-null  object \n",
      "dtypes: float64(4), int64(2), object(8)\n",
      "memory usage: 2.4+ MB\n"
     ]
    }
   ],
   "source": [
    "dfPricesListingTypes.info()"
   ],
   "metadata": {
    "collapsed": false,
    "pycharm": {
     "name": "#%%\n"
    }
   }
  },
  {
   "cell_type": "markdown",
   "source": [
    "Looking at the null data-points, the columns 'square_feet', 'weekly_price',\n",
    "'monthly_price', 'security_deposit' and 'cleaning_fee' can be dropped."
   ],
   "metadata": {
    "collapsed": false,
    "pycharm": {
     "name": "#%% md\n"
    }
   }
  },
  {
   "cell_type": "code",
   "execution_count": 316,
   "outputs": [
    {
     "data": {
      "text/plain": "     id        room_type  accommodates  bathrooms  bedrooms  beds  \\\n0  2015  Entire home/apt             3        1.0       1.0   2.0   \n1  2695     Private room             2        1.0       1.0   1.0   \n2  3176  Entire home/apt             4        1.0       1.0   2.0   \n3  3309     Private room             2        1.0       1.0   1.0   \n4  7071     Private room             2        1.0       1.0   2.0   \n\n        bed_type                                          amenities   price  \n0       Real Bed  {TV,\"Cable TV\",Wifi,Kitchen,Gym,Heating,\"Famil...  $60.00  \n1       Real Bed  {Wifi,Kitchen,Elevator,Heating,Washer,Essentia...  $17.00  \n2       Real Bed  {Internet,Wifi,Kitchen,\"Buzzer/wireless interc...  $90.00  \n3  Pull-out Sofa  {Internet,Wifi,\"Pets allowed\",\"Pets live on th...  $26.00  \n4       Real Bed  {Wifi,Heating,\"Family/kid friendly\",Essentials...  $42.00  ",
      "text/html": "<div>\n<style scoped>\n    .dataframe tbody tr th:only-of-type {\n        vertical-align: middle;\n    }\n\n    .dataframe tbody tr th {\n        vertical-align: top;\n    }\n\n    .dataframe thead th {\n        text-align: right;\n    }\n</style>\n<table border=\"1\" class=\"dataframe\">\n  <thead>\n    <tr style=\"text-align: right;\">\n      <th></th>\n      <th>id</th>\n      <th>room_type</th>\n      <th>accommodates</th>\n      <th>bathrooms</th>\n      <th>bedrooms</th>\n      <th>beds</th>\n      <th>bed_type</th>\n      <th>amenities</th>\n      <th>price</th>\n    </tr>\n  </thead>\n  <tbody>\n    <tr>\n      <th>0</th>\n      <td>2015</td>\n      <td>Entire home/apt</td>\n      <td>3</td>\n      <td>1.0</td>\n      <td>1.0</td>\n      <td>2.0</td>\n      <td>Real Bed</td>\n      <td>{TV,\"Cable TV\",Wifi,Kitchen,Gym,Heating,\"Famil...</td>\n      <td>$60.00</td>\n    </tr>\n    <tr>\n      <th>1</th>\n      <td>2695</td>\n      <td>Private room</td>\n      <td>2</td>\n      <td>1.0</td>\n      <td>1.0</td>\n      <td>1.0</td>\n      <td>Real Bed</td>\n      <td>{Wifi,Kitchen,Elevator,Heating,Washer,Essentia...</td>\n      <td>$17.00</td>\n    </tr>\n    <tr>\n      <th>2</th>\n      <td>3176</td>\n      <td>Entire home/apt</td>\n      <td>4</td>\n      <td>1.0</td>\n      <td>1.0</td>\n      <td>2.0</td>\n      <td>Real Bed</td>\n      <td>{Internet,Wifi,Kitchen,\"Buzzer/wireless interc...</td>\n      <td>$90.00</td>\n    </tr>\n    <tr>\n      <th>3</th>\n      <td>3309</td>\n      <td>Private room</td>\n      <td>2</td>\n      <td>1.0</td>\n      <td>1.0</td>\n      <td>1.0</td>\n      <td>Pull-out Sofa</td>\n      <td>{Internet,Wifi,\"Pets allowed\",\"Pets live on th...</td>\n      <td>$26.00</td>\n    </tr>\n    <tr>\n      <th>4</th>\n      <td>7071</td>\n      <td>Private room</td>\n      <td>2</td>\n      <td>1.0</td>\n      <td>1.0</td>\n      <td>2.0</td>\n      <td>Real Bed</td>\n      <td>{Wifi,Heating,\"Family/kid friendly\",Essentials...</td>\n      <td>$42.00</td>\n    </tr>\n  </tbody>\n</table>\n</div>"
     },
     "execution_count": 316,
     "metadata": {},
     "output_type": "execute_result"
    }
   ],
   "source": [
    "dfPricesListingTypes = dfPricesListingTypes.drop(\n",
    "    columns=['square_feet', 'weekly_price', 'monthly_price', 'security_deposit',\n",
    "             'cleaning_fee'])\n",
    "\n",
    "dfPricesListingTypes.head()"
   ],
   "metadata": {
    "collapsed": false,
    "pycharm": {
     "name": "#%%\n"
    }
   }
  },
  {
   "cell_type": "markdown",
   "source": [
    "Since it is not needed in order to make predictions, the column 'id' is dropped."
   ],
   "metadata": {
    "collapsed": false
   }
  },
  {
   "cell_type": "code",
   "execution_count": 317,
   "outputs": [
    {
     "data": {
      "text/plain": "         room_type  accommodates  bathrooms  bedrooms  beds       bed_type  \\\n0  Entire home/apt             3        1.0       1.0   2.0       Real Bed   \n1     Private room             2        1.0       1.0   1.0       Real Bed   \n2  Entire home/apt             4        1.0       1.0   2.0       Real Bed   \n3     Private room             2        1.0       1.0   1.0  Pull-out Sofa   \n4     Private room             2        1.0       1.0   2.0       Real Bed   \n\n                                           amenities   price  \n0  {TV,\"Cable TV\",Wifi,Kitchen,Gym,Heating,\"Famil...  $60.00  \n1  {Wifi,Kitchen,Elevator,Heating,Washer,Essentia...  $17.00  \n2  {Internet,Wifi,Kitchen,\"Buzzer/wireless interc...  $90.00  \n3  {Internet,Wifi,\"Pets allowed\",\"Pets live on th...  $26.00  \n4  {Wifi,Heating,\"Family/kid friendly\",Essentials...  $42.00  ",
      "text/html": "<div>\n<style scoped>\n    .dataframe tbody tr th:only-of-type {\n        vertical-align: middle;\n    }\n\n    .dataframe tbody tr th {\n        vertical-align: top;\n    }\n\n    .dataframe thead th {\n        text-align: right;\n    }\n</style>\n<table border=\"1\" class=\"dataframe\">\n  <thead>\n    <tr style=\"text-align: right;\">\n      <th></th>\n      <th>room_type</th>\n      <th>accommodates</th>\n      <th>bathrooms</th>\n      <th>bedrooms</th>\n      <th>beds</th>\n      <th>bed_type</th>\n      <th>amenities</th>\n      <th>price</th>\n    </tr>\n  </thead>\n  <tbody>\n    <tr>\n      <th>0</th>\n      <td>Entire home/apt</td>\n      <td>3</td>\n      <td>1.0</td>\n      <td>1.0</td>\n      <td>2.0</td>\n      <td>Real Bed</td>\n      <td>{TV,\"Cable TV\",Wifi,Kitchen,Gym,Heating,\"Famil...</td>\n      <td>$60.00</td>\n    </tr>\n    <tr>\n      <th>1</th>\n      <td>Private room</td>\n      <td>2</td>\n      <td>1.0</td>\n      <td>1.0</td>\n      <td>1.0</td>\n      <td>Real Bed</td>\n      <td>{Wifi,Kitchen,Elevator,Heating,Washer,Essentia...</td>\n      <td>$17.00</td>\n    </tr>\n    <tr>\n      <th>2</th>\n      <td>Entire home/apt</td>\n      <td>4</td>\n      <td>1.0</td>\n      <td>1.0</td>\n      <td>2.0</td>\n      <td>Real Bed</td>\n      <td>{Internet,Wifi,Kitchen,\"Buzzer/wireless interc...</td>\n      <td>$90.00</td>\n    </tr>\n    <tr>\n      <th>3</th>\n      <td>Private room</td>\n      <td>2</td>\n      <td>1.0</td>\n      <td>1.0</td>\n      <td>1.0</td>\n      <td>Pull-out Sofa</td>\n      <td>{Internet,Wifi,\"Pets allowed\",\"Pets live on th...</td>\n      <td>$26.00</td>\n    </tr>\n    <tr>\n      <th>4</th>\n      <td>Private room</td>\n      <td>2</td>\n      <td>1.0</td>\n      <td>1.0</td>\n      <td>2.0</td>\n      <td>Real Bed</td>\n      <td>{Wifi,Heating,\"Family/kid friendly\",Essentials...</td>\n      <td>$42.00</td>\n    </tr>\n  </tbody>\n</table>\n</div>"
     },
     "execution_count": 317,
     "metadata": {},
     "output_type": "execute_result"
    }
   ],
   "source": [
    "dfPricesListingTypes = dfPricesListingTypes.drop(columns=['id'])\n",
    "dfPricesListingTypes.head()"
   ],
   "metadata": {
    "collapsed": false,
    "pycharm": {
     "name": "#%%\n"
    }
   }
  },
  {
   "cell_type": "markdown",
   "source": [
    "The columns 'price' must be converted into numeric."
   ],
   "metadata": {
    "collapsed": false
   }
  },
  {
   "cell_type": "code",
   "execution_count": 318,
   "outputs": [
    {
     "name": "stdout",
     "output_type": "stream",
     "text": [
      "<class 'pandas.core.frame.DataFrame'>\n",
      "RangeIndex: 22552 entries, 0 to 22551\n",
      "Data columns (total 8 columns):\n",
      " #   Column        Non-Null Count  Dtype  \n",
      "---  ------        --------------  -----  \n",
      " 0   room_type     22552 non-null  object \n",
      " 1   accommodates  22552 non-null  int64  \n",
      " 2   bathrooms     22520 non-null  float64\n",
      " 3   bedrooms      22534 non-null  float64\n",
      " 4   beds          22512 non-null  float64\n",
      " 5   bed_type      22552 non-null  object \n",
      " 6   amenities     22552 non-null  object \n",
      " 7   price         22552 non-null  float64\n",
      "dtypes: float64(4), int64(1), object(3)\n",
      "memory usage: 1.4+ MB\n"
     ]
    }
   ],
   "source": [
    "dfPricesListingTypes['price'] = dfPricesListingTypes['price'].apply(\n",
    "    lambda x: x.replace(',', ''))\n",
    "\n",
    "dfPricesListingTypes['price'] = dfPricesListingTypes['price'].apply(\n",
    "    lambda x: float(x[1:]))\n",
    "\n",
    "dfPricesListingTypes.info()"
   ],
   "metadata": {
    "collapsed": false,
    "pycharm": {
     "name": "#%%\n"
    }
   }
  },
  {
   "cell_type": "markdown",
   "source": [
    "Instead of directly dealing with the column 'amenities', it can be replaced\n",
    "by the number of amenities each listing contains."
   ],
   "metadata": {
    "collapsed": false,
    "pycharm": {
     "name": "#%% md\n"
    }
   }
  },
  {
   "cell_type": "code",
   "execution_count": 319,
   "outputs": [
    {
     "data": {
      "text/plain": "array(['{TV,\"Cable TV\",Wifi,Kitchen,Gym,Heating,\"Family/kid friendly\",\"Smoke detector\",Essentials,Shampoo,\"Lock on bedroom door\",Hangers,\"Hair dryer\",Iron,\"Laptop friendly workspace\",\"Private living room\",Bathtub,\"Hot water\",\"Bed linens\",\"Extra pillows and blankets\",Microwave,\"Coffee maker\",Refrigerator,Dishwasher,\"Dishes and silverware\",\"Cooking basics\",Stove,\"Luggage dropoff allowed\",\"Long term stays allowed\"}',\n       '{Wifi,Kitchen,Elevator,Heating,Washer,Essentials,Shampoo,\"Hair dryer\",\"Laptop friendly workspace\",\"Private living room\"}',\n       '{Internet,Wifi,Kitchen,\"Buzzer/wireless intercom\",Heating,\"Family/kid friendly\",Washer,\"Smoke detector\",\"Carbon monoxide detector\",\"First aid kit\",\"Safety card\",\"Fire extinguisher\",Essentials,Shampoo,\"24-hour check-in\",Hangers,\"Hair dryer\",Iron,\"Laptop friendly workspace\"}',\n       ...,\n       '{Wifi,Kitchen,Heating,Washer,\"Fire extinguisher\",Essentials,Iron,\"Hot water\"}',\n       '{Wifi,\"Paid parking off premises\",Doorman,Elevator,Heating,\"Family/kid friendly\",\"Smoke detector\",\"Safety card\",\"Fire extinguisher\",Essentials,Shampoo,\"Lock on bedroom door\",Hangers,\"Hair dryer\",Iron,\"Laptop friendly workspace\",\"Self check-in\",\"Building staff\",\"Hot water\"}',\n       '{Wifi,\"Air conditioning\",Kitchen,Breakfast,Heating,Washer,\"Safety card\",Essentials,Shampoo,\"Lock on bedroom door\",Hangers,\"Hair dryer\",\"Laptop friendly workspace\"}'],\n      dtype=object)"
     },
     "execution_count": 319,
     "metadata": {},
     "output_type": "execute_result"
    }
   ],
   "source": [
    "dfPricesListingTypes['amenities'].unique()"
   ],
   "metadata": {
    "collapsed": false,
    "pycharm": {
     "name": "#%%\n"
    }
   }
  },
  {
   "cell_type": "code",
   "execution_count": 320,
   "outputs": [
    {
     "data": {
      "text/plain": "         room_type  accommodates  bathrooms  bedrooms  beds       bed_type  \\\n0  Entire home/apt             3        1.0       1.0   2.0       Real Bed   \n1     Private room             2        1.0       1.0   1.0       Real Bed   \n2  Entire home/apt             4        1.0       1.0   2.0       Real Bed   \n3     Private room             2        1.0       1.0   1.0  Pull-out Sofa   \n4     Private room             2        1.0       1.0   2.0       Real Bed   \n\n   price  amenities_nr  \n0   60.0            30  \n1   17.0            11  \n2   90.0            20  \n3   26.0            30  \n4   42.0            14  ",
      "text/html": "<div>\n<style scoped>\n    .dataframe tbody tr th:only-of-type {\n        vertical-align: middle;\n    }\n\n    .dataframe tbody tr th {\n        vertical-align: top;\n    }\n\n    .dataframe thead th {\n        text-align: right;\n    }\n</style>\n<table border=\"1\" class=\"dataframe\">\n  <thead>\n    <tr style=\"text-align: right;\">\n      <th></th>\n      <th>room_type</th>\n      <th>accommodates</th>\n      <th>bathrooms</th>\n      <th>bedrooms</th>\n      <th>beds</th>\n      <th>bed_type</th>\n      <th>price</th>\n      <th>amenities_nr</th>\n    </tr>\n  </thead>\n  <tbody>\n    <tr>\n      <th>0</th>\n      <td>Entire home/apt</td>\n      <td>3</td>\n      <td>1.0</td>\n      <td>1.0</td>\n      <td>2.0</td>\n      <td>Real Bed</td>\n      <td>60.0</td>\n      <td>30</td>\n    </tr>\n    <tr>\n      <th>1</th>\n      <td>Private room</td>\n      <td>2</td>\n      <td>1.0</td>\n      <td>1.0</td>\n      <td>1.0</td>\n      <td>Real Bed</td>\n      <td>17.0</td>\n      <td>11</td>\n    </tr>\n    <tr>\n      <th>2</th>\n      <td>Entire home/apt</td>\n      <td>4</td>\n      <td>1.0</td>\n      <td>1.0</td>\n      <td>2.0</td>\n      <td>Real Bed</td>\n      <td>90.0</td>\n      <td>20</td>\n    </tr>\n    <tr>\n      <th>3</th>\n      <td>Private room</td>\n      <td>2</td>\n      <td>1.0</td>\n      <td>1.0</td>\n      <td>1.0</td>\n      <td>Pull-out Sofa</td>\n      <td>26.0</td>\n      <td>30</td>\n    </tr>\n    <tr>\n      <th>4</th>\n      <td>Private room</td>\n      <td>2</td>\n      <td>1.0</td>\n      <td>1.0</td>\n      <td>2.0</td>\n      <td>Real Bed</td>\n      <td>42.0</td>\n      <td>14</td>\n    </tr>\n  </tbody>\n</table>\n</div>"
     },
     "execution_count": 320,
     "metadata": {},
     "output_type": "execute_result"
    }
   ],
   "source": [
    "dfPricesListingTypes['amenities_nr'] = dfPricesListingTypes.apply(\n",
    "    lambda x: len(x['amenities'].split(',')) + 1, axis=1)\n",
    "\n",
    "dfPricesListingTypes = dfPricesListingTypes.drop(columns=['amenities'])\n",
    "\n",
    "dfPricesListingTypes.head()"
   ],
   "metadata": {
    "collapsed": false,
    "pycharm": {
     "name": "#%%\n"
    }
   }
  },
  {
   "cell_type": "markdown",
   "source": [
    "In order to deal with the column 'room_type', the corresponding dummies are generated\n",
    "and inserted into the dataframe."
   ],
   "metadata": {
    "collapsed": false,
    "pycharm": {
     "name": "#%% md\n"
    }
   }
  },
  {
   "cell_type": "code",
   "execution_count": 321,
   "outputs": [
    {
     "data": {
      "text/plain": "   Entire home/apt  Private room  Shared room\n0                1             0            0\n1                0             1            0\n2                1             0            0\n3                0             1            0\n4                0             1            0",
      "text/html": "<div>\n<style scoped>\n    .dataframe tbody tr th:only-of-type {\n        vertical-align: middle;\n    }\n\n    .dataframe tbody tr th {\n        vertical-align: top;\n    }\n\n    .dataframe thead th {\n        text-align: right;\n    }\n</style>\n<table border=\"1\" class=\"dataframe\">\n  <thead>\n    <tr style=\"text-align: right;\">\n      <th></th>\n      <th>Entire home/apt</th>\n      <th>Private room</th>\n      <th>Shared room</th>\n    </tr>\n  </thead>\n  <tbody>\n    <tr>\n      <th>0</th>\n      <td>1</td>\n      <td>0</td>\n      <td>0</td>\n    </tr>\n    <tr>\n      <th>1</th>\n      <td>0</td>\n      <td>1</td>\n      <td>0</td>\n    </tr>\n    <tr>\n      <th>2</th>\n      <td>1</td>\n      <td>0</td>\n      <td>0</td>\n    </tr>\n    <tr>\n      <th>3</th>\n      <td>0</td>\n      <td>1</td>\n      <td>0</td>\n    </tr>\n    <tr>\n      <th>4</th>\n      <td>0</td>\n      <td>1</td>\n      <td>0</td>\n    </tr>\n  </tbody>\n</table>\n</div>"
     },
     "execution_count": 321,
     "metadata": {},
     "output_type": "execute_result"
    }
   ],
   "source": [
    "dummiesRoomType = pd.get_dummies(dfPricesListingTypes['room_type'])\n",
    "dummiesRoomType.head()"
   ],
   "metadata": {
    "collapsed": false,
    "pycharm": {
     "name": "#%%\n"
    }
   }
  },
  {
   "cell_type": "code",
   "execution_count": 322,
   "outputs": [
    {
     "data": {
      "text/plain": "   accommodates  bathrooms  bedrooms  beds       bed_type  price  \\\n0             3        1.0       1.0   2.0       Real Bed   60.0   \n1             2        1.0       1.0   1.0       Real Bed   17.0   \n2             4        1.0       1.0   2.0       Real Bed   90.0   \n3             2        1.0       1.0   1.0  Pull-out Sofa   26.0   \n4             2        1.0       1.0   2.0       Real Bed   42.0   \n\n   amenities_nr  Entire home/apt  Private room  Shared room  \n0            30                1             0            0  \n1            11                0             1            0  \n2            20                1             0            0  \n3            30                0             1            0  \n4            14                0             1            0  ",
      "text/html": "<div>\n<style scoped>\n    .dataframe tbody tr th:only-of-type {\n        vertical-align: middle;\n    }\n\n    .dataframe tbody tr th {\n        vertical-align: top;\n    }\n\n    .dataframe thead th {\n        text-align: right;\n    }\n</style>\n<table border=\"1\" class=\"dataframe\">\n  <thead>\n    <tr style=\"text-align: right;\">\n      <th></th>\n      <th>accommodates</th>\n      <th>bathrooms</th>\n      <th>bedrooms</th>\n      <th>beds</th>\n      <th>bed_type</th>\n      <th>price</th>\n      <th>amenities_nr</th>\n      <th>Entire home/apt</th>\n      <th>Private room</th>\n      <th>Shared room</th>\n    </tr>\n  </thead>\n  <tbody>\n    <tr>\n      <th>0</th>\n      <td>3</td>\n      <td>1.0</td>\n      <td>1.0</td>\n      <td>2.0</td>\n      <td>Real Bed</td>\n      <td>60.0</td>\n      <td>30</td>\n      <td>1</td>\n      <td>0</td>\n      <td>0</td>\n    </tr>\n    <tr>\n      <th>1</th>\n      <td>2</td>\n      <td>1.0</td>\n      <td>1.0</td>\n      <td>1.0</td>\n      <td>Real Bed</td>\n      <td>17.0</td>\n      <td>11</td>\n      <td>0</td>\n      <td>1</td>\n      <td>0</td>\n    </tr>\n    <tr>\n      <th>2</th>\n      <td>4</td>\n      <td>1.0</td>\n      <td>1.0</td>\n      <td>2.0</td>\n      <td>Real Bed</td>\n      <td>90.0</td>\n      <td>20</td>\n      <td>1</td>\n      <td>0</td>\n      <td>0</td>\n    </tr>\n    <tr>\n      <th>3</th>\n      <td>2</td>\n      <td>1.0</td>\n      <td>1.0</td>\n      <td>1.0</td>\n      <td>Pull-out Sofa</td>\n      <td>26.0</td>\n      <td>30</td>\n      <td>0</td>\n      <td>1</td>\n      <td>0</td>\n    </tr>\n    <tr>\n      <th>4</th>\n      <td>2</td>\n      <td>1.0</td>\n      <td>1.0</td>\n      <td>2.0</td>\n      <td>Real Bed</td>\n      <td>42.0</td>\n      <td>14</td>\n      <td>0</td>\n      <td>1</td>\n      <td>0</td>\n    </tr>\n  </tbody>\n</table>\n</div>"
     },
     "execution_count": 322,
     "metadata": {},
     "output_type": "execute_result"
    }
   ],
   "source": [
    "dfPricesListingTypes = dfPricesListingTypes.drop(columns=['room_type'])\n",
    "dfPricesListingTypes = pd.concat([dfPricesListingTypes, dummiesRoomType], axis=1)\n",
    "dfPricesListingTypes.head()"
   ],
   "metadata": {
    "collapsed": false,
    "pycharm": {
     "name": "#%%\n"
    }
   }
  },
  {
   "cell_type": "markdown",
   "source": [
    "In order to deal with the column 'bed_type', the corresponding dummies are generated\n",
    "and inserted into the dataframe."
   ],
   "metadata": {
    "collapsed": false
   }
  },
  {
   "cell_type": "code",
   "execution_count": 323,
   "outputs": [
    {
     "data": {
      "text/plain": "   Airbed  Couch  Futon  Pull-out Sofa  Real Bed\n0       0      0      0              0         1\n1       0      0      0              0         1\n2       0      0      0              0         1\n3       0      0      0              1         0\n4       0      0      0              0         1",
      "text/html": "<div>\n<style scoped>\n    .dataframe tbody tr th:only-of-type {\n        vertical-align: middle;\n    }\n\n    .dataframe tbody tr th {\n        vertical-align: top;\n    }\n\n    .dataframe thead th {\n        text-align: right;\n    }\n</style>\n<table border=\"1\" class=\"dataframe\">\n  <thead>\n    <tr style=\"text-align: right;\">\n      <th></th>\n      <th>Airbed</th>\n      <th>Couch</th>\n      <th>Futon</th>\n      <th>Pull-out Sofa</th>\n      <th>Real Bed</th>\n    </tr>\n  </thead>\n  <tbody>\n    <tr>\n      <th>0</th>\n      <td>0</td>\n      <td>0</td>\n      <td>0</td>\n      <td>0</td>\n      <td>1</td>\n    </tr>\n    <tr>\n      <th>1</th>\n      <td>0</td>\n      <td>0</td>\n      <td>0</td>\n      <td>0</td>\n      <td>1</td>\n    </tr>\n    <tr>\n      <th>2</th>\n      <td>0</td>\n      <td>0</td>\n      <td>0</td>\n      <td>0</td>\n      <td>1</td>\n    </tr>\n    <tr>\n      <th>3</th>\n      <td>0</td>\n      <td>0</td>\n      <td>0</td>\n      <td>1</td>\n      <td>0</td>\n    </tr>\n    <tr>\n      <th>4</th>\n      <td>0</td>\n      <td>0</td>\n      <td>0</td>\n      <td>0</td>\n      <td>1</td>\n    </tr>\n  </tbody>\n</table>\n</div>"
     },
     "execution_count": 323,
     "metadata": {},
     "output_type": "execute_result"
    }
   ],
   "source": [
    "dummiesBedType = pd.get_dummies(dfPricesListingTypes['bed_type'])\n",
    "dummiesBedType.head()"
   ],
   "metadata": {
    "collapsed": false,
    "pycharm": {
     "name": "#%%\n"
    }
   }
  },
  {
   "cell_type": "code",
   "execution_count": 324,
   "outputs": [
    {
     "data": {
      "text/plain": "   accommodates  bathrooms  bedrooms  beds  price  amenities_nr  \\\n0             3        1.0       1.0   2.0   60.0            30   \n1             2        1.0       1.0   1.0   17.0            11   \n2             4        1.0       1.0   2.0   90.0            20   \n3             2        1.0       1.0   1.0   26.0            30   \n4             2        1.0       1.0   2.0   42.0            14   \n\n   Entire home/apt  Private room  Shared room  Airbed  Couch  Futon  \\\n0                1             0            0       0      0      0   \n1                0             1            0       0      0      0   \n2                1             0            0       0      0      0   \n3                0             1            0       0      0      0   \n4                0             1            0       0      0      0   \n\n   Pull-out Sofa  Real Bed  \n0              0         1  \n1              0         1  \n2              0         1  \n3              1         0  \n4              0         1  ",
      "text/html": "<div>\n<style scoped>\n    .dataframe tbody tr th:only-of-type {\n        vertical-align: middle;\n    }\n\n    .dataframe tbody tr th {\n        vertical-align: top;\n    }\n\n    .dataframe thead th {\n        text-align: right;\n    }\n</style>\n<table border=\"1\" class=\"dataframe\">\n  <thead>\n    <tr style=\"text-align: right;\">\n      <th></th>\n      <th>accommodates</th>\n      <th>bathrooms</th>\n      <th>bedrooms</th>\n      <th>beds</th>\n      <th>price</th>\n      <th>amenities_nr</th>\n      <th>Entire home/apt</th>\n      <th>Private room</th>\n      <th>Shared room</th>\n      <th>Airbed</th>\n      <th>Couch</th>\n      <th>Futon</th>\n      <th>Pull-out Sofa</th>\n      <th>Real Bed</th>\n    </tr>\n  </thead>\n  <tbody>\n    <tr>\n      <th>0</th>\n      <td>3</td>\n      <td>1.0</td>\n      <td>1.0</td>\n      <td>2.0</td>\n      <td>60.0</td>\n      <td>30</td>\n      <td>1</td>\n      <td>0</td>\n      <td>0</td>\n      <td>0</td>\n      <td>0</td>\n      <td>0</td>\n      <td>0</td>\n      <td>1</td>\n    </tr>\n    <tr>\n      <th>1</th>\n      <td>2</td>\n      <td>1.0</td>\n      <td>1.0</td>\n      <td>1.0</td>\n      <td>17.0</td>\n      <td>11</td>\n      <td>0</td>\n      <td>1</td>\n      <td>0</td>\n      <td>0</td>\n      <td>0</td>\n      <td>0</td>\n      <td>0</td>\n      <td>1</td>\n    </tr>\n    <tr>\n      <th>2</th>\n      <td>4</td>\n      <td>1.0</td>\n      <td>1.0</td>\n      <td>2.0</td>\n      <td>90.0</td>\n      <td>20</td>\n      <td>1</td>\n      <td>0</td>\n      <td>0</td>\n      <td>0</td>\n      <td>0</td>\n      <td>0</td>\n      <td>0</td>\n      <td>1</td>\n    </tr>\n    <tr>\n      <th>3</th>\n      <td>2</td>\n      <td>1.0</td>\n      <td>1.0</td>\n      <td>1.0</td>\n      <td>26.0</td>\n      <td>30</td>\n      <td>0</td>\n      <td>1</td>\n      <td>0</td>\n      <td>0</td>\n      <td>0</td>\n      <td>0</td>\n      <td>1</td>\n      <td>0</td>\n    </tr>\n    <tr>\n      <th>4</th>\n      <td>2</td>\n      <td>1.0</td>\n      <td>1.0</td>\n      <td>2.0</td>\n      <td>42.0</td>\n      <td>14</td>\n      <td>0</td>\n      <td>1</td>\n      <td>0</td>\n      <td>0</td>\n      <td>0</td>\n      <td>0</td>\n      <td>0</td>\n      <td>1</td>\n    </tr>\n  </tbody>\n</table>\n</div>"
     },
     "execution_count": 324,
     "metadata": {},
     "output_type": "execute_result"
    }
   ],
   "source": [
    "dfPricesListingTypes = dfPricesListingTypes.drop(columns=['bed_type'])\n",
    "dfPricesListingTypes = pd.concat([dfPricesListingTypes, dummiesBedType], axis=1)\n",
    "dfPricesListingTypes.head()"
   ],
   "metadata": {
    "collapsed": false,
    "pycharm": {
     "name": "#%%\n"
    }
   }
  },
  {
   "cell_type": "markdown",
   "source": [
    "Finally, the data-points containing null points must be removed."
   ],
   "metadata": {
    "collapsed": false,
    "pycharm": {
     "name": "#%% md\n"
    }
   }
  },
  {
   "cell_type": "code",
   "execution_count": 325,
   "outputs": [
    {
     "name": "stdout",
     "output_type": "stream",
     "text": [
      "<class 'pandas.core.frame.DataFrame'>\n",
      "Int64Index: 22472 entries, 0 to 22551\n",
      "Data columns (total 14 columns):\n",
      " #   Column           Non-Null Count  Dtype  \n",
      "---  ------           --------------  -----  \n",
      " 0   accommodates     22472 non-null  int64  \n",
      " 1   bathrooms        22472 non-null  float64\n",
      " 2   bedrooms         22472 non-null  float64\n",
      " 3   beds             22472 non-null  float64\n",
      " 4   price            22472 non-null  float64\n",
      " 5   amenities_nr     22472 non-null  int64  \n",
      " 6   Entire home/apt  22472 non-null  uint8  \n",
      " 7   Private room     22472 non-null  uint8  \n",
      " 8   Shared room      22472 non-null  uint8  \n",
      " 9   Airbed           22472 non-null  uint8  \n",
      " 10  Couch            22472 non-null  uint8  \n",
      " 11  Futon            22472 non-null  uint8  \n",
      " 12  Pull-out Sofa    22472 non-null  uint8  \n",
      " 13  Real Bed         22472 non-null  uint8  \n",
      "dtypes: float64(4), int64(2), uint8(8)\n",
      "memory usage: 1.4 MB\n"
     ]
    }
   ],
   "source": [
    "dfPricesListingTypes.dropna(axis=0, how='any', inplace=True)\n",
    "dfPricesListingTypes.info()"
   ],
   "metadata": {
    "collapsed": false,
    "pycharm": {
     "name": "#%%\n"
    }
   }
  },
  {
   "cell_type": "markdown",
   "source": [
    "# IMPORTANT: remove outliers based on boxplot/cook's distance and retry"
   ],
   "metadata": {
    "collapsed": false,
    "pycharm": {
     "name": "#%% md\n"
    }
   }
  },
  {
   "cell_type": "markdown",
   "source": [
    "### 8.3 Regression with numerical features"
   ],
   "metadata": {
    "collapsed": false,
    "pycharm": {
     "name": "#%% md\n"
    }
   }
  },
  {
   "cell_type": "code",
   "execution_count": 326,
   "outputs": [
    {
     "data": {
      "text/plain": "   accommodates  bathrooms  bedrooms  beds  price\n0             3        1.0       1.0   2.0   60.0\n1             2        1.0       1.0   1.0   17.0\n2             4        1.0       1.0   2.0   90.0\n3             2        1.0       1.0   1.0   26.0\n4             2        1.0       1.0   2.0   42.0",
      "text/html": "<div>\n<style scoped>\n    .dataframe tbody tr th:only-of-type {\n        vertical-align: middle;\n    }\n\n    .dataframe tbody tr th {\n        vertical-align: top;\n    }\n\n    .dataframe thead th {\n        text-align: right;\n    }\n</style>\n<table border=\"1\" class=\"dataframe\">\n  <thead>\n    <tr style=\"text-align: right;\">\n      <th></th>\n      <th>accommodates</th>\n      <th>bathrooms</th>\n      <th>bedrooms</th>\n      <th>beds</th>\n      <th>price</th>\n    </tr>\n  </thead>\n  <tbody>\n    <tr>\n      <th>0</th>\n      <td>3</td>\n      <td>1.0</td>\n      <td>1.0</td>\n      <td>2.0</td>\n      <td>60.0</td>\n    </tr>\n    <tr>\n      <th>1</th>\n      <td>2</td>\n      <td>1.0</td>\n      <td>1.0</td>\n      <td>1.0</td>\n      <td>17.0</td>\n    </tr>\n    <tr>\n      <th>2</th>\n      <td>4</td>\n      <td>1.0</td>\n      <td>1.0</td>\n      <td>2.0</td>\n      <td>90.0</td>\n    </tr>\n    <tr>\n      <th>3</th>\n      <td>2</td>\n      <td>1.0</td>\n      <td>1.0</td>\n      <td>1.0</td>\n      <td>26.0</td>\n    </tr>\n    <tr>\n      <th>4</th>\n      <td>2</td>\n      <td>1.0</td>\n      <td>1.0</td>\n      <td>2.0</td>\n      <td>42.0</td>\n    </tr>\n  </tbody>\n</table>\n</div>"
     },
     "execution_count": 326,
     "metadata": {},
     "output_type": "execute_result"
    }
   ],
   "source": [
    "dfPricesNumericalListingTypes = dfPricesListingTypes[['accommodates', 'bathrooms',\n",
    "                                                      'bedrooms', 'beds', 'price']]\n",
    "\n",
    "dfPricesNumericalListingTypes.head()"
   ],
   "metadata": {
    "collapsed": false,
    "pycharm": {
     "name": "#%%\n"
    }
   }
  },
  {
   "cell_type": "code",
   "execution_count": 327,
   "outputs": [
    {
     "data": {
      "text/plain": "              accommodates  bathrooms  bedrooms      beds     price\naccommodates      1.000000   0.132005  0.453125  0.653304  0.424279\nbathrooms         0.132005   1.000000  0.222300  0.156574  0.102456\nbedrooms          0.453125   0.222300  1.000000  0.487673  0.281263\nbeds              0.653304   0.156574  0.487673  1.000000  0.327019\nprice             0.424279   0.102456  0.281263  0.327019  1.000000",
      "text/html": "<div>\n<style scoped>\n    .dataframe tbody tr th:only-of-type {\n        vertical-align: middle;\n    }\n\n    .dataframe tbody tr th {\n        vertical-align: top;\n    }\n\n    .dataframe thead th {\n        text-align: right;\n    }\n</style>\n<table border=\"1\" class=\"dataframe\">\n  <thead>\n    <tr style=\"text-align: right;\">\n      <th></th>\n      <th>accommodates</th>\n      <th>bathrooms</th>\n      <th>bedrooms</th>\n      <th>beds</th>\n      <th>price</th>\n    </tr>\n  </thead>\n  <tbody>\n    <tr>\n      <th>accommodates</th>\n      <td>1.000000</td>\n      <td>0.132005</td>\n      <td>0.453125</td>\n      <td>0.653304</td>\n      <td>0.424279</td>\n    </tr>\n    <tr>\n      <th>bathrooms</th>\n      <td>0.132005</td>\n      <td>1.000000</td>\n      <td>0.222300</td>\n      <td>0.156574</td>\n      <td>0.102456</td>\n    </tr>\n    <tr>\n      <th>bedrooms</th>\n      <td>0.453125</td>\n      <td>0.222300</td>\n      <td>1.000000</td>\n      <td>0.487673</td>\n      <td>0.281263</td>\n    </tr>\n    <tr>\n      <th>beds</th>\n      <td>0.653304</td>\n      <td>0.156574</td>\n      <td>0.487673</td>\n      <td>1.000000</td>\n      <td>0.327019</td>\n    </tr>\n    <tr>\n      <th>price</th>\n      <td>0.424279</td>\n      <td>0.102456</td>\n      <td>0.281263</td>\n      <td>0.327019</td>\n      <td>1.000000</td>\n    </tr>\n  </tbody>\n</table>\n</div>"
     },
     "execution_count": 327,
     "metadata": {},
     "output_type": "execute_result"
    }
   ],
   "source": [
    "dfPricesNumericalListingTypes.corr(method='kendall')"
   ],
   "metadata": {
    "collapsed": false,
    "pycharm": {
     "name": "#%%\n"
    }
   }
  },
  {
   "cell_type": "code",
   "execution_count": 328,
   "outputs": [],
   "source": [
    "from sklearn import linear_model, metrics\n",
    "from sklearn.model_selection import train_test_split\n",
    "\n",
    "def get_train_test(train_data, test_data):\n",
    "    train_x, test_x, train_y, test_y = train_test_split(\n",
    "        train_data, test_data, test_size=0.3, shuffle=True, random_state=42)\n",
    "\n",
    "    return train_x, test_x, train_y, test_y"
   ],
   "metadata": {
    "collapsed": false,
    "pycharm": {
     "name": "#%%\n"
    }
   }
  },
  {
   "cell_type": "code",
   "execution_count": 329,
   "outputs": [
    {
     "data": {
      "text/plain": "       accommodates  bathrooms  bedrooms  beds\n8497              2        1.0       1.0   1.0\n16260             2        1.0       1.0   1.0\n12788             6        1.0       2.0   2.0\n4033              1        1.0       1.0   1.0\n10226             2        1.0       1.0   1.0",
      "text/html": "<div>\n<style scoped>\n    .dataframe tbody tr th:only-of-type {\n        vertical-align: middle;\n    }\n\n    .dataframe tbody tr th {\n        vertical-align: top;\n    }\n\n    .dataframe thead th {\n        text-align: right;\n    }\n</style>\n<table border=\"1\" class=\"dataframe\">\n  <thead>\n    <tr style=\"text-align: right;\">\n      <th></th>\n      <th>accommodates</th>\n      <th>bathrooms</th>\n      <th>bedrooms</th>\n      <th>beds</th>\n    </tr>\n  </thead>\n  <tbody>\n    <tr>\n      <th>8497</th>\n      <td>2</td>\n      <td>1.0</td>\n      <td>1.0</td>\n      <td>1.0</td>\n    </tr>\n    <tr>\n      <th>16260</th>\n      <td>2</td>\n      <td>1.0</td>\n      <td>1.0</td>\n      <td>1.0</td>\n    </tr>\n    <tr>\n      <th>12788</th>\n      <td>6</td>\n      <td>1.0</td>\n      <td>2.0</td>\n      <td>2.0</td>\n    </tr>\n    <tr>\n      <th>4033</th>\n      <td>1</td>\n      <td>1.0</td>\n      <td>1.0</td>\n      <td>1.0</td>\n    </tr>\n    <tr>\n      <th>10226</th>\n      <td>2</td>\n      <td>1.0</td>\n      <td>1.0</td>\n      <td>1.0</td>\n    </tr>\n  </tbody>\n</table>\n</div>"
     },
     "execution_count": 329,
     "metadata": {},
     "output_type": "execute_result"
    }
   ],
   "source": [
    "trainX, testX, trainY, testY = get_train_test(dfPricesNumericalListingTypes.iloc[:,:4],\n",
    "                                              dfPricesNumericalListingTypes['price'])\n",
    "\n",
    "trainX.head()"
   ],
   "metadata": {
    "collapsed": false,
    "pycharm": {
     "name": "#%%\n"
    }
   }
  },
  {
   "cell_type": "code",
   "execution_count": 330,
   "outputs": [
    {
     "data": {
      "text/plain": "LinearRegression()"
     },
     "execution_count": 330,
     "metadata": {},
     "output_type": "execute_result"
    }
   ],
   "source": [
    "linearRegressionNumerical = linear_model.LinearRegression()\n",
    "linearRegressionNumerical.fit(trainX, trainY)"
   ],
   "metadata": {
    "collapsed": false,
    "pycharm": {
     "name": "#%%\n"
    }
   }
  },
  {
   "cell_type": "code",
   "execution_count": 331,
   "outputs": [
    {
     "name": "stdout",
     "output_type": "stream",
     "text": [
      "Coefficients: [18.04124979 17.52771397 17.32245976 -6.06168856]\n",
      "Intercept: -10.910674959576014\n",
      "Score: 0.01696283674756427\n"
     ]
    }
   ],
   "source": [
    "print('Coefficients:', linearRegressionNumerical.coef_)\n",
    "print('Intercept:', linearRegressionNumerical.intercept_)\n",
    "print('Score:', linearRegressionNumerical.score(testX, testY))"
   ],
   "metadata": {
    "collapsed": false,
    "pycharm": {
     "name": "#%%\n"
    }
   }
  },
  {
   "cell_type": "code",
   "execution_count": 332,
   "outputs": [],
   "source": [
    "def plot_regression_error(regression_model, train_x, train_y, test_x, test_y):\n",
    "\n",
    "    ## plotting residual errors in training data\n",
    "    plt.scatter(regression_model.predict(train_x),\n",
    "                regression_model.predict(train_x) - train_y,\n",
    "                color = \"green\", s = 10, label = 'Train data')\n",
    "\n",
    "    ## plotting residual errors in test data\n",
    "    plt.scatter(regression_model.predict(test_x),\n",
    "                regression_model.predict(test_x) - test_y,\n",
    "                color = \"blue\", s = 10, label = 'Test data')\n",
    "\n",
    "    ## plotting legend\n",
    "    plt.legend(loc = 'upper right')\n",
    "\n",
    "    ## plot title\n",
    "    plt.title(\"Residual errors\")\n",
    "\n",
    "    ## method call for showing the plot\n",
    "    plt.show()"
   ],
   "metadata": {
    "collapsed": false,
    "pycharm": {
     "name": "#%%\n"
    }
   }
  },
  {
   "cell_type": "code",
   "execution_count": 333,
   "outputs": [
    {
     "data": {
      "text/plain": "<Figure size 432x288 with 1 Axes>",
      "image/png": "[encoded data removed]"
     },
     "metadata": {
      "needs_background": "light"
     },
     "output_type": "display_data"
    }
   ],
   "source": [
    "plot_regression_error(linearRegressionNumerical, trainX, trainY, testX, testY)"
   ],
   "metadata": {
    "collapsed": false,
    "pycharm": {
     "name": "#%%\n"
    }
   }
  },
  {
   "cell_type": "markdown",
   "source": [
    "### 8.4 Regression with all the features"
   ],
   "metadata": {
    "collapsed": false,
    "pycharm": {
     "name": "#%% md\n"
    }
   }
  },
  {
   "cell_type": "code",
   "execution_count": 334,
   "outputs": [
    {
     "data": {
      "text/plain": "       accommodates  bathrooms  bedrooms  beds  amenities_nr  Entire home/apt  \\\n8497              2        1.0       1.0   1.0            24                1   \n16260             2        1.0       1.0   1.0            11                0   \n12788             6        1.0       2.0   2.0            21                1   \n4033              1        1.0       1.0   1.0            18                0   \n10226             2        1.0       1.0   1.0            21                0   \n\n       Private room  Shared room  Airbed  Couch  Futon  Pull-out Sofa  \\\n8497              0            0       0      0      0              0   \n16260             1            0       0      0      0              0   \n12788             0            0       0      0      0              0   \n4033              1            0       0      0      0              0   \n10226             1            0       0      0      0              0   \n\n       Real Bed  \n8497          1  \n16260         1  \n12788         1  \n4033          1  \n10226         1  ",
      "text/html": "<div>\n<style scoped>\n    .dataframe tbody tr th:only-of-type {\n        vertical-align: middle;\n    }\n\n    .dataframe tbody tr th {\n        vertical-align: top;\n    }\n\n    .dataframe thead th {\n        text-align: right;\n    }\n</style>\n<table border=\"1\" class=\"dataframe\">\n  <thead>\n    <tr style=\"text-align: right;\">\n      <th></th>\n      <th>accommodates</th>\n      <th>bathrooms</th>\n      <th>bedrooms</th>\n      <th>beds</th>\n      <th>amenities_nr</th>\n      <th>Entire home/apt</th>\n      <th>Private room</th>\n      <th>Shared room</th>\n      <th>Airbed</th>\n      <th>Couch</th>\n      <th>Futon</th>\n      <th>Pull-out Sofa</th>\n      <th>Real Bed</th>\n    </tr>\n  </thead>\n  <tbody>\n    <tr>\n      <th>8497</th>\n      <td>2</td>\n      <td>1.0</td>\n      <td>1.0</td>\n      <td>1.0</td>\n      <td>24</td>\n      <td>1</td>\n      <td>0</td>\n      <td>0</td>\n      <td>0</td>\n      <td>0</td>\n      <td>0</td>\n      <td>0</td>\n      <td>1</td>\n    </tr>\n    <tr>\n      <th>16260</th>\n      <td>2</td>\n      <td>1.0</td>\n      <td>1.0</td>\n      <td>1.0</td>\n      <td>11</td>\n      <td>0</td>\n      <td>1</td>\n      <td>0</td>\n      <td>0</td>\n      <td>0</td>\n      <td>0</td>\n      <td>0</td>\n      <td>1</td>\n    </tr>\n    <tr>\n      <th>12788</th>\n      <td>6</td>\n      <td>1.0</td>\n      <td>2.0</td>\n      <td>2.0</td>\n      <td>21</td>\n      <td>1</td>\n      <td>0</td>\n      <td>0</td>\n      <td>0</td>\n      <td>0</td>\n      <td>0</td>\n      <td>0</td>\n      <td>1</td>\n    </tr>\n    <tr>\n      <th>4033</th>\n      <td>1</td>\n      <td>1.0</td>\n      <td>1.0</td>\n      <td>1.0</td>\n      <td>18</td>\n      <td>0</td>\n      <td>1</td>\n      <td>0</td>\n      <td>0</td>\n      <td>0</td>\n      <td>0</td>\n      <td>0</td>\n      <td>1</td>\n    </tr>\n    <tr>\n      <th>10226</th>\n      <td>2</td>\n      <td>1.0</td>\n      <td>1.0</td>\n      <td>1.0</td>\n      <td>21</td>\n      <td>0</td>\n      <td>1</td>\n      <td>0</td>\n      <td>0</td>\n      <td>0</td>\n      <td>0</td>\n      <td>0</td>\n      <td>1</td>\n    </tr>\n  </tbody>\n</table>\n</div>"
     },
     "execution_count": 334,
     "metadata": {},
     "output_type": "execute_result"
    }
   ],
   "source": [
    "trainX, testX, trainY, testY = get_train_test(\n",
    "    dfPricesListingTypes.loc[:, dfPricesListingTypes.columns != 'price'],\n",
    "    dfPricesListingTypes['price'])\n",
    "\n",
    "trainX.head()"
   ],
   "metadata": {
    "collapsed": false,
    "pycharm": {
     "name": "#%%\n"
    }
   }
  },
  {
   "cell_type": "code",
   "execution_count": 335,
   "outputs": [
    {
     "data": {
      "text/plain": "LinearRegression()"
     },
     "execution_count": 335,
     "metadata": {},
     "output_type": "execute_result"
    }
   ],
   "source": [
    "linearRegression = linear_model.LinearRegression()\n",
    "linearRegression.fit(trainX, trainY)"
   ],
   "metadata": {
    "collapsed": false,
    "pycharm": {
     "name": "#%%\n"
    }
   }
  },
  {
   "cell_type": "code",
   "execution_count": 336,
   "outputs": [
    {
     "name": "stdout",
     "output_type": "stream",
     "text": [
      "Coefficients: [ 15.92475952  19.27984603  17.24810209  -5.84851274   0.17994145\n",
      "   7.43897987  -4.65681004  -2.78216982  -1.45738476   0.83298547\n",
      " -11.26873237  11.66810574   0.22502592]\n",
      "Intercept: -11.991632146351265\n",
      "Score: 0.016593901289338908\n"
     ]
    }
   ],
   "source": [
    "print('Coefficients:', linearRegression.coef_)\n",
    "print('Intercept:', linearRegression.intercept_)\n",
    "print('Score:', linearRegression.score(testX, testY))"
   ],
   "metadata": {
    "collapsed": false,
    "pycharm": {
     "name": "#%%\n"
    }
   }
  },
  {
   "cell_type": "code",
   "execution_count": 337,
   "outputs": [
    {
     "data": {
      "text/plain": "<Figure size 432x288 with 1 Axes>",
      "image/png": "[encoded data removed]"
     },
     "metadata": {
      "needs_background": "light"
     },
     "output_type": "display_data"
    }
   ],
   "source": [
    "plot_regression_error(linearRegression, trainX, trainY, testX, testY)"
   ],
   "metadata": {
    "collapsed": false,
    "pycharm": {
     "name": "#%%\n"
    }
   }
  },
  {
   "cell_type": "markdown",
   "source": [
    "### 8.5 Classification with numerical features\n",
    "\n",
    "The 'price' feature is binned in order to generate categorical values."
   ],
   "metadata": {
    "collapsed": false,
    "pycharm": {
     "name": "#%% md\n"
    }
   }
  },
  {
   "cell_type": "code",
   "execution_count": 338,
   "outputs": [
    {
     "data": {
      "text/plain": "count    22472.000000\nmean        67.084995\nstd        220.576041\nmin          0.000000\n25%         30.000000\n50%         45.000000\n75%         70.000000\nmax       9000.000000\nName: price, dtype: float64"
     },
     "execution_count": 338,
     "metadata": {},
     "output_type": "execute_result"
    }
   ],
   "source": [
    "dfPricesListingTypes['price'].describe()"
   ],
   "metadata": {
    "collapsed": false,
    "pycharm": {
     "name": "#%%\n"
    }
   }
  },
  {
   "cell_type": "code",
   "execution_count": 339,
   "outputs": [],
   "source": [
    "from sklearn.cluster import KMeans\n",
    "\n",
    "def kmeans_elbow_method(vectors):\n",
    "    wcss = []\n",
    "    for i in range(1, 11):\n",
    "        kmeans = KMeans(n_clusters = i, init = 'k-means++', random_state = 42)\n",
    "        kmeans.fit(X=vectors)\n",
    "\n",
    "        # inertia_ is sum of squared distance of samples to its closest cluster centers.\n",
    "        wcss.append(kmeans.inertia_)\n",
    "        print(\"inertia_\", kmeans.inertia_)\n",
    "\n",
    "    plt.plot(range(1, 11), wcss)\n",
    "    plt.title('Elbow Method')\n",
    "    plt.xlabel('Number of clusters')\n",
    "    plt.ylabel('WCSS')\n",
    "    plt.show()"
   ],
   "metadata": {
    "collapsed": false,
    "pycharm": {
     "name": "#%%\n"
    }
   }
  },
  {
   "cell_type": "code",
   "execution_count": 340,
   "outputs": [
    {
     "name": "stdout",
     "output_type": "stream",
     "text": [
      "inertia_ 1093299313.6602042\n",
      "inertia_ 130867366.6738121\n",
      "inertia_ 87963377.19411948\n",
      "inertia_ 57742227.21795405\n",
      "inertia_ 38237558.9472009\n",
      "inertia_ 24327300.33897378\n",
      "inertia_ 17145688.59288017\n",
      "inertia_ 13051840.900117492\n",
      "inertia_ 9473891.328174565\n",
      "inertia_ 6996373.221199831\n"
     ]
    },
    {
     "data": {
      "text/plain": "<Figure size 432x288 with 1 Axes>",
      "image/png": "[encoded data removed]"
     },
     "metadata": {
      "needs_background": "light"
     },
     "output_type": "display_data"
    }
   ],
   "source": [
    "kmeans_elbow_method(dfPricesListingTypes['price'].values.reshape(-1,1))"
   ],
   "metadata": {
    "collapsed": false,
    "pycharm": {
     "name": "#%%\n"
    }
   }
  },
  {
   "cell_type": "code",
   "execution_count": 341,
   "outputs": [],
   "source": [
    "from sklearn.metrics import silhouette_score\n",
    "import numpy as np\n",
    "\n",
    "def kmeans_silhouette(x,range_clusters):\n",
    "    for i, k in range_clusters :\n",
    "\n",
    "        # Run the Kmeans algorithm\n",
    "        km = KMeans(n_clusters = k, init = 'k-means++', random_state = 42)\n",
    "\n",
    "        km.fit(x)\n",
    "        labels = km.predict(x)\n",
    "\n",
    "        print(\"For n_clusters =\", k,\n",
    "                  \"The computed average silhouette_score is :\",\n",
    "              silhouette_score(x, labels, metric='euclidean'))"
   ],
   "metadata": {
    "collapsed": false,
    "pycharm": {
     "name": "#%%\n"
    }
   }
  },
  {
   "cell_type": "code",
   "execution_count": 342,
   "outputs": [
    {
     "name": "stdout",
     "output_type": "stream",
     "text": [
      "For n_clusters = 2 The computed average silhouette_score is : 0.9925142609330438\n",
      "For n_clusters = 3 The computed average silhouette_score is : 0.948803692077967\n",
      "For n_clusters = 4 The computed average silhouette_score is : 0.7632528567050937\n",
      "For n_clusters = 5 The computed average silhouette_score is : 0.791856456457861\n"
     ]
    }
   ],
   "source": [
    "rangeClusters = enumerate([2,3,4,5])\n",
    "kmeans_silhouette(dfPricesListingTypes['price'].values.reshape(-1,1), rangeClusters)"
   ],
   "metadata": {
    "collapsed": false,
    "pycharm": {
     "name": "#%%\n"
    }
   }
  },
  {
   "cell_type": "markdown",
   "source": [
    "The value n_clusters = 3 is chosen because it allows to have a more flexible\n",
    "classification."
   ],
   "metadata": {
    "collapsed": false,
    "pycharm": {
     "name": "#%% md\n"
    }
   }
  },
  {
   "cell_type": "code",
   "execution_count": 343,
   "outputs": [
    {
     "data": {
      "text/plain": "KMeans(max_iter=1000, n_clusters=3, n_init=50, random_state=42)"
     },
     "execution_count": 343,
     "metadata": {},
     "output_type": "execute_result"
    }
   ],
   "source": [
    "kmeansModelPrice = KMeans(n_clusters=3, max_iter=1000, random_state=42, n_init=50)\n",
    "kmeansModelPrice.fit(dfPricesListingTypes['price'].values.reshape(-1,1))"
   ],
   "metadata": {
    "collapsed": false,
    "pycharm": {
     "name": "#%%\n"
    }
   }
  },
  {
   "cell_type": "code",
   "execution_count": 344,
   "outputs": [
    {
     "data": {
      "text/plain": "array([[  58.54395433],\n       [6147.69230769],\n       [1403.2       ]])"
     },
     "execution_count": 344,
     "metadata": {},
     "output_type": "execute_result"
    }
   ],
   "source": [
    "kmeansModelPrice.cluster_centers_"
   ],
   "metadata": {
    "collapsed": false,
    "pycharm": {
     "name": "#%%\n"
    }
   }
  },
  {
   "cell_type": "code",
   "execution_count": 345,
   "outputs": [],
   "source": [
    "mediumClusterIndex = 0\n",
    "highClusterIndex = 2"
   ],
   "metadata": {
    "collapsed": false,
    "pycharm": {
     "name": "#%%\n"
    }
   }
  },
  {
   "cell_type": "code",
   "execution_count": 348,
   "outputs": [
    {
     "name": "stderr",
     "output_type": "stream",
     "text": [
      "d:\\utenti\\marco\\desktop\\insubria\\laurea magistrale\\data mining\\airbnb-sentiment\\venv\\lib\\site-packages\\ipykernel_launcher.py:2: SettingWithCopyWarning: \n",
      "A value is trying to be set on a copy of a slice from a DataFrame.\n",
      "Try using .loc[row_indexer,col_indexer] = value instead\n",
      "\n",
      "See the caveats in the documentation: https://pandas.pydata.org/pandas-docs/stable/user_guide/indexing.html#returning-a-view-versus-a-copy\n",
      "  \n",
      "d:\\utenti\\marco\\desktop\\insubria\\laurea magistrale\\data mining\\airbnb-sentiment\\venv\\lib\\site-packages\\ipykernel_launcher.py:6: SettingWithCopyWarning: \n",
      "A value is trying to be set on a copy of a slice from a DataFrame.\n",
      "Try using .loc[row_indexer,col_indexer] = value instead\n",
      "\n",
      "See the caveats in the documentation: https://pandas.pydata.org/pandas-docs/stable/user_guide/indexing.html#returning-a-view-versus-a-copy\n",
      "  \n"
     ]
    },
    {
     "data": {
      "text/plain": "   accommodates  bathrooms  bedrooms  beds  price price_cluster\n0             3        1.0       1.0   2.0   60.0        medium\n1             2        1.0       1.0   1.0   17.0        medium\n2             4        1.0       1.0   2.0   90.0        medium\n3             2        1.0       1.0   1.0   26.0        medium\n4             2        1.0       1.0   2.0   42.0        medium",
      "text/html": "<div>\n<style scoped>\n    .dataframe tbody tr th:only-of-type {\n        vertical-align: middle;\n    }\n\n    .dataframe tbody tr th {\n        vertical-align: top;\n    }\n\n    .dataframe thead th {\n        text-align: right;\n    }\n</style>\n<table border=\"1\" class=\"dataframe\">\n  <thead>\n    <tr style=\"text-align: right;\">\n      <th></th>\n      <th>accommodates</th>\n      <th>bathrooms</th>\n      <th>bedrooms</th>\n      <th>beds</th>\n      <th>price</th>\n      <th>price_cluster</th>\n    </tr>\n  </thead>\n  <tbody>\n    <tr>\n      <th>0</th>\n      <td>3</td>\n      <td>1.0</td>\n      <td>1.0</td>\n      <td>2.0</td>\n      <td>60.0</td>\n      <td>medium</td>\n    </tr>\n    <tr>\n      <th>1</th>\n      <td>2</td>\n      <td>1.0</td>\n      <td>1.0</td>\n      <td>1.0</td>\n      <td>17.0</td>\n      <td>medium</td>\n    </tr>\n    <tr>\n      <th>2</th>\n      <td>4</td>\n      <td>1.0</td>\n      <td>1.0</td>\n      <td>2.0</td>\n      <td>90.0</td>\n      <td>medium</td>\n    </tr>\n    <tr>\n      <th>3</th>\n      <td>2</td>\n      <td>1.0</td>\n      <td>1.0</td>\n      <td>1.0</td>\n      <td>26.0</td>\n      <td>medium</td>\n    </tr>\n    <tr>\n      <th>4</th>\n      <td>2</td>\n      <td>1.0</td>\n      <td>1.0</td>\n      <td>2.0</td>\n      <td>42.0</td>\n      <td>medium</td>\n    </tr>\n  </tbody>\n</table>\n</div>"
     },
     "execution_count": 348,
     "metadata": {},
     "output_type": "execute_result"
    }
   ],
   "source": [
    "dfPricesNumericalListingTypes['price_cluster'] = kmeansModelPrice.predict(\n",
    "    dfPricesNumericalListingTypes['price'].values.reshape(-1,1))\n",
    "\n",
    "dfPricesNumericalListingTypes['price_cluster'] = \\\n",
    "    dfPricesNumericalListingTypes['price_cluster'].apply(\n",
    "        lambda x: 'medium' if x==mediumClusterIndex else\n",
    "            'high' if x==highClusterIndex else 'very_high')\n",
    "\n",
    "dfPricesNumericalListingTypes.head()"
   ],
   "metadata": {
    "collapsed": false,
    "pycharm": {
     "name": "#%%\n"
    }
   }
  },
  {
   "cell_type": "code",
   "execution_count": 349,
   "outputs": [
    {
     "data": {
      "text/plain": "   accommodates  bathrooms  bedrooms  beds price_cluster\n0             3        1.0       1.0   2.0        medium\n1             2        1.0       1.0   1.0        medium\n2             4        1.0       1.0   2.0        medium\n3             2        1.0       1.0   1.0        medium\n4             2        1.0       1.0   2.0        medium",
      "text/html": "<div>\n<style scoped>\n    .dataframe tbody tr th:only-of-type {\n        vertical-align: middle;\n    }\n\n    .dataframe tbody tr th {\n        vertical-align: top;\n    }\n\n    .dataframe thead th {\n        text-align: right;\n    }\n</style>\n<table border=\"1\" class=\"dataframe\">\n  <thead>\n    <tr style=\"text-align: right;\">\n      <th></th>\n      <th>accommodates</th>\n      <th>bathrooms</th>\n      <th>bedrooms</th>\n      <th>beds</th>\n      <th>price_cluster</th>\n    </tr>\n  </thead>\n  <tbody>\n    <tr>\n      <th>0</th>\n      <td>3</td>\n      <td>1.0</td>\n      <td>1.0</td>\n      <td>2.0</td>\n      <td>medium</td>\n    </tr>\n    <tr>\n      <th>1</th>\n      <td>2</td>\n      <td>1.0</td>\n      <td>1.0</td>\n      <td>1.0</td>\n      <td>medium</td>\n    </tr>\n    <tr>\n      <th>2</th>\n      <td>4</td>\n      <td>1.0</td>\n      <td>1.0</td>\n      <td>2.0</td>\n      <td>medium</td>\n    </tr>\n    <tr>\n      <th>3</th>\n      <td>2</td>\n      <td>1.0</td>\n      <td>1.0</td>\n      <td>1.0</td>\n      <td>medium</td>\n    </tr>\n    <tr>\n      <th>4</th>\n      <td>2</td>\n      <td>1.0</td>\n      <td>1.0</td>\n      <td>2.0</td>\n      <td>medium</td>\n    </tr>\n  </tbody>\n</table>\n</div>"
     },
     "execution_count": 349,
     "metadata": {},
     "output_type": "execute_result"
    }
   ],
   "source": [
    "dfPricesNumericalListingTypes = dfPricesNumericalListingTypes.drop(columns=['price'])\n",
    "dfPricesNumericalListingTypes.head()"
   ],
   "metadata": {
    "collapsed": false,
    "pycharm": {
     "name": "#%%\n"
    }
   }
  },
  {
   "cell_type": "code",
   "execution_count": 351,
   "outputs": [
    {
     "data": {
      "text/plain": "       accommodates  bathrooms  bedrooms  beds\n8497              2        1.0       1.0   1.0\n16260             2        1.0       1.0   1.0\n12788             6        1.0       2.0   2.0\n4033              1        1.0       1.0   1.0\n10226             2        1.0       1.0   1.0",
      "text/html": "<div>\n<style scoped>\n    .dataframe tbody tr th:only-of-type {\n        vertical-align: middle;\n    }\n\n    .dataframe tbody tr th {\n        vertical-align: top;\n    }\n\n    .dataframe thead th {\n        text-align: right;\n    }\n</style>\n<table border=\"1\" class=\"dataframe\">\n  <thead>\n    <tr style=\"text-align: right;\">\n      <th></th>\n      <th>accommodates</th>\n      <th>bathrooms</th>\n      <th>bedrooms</th>\n      <th>beds</th>\n    </tr>\n  </thead>\n  <tbody>\n    <tr>\n      <th>8497</th>\n      <td>2</td>\n      <td>1.0</td>\n      <td>1.0</td>\n      <td>1.0</td>\n    </tr>\n    <tr>\n      <th>16260</th>\n      <td>2</td>\n      <td>1.0</td>\n      <td>1.0</td>\n      <td>1.0</td>\n    </tr>\n    <tr>\n      <th>12788</th>\n      <td>6</td>\n      <td>1.0</td>\n      <td>2.0</td>\n      <td>2.0</td>\n    </tr>\n    <tr>\n      <th>4033</th>\n      <td>1</td>\n      <td>1.0</td>\n      <td>1.0</td>\n      <td>1.0</td>\n    </tr>\n    <tr>\n      <th>10226</th>\n      <td>2</td>\n      <td>1.0</td>\n      <td>1.0</td>\n      <td>1.0</td>\n    </tr>\n  </tbody>\n</table>\n</div>"
     },
     "execution_count": 351,
     "metadata": {},
     "output_type": "execute_result"
    }
   ],
   "source": [
    "trainX, testX, trainY, testY = get_train_test(dfPricesNumericalListingTypes.iloc[:,:4],\n",
    "                                              dfPricesNumericalListingTypes['price_cluster'])\n",
    "\n",
    "trainX.head()"
   ],
   "metadata": {
    "collapsed": false,
    "pycharm": {
     "name": "#%%\n"
    }
   }
  },
  {
   "cell_type": "code",
   "execution_count": 352,
   "outputs": [
    {
     "data": {
      "text/plain": "DecisionTreeClassifier()"
     },
     "execution_count": 352,
     "metadata": {},
     "output_type": "execute_result"
    }
   ],
   "source": [
    "from sklearn.tree import DecisionTreeClassifier\n",
    "\n",
    "decisionTreeNumerical = DecisionTreeClassifier()\n",
    "decisionTreeNumerical.fit(trainX, trainY)"
   ],
   "metadata": {
    "collapsed": false,
    "pycharm": {
     "name": "#%%\n"
    }
   }
  },
  {
   "cell_type": "code",
   "execution_count": 355,
   "outputs": [],
   "source": [
    "predictionsNumerical = decisionTreeNumerical.predict(testX)"
   ],
   "metadata": {
    "collapsed": false,
    "pycharm": {
     "name": "#%%\n"
    }
   }
  },
  {
   "cell_type": "code",
   "execution_count": 357,
   "outputs": [
    {
     "name": "stdout",
     "output_type": "stream",
     "text": [
      "[[   1    8    0]\n",
      " [   1 6721    1]\n",
      " [   0   10    0]]\n",
      "              precision    recall  f1-score   support\n",
      "\n",
      "        high       0.50      0.11      0.18         9\n",
      "      medium       1.00      1.00      1.00      6723\n",
      "   very_high       0.00      0.00      0.00        10\n",
      "\n",
      "    accuracy                           1.00      6742\n",
      "   macro avg       0.50      0.37      0.39      6742\n",
      "weighted avg       1.00      1.00      1.00      6742\n",
      "\n"
     ]
    }
   ],
   "source": [
    "from sklearn.metrics import classification_report, confusion_matrix\n",
    "print(confusion_matrix(testY, predictionsNumerical))\n",
    "print(classification_report(testY, predictionsNumerical))"
   ],
   "metadata": {
    "collapsed": false,
    "pycharm": {
     "name": "#%%\n"
    }
   }
  },
  {
   "cell_type": "markdown",
   "source": [
    "### 8.6 Classification with all the features"
   ],
   "metadata": {
    "collapsed": false,
    "pycharm": {
     "name": "#%% md\n"
    }
   }
  },
  {
   "cell_type": "code",
   "execution_count": 347,
   "outputs": [
    {
     "data": {
      "text/plain": "   accommodates  bathrooms  bedrooms  beds  price  amenities_nr  \\\n0             3        1.0       1.0   2.0   60.0            30   \n1             2        1.0       1.0   1.0   17.0            11   \n2             4        1.0       1.0   2.0   90.0            20   \n3             2        1.0       1.0   1.0   26.0            30   \n4             2        1.0       1.0   2.0   42.0            14   \n\n   Entire home/apt  Private room  Shared room  Airbed  Couch  Futon  \\\n0                1             0            0       0      0      0   \n1                0             1            0       0      0      0   \n2                1             0            0       0      0      0   \n3                0             1            0       0      0      0   \n4                0             1            0       0      0      0   \n\n   Pull-out Sofa  Real Bed price_cluster  \n0              0         1        medium  \n1              0         1        medium  \n2              0         1        medium  \n3              1         0        medium  \n4              0         1        medium  ",
      "text/html": "<div>\n<style scoped>\n    .dataframe tbody tr th:only-of-type {\n        vertical-align: middle;\n    }\n\n    .dataframe tbody tr th {\n        vertical-align: top;\n    }\n\n    .dataframe thead th {\n        text-align: right;\n    }\n</style>\n<table border=\"1\" class=\"dataframe\">\n  <thead>\n    <tr style=\"text-align: right;\">\n      <th></th>\n      <th>accommodates</th>\n      <th>bathrooms</th>\n      <th>bedrooms</th>\n      <th>beds</th>\n      <th>price</th>\n      <th>amenities_nr</th>\n      <th>Entire home/apt</th>\n      <th>Private room</th>\n      <th>Shared room</th>\n      <th>Airbed</th>\n      <th>Couch</th>\n      <th>Futon</th>\n      <th>Pull-out Sofa</th>\n      <th>Real Bed</th>\n      <th>price_cluster</th>\n    </tr>\n  </thead>\n  <tbody>\n    <tr>\n      <th>0</th>\n      <td>3</td>\n      <td>1.0</td>\n      <td>1.0</td>\n      <td>2.0</td>\n      <td>60.0</td>\n      <td>30</td>\n      <td>1</td>\n      <td>0</td>\n      <td>0</td>\n      <td>0</td>\n      <td>0</td>\n      <td>0</td>\n      <td>0</td>\n      <td>1</td>\n      <td>medium</td>\n    </tr>\n    <tr>\n      <th>1</th>\n      <td>2</td>\n      <td>1.0</td>\n      <td>1.0</td>\n      <td>1.0</td>\n      <td>17.0</td>\n      <td>11</td>\n      <td>0</td>\n      <td>1</td>\n      <td>0</td>\n      <td>0</td>\n      <td>0</td>\n      <td>0</td>\n      <td>0</td>\n      <td>1</td>\n      <td>medium</td>\n    </tr>\n    <tr>\n      <th>2</th>\n      <td>4</td>\n      <td>1.0</td>\n      <td>1.0</td>\n      <td>2.0</td>\n      <td>90.0</td>\n      <td>20</td>\n      <td>1</td>\n      <td>0</td>\n      <td>0</td>\n      <td>0</td>\n      <td>0</td>\n      <td>0</td>\n      <td>0</td>\n      <td>1</td>\n      <td>medium</td>\n    </tr>\n    <tr>\n      <th>3</th>\n      <td>2</td>\n      <td>1.0</td>\n      <td>1.0</td>\n      <td>1.0</td>\n      <td>26.0</td>\n      <td>30</td>\n      <td>0</td>\n      <td>1</td>\n      <td>0</td>\n      <td>0</td>\n      <td>0</td>\n      <td>0</td>\n      <td>1</td>\n      <td>0</td>\n      <td>medium</td>\n    </tr>\n    <tr>\n      <th>4</th>\n      <td>2</td>\n      <td>1.0</td>\n      <td>1.0</td>\n      <td>2.0</td>\n      <td>42.0</td>\n      <td>14</td>\n      <td>0</td>\n      <td>1</td>\n      <td>0</td>\n      <td>0</td>\n      <td>0</td>\n      <td>0</td>\n      <td>0</td>\n      <td>1</td>\n      <td>medium</td>\n    </tr>\n  </tbody>\n</table>\n</div>"
     },
     "execution_count": 347,
     "metadata": {},
     "output_type": "execute_result"
    }
   ],
   "source": [
    "dfPricesListingTypes['price_cluster'] = kmeansModelPrice.predict(\n",
    "    dfPricesListingTypes['price'].values.reshape(-1,1))\n",
    "\n",
    "dfPricesListingTypes['price_cluster'] = dfPricesListingTypes['price_cluster'].apply(\n",
    "    lambda x: 'medium' if x==mediumClusterIndex else\n",
    "        'high' if x==highClusterIndex else 'very_high')\n",
    "\n",
    "dfPricesListingTypes.head()"
   ],
   "metadata": {
    "collapsed": false,
    "pycharm": {
     "name": "#%%\n"
    }
   }
  },
  {
   "cell_type": "code",
   "execution_count": 347,
   "outputs": [],
   "source": [
    "\n"
   ],
   "metadata": {
    "collapsed": false,
    "pycharm": {
     "name": "#%%\n"
    }
   }
  }
 ],
 "metadata": {
  "kernelspec": {
   "display_name": "Python 3",
   "language": "python",
   "name": "python3"
  },
  "language_info": {
   "codemirror_mode": {
    "name": "ipython",
    "version": 2
   },
   "file_extension": ".py",
   "mimetype": "text/x-python",
   "name": "python",
   "nbconvert_exporter": "python",
   "pygments_lexer": "ipython2",
   "version": "2.7.6"
  }
 },
 "nbformat": 4,
 "nbformat_minor": 0
}