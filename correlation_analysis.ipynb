{
 "cells": [
  {
   "cell_type": "code",
   "execution_count": null,
   "metadata": {
    "collapsed": true
   },
   "outputs": [],
   "source": [
    "import pandas as pd\n",
    "import zipfile36 as zipfile"
   ]
  },
  {
   "cell_type": "markdown",
   "source": [
    "Import calendary_summary.csv and look for relationships between the price and the\n",
    "time. Try time-series analysis."
   ],
   "metadata": {
    "collapsed": false,
    "pycharm": {
     "name": "#%% md\n"
    }
   }
  },
  {
   "cell_type": "code",
   "execution_count": null,
   "outputs": [],
   "source": [
    "zf = zipfile.ZipFile('berlin-airbnb-data.zip')\n",
    "# dfReviews = pd.read_csv(zf.open('reviews_summary.csv'))\n",
    "# dfReviews.head()"
   ],
   "metadata": {
    "collapsed": false,
    "pycharm": {
     "name": "#%%\n"
    }
   }
  },
  {
   "cell_type": "markdown",
   "source": [
    "Join listing.csv and listing_summary.csv, compute sentiment on space, description\n",
    "and neighbourhood overall, take into account the room type, run PCA to check\n",
    "whether some of these features are highly correlated and then build a model\n",
    "(linear regression, ARIMA/SARIMA, decision tree) to try to make forecasting\n"
   ],
   "metadata": {
    "collapsed": false,
    "pycharm": {
     "name": "#%% md\n"
    }
   }
  }
 ],
 "metadata": {
  "kernelspec": {
   "display_name": "Python 3",
   "language": "python",
   "name": "python3"
  },
  "language_info": {
   "codemirror_mode": {
    "name": "ipython",
    "version": 2
   },
   "file_extension": ".py",
   "mimetype": "text/x-python",
   "name": "python",
   "nbconvert_exporter": "python",
   "pygments_lexer": "ipython2",
   "version": "2.7.6"
  }
 },
 "nbformat": 4,
 "nbformat_minor": 0
}